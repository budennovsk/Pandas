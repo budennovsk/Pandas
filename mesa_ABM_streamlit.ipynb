{
  "nbformat": 4,
  "nbformat_minor": 0,
  "metadata": {
    "colab": {
      "provenance": [],
      "authorship_tag": "ABX9TyP19TUOjSlR2wp8IeUNpau9",
      "include_colab_link": true
    },
    "kernelspec": {
      "name": "python3",
      "display_name": "Python 3"
    },
    "language_info": {
      "name": "python"
    }
  },
  "cells": [
    {
      "cell_type": "markdown",
      "metadata": {
        "id": "view-in-github",
        "colab_type": "text"
      },
      "source": [
        "<a href=\"https://colab.research.google.com/github/budennovsk/Pandas/blob/master/mesa_ABM_streamlit.ipynb\" target=\"_parent\"><img src=\"https://colab.research.google.com/assets/colab-badge.svg\" alt=\"Open In Colab\"/></a>"
      ]
    },
    {
      "cell_type": "code",
      "source": [
        "!pip install streamlit mesa\n"
      ],
      "metadata": {
        "id": "aCvMJNBnkGdQ"
      },
      "execution_count": null,
      "outputs": []
    },
    {
      "cell_type": "code",
      "source": [
        "!wget -qO- icanhazip.com"
      ],
      "metadata": {
        "colab": {
          "base_uri": "https://localhost:8080/"
        },
        "id": "ZIET0rZeduT1",
        "outputId": "cc04524a-7d4c-424c-b157-0553adaba873"
      },
      "execution_count": 41,
      "outputs": [
        {
          "output_type": "stream",
          "name": "stdout",
          "text": [
            "34.74.20.153\n"
          ]
        }
      ]
    },
    {
      "cell_type": "code",
      "source": [
        "! streamlit run app.py & npx localtunnel --port 8501"
      ],
      "metadata": {
        "colab": {
          "base_uri": "https://localhost:8080/"
        },
        "id": "RVb3hVW1kG4u",
        "outputId": "bdeec079-cf67-40b4-d673-10b80b2ea020"
      },
      "execution_count": 47,
      "outputs": [
        {
          "output_type": "stream",
          "name": "stdout",
          "text": [
            "\n",
            "Collecting usage statistics. To deactivate, set browser.gatherUsageStats to false.\n",
            "\u001b[0m\n",
            "\u001b[0m\n",
            "\u001b[34m\u001b[1m  You can now view your Streamlit app in your browser.\u001b[0m\n",
            "\u001b[0m\n",
            "\u001b[34m  Local URL: \u001b[0m\u001b[1mhttp://localhost:8501\u001b[0m\n",
            "\u001b[34m  Network URL: \u001b[0m\u001b[1mhttp://172.28.0.12:8501\u001b[0m\n",
            "\u001b[34m  External URL: \u001b[0m\u001b[1mhttp://34.74.20.153:8501\u001b[0m\n",
            "\u001b[0m\n",
            "your url is: https://shiny-shoes-send.loca.lt\n",
            "\u001b[34m  Stopping...\u001b[0m\n",
            "^C\n"
          ]
        }
      ]
    },
    {
      "cell_type": "code",
      "source": [
        "\n",
        "import mesa\n",
        "import pandas as pd\n",
        "import random\n",
        "import streamlit as st\n",
        "import matplotlib.pyplot as plt\n",
        "from mesa import Agent, Model\n",
        "from mesa.time import RandomActivation\n",
        "from mesa.space import MultiGrid\n",
        "\n",
        "# Данные\n",
        "data = pd.DataFrame({\n",
        "    \"sku\": [\"sku1\", \"sku2\", \"sku3\", \"sku4\", \"sku5\", \"sku6\", \"sku7\", \"sku8\", \"sku9\", \"sku10\"],\n",
        "    \"share_vol\": [0.1, 0.2, 0.15, 0.05, 0.25, 0.3, 0.07, 0.04, 0.12, 0.08],\n",
        "    \"price\": [5, 4, 6, 8, 3, 7, 2, 10, 9, 1],\n",
        "    \"sales_vol\": [100, 150, 120, 80, 200, 250, 70, 40, 90, 60],\n",
        "})\n",
        "\n",
        "# Агенты-потребители\n",
        "class Consumer(Agent):\n",
        "    \"\"\"Агент-потребитель.\"\"\"\n",
        "\n",
        "    def __init__(self, unique_id, model):\n",
        "        super().__init__(unique_id, model)\n",
        "\n",
        "    def step(self):\n",
        "        # Агенты выбирают SKU для покупки на основе веса\n",
        "        choice = random.choices(self.model.skus, weights=self.model.weights, k=1)[0]\n",
        "        self.model.sales_history[choice] += 1  # Обновляем историю продаж\n",
        "\n",
        "        # Передвижение агента по сетке\n",
        "        possible_moves = self.model.grid.get_neighborhood(self.pos, moore=True, include_center=False)\n",
        "        new_position = random.choice(possible_moves)\n",
        "        self.model.grid.move_agent(self, new_position)\n",
        "\n",
        "# Модель рынка\n",
        "class Market(Model):\n",
        "    \"\"\"Модель рынка с агентами.\"\"\"\n",
        "\n",
        "    def __init__(self, N, width, height):\n",
        "        super().__init__()\n",
        "        self.num_agents = N\n",
        "        self.schedule = RandomActivation(self)\n",
        "        self.grid = MultiGrid(width, height, True)  # Создаем сетку\n",
        "        self.skus = data[\"sku\"].tolist()\n",
        "        self.weights = data[\"share_vol\"].tolist()\n",
        "\n",
        "        # История продаж для каждого SKU\n",
        "        self.sales_history = {sku: 0 for sku in self.skus}\n",
        "        self.sales_over_time = {sku: [] for sku in self.skus}\n",
        "\n",
        "        # Добавляем агентов на сетку\n",
        "        for i in range(self.num_agents):\n",
        "            a = Consumer(i, self)\n",
        "            self.schedule.add(a)\n",
        "            x = self.random.randrange(self.grid.width)\n",
        "            y = self.random.randrange(self.grid.height)\n",
        "            self.grid.place_agent(a, (x, y))\n",
        "\n",
        "    def step(self):\n",
        "        # Один шаг модели - агенты совершают покупки и перемещаются\n",
        "        self.schedule.step()\n",
        "        # Обновляем историю продаж для каждого SKU\n",
        "        for sku in self.skus:\n",
        "            self.sales_over_time[sku].append(self.sales_history[sku])\n",
        "\n",
        "# Streamlit интерфейс\n",
        "def run_app():\n",
        "    st.title(\"Зависимость SKU от продаж во времени\")\n",
        "\n",
        "    # Инициализация модели: 100 агентов на сетке 10x10\n",
        "    model = Market(100, 10, 10)\n",
        "\n",
        "    # Симуляция на 30 дней\n",
        "    days = 30\n",
        "    for day in range(days):\n",
        "        model.step()\n",
        "\n",
        "    # Ползунок для выбора дня\n",
        "    selected_day = st.slider(\"Выбор дня\", 0, days - 1, 0)\n",
        "\n",
        "    # Построение графика изменения продаж на выбранный день\n",
        "    fig, ax = plt.subplots()\n",
        "    for sku in model.skus:\n",
        "        ax.plot(range(selected_day + 1), model.sales_over_time[sku][:selected_day + 1], label=sku)\n",
        "\n",
        "    ax.set_xlabel(\"День\")\n",
        "    ax.set_ylabel(\"Обьем продаж\")\n",
        "    ax.legend()\n",
        "\n",
        "    # Отображение графика в Streamlit\n",
        "    st.pyplot(fig)\n",
        "\n",
        "if __name__ == \"__main__\":\n",
        "    run_app()\n"
      ],
      "metadata": {
        "id": "21r_YUCOzuas"
      },
      "execution_count": null,
      "outputs": []
    }
  ]
}