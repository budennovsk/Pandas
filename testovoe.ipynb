{
  "nbformat": 4,
  "nbformat_minor": 0,
  "metadata": {
    "colab": {
      "provenance": [],
      "mount_file_id": "13eGgE_V-lDESYDAmvJjrIF0yeF5BZ0cy",
      "authorship_tag": "ABX9TyPHqsamSemIqwDAtGaqzZFN",
      "include_colab_link": true
    },
    "kernelspec": {
      "name": "python3",
      "display_name": "Python 3"
    },
    "language_info": {
      "name": "python"
    }
  },
  "cells": [
    {
      "cell_type": "markdown",
      "metadata": {
        "id": "view-in-github",
        "colab_type": "text"
      },
      "source": [
        "<a href=\"https://colab.research.google.com/github/budennovsk/Pandas/blob/master/testovoe.ipynb\" target=\"_parent\"><img src=\"https://colab.research.google.com/assets/colab-badge.svg\" alt=\"Open In Colab\"/></a>"
      ]
    },
    {
      "cell_type": "code",
      "execution_count": 3,
      "metadata": {
        "colab": {
          "base_uri": "https://localhost:8080/"
        },
        "id": "peq6Lmvsi-lP",
        "outputId": "6b88a2cb-34d3-4adb-f7cd-1750e4507955"
      },
      "outputs": [
        {
          "output_type": "stream",
          "name": "stdout",
          "text": [
            "3264 6528\n",
            "Сохранено: perspective_images/perspective_1.jpg\n",
            "3264 6528\n",
            "Сохранено: perspective_images/perspective_2.jpg\n",
            "3264 6528\n",
            "Сохранено: perspective_images/perspective_3.jpg\n",
            "3264 6528\n",
            "Сохранено: perspective_images/perspective_4.jpg\n"
          ]
        }
      ],
      "source": [
        "import cv2\n",
        "import numpy as np\n",
        "import os\n",
        "\n",
        "# Функция для преобразования сферического изображения в перспективное\n",
        "def transform_pano_to_perspective(image_path, output_dir, output_name):\n",
        "    # Загрузка изображения\n",
        "    img = cv2.imread(image_path)\n",
        "\n",
        "    # Определение размеров выходного изображения\n",
        "    height, width, _ = img.shape\n",
        "    print(height, width,)\n",
        "    fov = 90  # Угол обзора\n",
        "    aspect_ratio = width / height\n",
        "\n",
        "    # Определение матрицы камеры\n",
        "    K = np.array([[width / (2 * np.tan(fov / 360 * np.pi)), 0, width / 2],\n",
        "                  [0, width / (2 * np.tan(fov / 360 * np.pi)), height / 2],\n",
        "                  [0, 0, 1]])\n",
        "\n",
        "    # Определение источника преобразования\n",
        "    dst_img = cv2.warpPerspective(img, K, (width, height))\n",
        "\n",
        "    # Сохранение результата\n",
        "    output_path = os.path.join(output_dir, output_name)\n",
        "    cv2.imwrite(output_path, dst_img)\n",
        "    print(f\"Сохранено: {output_path}\")\n",
        "\n",
        "# Папка с изображениями и папка для выходных данных\n",
        "input_dir = 'site_capture'\n",
        "output_dir = 'perspective_images'\n",
        "os.makedirs(output_dir, exist_ok=True)\n",
        "\n",
        "# Преобразование всех изображений\n",
        "for i in range(1, 5):\n",
        "    input_path = os.path.join(input_dir, f\"/content/{i}.jpg\")\n",
        "    transform_pano_to_perspective(input_path, output_dir, f\"perspective_{i}.jpg\")\n"
      ]
    },
    {
      "cell_type": "code",
      "source": [
        "import os\n",
        "import shutil\n",
        "\n",
        "# Папки для изображений\n",
        "input_dir = '/content/perspective_images'\n",
        "output_dir = '/content/openMVG_output'\n",
        "database_path = '/content/database/database.db'\n",
        "os.makedirs(output_dir, exist_ok=True)\n",
        "os.makedirs(os.path.dirname(database_path), exist_ok=True)\n",
        "\n",
        "# Копирование изображений\n",
        "shutil.copytree(input_dir, os.path.join(output_dir, 'images'))\n",
        "\n",
        "# Запуск COLMAP команд\n",
        "# 1. Создание базы данных\n",
        "!colmap database_creator --database_path $database_path\n",
        "\n",
        "# 2. Извлечение признаков\n",
        "!colmap feature_extractor --database_path $database_path --image_path $output_dir/images\n",
        "\n",
        "# 3. Сопоставление признаков\n",
        "!colmap exhaustive_matcher --database_path $database_path\n",
        "\n",
        "# 4. Построение модели\n",
        "!colmap mapper --database_path $database_path --image_path $output_dir/images --output_path $output_dir/model\n",
        "\n"
      ],
      "metadata": {
        "colab": {
          "base_uri": "https://localhost:8080/"
        },
        "id": "LTkzG2fOoKIW",
        "outputId": "e6973c96-63f2-4902-c3f9-041a0969f95b"
      },
      "execution_count": 9,
      "outputs": [
        {
          "output_type": "stream",
          "name": "stdout",
          "text": [
            "/bin/bash: line 1: colmap: command not found\n",
            "/bin/bash: line 1: colmap: command not found\n",
            "/bin/bash: line 1: colmap: command not found\n",
            "/bin/bash: line 1: colmap: command not found\n"
          ]
        }
      ]
    },
    {
      "cell_type": "code",
      "source": [
        "import cv2\n",
        "import numpy as np\n",
        "import os\n",
        "import csv\n",
        "\n",
        "# Папка с изображениями\n",
        "# input_dir = '/content/perspective_images'\n",
        "input_dir = '/content' # Замените на нужный путь к вашей папке с изображениями\n",
        "output_ply = \"output.ply\"\n",
        "output_csv = \"/content/camera_trajectory.csv\"\n",
        "\n",
        "# Считываем изображения с помощью заданного цикла\n",
        "images = []\n",
        "for i in range(1, 5):  # Предполагаем, что изображения называются 1.jpg, 2.jpg, 3.jpg и 4.jpg\n",
        "    input_path = os.path.join(input_dir, f\"{i}.jpg\")\n",
        "    if os.path.exists(input_path):\n",
        "        images.append(input_path)\n",
        "    else:\n",
        "        print(f\"Изображение {input_path} не найдено.\")\n",
        "\n",
        "if not images:\n",
        "    raise Exception(\"Нет изображений для обработки.\")\n",
        "\n",
        "# Инициализация детектора ORB и матчера\n",
        "orb = cv2.ORB_create()\n",
        "bf = cv2.BFMatcher(cv2.NORM_HAMMING, crossCheck=True)\n",
        "\n",
        "camera_poses = []  # Для хранения позиций камеры\n",
        "point_cloud = []   # Для хранения 3D точек\n",
        "\n",
        "# Параметры камеры\n",
        "focal_length = 6.7  # Фокусное расстояние в мм\n",
        "sensor_width = 36.0  # Ширина сенсора в мм\n",
        "image_width = 11968  # Ширина изображения\n",
        "\n",
        "# Вычисляем фокусное расстояние в пикселях\n",
        "focal_px = (focal_length / sensor_width) * image_width\n",
        "\n",
        "# Матрица калибровки камеры\n",
        "K = np.array([[focal_px, 0, image_width / 2],\n",
        "              [0, focal_px, image_width / 2],\n",
        "              [0, 0, 1]])\n",
        "\n",
        "for i in range(len(images) - 1):\n",
        "    img1 = cv2.imread(images[i], 0)\n",
        "    img2 = cv2.imread(images[i + 1], 0)\n",
        "\n",
        "    # Извлечение признаков\n",
        "    kp1, des1 = orb.detectAndCompute(img1, None)\n",
        "    kp2, des2 = orb.detectAndCompute(img2, None)\n",
        "\n",
        "    # Поиск соответствий\n",
        "    matches = bf.match(des1, des2)\n",
        "    matches = sorted(matches, key=lambda x: x.distance)\n",
        "\n",
        "    # Получение координат соответствующих точек\n",
        "    pts1 = np.float32([kp1[m.queryIdx].pt for m in matches]).reshape(-1, 1, 2)\n",
        "    pts2 = np.float32([kp2[m.trainIdx].pt for m in matches]).reshape(-1, 1, 2)\n",
        "\n",
        "    # Восстановление позы\n",
        "    E, mask = cv2.findEssentialMat(pts1, pts2, K, method=cv2.RANSAC, prob=0.999, threshold=1.0)\n",
        "    _, R, t, mask = cv2.recoverPose(E, pts1, pts2, K)\n",
        "\n",
        "    # Добавление первой позы камеры\n",
        "    if len(camera_poses) == 0:\n",
        "        camera_poses.append((np.eye(3), np.zeros((3, 1))))\n",
        "\n",
        "    prev_R, prev_t = camera_poses[-1]\n",
        "    curr_R = R @ prev_R\n",
        "    curr_t = prev_t + prev_R @ t\n",
        "    camera_poses.append((curr_R, curr_t))\n",
        "\n",
        "    # Триангуляция\n",
        "    P1 = K @ np.hstack((prev_R, prev_t))\n",
        "    P2 = K @ np.hstack((curr_R, curr_t))\n",
        "    pts4D = cv2.triangulatePoints(P1, P2, pts1, pts2)\n",
        "    pts4D /= pts4D[3]  # Нормализация\n",
        "    point_cloud.append(pts4D[:3].T)\n",
        "\n",
        "# Сохранение облака точек в формате PLY\n",
        "with open(output_ply, 'w') as f:\n",
        "    f.write(\"ply\\nformat ascii 1.0\\n\")\n",
        "    f.write(f\"element vertex {sum(len(pc) for pc in point_cloud)}\\n\")\n",
        "    f.write(\"property float x\\nproperty float y\\nproperty float z\\n\")\n",
        "    f.write(\"end_header\\n\")\n",
        "    for pc in point_cloud:\n",
        "        for p in pc:\n",
        "            f.write(f\"{p[0]} {p[1]} {p[2]}\\n\")\n",
        "\n",
        "# Сохранение траектории камеры в формате CSV\n",
        "with open(output_csv, 'w', newline='') as f:\n",
        "    writer = csv.writer(f)\n",
        "    writer.writerow(['Index', 'X', 'Y', 'Z', 'RotX', 'RotY', 'RotZ'])\n",
        "    for i, (R, t) in enumerate(camera_poses):\n",
        "        rvec, _ = cv2.Rodrigues(R)\n",
        "        writer.writerow([i, t[0][0], t[1][0], t[2][0], rvec[0][0], rvec[1][0], rvec[2][0]])\n",
        "\n",
        "\n",
        "with open(output_csv, 'w', newline='') as f:\n",
        "    writer = csv.writer(f)\n",
        "    writer.writerow(['Index', 'X', 'Y', 'Z', 'RotX', 'RotY', 'RotZ'])\n",
        "    for i, (R, t) in enumerate(camera_poses):\n",
        "        rvec, _ = cv2.Rodrigues(R)\n",
        "        writer.writerow([i, t[0][0], t[1][0], t[2][0], rvec[0][0], rvec[1][0], rvec[2][0]])\n",
        "\n",
        "print(f\"Траектория камеры сохранена в {output_csv}\")\n"
      ],
      "metadata": {
        "colab": {
          "base_uri": "https://localhost:8080/"
        },
        "id": "wl5Rx9RCoKmS",
        "outputId": "3fa29796-6f2f-4dd5-812d-468ec99f6708"
      },
      "execution_count": 2,
      "outputs": [
        {
          "output_type": "stream",
          "name": "stdout",
          "text": [
            "Траектория камеры сохранена в /content/camera_trajectory.csv\n"
          ]
        }
      ]
    },
    {
      "cell_type": "code",
      "source": [
        "import cv2\n",
        "import numpy as np\n",
        "import os\n",
        "import csv\n",
        "\n",
        "# Параметры камеры\n",
        "focal_length = 6.7  # Фокусное расстояние в мм\n",
        "sensor_width = 36.0  # Ширина сенсора в мм\n",
        "image_width = 11968  # Ширина изображения\n",
        "\n",
        "# Вычисляем фокусное расстояние в пикселях\n",
        "focal_px = (focal_length / sensor_width) * image_width\n",
        "\n",
        "# Матрица калибровки камеры\n",
        "K = np.array([[focal_px, 0, image_width / 2],\n",
        "              [0, focal_px, image_width / 2],\n",
        "              [0, 0, 1]])\n",
        "\n",
        "# Папка с изображениями\n",
        "input_dir = '/content/'\n",
        "output_dir = '/content/images_with_trajectory'\n",
        "os.makedirs(output_dir, exist_ok=True)\n",
        "\n",
        "# Чтение траектории камеры\n",
        "camera_poses = []\n",
        "with open(\"/content/camera_trajectory.csv\", newline='') as csvfile:\n",
        "    reader = csv.DictReader(csvfile)\n",
        "    for row in reader:\n",
        "        t = np.array([[float(row['X'])], [float(row['Y'])], [float(row['Z'])]])\n",
        "        rvec = np.array([float(row['RotX']), float(row['RotY']), float(row['RotZ'])])\n",
        "        R, _ = cv2.Rodrigues(rvec)\n",
        "        camera_poses.append((R, t))\n",
        "\n",
        "# Чтение изображений и отображение траектории\n",
        "for i in range(1, 5):\n",
        "    img_path = os.path.join(input_dir, f\"{i}.jpg\")\n",
        "    img = cv2.imread(img_path)\n",
        "\n",
        "    if img is None:\n",
        "        print(f\"Изображение {img_path} не найдено.\")\n",
        "        continue\n",
        "\n",
        "    height, width, _ = img.shape\n",
        "\n",
        "    # Проецируем 3D-точки камеры на 2D пространство изображения\n",
        "    for j, (R, t) in enumerate(camera_poses):\n",
        "        # Координаты центра камеры в 3D пространстве\n",
        "        camera_center = -R.T @ t\n",
        "        camera_center_2D, _ = cv2.projectPoints(camera_center.T, np.zeros((3,1)), np.zeros((3,1)), K, None)\n",
        "        x, y = camera_center_2D.ravel()\n",
        "\n",
        "        # Рисуем точку на изображении\n",
        "        cv2.circle(img, (int(x), int(y)), 5, (0, 0, 255), -1)\n",
        "\n",
        "        # Нанесение текста с номером кадра\n",
        "        cv2.putText(img, f\"Cam {j}\", (int(x) + 10, int(y)), cv2.FONT_HERSHEY_SIMPLEX, 0.5, (255, 255, 255), 2)\n",
        "\n",
        "    # Сохранение изображения с траекторией\n",
        "    output_img_path = os.path.join(output_dir, f\"trajectory_{i}.jpg\")\n",
        "    cv2.imwrite(output_img_path, img)\n",
        "    print(f\"Сохранено изображение с траекторией: {output_img_path}\")\n"
      ],
      "metadata": {
        "colab": {
          "base_uri": "https://localhost:8080/"
        },
        "id": "GYfqYrYgqYqF",
        "outputId": "3ebe25af-ce57-4057-ae95-35a4dede3ff9"
      },
      "execution_count": 4,
      "outputs": [
        {
          "output_type": "stream",
          "name": "stdout",
          "text": [
            "Сохранено изображение с траекторией: /content/images_with_trajectory/trajectory_1.jpg\n",
            "Сохранено изображение с траекторией: /content/images_with_trajectory/trajectory_2.jpg\n",
            "Сохранено изображение с траекторией: /content/images_with_trajectory/trajectory_3.jpg\n",
            "Сохранено изображение с траекторией: /content/images_with_trajectory/trajectory_4.jpg\n"
          ]
        }
      ]
    },
    {
      "cell_type": "code",
      "source": [
        "import cv2\n",
        "import numpy as np\n",
        "import os\n",
        "import csv\n",
        "\n",
        "# Параметры камеры\n",
        "focal_length = 6.7  # Фокусное расстояние в мм\n",
        "sensor_width = 36.0  # Ширина сенсора в мм\n",
        "image_width = 11968  # Ширина изображения\n",
        "\n",
        "# Вычисляем фокусное расстояние в пикселях\n",
        "focal_px = (focal_length / sensor_width) * image_width\n",
        "\n",
        "# Матрица калибровки камеры\n",
        "K = np.array([[focal_px, 0, image_width / 2],\n",
        "              [0, focal_px, image_width / 2],\n",
        "              [0, 0, 1]])\n",
        "\n",
        "# Папка с изображениями\n",
        "input_dir = '/content'\n",
        "output_dir = '/content/images_with_trajectory'\n",
        "os.makedirs(output_dir, exist_ok=True)\n",
        "\n",
        "# Чтение траектории камеры\n",
        "camera_poses = []\n",
        "with open(\"/content/camera_trajectory.csv\", newline='') as csvfile:\n",
        "    reader = csv.DictReader(csvfile)\n",
        "    for row in reader:\n",
        "        t = np.array([[float(row['X'])], [float(row['Y'])], [float(row['Z'])]])\n",
        "        rvec = np.array([float(row['RotX']), float(row['RotY']), float(row['RotZ'])])\n",
        "        R, _ = cv2.Rodrigues(rvec)\n",
        "        camera_poses.append((R, t))\n",
        "\n",
        "# Чтение изображений и отображение траектории\n",
        "for i in range(1, 5):\n",
        "    img_path = os.path.join(input_dir, f\"{i}.jpg\")\n",
        "    img = cv2.imread(img_path)\n",
        "\n",
        "    if img is None:\n",
        "        print(f\"Изображение {img_path} не найдено.\")\n",
        "        continue\n",
        "\n",
        "    height, width, _ = img.shape\n",
        "\n",
        "    # Проецируем 3D-точки камеры на 2D пространство изображения\n",
        "    for j, (R, t) in enumerate(camera_poses):\n",
        "        # Координаты центра камеры в 3D пространстве\n",
        "        camera_center = -R.T @ t\n",
        "        camera_center_2D, _ = cv2.projectPoints(camera_center.T, np.zeros((3,1)), np.zeros((3,1)), K, None)\n",
        "        x, y = camera_center_2D.ravel()\n",
        "\n",
        "        # Рисуем красную точку на изображении\n",
        "        cv2.circle(img, (int(x), int(y)), 5, (0, 0, 255), -1)\n",
        "\n",
        "        # Нанесение текста с номером кадра\n",
        "        cv2.putText(img, f\"Cam {j}\", (int(x) + 10, int(y)), cv2.FONT_HERSHEY_SIMPLEX, 0.5, (255, 255, 255), 2)\n",
        "\n",
        "    # Сохранение изображения с траекторией\n",
        "    output_img_path = os.path.join(output_dir, f\"trajectory_{i}.jpg\")\n",
        "    cv2.imwrite(output_img_path, img)\n",
        "    print(f\"Сохранено изображение с траекторией: {output_img_path}\")\n"
      ],
      "metadata": {
        "colab": {
          "base_uri": "https://localhost:8080/"
        },
        "id": "cLMfQFCwGN_Q",
        "outputId": "f7d321dc-9508-48dc-940a-dacedce74676"
      },
      "execution_count": 6,
      "outputs": [
        {
          "output_type": "stream",
          "name": "stdout",
          "text": [
            "Сохранено изображение с траекторией: /content/images_with_trajectory/trajectory_1.jpg\n",
            "Сохранено изображение с траекторией: /content/images_with_trajectory/trajectory_2.jpg\n",
            "Сохранено изображение с траекторией: /content/images_with_trajectory/trajectory_3.jpg\n",
            "Сохранено изображение с траекторией: /content/images_with_trajectory/trajectory_4.jpg\n"
          ]
        }
      ]
    }
  ]
}