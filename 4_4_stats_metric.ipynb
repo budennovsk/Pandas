{
  "nbformat": 4,
  "nbformat_minor": 0,
  "metadata": {
    "colab": {
      "provenance": [],
      "authorship_tag": "ABX9TyOGoqlMzzZT7mBRzTkqyxvy",
      "include_colab_link": true
    },
    "kernelspec": {
      "name": "python3",
      "display_name": "Python 3"
    },
    "language_info": {
      "name": "python"
    }
  },
  "cells": [
    {
      "cell_type": "markdown",
      "metadata": {
        "id": "view-in-github",
        "colab_type": "text"
      },
      "source": [
        "<a href=\"https://colab.research.google.com/github/budennovsk/Pandas/blob/master/4_4_stats_metric.ipynb\" target=\"_parent\"><img src=\"https://colab.research.google.com/assets/colab-badge.svg\" alt=\"Open In Colab\"/></a>"
      ]
    },
    {
      "cell_type": "code",
      "source": [
        "!pip install nolds\n",
        "!pip install hurst\n",
        "!pip install pmdarima"
      ],
      "metadata": {
        "colab": {
          "base_uri": "https://localhost:8080/"
        },
        "id": "aTRx1IgpACKS",
        "outputId": "091657e5-1d61-43c7-dc06-31d3f3f03789"
      },
      "execution_count": 28,
      "outputs": [
        {
          "output_type": "stream",
          "name": "stdout",
          "text": [
            "Requirement already satisfied: nolds in /usr/local/lib/python3.10/dist-packages (0.5.2)\n",
            "Requirement already satisfied: numpy in /usr/local/lib/python3.10/dist-packages (from nolds) (1.25.2)\n",
            "Requirement already satisfied: future in /usr/local/lib/python3.10/dist-packages (from nolds) (0.18.3)\n",
            "Requirement already satisfied: setuptools in /usr/local/lib/python3.10/dist-packages (from nolds) (67.7.2)\n",
            "Requirement already satisfied: hurst in /usr/local/lib/python3.10/dist-packages (0.0.5)\n",
            "Requirement already satisfied: pandas>=0.18 in /usr/local/lib/python3.10/dist-packages (from hurst) (1.5.3)\n",
            "Requirement already satisfied: numpy>=1.10 in /usr/local/lib/python3.10/dist-packages (from hurst) (1.25.2)\n",
            "Requirement already satisfied: python-dateutil>=2.8.1 in /usr/local/lib/python3.10/dist-packages (from pandas>=0.18->hurst) (2.8.2)\n",
            "Requirement already satisfied: pytz>=2020.1 in /usr/local/lib/python3.10/dist-packages (from pandas>=0.18->hurst) (2023.4)\n",
            "Requirement already satisfied: six>=1.5 in /usr/local/lib/python3.10/dist-packages (from python-dateutil>=2.8.1->pandas>=0.18->hurst) (1.16.0)\n",
            "Collecting pmdarima\n",
            "  Downloading pmdarima-2.0.4-cp310-cp310-manylinux_2_17_x86_64.manylinux2014_x86_64.manylinux_2_28_x86_64.whl (2.1 MB)\n",
            "\u001b[2K     \u001b[90m━━━━━━━━━━━━━━━━━━━━━━━━━━━━━━━━━━━━━━━━\u001b[0m \u001b[32m2.1/2.1 MB\u001b[0m \u001b[31m10.7 MB/s\u001b[0m eta \u001b[36m0:00:00\u001b[0m\n",
            "\u001b[?25hRequirement already satisfied: joblib>=0.11 in /usr/local/lib/python3.10/dist-packages (from pmdarima) (1.3.2)\n",
            "Requirement already satisfied: Cython!=0.29.18,!=0.29.31,>=0.29 in /usr/local/lib/python3.10/dist-packages (from pmdarima) (3.0.9)\n",
            "Requirement already satisfied: numpy>=1.21.2 in /usr/local/lib/python3.10/dist-packages (from pmdarima) (1.25.2)\n",
            "Requirement already satisfied: pandas>=0.19 in /usr/local/lib/python3.10/dist-packages (from pmdarima) (1.5.3)\n",
            "Requirement already satisfied: scikit-learn>=0.22 in /usr/local/lib/python3.10/dist-packages (from pmdarima) (1.2.2)\n",
            "Requirement already satisfied: scipy>=1.3.2 in /usr/local/lib/python3.10/dist-packages (from pmdarima) (1.11.4)\n",
            "Requirement already satisfied: statsmodels>=0.13.2 in /usr/local/lib/python3.10/dist-packages (from pmdarima) (0.14.1)\n",
            "Requirement already satisfied: urllib3 in /usr/local/lib/python3.10/dist-packages (from pmdarima) (2.0.7)\n",
            "Requirement already satisfied: setuptools!=50.0.0,>=38.6.0 in /usr/local/lib/python3.10/dist-packages (from pmdarima) (67.7.2)\n",
            "Requirement already satisfied: packaging>=17.1 in /usr/local/lib/python3.10/dist-packages (from pmdarima) (23.2)\n",
            "Requirement already satisfied: python-dateutil>=2.8.1 in /usr/local/lib/python3.10/dist-packages (from pandas>=0.19->pmdarima) (2.8.2)\n",
            "Requirement already satisfied: pytz>=2020.1 in /usr/local/lib/python3.10/dist-packages (from pandas>=0.19->pmdarima) (2023.4)\n",
            "Requirement already satisfied: threadpoolctl>=2.0.0 in /usr/local/lib/python3.10/dist-packages (from scikit-learn>=0.22->pmdarima) (3.3.0)\n",
            "Requirement already satisfied: patsy>=0.5.4 in /usr/local/lib/python3.10/dist-packages (from statsmodels>=0.13.2->pmdarima) (0.5.6)\n",
            "Requirement already satisfied: six in /usr/local/lib/python3.10/dist-packages (from patsy>=0.5.4->statsmodels>=0.13.2->pmdarima) (1.16.0)\n",
            "Installing collected packages: pmdarima\n",
            "Successfully installed pmdarima-2.0.4\n"
          ]
        }
      ]
    },
    {
      "cell_type": "code",
      "execution_count": 13,
      "metadata": {
        "id": "VnE_pFSN97hg",
        "colab": {
          "base_uri": "https://localhost:8080/"
        },
        "outputId": "bcb68a3d-93a2-4798-8e85-c7de00250cb9"
      },
      "outputs": [
        {
          "output_type": "stream",
          "name": "stdout",
          "text": [
            "Hurst exponent: 0.5787644518175196\n"
          ]
        }
      ],
      "source": [
        "# !pip install nolds\n",
        "import numpy as np\n",
        "import nolds\n",
        "np.random.seed(1)\n",
        "time_series = np.random.normal(0, 1, 100)\n",
        "\n",
        "# time_series = [0.29875031, 0.25506379, 0.75053665, 0.99802279, 0.53397792,\n",
        "#        0.94420272, 0.39661011, 0.10668245, 0.40877383, 0.29612777,\n",
        "#        0.49340696, 0.65704368, 0.46105022, 0.93516051, 0.88476482,\n",
        "#        0.7019776 , 0.48968491, 0.13168728, 0.39701367, 0.70440154,\n",
        "#        0.28488552, 0.10398808, 0.90789846, 0.70905081, 0.61527643,\n",
        "#        0.79249891, 0.83564604, 0.483459  , 0.88118825, 0.91641901,\n",
        "#        0.2715511 , 0.60754536, 0.52658403, 0.53794578, 0.93766309,\n",
        "#        0.3051887 , 0.98343398, 0.90213121, 0.45872289, 0.81745326,\n",
        "#        0.76904699, 0.67789497, 0.31983389, 0.19645099, 0.6715277 ,\n",
        "#        0.8429733 , 0.01625279, 0.64280338, 0.44287302, 0.89808776,\n",
        "#        0.32147293, 0.47418481, 0.5147671 , 0.14043952, 0.7128923 ,\n",
        "#        0.83047635, 0.05790928, 0.29138882, 0.03804468, 0.9565441 ,\n",
        "#        0.66716882, 0.96420042, 0.53149428, 0.80206852, 0.37441398,\n",
        "#        0.35381903, 0.37826782, 0.65786213, 0.35945315, 0.90036745,\n",
        "#        0.98327487, 0.03042652, 0.19362329, 0.11224999, 0.04236405,\n",
        "#        0.22774099, 0.44679332, 0.83699037, 0.22182403, 0.49394526,\n",
        "#        0.92961874, 0.66721471, 0.79807902, 0.55099397, 0.98046646,\n",
        "#        0.58866215, 0.04551071, 0.1979828 , 0.40477363, 0.60127717,\n",
        "#        0.77193087, 0.41308613, 0.71005831, 0.7898695 , 0.3172602 ,\n",
        "#        0.97927024, 0.6496565 , 0.88099806, 0.55593769, 0.74160311]\n",
        "\n",
        "# Вычисление коэффициента Херста\n",
        "H = nolds.hurst_rs(time_series)\n",
        "\n",
        "print(f\"Hurst exponent: {H}\")"
      ]
    },
    {
      "cell_type": "markdown",
      "source": [
        "1. coef_hurst -\n",
        "\n",
        "Коэффициент Херста показывает, насколько \"предсказуемым\" или \"непредсказуемым\" является временной ряд на долгом временном промежутке. Если коэффициент близок к 0.5, это означает, что временной ряд ведет себя как случайное блуждание без долгосрочных закономерностей. Если коэффициент больше 0.5, это указывает на то, что в ряде есть долгосрочные тенденции или циклы.\n",
        "\n",
        "H < 0.5: временной ряд имеет антипериодическую (антикоррелированную) структуру, т.е. вероятность того, что последующее значение будет меньше предыдущего, выше, чем 0.5.\n",
        "H = 0.5: временной ряд является случайным блужданием (белым шумом) без долгосрочной зависимости.\n",
        "0.5 < H < 1: временной ряд обладает долгосрочной положительной зависимостью, т.е. вероятность того, что следующее значение будет больше предыдущего, выше, чем 0.5.\n",
        "\n"
      ],
      "metadata": {
        "id": "U1LE4QqK-xXQ"
      }
    },
    {
      "cell_type": "code",
      "source": [
        "# !pip install hurst\n",
        "import numpy as np\n",
        "import matplotlib.pyplot as plt\n",
        "from hurst import compute_Hc, random_walk\n",
        "\n",
        "# Use random_walk() function or generate a random walk series manually:\n",
        "# series = random_walk(99999, cumprod=True)\n",
        "# np.random.seed(42)\n",
        "# random_changes = 1. + np.random.randn(99999) / 1000.\n",
        "# series = np.cumprod(random_changes)  # create a random walk from random changes\n",
        "\n",
        "# Evaluate Hurst equation\n",
        "H, c, data = compute_Hc(time_series, kind='price', simplified=True)\n",
        "\n",
        "# Plot\n",
        "f, ax = plt.subplots()\n",
        "ax.plot(data[0], c*data[0]**H, color=\"deepskyblue\")\n",
        "ax.scatter(data[0], data[1], color=\"purple\")\n",
        "ax.set_xscale('log')\n",
        "ax.set_yscale('log')\n",
        "ax.set_xlabel('Time interval')\n",
        "ax.set_ylabel('R/S ratio')\n",
        "ax.grid(True)\n",
        "plt.show()\n",
        "\n",
        "print(\"H={:.4f}, c={:.4f}\".format(H,c))"
      ],
      "metadata": {
        "colab": {
          "base_uri": "https://localhost:8080/",
          "height": 471
        },
        "id": "OhnJ1QR5A3B4",
        "outputId": "c951d7ed-3ecd-47e2-846f-716d8625a5e6"
      },
      "execution_count": 5,
      "outputs": [
        {
          "output_type": "display_data",
          "data": {
            "text/plain": [
              "<Figure size 640x480 with 1 Axes>"
            ],
            "image/png": "[encoded data removed]"
          },
          "metadata": {}
        },
        {
          "output_type": "stream",
          "name": "stdout",
          "text": [
            "H=0.3079, c=3.3333\n"
          ]
        }
      ]
    },
    {
      "cell_type": "code",
      "source": [
        "import numpy as np\n",
        "from scipy.fft import fft\n",
        "from scipy.stats import entropy\n",
        "\n",
        "\n",
        "# Частота дискретизации\n",
        "fs = 1\n",
        "\n",
        "# Вычисление дискретного преобразования Фурье\n",
        "X = fft(time_series)\n",
        "amplitude_spectrum = 2 / len(time_series) * np.abs(X[:len(time_series) // 2])\n",
        "\n",
        "# Нормализация амплитудного спектра\n",
        "amplitude_spectrum_norm = amplitude_spectrum / amplitude_spectrum.sum()\n",
        "\n",
        "# Вычисление энтропии Шеннона амплитудного спектра\n",
        "spectral_entropy = entropy(amplitude_spectrum_norm, base=2)\n",
        "\n",
        "print(f\"Spectral entropy (FFT method): {spectral_entropy}\")"
      ],
      "metadata": {
        "colab": {
          "base_uri": "https://localhost:8080/"
        },
        "id": "66sJjrKmimtG",
        "outputId": "6acc515c-09b6-43bf-f85a-213e6d114d02"
      },
      "execution_count": 14,
      "outputs": [
        {
          "output_type": "stream",
          "name": "stdout",
          "text": [
            "Spectral entropy (FFT method): 5.4808838900105465\n"
          ]
        }
      ]
    },
    {
      "cell_type": "markdown",
      "source": [
        "2. feat_spectral -\n",
        "\n",
        "Спектральная энтропия (Шеннона) представляет собой меру разнообразия или хаоса в спектре мощности временного ряда. Чем выше значение спектральной энтропии, тем более сложный или разнообразный спектр мощности временного ряда.\n",
        "\n",
        "Расшифровать спектральную энтропию можно следующим образом:\n",
        "\n",
        "Низкое значение спектральной энтропии (близкое к 0) может указывать на то, что спектр мощности временного ряда содержит основные частоты, что может свидетельствовать о более упорядоченной или предсказуемой структуре временного ряда.\n",
        "Высокое значение спектральной энтропии (больше 1) может указывать на более сложный или разнообразный спектр мощности временного ряда, что может указывать на более хаотическую или менее предсказуемую структуру временного ряда."
      ],
      "metadata": {
        "id": "ue4wkUMnnbH6"
      }
    },
    {
      "cell_type": "code",
      "source": [
        "from statsmodels.stats.diagnostic import acorr_ljungbox\n",
        "box_pierce = acorr_ljungbox(time_series,boxpierce=True)\n",
        "box_pierce['result'] = box_pierce.apply(lambda row: 'белый шум' if row['lb_pvalue'] >= 0.05 and row['bp_pvalue'] >= 0.05 else 'не белый шум', axis=1)\n",
        "print(box_pierce)"
      ],
      "metadata": {
        "colab": {
          "base_uri": "https://localhost:8080/"
        },
        "id": "tt3I6PbAjvl7",
        "outputId": "33c577b4-caf3-4393-c54d-630b4718899a"
      },
      "execution_count": 15,
      "outputs": [
        {
          "output_type": "stream",
          "name": "stdout",
          "text": [
            "      lb_stat  lb_pvalue    bp_stat  bp_pvalue     result\n",
            "1    0.157758   0.691229   0.153118   0.695573  белый шум\n",
            "2    0.164277   0.921144   0.159381   0.923402  белый шум\n",
            "3    6.192784   0.102598   5.892373   0.116966  белый шум\n",
            "4    6.846048   0.144251   6.507210   0.164337  белый шум\n",
            "5    7.263969   0.201737   6.896450   0.228456  белый шум\n",
            "6   11.072828   0.086152  10.406575   0.108542  белый шум\n",
            "7   13.876090   0.053430  12.962490   0.073028  белый шум\n",
            "8   13.946394   0.083173  13.025902   0.110962  белый шум\n",
            "9   13.973004   0.123289  13.049643   0.160373  белый шум\n",
            "10  16.498797   0.086216  15.278283   0.122241  белый шум\n"
          ]
        }
      ]
    },
    {
      "cell_type": "markdown",
      "source": [
        "3. box_pierce +\n",
        "\n",
        "Статистика Бокса-Пирса используется для проверки гипотезы о том, является ли временной ряд случайным шумом (белым шумом) или содержит значимую автокорреляцию. Это позволяет оценить, насколько случайными или предсказуемыми являются значения временного ряда.\n",
        "\n",
        "Путем вычисления статистики Бокса-Пирса и соответствующего p-значения можно определить, существует ли значимая автокорреляция в ряде на различных лагах. Если p-значение меньше уровня значимости (например, 0.05), это может указывать на то, что ряд не является белым шумом и содержит автокорреляцию.\n",
        "\n",
        "4. ljung_box +\n",
        "\n",
        "Статистика Юнга-Бокса используется для проверки гипотезы о том, является ли временной ряд случайным шумом (белым шумом) или содержит значимую автокорреляцию. Это инструмент для оценки случайности или предсказуемости значений временного ряда.\n",
        "\n",
        " если p-значение, полученное при использовании статистики Юнга-Бокса, больше выбранного уровня значимости (например, 0.05), то нет оснований отвергать нулевую гипотезу о том, что ряд является белым шумом.\n"
      ],
      "metadata": {
        "id": "bz-_RE4hpGNB"
      }
    },
    {
      "cell_type": "code",
      "source": [
        "import numpy as np\n",
        "import statsmodels.api as sm\n",
        "from statsmodels.graphics.tsaplots import plot_pacf\n",
        "import matplotlib.pyplot as plt\n",
        "\n",
        "# Вычисление частичной автокорреляции\n",
        "pacf = sm.tsa.stattools.pacf(time_series, nlags=10)\n",
        "\n",
        "# Визуализация частичной автокорреляции\n",
        "plot_pacf(time_series, lags=10)\n",
        "plt.show()\n",
        "\n",
        "print(f\"Partial Autocorrelation Function (PACF): \\n {pacf}\")"
      ],
      "metadata": {
        "colab": {
          "base_uri": "https://localhost:8080/",
          "height": 504
        },
        "id": "e1Y24nXRqr75",
        "outputId": "3af31c0c-6049-4c18-8069-98d57435049d"
      },
      "execution_count": 17,
      "outputs": [
        {
          "output_type": "display_data",
          "data": {
            "text/plain": [
              "<Figure size 640x480 with 1 Axes>"
            ],
            "image/png": "[encoded data removed]"
          },
          "metadata": {}
        },
        {
          "output_type": "stream",
          "name": "stdout",
          "text": [
            "Partial Autocorrelation Function (PACF): \n",
            " [ 1.         -0.0395256   0.00652338 -0.24666281  0.06682555 -0.0643397\n",
            "  0.14666935 -0.14524781 -0.0639076   0.0697765   0.07903094]\n"
          ]
        }
      ]
    },
    {
      "cell_type": "markdown",
      "source": [
        "5. feat_pacf +\n",
        "\n",
        "Частичная автокорреляция (PACF) - это мера автокорреляции между значениями временного ряда после того, как были удалены влияния корреляций на более коротких задержках. Она позволяет определить прямую зависимость между значением ряда в момент времени t и его значениями в прошлом, учитывая влияние промежуточных значений временного ряда. PACF часто используется для определения порядка авторегрессионной модели (AR) в анализе временных рядов.\n",
        "\n",
        "\n"
      ],
      "metadata": {
        "id": "3-jN4-7orgOx"
      }
    },
    {
      "cell_type": "code",
      "source": [
        "import numpy as np\n",
        "import statsmodels.api as sm\n",
        "from statsmodels.graphics.tsaplots import plot_acf\n",
        "import matplotlib.pyplot as plt\n",
        "\n",
        "# Вычисление полной автокорреляции\n",
        "acf = sm.tsa.stattools.acf(time_series, nlags=10)\n",
        "\n",
        "# Визуализация полной автокорреляции\n",
        "plot_acf(time_series, lags=10)\n",
        "plt.show()\n",
        "\n",
        "print(f\"Autocorrelation Function (ACF): \\n {acf}\")"
      ],
      "metadata": {
        "colab": {
          "base_uri": "https://localhost:8080/",
          "height": 504
        },
        "id": "TJXY_Vjqq46U",
        "outputId": "8c8deeb8-9357-40af-863c-c3139054e02c"
      },
      "execution_count": 19,
      "outputs": [
        {
          "output_type": "display_data",
          "data": {
            "text/plain": [
              "<Figure size 640x480 with 1 Axes>"
            ],
            "image/png": "[encoded data removed]"
          },
          "metadata": {}
        },
        {
          "output_type": "stream",
          "name": "stdout",
          "text": [
            "Autocorrelation Function (ACF): \n",
            " [ 1.         -0.03913035  0.00791395 -0.23943666  0.07841155 -0.06238911\n",
            "  0.18735326 -0.15987231 -0.0251816  -0.01540815  0.14928633]\n"
          ]
        }
      ]
    },
    {
      "cell_type": "markdown",
      "source": [
        "Полная автокорреляция (ACF) для временного ряда показывает корреляцию между значениями ряда на разных задержках (лагах), учитывая влияние всех промежуточных значений между этими лагами.\n",
        "\n",
        "Когда мы говорим о частичной автокорреляции (PACF), мы пытаемся измерить связь между значениями временного ряда на разных лагах, но с учетом промежуточных значений между этими лагами. Другими словами, PACF отображает автокорреляцию между значениями временного ряда на разных лагах, но после того, как были удалены влияния корреляций на более коротких задержках.\n",
        "\n",
        "Давайте представим, что у нас есть временной ряд температуры каждый час. Если мы хотим узнать, есть ли зависимость между температурой в 6 утра и в 18 вечера, мы можем посмотреть на частичную автокорреляцию на лаге 12 (так как 18-6 = 12), учитывая при этом влияние промежуточных значений температуры в другие часы дня.\n",
        "\n",
        "Таким образом, PACF позволяет нам определить прямую зависимость между значениями временного ряда на различных моментах времени, учитывая при этом влияние промежуточных значений временного ряда."
      ],
      "metadata": {
        "id": "E5ax627_u0Hq"
      }
    },
    {
      "cell_type": "code",
      "source": [
        "import numpy as np\n",
        "import statsmodels.api as sm\n",
        "from statsmodels.tsa.stattools import kpss\n",
        "\n",
        "\n",
        "print('Тест на стационарность КПСС (Kwiatkowski-Phillips-Schmidt-Shin test)')\n",
        "#KPSS\n",
        "kpss_stat,p_value, lags,crit = kpss(time_series,regression = 'ct')\n",
        "# check p-value against significance level\n",
        "if p_value < 0.05:\n",
        "    print('I По p-value, ряд НЕ стационарен метод KPSS')\n",
        "else:\n",
        "    print('I По p-value, ряд стационарен метод KPSS')\n",
        "\n",
        "# check KPSS statistic against critical value\n",
        "\n",
        "if abs(kpss_stat) > abs(max(crit.values())):\n",
        "    print('II По значению KPSS статистики, ряд НЕ стационарен метод KPSS')\n",
        "else:\n",
        "    print('II По значению KPSS статистики, ряд стационарен метод KPSS')\n",
        "print()\n",
        "print('kpss_stat', kpss_stat)\n",
        "print('p_value', p_value)\n",
        "print('lags', lags)\n",
        "print('crit', crit)"
      ],
      "metadata": {
        "colab": {
          "base_uri": "https://localhost:8080/"
        },
        "id": "ILKe_k6auntR",
        "outputId": "2039134d-a257-4a94-80db-2439710182b6"
      },
      "execution_count": 24,
      "outputs": [
        {
          "output_type": "stream",
          "name": "stdout",
          "text": [
            "Тест на стационарность КПСС (Kwiatkowski-Phillips-Schmidt-Shin test)\n",
            "I По p-value, ряд стационарен метод KPSS\n",
            "II По значению KPSS статистики, ряд стационарен метод KPSS\n",
            "\n",
            "kpss_stat 0.0477617848370993\n",
            "p_value 0.1\n",
            "lags 1\n",
            "crit {'10%': 0.119, '5%': 0.146, '2.5%': 0.176, '1%': 0.216}\n"
          ]
        },
        {
          "output_type": "stream",
          "name": "stderr",
          "text": [
            "<ipython-input-24-50170cd305df>:8: InterpolationWarning: The test statistic is outside of the range of p-values available in the\n",
            "look-up table. The actual p-value is greater than the p-value returned.\n",
            "\n",
            "  kpss_stat,p_value, lags,crit = kpss(time_series,regression = 'ct')\n"
          ]
        }
      ]
    },
    {
      "cell_type": "markdown",
      "source": [
        "6. unitroot_kpss +\n",
        "\n",
        "Тест на стационарность КПСС (Kwiatkowski-Phillips-Schmidt-Shin test) используется для проверки, является ли временной ряд стационарным. Этот тест основан на проверке гипотезы о наличии единичного корня в ряде (нестационарности). Если значение статистики теста меньше критического значения, то нулевая гипотеза о наличии единичного корня отвергается, что указывает на стационарность ряда.\n",
        "\n",
        "\n",
        "Стационарный временной ряд обладает следующими признаками:\n",
        "\n",
        "Постоянное среднее значение: среднее значение ряда остается постоянным во времени.\n",
        "Постоянная вариация: дисперсия ряда остается постоянной во времени.\n",
        "Постоянная автоковариация: автоковариация между значениями ряда на разных задержках (лагах) остается постоянной во времени.\n",
        "Стационарность ряда важна для многих методов анализа временных рядов, поскольку многие модели и методы предполагают стационарность данных.\n",
        "\n",
        "это линейные вычисления"
      ],
      "metadata": {
        "id": "1igr0Irtv6FH"
      }
    },
    {
      "cell_type": "code",
      "source": [
        "import numpy as np\n",
        "import statsmodels.api as sm\n",
        "from statsmodels.tsa.stattools import adfuller\n",
        "\n",
        "print('Тест на стационарность Дики-Фуллера (Dickey-Fuller test')\n",
        "adf,pvalue,usedlag,nobs,critical_values,icbest = adfuller(time_series)\n",
        "print()\n",
        "print('kpss_stat', adf)\n",
        "print('pvalue', pvalue)\n",
        "print('usedlag', usedlag)\n",
        "print('nobs', nobs)\n",
        "print('critical_values', critical_values)\n",
        "\n",
        "print('Results of Dickey-Fuller Test:')\n",
        "\n",
        "if pvalue <= 0.05:\n",
        "    print('I По p-value, ряд стационарен метод ADF')\n",
        "else:\n",
        "    print('I По p-value, ряд НЕ стационарен метод ADF')\n",
        "\n",
        "# check ADF statistic against critical value\n",
        "if abs(adf) > abs(max(critical_values.values())):\n",
        "    print('II По значению ADF статистики, ряд стационарен, метод ADF' )\n",
        "else:\n",
        "    print('II По значению ADF статистики, ряд НЕ стационарен, метод ADF')\n",
        "# print('resstore', resstore)\n",
        "\n",
        "print()\n"
      ],
      "metadata": {
        "colab": {
          "base_uri": "https://localhost:8080/"
        },
        "id": "lRREnm3WvWaJ",
        "outputId": "b190f150-ca0d-4daf-e737-bd47be0cb3c4"
      },
      "execution_count": 26,
      "outputs": [
        {
          "output_type": "stream",
          "name": "stdout",
          "text": [
            "Тест на стационарность Дики-Фуллера (Dickey-Fuller test\n",
            "\n",
            "kpss_stat -7.158368056683855\n",
            "pvalue 3.0129660136094903e-10\n",
            "usedlag 2\n",
            "nobs 97\n",
            "critical_values {'1%': -3.4996365338407074, '5%': -2.8918307730370025, '10%': -2.5829283377617176}\n",
            "Results of Dickey-Fuller Test:\n",
            "I По p-value, ряд стационарен метод ADF\n",
            "II По значению ADF статистики, ряд стационарен, метод ADF\n",
            "\n"
          ]
        }
      ]
    },
    {
      "cell_type": "markdown",
      "source": [
        "7. unitroot_pp +\n",
        "\n",
        "Тест Филлипса-Перрона (ADF) используется для проверки наличия единичного корня во временном ряде, что указывает на нестационарность ряда. Если значение статистики ADF меньше критического значения и p-значение меньше уровня значимости, то нулевая гипотеза о наличии единичного корня отвергается, что указывает на стационарность ряда.\n",
        "\n",
        "\n",
        "\n",
        "Тест Филлипса-Перрона (ADF) и Тест на стационарность КПСС (KPSS) имеют различные цели и подходы к проверке стационарности временного ряда.\n",
        "\n",
        "Тест Филлипса-Перрона (ADF) используется для проверки наличия единичного корня во временном ряде, что указывает на нестационарность ряда. Он тестирует нулевую гипотезу о наличии единичного корня в ряде.\n",
        "Тест на стационарность КПСС (KPSS) используется для проверки, является ли временной ряд стационарным. Он тестирует нулевую гипотезу о стационарности ряда против альтернативной гипотезы о наличии единичного корня или детерминированного тренда в ряде.\n",
        "Таким образом, ADF и KPSS тестируют разные аспекты стационарности временного ряда: ADF фокусируется на наличии единичного корня, в то время как KPSS фокусируется на общей стационарности ряда.\n"
      ],
      "metadata": {
        "id": "UUarfFdZyH-b"
      }
    },
    {
      "cell_type": "code",
      "source": [
        "from pmdarima.arima.utils import ndiffs\n",
        "import pandas as pd\n",
        "\n",
        "\n",
        "n_diffs = ndiffs(time_series, test='kpss')\n",
        "\n",
        "print(\"ndiffs нужно ли делать дифференцацию:\", n_diffs)\n"
      ],
      "metadata": {
        "colab": {
          "base_uri": "https://localhost:8080/"
        },
        "id": "92ECxzcW0KnK",
        "outputId": "a2853e14-3d72-455f-f353-82a28fffce66"
      },
      "execution_count": 29,
      "outputs": [
        {
          "output_type": "stream",
          "name": "stdout",
          "text": [
            "ndiffs нужно ли делать дифференцацию: 0\n"
          ]
        }
      ]
    },
    {
      "cell_type": "markdown",
      "source": [
        "8. unitroot_ndiffs +\n",
        "\n",
        "Метод ndiffs из библиотеки pmdarima используется для автоматического определения оптимального количества различий, необходимых для стационарности временного ряда перед применением модели ARIMA.\n",
        "\n",
        "Когда вы используете ndiffs с параметром test='kpss', метод будет проводить тест на стационарность с использованием KPSS (Kwiatkowski-Phillips-Schmidt-Shin) теста. Результатом будет количество различий, необходимых для стационарности ряда.\n",
        "\n",
        "Если значение n_diffs равно 0, это означает, что временной ряд уже стационарен и дополнительные различия не требуются. Если значение n_diffs равно 1, это означает, что для стационарности ряда требуется одно различие.\n",
        "\n",
        "Таким образом, результат n_diffs позволяет определить оптимальное количество различий для стационарности временного ряда перед построением модели ARIMA.\n"
      ],
      "metadata": {
        "id": "RPcBUHS203qT"
      }
    },
    {
      "cell_type": "code",
      "source": [
        "from pmdarima.arima.utils import nsdiffs\n",
        "import pandas as pd\n",
        "\n",
        "# Определение количества сезонных разностей\n",
        "n_seasonal_diffs = nsdiffs(time_series,m=4)\n",
        "\n",
        "print(\"nsdiffs Сколько diff надо применить к данным:\", n_seasonal_diffs)\n",
        "\n"
      ],
      "metadata": {
        "colab": {
          "base_uri": "https://localhost:8080/"
        },
        "id": "I6L8Cbek18Vn",
        "outputId": "7e34b194-de36-4c10-eabd-dbf631d0de10"
      },
      "execution_count": 30,
      "outputs": [
        {
          "output_type": "stream",
          "name": "stdout",
          "text": [
            "nsdiffs Сколько diff надо применить к данным: 0\n"
          ]
        }
      ]
    },
    {
      "cell_type": "markdown",
      "source": [
        "9. unitroot_nsdiffs +\n",
        "\n",
        "указывает количество сезонных различий, необходимых для стационарности ряда."
      ],
      "metadata": {
        "id": "E0TJo5h62RGW"
      }
    },
    {
      "cell_type": "code",
      "source": [],
      "metadata": {
        "id": "3U0ZZ9Sux3aN"
      },
      "execution_count": null,
      "outputs": []
    }
  ]
}