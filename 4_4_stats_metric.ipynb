{
  "nbformat": 4,
  "nbformat_minor": 0,
  "metadata": {
    "colab": {
      "provenance": [],
      "authorship_tag": "ABX9TyNeEhntL0OSsAX/zm/Qwa4U",
      "include_colab_link": true
    },
    "kernelspec": {
      "name": "python3",
      "display_name": "Python 3"
    },
    "language_info": {
      "name": "python"
    }
  },
  "cells": [
    {
      "cell_type": "markdown",
      "metadata": {
        "id": "view-in-github",
        "colab_type": "text"
      },
      "source": [
        "<a href=\"https://colab.research.google.com/github/budennovsk/Pandas/blob/master/4_4_stats_metric.ipynb\" target=\"_parent\"><img src=\"https://colab.research.google.com/assets/colab-badge.svg\" alt=\"Open In Colab\"/></a>"
      ]
    },
    {
      "cell_type": "code",
      "source": [
        "!pip install nolds\n",
        "!pip install hurst"
      ],
      "metadata": {
        "colab": {
          "base_uri": "https://localhost:8080/"
        },
        "id": "aTRx1IgpACKS",
        "outputId": "e66e798d-f4b2-470c-9ace-b1d278903a95"
      },
      "execution_count": 3,
      "outputs": [
        {
          "output_type": "stream",
          "name": "stdout",
          "text": [
            "Requirement already satisfied: nolds in /usr/local/lib/python3.10/dist-packages (0.5.2)\n",
            "Requirement already satisfied: numpy in /usr/local/lib/python3.10/dist-packages (from nolds) (1.25.2)\n",
            "Requirement already satisfied: future in /usr/local/lib/python3.10/dist-packages (from nolds) (0.18.3)\n",
            "Requirement already satisfied: setuptools in /usr/local/lib/python3.10/dist-packages (from nolds) (67.7.2)\n",
            "Collecting hurst\n",
            "  Downloading hurst-0.0.5-py3-none-any.whl (5.9 kB)\n",
            "Requirement already satisfied: pandas>=0.18 in /usr/local/lib/python3.10/dist-packages (from hurst) (1.5.3)\n",
            "Requirement already satisfied: numpy>=1.10 in /usr/local/lib/python3.10/dist-packages (from hurst) (1.25.2)\n",
            "Requirement already satisfied: python-dateutil>=2.8.1 in /usr/local/lib/python3.10/dist-packages (from pandas>=0.18->hurst) (2.8.2)\n",
            "Requirement already satisfied: pytz>=2020.1 in /usr/local/lib/python3.10/dist-packages (from pandas>=0.18->hurst) (2023.4)\n",
            "Requirement already satisfied: six>=1.5 in /usr/local/lib/python3.10/dist-packages (from python-dateutil>=2.8.1->pandas>=0.18->hurst) (1.16.0)\n",
            "Installing collected packages: hurst\n",
            "Successfully installed hurst-0.0.5\n"
          ]
        }
      ]
    },
    {
      "cell_type": "code",
      "execution_count": 2,
      "metadata": {
        "id": "VnE_pFSN97hg",
        "colab": {
          "base_uri": "https://localhost:8080/"
        },
        "outputId": "bc201389-ad05-4fff-dcdf-eda0cea732f5"
      },
      "outputs": [
        {
          "output_type": "stream",
          "name": "stdout",
          "text": [
            "Hurst exponent: 0.631156209157011\n"
          ]
        }
      ],
      "source": [
        "# !pip install nolds\n",
        "import numpy as np\n",
        "import nolds\n",
        "\n",
        "time_series = [0.29875031, 0.25506379, 0.75053665, 0.99802279, 0.53397792,\n",
        "       0.94420272, 0.39661011, 0.10668245, 0.40877383, 0.29612777,\n",
        "       0.49340696, 0.65704368, 0.46105022, 0.93516051, 0.88476482,\n",
        "       0.7019776 , 0.48968491, 0.13168728, 0.39701367, 0.70440154,\n",
        "       0.28488552, 0.10398808, 0.90789846, 0.70905081, 0.61527643,\n",
        "       0.79249891, 0.83564604, 0.483459  , 0.88118825, 0.91641901,\n",
        "       0.2715511 , 0.60754536, 0.52658403, 0.53794578, 0.93766309,\n",
        "       0.3051887 , 0.98343398, 0.90213121, 0.45872289, 0.81745326,\n",
        "       0.76904699, 0.67789497, 0.31983389, 0.19645099, 0.6715277 ,\n",
        "       0.8429733 , 0.01625279, 0.64280338, 0.44287302, 0.89808776,\n",
        "       0.32147293, 0.47418481, 0.5147671 , 0.14043952, 0.7128923 ,\n",
        "       0.83047635, 0.05790928, 0.29138882, 0.03804468, 0.9565441 ,\n",
        "       0.66716882, 0.96420042, 0.53149428, 0.80206852, 0.37441398,\n",
        "       0.35381903, 0.37826782, 0.65786213, 0.35945315, 0.90036745,\n",
        "       0.98327487, 0.03042652, 0.19362329, 0.11224999, 0.04236405,\n",
        "       0.22774099, 0.44679332, 0.83699037, 0.22182403, 0.49394526,\n",
        "       0.92961874, 0.66721471, 0.79807902, 0.55099397, 0.98046646,\n",
        "       0.58866215, 0.04551071, 0.1979828 , 0.40477363, 0.60127717,\n",
        "       0.77193087, 0.41308613, 0.71005831, 0.7898695 , 0.3172602 ,\n",
        "       0.97927024, 0.6496565 , 0.88099806, 0.55593769, 0.74160311]\n",
        "\n",
        "# Вычисление коэффициента Херста\n",
        "H = nolds.hurst_rs(time_series)\n",
        "\n",
        "print(f\"Hurst exponent: {H}\")"
      ]
    },
    {
      "cell_type": "markdown",
      "source": [
        "coef_hurst\n",
        "\n",
        "Коэффициент Херста показывает, насколько \"предсказуемым\" или \"непредсказуемым\" является временной ряд на долгом временном промежутке. Если коэффициент близок к 0.5, это означает, что временной ряд ведет себя как случайное блуждание без долгосрочных закономерностей. Если коэффициент больше 0.5, это указывает на то, что в ряде есть долгосрочные тенденции или циклы.\n",
        "\n",
        "H < 0.5: временной ряд имеет антипериодическую (антикоррелированную) структуру, т.е. вероятность того, что последующее значение будет меньше предыдущего, выше, чем 0.5.\n",
        "H = 0.5: временной ряд является случайным блужданием (белым шумом) без долгосрочной зависимости.\n",
        "0.5 < H < 1: временной ряд обладает долгосрочной положительной зависимостью, т.е. вероятность того, что следующее значение будет больше предыдущего, выше, чем 0.5.\n",
        "\n"
      ],
      "metadata": {
        "id": "U1LE4QqK-xXQ"
      }
    },
    {
      "cell_type": "code",
      "source": [
        "# !pip install hurst\n",
        "import numpy as np\n",
        "import matplotlib.pyplot as plt\n",
        "from hurst import compute_Hc, random_walk\n",
        "\n",
        "# Use random_walk() function or generate a random walk series manually:\n",
        "# series = random_walk(99999, cumprod=True)\n",
        "# np.random.seed(42)\n",
        "# random_changes = 1. + np.random.randn(99999) / 1000.\n",
        "# series = np.cumprod(random_changes)  # create a random walk from random changes\n",
        "\n",
        "# Evaluate Hurst equation\n",
        "H, c, data = compute_Hc(time_series, kind='price', simplified=True)\n",
        "\n",
        "# Plot\n",
        "f, ax = plt.subplots()\n",
        "ax.plot(data[0], c*data[0]**H, color=\"deepskyblue\")\n",
        "ax.scatter(data[0], data[1], color=\"purple\")\n",
        "ax.set_xscale('log')\n",
        "ax.set_yscale('log')\n",
        "ax.set_xlabel('Time interval')\n",
        "ax.set_ylabel('R/S ratio')\n",
        "ax.grid(True)\n",
        "plt.show()\n",
        "\n",
        "print(\"H={:.4f}, c={:.4f}\".format(H,c))"
      ],
      "metadata": {
        "colab": {
          "base_uri": "https://localhost:8080/",
          "height": 471
        },
        "id": "OhnJ1QR5A3B4",
        "outputId": "4b248675-4ab8-47de-c713-3997cc768c5d"
      },
      "execution_count": 4,
      "outputs": [
        {
          "output_type": "display_data",
          "data": {
            "text/plain": [
              "<Figure size 640x480 with 1 Axes>"
            ],
            "image/png": "[encoded data removed]"
          },
          "metadata": {}
        },
        {
          "output_type": "stream",
          "name": "stdout",
          "text": [
            "H=0.3079, c=3.3333\n"
          ]
        }
      ]
    }
  ]
}