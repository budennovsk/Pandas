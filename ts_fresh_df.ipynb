{
  "nbformat": 4,
  "nbformat_minor": 0,
  "metadata": {
    "colab": {
      "private_outputs": true,
      "provenance": [],
      "authorship_tag": "ABX9TyO6+9ze65N82WWDE/9dwOoT",
      "include_colab_link": true
    },
    "kernelspec": {
      "name": "python3",
      "display_name": "Python 3"
    },
    "language_info": {
      "name": "python"
    }
  },
  "cells": [
    {
      "cell_type": "markdown",
      "metadata": {
        "id": "view-in-github",
        "colab_type": "text"
      },
      "source": [
        "<a href=\"https://colab.research.google.com/github/budennovsk/Pandas/blob/master/ts_fresh_df.ipynb\" target=\"_parent\"><img src=\"https://colab.research.google.com/assets/colab-badge.svg\" alt=\"Open In Colab\"/></a>"
      ]
    },
    {
      "cell_type": "code",
      "source": [
        "!pip install tsfresh"
      ],
      "metadata": {
        "id": "JfrYCYg3i9g7"
      },
      "execution_count": null,
      "outputs": []
    },
    {
      "cell_type": "code",
      "execution_count": null,
      "metadata": {
        "id": "RKRUL5TniY8w"
      },
      "outputs": [],
      "source": [
        "import pandas as pd\n",
        "from tsfresh import extract_features\n",
        "from tsfresh.utilities.dataframe_functions import impute\n",
        "\n",
        "# Данные\n",
        "data = {\n",
        "    'ID продукта': [171000083500, 171000083500, 171000083499, 171000083499],\n",
        "    '2000_start': [499, 504, 168.5, 173.5],\n",
        "    '2000_end': [504, 509, 173.5, 178.5],\n",
        "    '2000_flat_center': [0.1325, 0.14, 0.953333333333334, 0.235],\n",
        "    'end_part': [0, 0, 0, 0],\n",
        "    '2000_flat_left': [0.02, 0.0075, 0.0216666666666666, 0.01],\n",
        "    'len_2000': [678, 678, 678, 678]\n",
        "}\n",
        "\n",
        "# Создаём DataFrame\n",
        "df = pd.DataFrame(data)\n",
        "\n",
        "# Для tsfresh нам нужен временной ряд, поэтому нужно преобразовать данные в правильный формат\n",
        "df_tsfresh = df[['ID продукта', '2000_start', '2000_flat_center']]  # Явно указываем колонку значений\n",
        "\n",
        "# Используем функцию extract_features для извлечения признаков\n",
        "# Мы группируем по 'ID продукта' и сортируем по '2000_start'\n",
        "extracted_features = extract_features(df_tsfresh,\n",
        "                                     column_id='ID продукта',\n",
        "                                     column_sort='2000_start',\n",
        "                                     column_value='2000_flat_center')\n",
        "\n",
        "# Импутируем отсутствующие значения\n",
        "extracted_features = impute(extracted_features)\n",
        "\n",
        "\n"
      ]
    },
    {
      "cell_type": "code",
      "source": [
        "extracted_features"
      ],
      "metadata": {
        "id": "Xnk7EZ_ei1Tf"
      },
      "execution_count": null,
      "outputs": []
    },
    {
      "cell_type": "code",
      "source": [
        "# Данные\n",
        "data = {\n",
        "    'ID продукта': [171000083500, 171000083500, 171000083499, 171000083499],\n",
        "    '2000_start': [499, 504, 168.5, 173.5],\n",
        "    '2000_flat_center': [0.1325, 0.14, 0.953333333333334, 0.235]\n",
        "}\n",
        "df_tsfresh = pd.DataFrame(data)\n",
        "df_tsfresh\n",
        "\n"
      ],
      "metadata": {
        "id": "cG3Nsp_tlmi_"
      },
      "execution_count": null,
      "outputs": []
    },
    {
      "cell_type": "code",
      "source": [
        "# Данные\n",
        "data = {\n",
        "    'ID продукта': [171000083500, 171000083500, 171000083499, 171000083499],\n",
        "    '2000_start': [499, 504, 168.5, 173.5],\n",
        "    '2000_flat_center': [0.1325, 0.14, 0.953333333333334, 0.235],\n",
        "    '2000_flat_center__variance_larger_than_standard_deviation':[0,0,0,0],\n",
        "    '2000_flat_center__sum_values':[1.18,1.18,0.2,0.2]\n",
        "\n",
        "}\n",
        "merged= pd.DataFrame(data)\n",
        "merged\n",
        "\n"
      ],
      "metadata": {
        "id": "FFGIu7Qtls2y"
      },
      "execution_count": null,
      "outputs": []
    },
    {
      "cell_type": "code",
      "source": [],
      "metadata": {
        "id": "FfZ1ThpOmDMn"
      },
      "execution_count": null,
      "outputs": []
    },
    {
      "cell_type": "code",
      "source": [],
      "metadata": {
        "id": "UiY_Wu1zmyBn"
      },
      "execution_count": null,
      "outputs": []
    },
    {
      "cell_type": "code",
      "source": [
        "import pandas as pd\n",
        "from tsfresh import extract_features\n",
        "from tsfresh.utilities.dataframe_functions import impute\n",
        "\n",
        "import logging\n",
        "import warnings\n",
        "\n",
        "# Отключаем предупреждения tsfresh\n",
        "logging.getLogger('tsfresh').setLevel(logging.ERROR)\n",
        "\n",
        "# Отключаем RuntimeWarning\n",
        "warnings.filterwarnings(\"ignore\", category=RuntimeWarning)\n",
        "# Данные\n",
        "data = {\n",
        "    'ID продукта': [171000083500, 171000083500, 171000083499, 171000083499],\n",
        "    '2000_start': [499, 504, 168.5, 173.5],\n",
        "    '2000_flat_center': [0.1325, 0.14, 0.953333333333334, 0.235]\n",
        "}\n",
        "\n",
        "# Создаём DataFrame\n",
        "df_tsfresh = pd.DataFrame(data)\n",
        "\n",
        "# Используем функцию extract_features для извлечения признаков\n",
        "extracted_features = extract_features(df_tsfresh,\n",
        "                                     column_id='ID продукта',\n",
        "                                    #  column_sort='2000_flat_center',\n",
        "                                     column_value='2000_flat_center')\n",
        "\n",
        "# Импутируем отсутствующие значения\n",
        "extracted_features = impute(extracted_features)\n",
        "\n",
        "# Мы получаем признаковую таблицу, но нам нужно её \"дублировать\" по строкам, чтобы добавить в исходный df_tsfresh.\n",
        "# Получаем индекс ID продукта из исходного df_tsfresh\n",
        "df_tsfresh_indexed = df_tsfresh.set_index('ID продукта')\n",
        "\n",
        "# Теперь дублируем признаки из extracted_features для каждой строки по ID продукта\n",
        "df_tsfresh_merged = df_tsfresh_indexed.merge(extracted_features,\n",
        "                                             left_index=True,\n",
        "                                             right_index=True,\n",
        "                                             how='left',\n",
        "                                             )\n",
        "\n",
        "# Сбрасываем индекс, чтобы вернуть колонку ID продукта на первое место\n",
        "merged = df_tsfresh_merged.reset_index()\n",
        "merged\n",
        "\n",
        "\n"
      ],
      "metadata": {
        "id": "PURC2CTymyEP"
      },
      "execution_count": null,
      "outputs": []
    },
    {
      "cell_type": "code",
      "source": [
        "import pandas as pd\n",
        "from tsfresh import extract_features\n",
        "from tsfresh.utilities.dataframe_functions import impute\n",
        "import warnings\n",
        "\n",
        "# Отключаем предупреждения\n",
        "warnings.filterwarnings(\"ignore\", category=RuntimeWarning)\n",
        "\n",
        "# Данные\n",
        "data = {\n",
        "    'ID продукта': [171000083500, 171000083500, 171000083499, 171000083499],\n",
        "    '2000_start': [499, 504, 168.5, 173.5],\n",
        "    '2000_flat_center': [0.1325, 0.14, 0.953333333333334, 0.235]\n",
        "}\n",
        "\n",
        "# Создаём DataFrame\n",
        "df_tsfresh = pd.DataFrame(data)\n",
        "\n",
        "# Список колонок, для которых нужно извлечь признаки\n",
        "columns_to_extract = ['2000_flat_center', '2000_start']\n",
        "\n",
        "# Получаем индекс ID продукта из исходного df_tsfresh\n",
        "df_tsfresh_indexed = df_tsfresh.set_index('ID продукта')\n",
        "\n",
        "# Для каждой колонки извлекаем признаки и дублируем их по строкам\n",
        "for col in columns_to_extract:\n",
        "    # Извлекаем признаки для каждой колонки\n",
        "    extracted_features = extract_features(df_tsfresh,\n",
        "                                         column_id='ID продукта',\n",
        "                                         column_value=col,\n",
        "                                         column_sort='2000_start')\n",
        "\n",
        "    # Импутируем отсутствующие значения\n",
        "    extracted_features = impute(extracted_features)\n",
        "\n",
        "    # Дублируем признаки из extracted_features для каждой строки по ID продукта\n",
        "    df_tsfresh_indexed = df_tsfresh_indexed.merge(extracted_features,\n",
        "                                                  left_index=True,\n",
        "                                                  right_index=True,\n",
        "                                                  how='left')\n",
        "\n",
        "# Сбрасываем индекс, чтобы вернуть колонку ID продукта на первое место\n",
        "merged = df_tsfresh_indexed.reset_index()\n",
        "\n",
        "# Выводим итоговый DataFrame\n",
        "merged\n"
      ],
      "metadata": {
        "id": "C_LaqvrknO7G"
      },
      "execution_count": null,
      "outputs": []
    },
    {
      "cell_type": "code",
      "source": [
        "import pandas as pd\n",
        "from tsfresh import extract_features\n",
        "from tsfresh.utilities.dataframe_functions import impute\n",
        "import warnings\n",
        "\n",
        "# Отключаем предупреждения\n",
        "warnings.filterwarnings(\"ignore\", category=RuntimeWarning)\n",
        "\n",
        "def extract_and_merge_features(df, columns_target):\n",
        "    \"\"\"\n",
        "    Функция для извлечения признаков из нескольких колонок и их объединения с исходным DataFrame.\n",
        "\n",
        "    :param df: Исходный DataFrame с колонками, для которых нужно извлечь признаки.\n",
        "    :param columns_target: Список колонок, для которых будут извлечены признаки.\n",
        "    :return: Новый DataFrame с добавленными признаками.\n",
        "    \"\"\"\n",
        "    # Получаем индекс ID продукта из исходного df\n",
        "    df_indexed = df.set_index('ID продукта')\n",
        "\n",
        "    # Для каждой колонки извлекаем признаки и дублируем их по строкам\n",
        "    for col in columns_target:\n",
        "        # Извлекаем признаки для каждой колонки\n",
        "        extracted_features = extract_features(df,\n",
        "                                             column_id='ID продукта',\n",
        "                                             column_value=col)\n",
        "\n",
        "        # Импутируем отсутствующие значения\n",
        "        extracted_features = impute(extracted_features)\n",
        "\n",
        "        # Дублируем признаки из extracted_features для каждой строки по ID продукта\n",
        "        df_indexed = df_indexed.merge(extracted_features,\n",
        "                                      left_index=True,\n",
        "                                      right_index=True,\n",
        "                                      how='left')\n",
        "\n",
        "    # Сбрасываем индекс, чтобы вернуть колонку ID продукта на первое место\n",
        "    merged_df = df_indexed.reset_index()\n",
        "\n",
        "    return merged_df\n",
        "\n",
        "# Пример использования:\n",
        "data = {\n",
        "    'ID продукта': [171000083500, 171000083500, 171000083499, 171000083499],\n",
        "    '2000_start': [499, 504, 168.5, 173.5],\n",
        "    '2000_flat_center': [0.1325, 0.14, 0.953333333333334, 0.235]\n",
        "}\n",
        "\n",
        "df_tsfresh = pd.DataFrame(data)\n",
        "\n",
        "# Вызываем функцию\n",
        "columns_to_extract = ['2000_flat_center', '2000_start']\n",
        "result_df = extract_and_merge_features(df_tsfresh, columns_to_extract)\n",
        "\n",
        "# Выводим итоговый DataFrame\n",
        "result_df\n"
      ],
      "metadata": {
        "id": "EH-Lmlx4qcq5"
      },
      "execution_count": null,
      "outputs": []
    },
    {
      "cell_type": "code",
      "source": [
        "from tsfresh import extract_features, select_features\n",
        "from tsfresh.utilities.dataframe_functions import impute\n",
        "import pandas as pd\n",
        "import numpy as np\n",
        "\n",
        "# Создаём игрушечный датасет с двумя временными рядами\n",
        "df = pd.DataFrame({\n",
        "    'id': [1]*50 + [2]*50,\n",
        "    'time': list(range(50))*2,\n",
        "    'value': np.concatenate([\n",
        "        np.sin(np.linspace(0, 10, 50)) + np.random.normal(0, 0.1, 50),\n",
        "        np.random.normal(0, 1, 50)\n",
        "    ])\n",
        "})\n",
        "\n",
        "# Целевая переменная (например, к какому классу относится временной ряд)\n",
        "y = pd.Series([1, 0], index=[1, 2])  # 1 - синус, 0 - шум\n",
        "\n",
        "# Извлекаем фичи\n",
        "features = extract_features(df, column_id=\"id\", column_sort=\"time\")\n",
        "impute(features)\n",
        "\n",
        "# Фильтруем признаки по значимости\n",
        "filtered_features = select_features(features, y)\n",
        "\n",
        "print(\"Отобранные признаки:\")\n",
        "filtered_features"
      ],
      "metadata": {
        "id": "0rJFeo2jrTkg"
      },
      "execution_count": null,
      "outputs": []
    },
    {
      "cell_type": "code",
      "source": [
        "features.shape, y.shape"
      ],
      "metadata": {
        "id": "VuaqyOPBBOK9"
      },
      "execution_count": null,
      "outputs": []
    },
    {
      "cell_type": "code",
      "source": [
        "y"
      ],
      "metadata": {
        "id": "DhMc75f7BZgz"
      },
      "execution_count": null,
      "outputs": []
    },
    {
      "cell_type": "code",
      "source": [
        "!pip install pandas-profiling\n"
      ],
      "metadata": {
        "id": "5zxhlZlBckgu"
      },
      "execution_count": null,
      "outputs": []
    },
    {
      "cell_type": "code",
      "source": [
        "import pandas as pd\n",
        "from ydata_profiling import ProfileReport\n",
        "\n",
        "# Загрузка данных\n",
        "url = \"https://raw.githubusercontent.com/datasciencedojo/datasets/master/titanic.csv\"\n",
        "df = pd.read_csv(url)\n",
        "\n",
        "# Создание отчета\n",
        "report = ProfileReport(df, title=\"Titanic Dataset Profiling\")\n",
        "\n",
        "# Для Jupyter Notebook\n",
        "report.to_notebook_iframe()\n",
        "\n",
        "# Или сохранение в HTML\n",
        "report.to_file(\"titanic_report.html\")"
      ],
      "metadata": {
        "id": "VmzGWwzsBd3N"
      },
      "execution_count": null,
      "outputs": []
    },
    {
      "cell_type": "code",
      "source": [
        "!pip install --upgrade pandas-profiling numba"
      ],
      "metadata": {
        "id": "JJI1GFhgco6_"
      },
      "execution_count": null,
      "outputs": []
    },
    {
      "cell_type": "code",
      "source": [],
      "metadata": {
        "id": "TlXn8DLWdsfm"
      },
      "execution_count": null,
      "outputs": []
    }
  ]
}