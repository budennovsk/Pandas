{
  "nbformat": 4,
  "nbformat_minor": 0,
  "metadata": {
    "colab": {
      "provenance": [],
      "authorship_tag": "ABX9TyPCg1mCzVlMo+PDAyhfmKAB",
      "include_colab_link": true
    },
    "kernelspec": {
      "name": "python3",
      "display_name": "Python 3"
    },
    "language_info": {
      "name": "python"
    }
  },
  "cells": [
    {
      "cell_type": "markdown",
      "metadata": {
        "id": "view-in-github",
        "colab_type": "text"
      },
      "source": [
        "<a href=\"https://colab.research.google.com/github/budennovsk/Pandas/blob/master/python_alg.ipynb\" target=\"_parent\"><img src=\"https://colab.research.google.com/assets/colab-badge.svg\" alt=\"Open In Colab\"/></a>"
      ]
    },
    {
      "cell_type": "code",
      "execution_count": 14,
      "metadata": {
        "colab": {
          "base_uri": "https://localhost:8080/"
        },
        "id": "Kxxih6c6tzeg",
        "outputId": "fde90a33-257e-48ff-e540-764662b0c35e"
      },
      "outputs": [
        {
          "output_type": "stream",
          "name": "stdout",
          "text": [
            "оло око\n",
            "око оло\n",
            "Нет\n"
          ]
        }
      ],
      "source": [
        "def polinom(s):\n",
        "    s_new = s.replace('-','').replace('!','')\n",
        "    print(s_new)\n",
        "    s_lst = list(s_new)\n",
        "    replace_str = ('').join(s_lst[::-1])\n",
        "    print(replace_str)\n",
        "    if replace_str == s_new:\n",
        "        print('Полиндром')\n",
        "    else:\n",
        "        print('Нет')\n",
        "\n",
        "\n",
        "# polinom('В лесу родилась - елочка!')\n",
        "# polinom('оло поп')\n",
        "polinom('оло око')"
      ]
    },
    {
      "cell_type": "code",
      "source": [
        "def polinom(s):\n",
        "    s_new = s.replace('-','').replace('!','')\n",
        "\n",
        "\n",
        "    lst_a = []\n",
        "    for i in s_new.split():\n",
        "\n",
        "        lst_a.append(('').join(list(i)[::-1]))\n",
        "\n",
        "\n",
        "    if (' ').join(lst_a) == s_new:\n",
        "        print('Полиндром')\n",
        "    else:\n",
        "        print('Нет')\n",
        "\n",
        "\n",
        "# polinom('В лесу родилась - елочка!')\n",
        "polinom('оло поп')\n",
        "# polinom('земля род')"
      ],
      "metadata": {
        "colab": {
          "base_uri": "https://localhost:8080/"
        },
        "id": "z0QMqKnivwDf",
        "outputId": "66e1bc34-9cd7-4846-fbda-ea2a229892b8"
      },
      "execution_count": 33,
      "outputs": [
        {
          "output_type": "stream",
          "name": "stdout",
          "text": [
            "Полиндром\n"
          ]
        }
      ]
    }
  ]
}