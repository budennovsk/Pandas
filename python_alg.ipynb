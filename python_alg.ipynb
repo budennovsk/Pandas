{
  "nbformat": 4,
  "nbformat_minor": 0,
  "metadata": {
    "colab": {
      "provenance": [],
      "authorship_tag": "ABX9TyObeJfA3r7ICzTQnH9GAtb7",
      "include_colab_link": true
    },
    "kernelspec": {
      "name": "python3",
      "display_name": "Python 3"
    },
    "language_info": {
      "name": "python"
    }
  },
  "cells": [
    {
      "cell_type": "markdown",
      "metadata": {
        "id": "view-in-github",
        "colab_type": "text"
      },
      "source": [
        "<a href=\"https://colab.research.google.com/github/budennovsk/Pandas/blob/master/python_alg.ipynb\" target=\"_parent\"><img src=\"https://colab.research.google.com/assets/colab-badge.svg\" alt=\"Open In Colab\"/></a>"
      ]
    },
    {
      "cell_type": "code",
      "execution_count": null,
      "metadata": {
        "colab": {
          "base_uri": "https://localhost:8080/"
        },
        "id": "Kxxih6c6tzeg",
        "outputId": "fde90a33-257e-48ff-e540-764662b0c35e"
      },
      "outputs": [
        {
          "output_type": "stream",
          "name": "stdout",
          "text": [
            "оло око\n",
            "око оло\n",
            "Нет\n"
          ]
        }
      ],
      "source": [
        "def polinom(s):\n",
        "    s_new = s.replace('-','').replace('!','')\n",
        "    print(s_new)\n",
        "    s_lst = list(s_new)\n",
        "    replace_str = ('').join(s_lst[::-1])\n",
        "    print(replace_str)\n",
        "    if replace_str == s_new:\n",
        "        print('Полиндром')\n",
        "    else:\n",
        "        print('Нет')\n",
        "\n",
        "\n",
        "# polinom('В лесу родилась - елочка!')\n",
        "# polinom('оло поп')\n",
        "polinom('оло око')"
      ]
    },
    {
      "cell_type": "code",
      "source": [
        "def polinom(s):\n",
        "    s_new = s.replace('-','').replace('!','')\n",
        "\n",
        "\n",
        "    lst_a = []\n",
        "    for i in s_new.split():\n",
        "\n",
        "        lst_a.append(('').join(list(i)[::-1]))\n",
        "\n",
        "\n",
        "    if (' ').join(lst_a) == s_new:\n",
        "        print('Полиндром')\n",
        "    else:\n",
        "        print('Нет')\n",
        "\n",
        "\n",
        "# polinom('В лесу родилась - елочка!')\n",
        "polinom('оло поп')\n",
        "# polinom('земля род')"
      ],
      "metadata": {
        "colab": {
          "base_uri": "https://localhost:8080/"
        },
        "id": "z0QMqKnivwDf",
        "outputId": "66e1bc34-9cd7-4846-fbda-ea2a229892b8"
      },
      "execution_count": null,
      "outputs": [
        {
          "output_type": "stream",
          "name": "stdout",
          "text": [
            "Полиндром\n"
          ]
        }
      ]
    },
    {
      "cell_type": "code",
      "source": [
        "print([i for i in ['qwert','1234'] if i.isalpha()])"
      ],
      "metadata": {
        "colab": {
          "base_uri": "https://localhost:8080/"
        },
        "id": "YlNcH0A0DOrB",
        "outputId": "8a96ecad-20ce-4b34-d083-baf051a2f7bd"
      },
      "execution_count": null,
      "outputs": [
        {
          "output_type": "stream",
          "name": "stdout",
          "text": [
            "['qwert']\n"
          ]
        }
      ]
    },
    {
      "cell_type": "code",
      "source": [
        "print([i for i in ['qwert','1234'] if i.isdigit()])"
      ],
      "metadata": {
        "colab": {
          "base_uri": "https://localhost:8080/"
        },
        "id": "HW2kqRh_DWKo",
        "outputId": "8bd5fb7b-e0e1-47f9-b0eb-16bc89097127"
      },
      "execution_count": null,
      "outputs": [
        {
          "output_type": "stream",
          "name": "stdout",
          "text": [
            "['1234']\n"
          ]
        }
      ]
    },
    {
      "cell_type": "code",
      "source": [
        "from typing import List\n",
        "\n",
        "class Solution:\n",
        "    def letterCombinations(self, digits: str) -> List[str]:\n",
        "        if not digits:\n",
        "            return []\n",
        "\n",
        "        phone_map = {\n",
        "            '2': 'abc',\n",
        "            '3': 'def',\n",
        "            '4': 'ghi',\n",
        "            '5': 'jkl',\n",
        "            '6': 'mno',\n",
        "            '7': 'pqrs',\n",
        "            '8': 'tuv',\n",
        "            '9': 'wxyz'\n",
        "        }\n",
        "\n",
        "        def backtrack(index, path):\n",
        "            if index == len(digits):\n",
        "                combinations.append(''.join(path))\n",
        "                return\n",
        "\n",
        "            possible_letters = phone_map[digits[index]]\n",
        "            print(possible_letters)\n",
        "            for letter in possible_letters:\n",
        "                path.append(letter)\n",
        "                backtrack(index + 1, path)\n",
        "                path.pop()\n",
        "\n",
        "        combinations = []\n",
        "        backtrack(0, [])\n",
        "        return combinations\n",
        "\n",
        "# Example usage:\n",
        "solution = Solution()\n",
        "print(solution.letterCombinations(\"23\"))  # Output: [\"ad\",\"ae\",\"af\",\"bd\",\"be\",\"bf\",\"cd\",\"ce\",\"cf\"]"
      ],
      "metadata": {
        "colab": {
          "base_uri": "https://localhost:8080/"
        },
        "id": "rMcGsWozDtKG",
        "outputId": "fce2015f-36d5-44be-e859-b5cece84509f"
      },
      "execution_count": null,
      "outputs": [
        {
          "output_type": "stream",
          "name": "stdout",
          "text": [
            "abc\n",
            "def\n",
            "def\n",
            "def\n",
            "['ad', 'ae', 'af', 'bd', 'be', 'bf', 'cd', 'ce', 'cf']\n"
          ]
        }
      ]
    },
    {
      "cell_type": "code",
      "source": [
        "class Solution:\n",
        "    def searchInsert(self, nums: List[int], target: int) -> int:\n",
        "\n",
        "      if nums[-1]<target:\n",
        "          return len(nums)\n",
        "      if target in nums:\n",
        "          return nums.index(target)\n",
        "      else:\n",
        "        for i in range(len(nums)):\n",
        "          slic = nums[i:i+2]\n",
        "\n",
        "          if slic[0]<target and target<slic[1]:\n",
        "            return i+1\n",
        "\n",
        "solution = Solution()\n",
        "solution.searchInsert([1,3,5,6], 2)"
      ],
      "metadata": {
        "colab": {
          "base_uri": "https://localhost:8080/"
        },
        "id": "YmXkOIvDRnQ-",
        "outputId": "e37ba003-9b63-435c-b163-7874b915a2ea"
      },
      "execution_count": null,
      "outputs": [
        {
          "output_type": "execute_result",
          "data": {
            "text/plain": [
              "1"
            ]
          },
          "metadata": {},
          "execution_count": 120
        }
      ]
    },
    {
      "cell_type": "code",
      "source": [
        "class Solution:\n",
        "    def permute(self, nums: List[int]) -> List[List[int]]:\n",
        "      er = []\n",
        "      for i in range(len(nums)):\n",
        "        print(nums[i],'ddd')\n",
        "        for k in range(len(nums)):\n",
        "          print(k)\n",
        "          er.append(nums[k:k+1])\n",
        "      print(er)\n",
        "solution = Solution()\n",
        "solution.permute([1,2,3])"
      ],
      "metadata": {
        "colab": {
          "base_uri": "https://localhost:8080/"
        },
        "id": "X5r_v2AXWE7K",
        "outputId": "96b1497a-9c00-4e4c-9b92-be67cec7d371"
      },
      "execution_count": null,
      "outputs": [
        {
          "output_type": "stream",
          "name": "stdout",
          "text": [
            "1 ddd\n",
            "0\n",
            "1\n",
            "2\n",
            "2 ddd\n",
            "0\n",
            "1\n",
            "2\n",
            "3 ddd\n",
            "0\n",
            "1\n",
            "2\n",
            "[[1], [2], [3], [1], [2], [3], [1], [2], [3]]\n"
          ]
        }
      ]
    },
    {
      "cell_type": "code",
      "source": [
        "from typing import List\n",
        "\n",
        "def permute(nums: List[int]) -> List[List[int]]:\n",
        "    def backtrack(path):\n",
        "\n",
        "        if len(path) == len(nums):\n",
        "            result.append(path.copy())\n",
        "            return\n",
        "        for num in nums:\n",
        "            if num not in path:\n",
        "                path.append(num)\n",
        "                backtrack(path)\n",
        "                path.pop()\n",
        "\n",
        "    result = []\n",
        "    backtrack([])\n",
        "    return result\n",
        "\n",
        "# Пример использования:\n",
        "nums = [1, 2, 3]\n",
        "print(permute(nums))  # Output: [[1, 2, 3], [1, 3, 2], [2, 1, 3], [2, 3, 1], [3, 1, 2], [3, 2, 1]]"
      ],
      "metadata": {
        "id": "1YgtMhEzfhTH",
        "colab": {
          "base_uri": "https://localhost:8080/"
        },
        "outputId": "feb9d5ea-7e9e-4711-d0cc-9e9ed8109d2b"
      },
      "execution_count": null,
      "outputs": [
        {
          "output_type": "stream",
          "name": "stdout",
          "text": [
            "[]\n",
            "[1]\n",
            "[1, 2]\n",
            "[1, 2, 3]\n",
            "[1, 3]\n",
            "[1, 3, 2]\n",
            "[2]\n",
            "[2, 1]\n",
            "[2, 1, 3]\n",
            "[2, 3]\n",
            "[2, 3, 1]\n",
            "[3]\n",
            "[3, 1]\n",
            "[3, 1, 2]\n",
            "[3, 2]\n",
            "[3, 2, 1]\n",
            "[[1, 2, 3], [1, 3, 2], [2, 1, 3], [2, 3, 1], [3, 1, 2], [3, 2, 1]]\n"
          ]
        }
      ]
    },
    {
      "cell_type": "code",
      "source": [
        "from typing import List\n",
        "\n",
        "def permute(nums: List[int]) -> List[List[int]]:\n",
        "    if not nums:\n",
        "        return []\n",
        "\n",
        "    result = [[]]\n",
        "\n",
        "    for num in nums:\n",
        "        new_result = []\n",
        "        for perm in result:\n",
        "            for i in range(len(perm) + 1):\n",
        "                print(perm[:i] + [num] + perm[i:])\n",
        "                new_result.append(perm[:i] + [num] + perm[i:])\n",
        "        result = new_result\n",
        "\n",
        "    return result\n",
        "\n",
        "# Пример использования:\n",
        "nums = [1, 2, 3]\n",
        "print(permute(nums))  # Output: [[1, 2, 3], [1, 3, 2], [2, 1, 3], [2, 3, 1], [3, 1, 2], [3, 2, 1]]"
      ],
      "metadata": {
        "colab": {
          "base_uri": "https://localhost:8080/"
        },
        "id": "kdF_dYbgDYtV",
        "outputId": "1b35340b-8494-48d5-c46d-78b8e21ebe9e"
      },
      "execution_count": null,
      "outputs": [
        {
          "output_type": "stream",
          "name": "stdout",
          "text": [
            "[1]\n",
            "[2, 1]\n",
            "[1, 2]\n",
            "[3, 2, 1]\n",
            "[2, 3, 1]\n",
            "[2, 1, 3]\n",
            "[3, 1, 2]\n",
            "[1, 3, 2]\n",
            "[1, 2, 3]\n",
            "[[3, 2, 1], [2, 3, 1], [2, 1, 3], [3, 1, 2], [1, 3, 2], [1, 2, 3]]\n"
          ]
        }
      ]
    },
    {
      "cell_type": "code",
      "source": [
        "class Solution:\n",
        "    def merge(self, nums1: List[int], m: int, nums2: List[int], n: int) -> None:\n",
        "        \"\"\"\n",
        "        Do not return anything, modify nums1 in-place instead.\n",
        "        \"\"\"\n",
        "        nums1.extend(nums2)\n",
        "\n",
        "        res_sort =  sorted([i for i in nums1 if i !=0])\n",
        "        nums1 = []\n",
        "        nums1 = res_sort\n",
        "\n",
        "\n",
        "solution = Solution()\n",
        "solution.merge([1,2,3,0,0,0], 3, [2,5,6],3 )"
      ],
      "metadata": {
        "id": "N-e0dkboDbXA",
        "colab": {
          "base_uri": "https://localhost:8080/"
        },
        "outputId": "64a91a30-93ea-461f-da24-9ae29fbb8dd5"
      },
      "execution_count": null,
      "outputs": [
        {
          "output_type": "stream",
          "name": "stdout",
          "text": [
            "[1, 2, 2, 3, 5, 6]\n"
          ]
        }
      ]
    },
    {
      "cell_type": "code",
      "source": [
        "class Solution:\n",
        "    def strStr(self, haystack: str, needle: str) -> int:\n",
        "      indices = [index for index, char in enumerate(haystack) if char == needle[0]]\n",
        "      print(indices)\n",
        "\n",
        "      for i in range(len(haystack)):\n",
        "        if needle in haystack[i:i+len(needle)]:\n",
        "          # if needle[0]== haystack[i:i+len(needle)][0]:\n",
        "          # print(haystack[i:i+len(needle)])\n",
        "          print('d')\n",
        "\n",
        "\n",
        "solution = Solution()\n",
        "solution.strStr(haystack = \"sadbutsad\", needle = \"sad\")\n"
      ],
      "metadata": {
        "colab": {
          "base_uri": "https://localhost:8080/"
        },
        "id": "cPdk0LEeKLty",
        "outputId": "4eabf407-51f4-4f47-8877-f0811e8ebf55"
      },
      "execution_count": null,
      "outputs": [
        {
          "output_type": "stream",
          "name": "stdout",
          "text": [
            "[0, 6]\n",
            "d\n",
            "d\n"
          ]
        }
      ]
    },
    {
      "cell_type": "code",
      "source": [
        "class Solution:\n",
        "    def strStr(self, haystack: str, needle: str) -> int:\n",
        "      if needle in haystack:\n",
        "\n",
        "        indices = [index for index, char in enumerate(haystack) if char == needle[0]]\n",
        "        return indices[0]\n",
        "      else:\n",
        "         return -1\n",
        "\n",
        "\n",
        "\n",
        "\n",
        "solution = Solution()\n",
        "solution.strStr(haystack = \"sadbutsad\", needle = \"sad\")\n"
      ],
      "metadata": {
        "id": "ZAQHZRN6OmWb",
        "colab": {
          "base_uri": "https://localhost:8080/"
        },
        "outputId": "a337e0f3-ce79-4135-c5d5-1fab968d4012"
      },
      "execution_count": null,
      "outputs": [
        {
          "output_type": "execute_result",
          "data": {
            "text/plain": [
              "0"
            ]
          },
          "metadata": {},
          "execution_count": 22
        }
      ]
    },
    {
      "cell_type": "code",
      "source": [
        "class Solution:\n",
        "    def strStr(self, haystack: str, needle: str) -> int:\n",
        "\n",
        "        if len(haystack) < len(needle):\n",
        "            return -1\n",
        "\n",
        "        for i in range(len(haystack)):\n",
        "            if haystack[i:i+len(needle)] == needle:\n",
        "                return i\n",
        "\n",
        "        # return -1\n",
        "solution = Solution()\n",
        "solution.strStr(haystack = \"sadbutsad\", needle = \"sad\")"
      ],
      "metadata": {
        "colab": {
          "base_uri": "https://localhost:8080/"
        },
        "id": "Z-oASXvjPTj1",
        "outputId": "95035a71-6b04-4768-e48d-c7cc0f9a44ac"
      },
      "execution_count": null,
      "outputs": [
        {
          "output_type": "execute_result",
          "data": {
            "text/plain": [
              "0"
            ]
          },
          "metadata": {},
          "execution_count": 25
        }
      ]
    },
    {
      "cell_type": "code",
      "source": [
        "class Solution:\n",
        "    def isPalindrome(self, s: str) -> bool:\n",
        "      return True if ('').join([i.lower() for i in s if i.isalpha()]) == ('').join([i.lower() for i in s if i.isalpha()][::-1]) else False\n",
        "\n",
        "\n",
        "\n",
        "solution = Solution()\n",
        "solution.isPalindrome(\"race a car\")"
      ],
      "metadata": {
        "colab": {
          "base_uri": "https://localhost:8080/"
        },
        "id": "rFgg6SZ0V8n5",
        "outputId": "537fce6b-ca13-41b7-9193-d797622f7c48"
      },
      "execution_count": null,
      "outputs": [
        {
          "output_type": "execute_result",
          "data": {
            "text/plain": [
              "False"
            ]
          },
          "metadata": {},
          "execution_count": 104
        }
      ]
    },
    {
      "cell_type": "code",
      "source": [
        "class Solution:\n",
        "    def isPalindrome(self, s: str) -> bool:\n",
        "       refact = ('').join([i.lower() for i in s if i.isalpha()])\n",
        "       print(len(refact))\n",
        "       lengh = len(refact)//2\n",
        "       print(lengh)\n",
        "       for i in range(lengh):\n",
        "          if refact[i] != refact[-i-1]:\n",
        "            return False\n",
        "       return True\n",
        "\n",
        "\n",
        "solution = Solution()\n",
        "solution.isPalindrome(\"A man, a plan, a canal: Panama\")"
      ],
      "metadata": {
        "colab": {
          "base_uri": "https://localhost:8080/"
        },
        "id": "aWBb778-XlkI",
        "outputId": "8c529076-5740-4a8d-bf6d-165e265f0321"
      },
      "execution_count": null,
      "outputs": [
        {
          "output_type": "stream",
          "name": "stdout",
          "text": [
            "21\n",
            "10\n"
          ]
        },
        {
          "output_type": "execute_result",
          "data": {
            "text/plain": [
              "True"
            ]
          },
          "metadata": {},
          "execution_count": 119
        }
      ]
    },
    {
      "cell_type": "code",
      "source": [
        "class Solution:\n",
        "    def isSubsequence(self, s: str, t: str) -> bool:\n",
        "      count = 0\n",
        "      for i in s:\n",
        "\n",
        "        if i in t:\n",
        "          count+=1\n",
        "\n",
        "      return True if len(s)== count else False\n",
        "\n",
        "solution = Solution()\n",
        "solution.isSubsequence(\"abc\",\"ahbgdc\")"
      ],
      "metadata": {
        "colab": {
          "base_uri": "https://localhost:8080/"
        },
        "id": "h9pd7E_RY3yP",
        "outputId": "f8f240f5-88ca-49a9-e840-e4a4269abd7c"
      },
      "execution_count": null,
      "outputs": [
        {
          "output_type": "execute_result",
          "data": {
            "text/plain": [
              "True"
            ]
          },
          "metadata": {},
          "execution_count": 127
        }
      ]
    },
    {
      "cell_type": "code",
      "source": [
        "class Solution:\n",
        "    def isSubsequence(self, s: str, t: str) -> bool:\n",
        "            if not s:\n",
        "                return True\n",
        "            j=0\n",
        "            for i in range(len(t)):\n",
        "                if j<len(s) and t[i]==s[j]:\n",
        "                    j+=1\n",
        "                if j == len(s):\n",
        "                    return True\n",
        "\n",
        "            return False\n",
        "solution = Solution()\n",
        "solution.isSubsequence(\"abc\",\"ahbgdc\")"
      ],
      "metadata": {
        "colab": {
          "base_uri": "https://localhost:8080/"
        },
        "id": "uONXgaK2rZ2F",
        "outputId": "a0002907-7e0e-4e80-f5b4-4bce4151b40f"
      },
      "execution_count": null,
      "outputs": [
        {
          "output_type": "execute_result",
          "data": {
            "text/plain": [
              "True"
            ]
          },
          "metadata": {},
          "execution_count": 128
        }
      ]
    },
    {
      "cell_type": "code",
      "source": [
        "from typing import List\n",
        "\n",
        "class Solution:\n",
        "    def twoSum(self, numbers: List[int], target: int) -> List[int]:\n",
        "\n",
        "      for i in range(len(numbers)):\n",
        "        for k in range(i+1,len(numbers)):\n",
        "          s = sum([numbers[i],numbers[k]])\n",
        "          print(s)\n",
        "          if s ==target:\n",
        "              return [i+1,k+1]\n",
        "\n",
        "solution = Solution()\n",
        "solution.twoSum([1,2,3,4,4,9,56,90], 8 )"
      ],
      "metadata": {
        "colab": {
          "base_uri": "https://localhost:8080/"
        },
        "id": "n4B9dJ_Ktn9w",
        "outputId": "3f15bbde-47d4-4438-b891-e472cb71199f"
      },
      "execution_count": null,
      "outputs": [
        {
          "output_type": "stream",
          "name": "stdout",
          "text": [
            "3\n",
            "4\n",
            "5\n",
            "5\n",
            "10\n",
            "57\n",
            "91\n",
            "5\n",
            "6\n",
            "6\n",
            "11\n",
            "58\n",
            "92\n",
            "7\n",
            "7\n",
            "12\n",
            "59\n",
            "93\n",
            "8\n"
          ]
        },
        {
          "output_type": "execute_result",
          "data": {
            "text/plain": [
              "[4, 5]"
            ]
          },
          "metadata": {},
          "execution_count": 4
        }
      ]
    },
    {
      "cell_type": "code",
      "source": [
        "class Solution:\n",
        "    def twoSum(self, numbers: List[int], target: int) -> List[int]:\n",
        "        left = 0\n",
        "        right = len(numbers) - 1\n",
        "\n",
        "        while left < right:\n",
        "            print('v')\n",
        "            total = numbers[left] + numbers[right]\n",
        "\n",
        "            if total == target:\n",
        "                return [left + 1, right + 1]\n",
        "            elif total > target:\n",
        "                right -= 1\n",
        "            else:\n",
        "                left += 1\n",
        "solution = Solution()\n",
        "solution.twoSum([1,2,3,4,4,9,56,90], 8 )"
      ],
      "metadata": {
        "id": "34mP2lCHuHcc",
        "colab": {
          "base_uri": "https://localhost:8080/"
        },
        "outputId": "d8e94016-9a2f-40e6-9c2f-65acaae2d35d"
      },
      "execution_count": null,
      "outputs": [
        {
          "output_type": "stream",
          "name": "stdout",
          "text": [
            "v\n",
            "v\n",
            "v\n",
            "v\n",
            "v\n",
            "v\n",
            "v\n"
          ]
        },
        {
          "output_type": "execute_result",
          "data": {
            "text/plain": [
              "[4, 5]"
            ]
          },
          "metadata": {},
          "execution_count": 6
        }
      ]
    },
    {
      "cell_type": "code",
      "source": [
        "class Solution:\n",
        "    def maxArea(self, height: List[int]) -> int:\n",
        "      max_total = 0\n",
        "      for i in range(1,len(height)+1):\n",
        "          for k in range(i+1, len(height)+1):\n",
        "              if height[i]<height[k-1]:\n",
        "                total = i*height[k-1]\n",
        "\n",
        "                if total > max_total:\n",
        "                  max_total=total\n",
        "      return max_total\n",
        "\n",
        "solution = Solution()\n",
        "solution.maxArea([1,8,6,2,5,4,8,3,7] )"
      ],
      "metadata": {
        "colab": {
          "base_uri": "https://localhost:8080/"
        },
        "id": "R_7NTVCQ86d0",
        "outputId": "fa460819-b779-406c-cc80-571e5e28e306"
      },
      "execution_count": null,
      "outputs": [
        {
          "output_type": "execute_result",
          "data": {
            "text/plain": [
              "49"
            ]
          },
          "metadata": {},
          "execution_count": 33
        }
      ]
    },
    {
      "cell_type": "code",
      "source": [
        "class Solution:\n",
        "    def maxArea(self, height: List[int]) -> int:\n",
        "      max_total = 0\n",
        "      for i in range(1,len(height)+1):\n",
        "          for k in range(i+1, len(height)+1):\n",
        "              if height[i]<height[k-1]:\n",
        "                total = i*height[k-1]\n",
        "                if total > max_total:\n",
        "                  max_total=total\n",
        "\n",
        "\n",
        "      return max_total\n",
        "solution = Solution()\n",
        "solution.maxArea([1,8,6,2,5,4,8,3,7])"
      ],
      "metadata": {
        "colab": {
          "base_uri": "https://localhost:8080/"
        },
        "id": "-RfaKYRqPN91",
        "outputId": "ad941a3a-c785-4f9b-848d-fe08f02e5453"
      },
      "execution_count": null,
      "outputs": [
        {
          "output_type": "execute_result",
          "data": {
            "text/plain": [
              "49"
            ]
          },
          "metadata": {},
          "execution_count": 60
        }
      ]
    },
    {
      "cell_type": "code",
      "source": [
        "class Solution:\n",
        "    def maxArea(self, height: List[int]) -> int:\n",
        "        left = 0\n",
        "        right = len(height) - 1\n",
        "        maxArea = 0\n",
        "\n",
        "        while left < right:\n",
        "            currentArea = min(height[left], height[right]) * (right - left)\n",
        "            maxArea = max(maxArea, currentArea)\n",
        "\n",
        "            if height[left] < height[right]:\n",
        "                left += 1\n",
        "            else:\n",
        "                right -= 1\n",
        "\n",
        "        return maxArea\n",
        "solution = Solution()\n",
        "solution.maxArea([1,8,6,2,5,4,8,3,7])"
      ],
      "metadata": {
        "colab": {
          "base_uri": "https://localhost:8080/"
        },
        "id": "bLbDqPtlPPyb",
        "outputId": "15c45884-4ba5-4109-ae5d-f589cc59f30a"
      },
      "execution_count": null,
      "outputs": [
        {
          "output_type": "execute_result",
          "data": {
            "text/plain": [
              "49"
            ]
          },
          "metadata": {},
          "execution_count": 62
        }
      ]
    },
    {
      "cell_type": "code",
      "source": [
        "from typing import List\n",
        "class Solution:\n",
        "    def maxArea(self, height: List[int]) -> int:\n",
        "        left = 0\n",
        "        right = len(height)-1\n",
        "\n",
        "        area = 0\n",
        "\n",
        "        while left < right:\n",
        "          total = min(height[left],height[right])* (right-left)\n",
        "          if area< total:\n",
        "            area = total\n",
        "          if height[left]<height[right]:\n",
        "            left +=1\n",
        "          else:\n",
        "            right -=1\n",
        "        print(area)\n",
        "solution = Solution()\n",
        "solution.maxArea([1,8,6,2,5,4,8,3,7])"
      ],
      "metadata": {
        "colab": {
          "base_uri": "https://localhost:8080/"
        },
        "id": "dE8J1eEQbHsc",
        "outputId": "5bda1d2d-d9a6-4633-94e7-c5acb1a9025c"
      },
      "execution_count": null,
      "outputs": [
        {
          "output_type": "stream",
          "name": "stdout",
          "text": [
            "49\n"
          ]
        }
      ]
    },
    {
      "cell_type": "code",
      "source": [
        "class Solution:\n",
        "    def threeSum(self, nums: List[int]) -> List[List[int]]:\n",
        "      sort_val =[]\n",
        "      for i in range(len(nums)):\n",
        "        for k in range(i+1,len(nums)):\n",
        "          for q in range(k+1,len(nums)):\n",
        "            total = sum([nums[i],nums[k],nums[q]])\n",
        "            if total == 0:\n",
        "              if sorted([nums[i],nums[k],nums[q]]) not in sort_val:\n",
        "                sort_val.append(sorted([nums[i],nums[k],nums[q]]))\n",
        "      print(sort_val)\n",
        "\n",
        "\n",
        "solution = Solution()\n",
        "solution.threeSum([-1,0,1,2,-1,-4])\n"
      ],
      "metadata": {
        "colab": {
          "base_uri": "https://localhost:8080/"
        },
        "id": "6QSkVhjJbEMJ",
        "outputId": "cd363cb1-8cb8-47f6-c13d-befbfceda1e0"
      },
      "execution_count": 30,
      "outputs": [
        {
          "output_type": "stream",
          "name": "stdout",
          "text": [
            "[[-1, 0, 1], [-1, -1, 2]]\n"
          ]
        }
      ]
    },
    {
      "cell_type": "code",
      "source": [
        "class Solution:\n",
        "    def threeSum(self, nums: List[int]) -> List[List[int]]:\n",
        "        n,ans = len(nums),set()\n",
        "        nums.sort()\n",
        "        for i in range(n):\n",
        "            j,k = i+1,n-1\n",
        "            while j<=k:\n",
        "                s = nums[i] + nums[j] + nums[k]\n",
        "\n",
        "                if i != j and i != k and j != k and  s== 0:\n",
        "                    ans.add((nums[i],nums[j],nums[k]))\n",
        "                    j+=1\n",
        "                    k-=1\n",
        "                elif s>0:\n",
        "                    k-=1\n",
        "                else:\n",
        "                    j+=1\n",
        "        return ans\n",
        "\n",
        "solution = Solution()\n",
        "solution.threeSum([-1,0,1,2,-1,-4])\n",
        ""
      ],
      "metadata": {
        "id": "9maNWbuAI38e",
        "colab": {
          "base_uri": "https://localhost:8080/"
        },
        "outputId": "92fae06e-1fb1-4b01-db2c-8e57532c4ec3"
      },
      "execution_count": 37,
      "outputs": [
        {
          "output_type": "execute_result",
          "data": {
            "text/plain": [
              "{(-1, -1, 2), (-1, 0, 1)}"
            ]
          },
          "metadata": {},
          "execution_count": 37
        }
      ]
    },
    {
      "cell_type": "code",
      "source": [
        "class Solution:\n",
        "    def threeSum(self, target: int, nums: List[int]) -> int:\n",
        "      min_total = []\n",
        "      only = all([i==nums[0] for i in nums])\n",
        "\n",
        "      for i in range(len(nums)):\n",
        "        for j in range(i+1,len(nums)+2):\n",
        "          total =sum(nums[i:j])\n",
        "\n",
        "\n",
        "          if total == target and nums[i:j] not in min_total :\n",
        "            min_total.append(len(nums[i:j]))\n",
        "          if only:\n",
        "            return target\n",
        "\n",
        "\n",
        "      return (min_total)\n",
        "\n",
        "\n",
        "\n",
        "\n",
        "\n",
        "\n",
        "\n",
        "\n",
        "solution = Solution()\n",
        "solution.threeSum(11,[1,2,3,4,5])\n",
        ""
      ],
      "metadata": {
        "colab": {
          "base_uri": "https://localhost:8080/"
        },
        "id": "BvUw6GL1UdY_",
        "outputId": "b623cb28-eaf0-4079-d368-39869a225929"
      },
      "execution_count": 109,
      "outputs": [
        {
          "output_type": "execute_result",
          "data": {
            "text/plain": [
              "[]"
            ]
          },
          "metadata": {},
          "execution_count": 109
        }
      ]
    },
    {
      "cell_type": "code",
      "source": [],
      "metadata": {
        "id": "ZwKvtIRUW8ec"
      },
      "execution_count": null,
      "outputs": []
    }
  ]
}