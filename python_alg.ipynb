{
  "nbformat": 4,
  "nbformat_minor": 0,
  "metadata": {
    "colab": {
      "provenance": [],
      "authorship_tag": "ABX9TyMOFszZL8UDifvG0Tu+Ww90",
      "include_colab_link": true
    },
    "kernelspec": {
      "name": "python3",
      "display_name": "Python 3"
    },
    "language_info": {
      "name": "python"
    }
  },
  "cells": [
    {
      "cell_type": "markdown",
      "metadata": {
        "id": "view-in-github",
        "colab_type": "text"
      },
      "source": [
        "<a href=\"https://colab.research.google.com/github/budennovsk/Pandas/blob/master/python_alg.ipynb\" target=\"_parent\"><img src=\"https://colab.research.google.com/assets/colab-badge.svg\" alt=\"Open In Colab\"/></a>"
      ]
    },
    {
      "cell_type": "code",
      "execution_count": null,
      "metadata": {
        "colab": {
          "base_uri": "https://localhost:8080/"
        },
        "id": "Kxxih6c6tzeg",
        "outputId": "a9fbed43-1557-491b-e50d-2f0307f89637"
      },
      "outputs": [
        {
          "output_type": "stream",
          "name": "stdout",
          "text": [
            "оло око\n",
            "око оло\n",
            "Нет\n"
          ]
        }
      ],
      "source": [
        "def polinom(s):\n",
        "    s_new = s.replace('-','').replace('!','')\n",
        "    print(s_new)\n",
        "    s_lst = list(s_new)\n",
        "    replace_str = ('').join(s_lst[::-1])\n",
        "    print(replace_str)\n",
        "    if replace_str == s_new:\n",
        "        print('Полиндром')\n",
        "    else:\n",
        "        print('Нет')\n",
        "\n",
        "\n",
        "# polinom('В лесу родилась - елочка!')\n",
        "# polinom('оло поп')\n",
        "polinom('оло око')"
      ]
    },
    {
      "cell_type": "code",
      "source": [
        "def polinom(s):\n",
        "    s_new = s.replace('-','').replace('!','')\n",
        "\n",
        "\n",
        "    lst_a = []\n",
        "    for i in s_new.split():\n",
        "\n",
        "        lst_a.append(('').join(list(i)[::-1]))\n",
        "\n",
        "\n",
        "    if (' ').join(lst_a) == s_new:\n",
        "        print('Полиндром')\n",
        "    else:\n",
        "        print('Нет')\n",
        "\n",
        "\n",
        "# polinom('В лесу родилась - елочка!')\n",
        "polinom('оло поп')\n",
        "# polinom('земля род')"
      ],
      "metadata": {
        "colab": {
          "base_uri": "https://localhost:8080/"
        },
        "id": "z0QMqKnivwDf",
        "outputId": "2f4edac2-5d2a-48a0-a085-4cb2b17d9719"
      },
      "execution_count": null,
      "outputs": [
        {
          "output_type": "stream",
          "name": "stdout",
          "text": [
            "Полиндром\n"
          ]
        }
      ]
    },
    {
      "cell_type": "code",
      "source": [
        "print([i for i in ['qwert','1234'] if i.isalpha()])"
      ],
      "metadata": {
        "colab": {
          "base_uri": "https://localhost:8080/"
        },
        "id": "YlNcH0A0DOrB",
        "outputId": "82d792c7-1f19-45e8-8763-7082de6f2ec2"
      },
      "execution_count": null,
      "outputs": [
        {
          "output_type": "stream",
          "name": "stdout",
          "text": [
            "['qwert']\n"
          ]
        }
      ]
    },
    {
      "cell_type": "code",
      "source": [
        "print([i for i in ['qwert','1234'] if i.isdigit()])"
      ],
      "metadata": {
        "colab": {
          "base_uri": "https://localhost:8080/"
        },
        "id": "HW2kqRh_DWKo",
        "outputId": "c2a94baa-9e13-4ef8-a4fa-828e5a5f3666"
      },
      "execution_count": null,
      "outputs": [
        {
          "output_type": "stream",
          "name": "stdout",
          "text": [
            "['1234']\n"
          ]
        }
      ]
    },
    {
      "cell_type": "code",
      "source": [
        "from typing import List\n",
        "\n",
        "class Solution:\n",
        "    def letterCombinations(self, digits: str) -> List[str]:\n",
        "        if not digits:\n",
        "            return []\n",
        "\n",
        "        phone_map = {\n",
        "            '2': 'abc',\n",
        "            '3': 'def',\n",
        "            '4': 'ghi',\n",
        "            '5': 'jkl',\n",
        "            '6': 'mno',\n",
        "            '7': 'pqrs',\n",
        "            '8': 'tuv',\n",
        "            '9': 'wxyz'\n",
        "        }\n",
        "\n",
        "        def backtrack(index, path):\n",
        "            if index == len(digits):\n",
        "                combinations.append(''.join(path))\n",
        "                return\n",
        "\n",
        "            possible_letters = phone_map[digits[index]]\n",
        "            print(possible_letters)\n",
        "            for letter in possible_letters:\n",
        "                path.append(letter)\n",
        "                backtrack(index + 1, path)\n",
        "                path.pop()\n",
        "\n",
        "        combinations = []\n",
        "        backtrack(0, [])\n",
        "        return combinations\n",
        "\n",
        "# Example usage:\n",
        "solution = Solution()\n",
        "print(solution.letterCombinations(\"23\"))  # Output: [\"ad\",\"ae\",\"af\",\"bd\",\"be\",\"bf\",\"cd\",\"ce\",\"cf\"]"
      ],
      "metadata": {
        "colab": {
          "base_uri": "https://localhost:8080/"
        },
        "id": "rMcGsWozDtKG",
        "outputId": "770d33d5-8196-45e5-c8be-a817d4d454d4"
      },
      "execution_count": null,
      "outputs": [
        {
          "output_type": "stream",
          "name": "stdout",
          "text": [
            "abc\n",
            "def\n",
            "def\n",
            "def\n",
            "['ad', 'ae', 'af', 'bd', 'be', 'bf', 'cd', 'ce', 'cf']\n"
          ]
        }
      ]
    },
    {
      "cell_type": "code",
      "source": [
        "class Solution:\n",
        "    def searchInsert(self, nums: List[int], target: int) -> int:\n",
        "\n",
        "      if nums[-1]<target:\n",
        "          return len(nums)\n",
        "      if target in nums:\n",
        "          return nums.index(target)\n",
        "      else:\n",
        "        for i in range(len(nums)):\n",
        "          slic = nums[i:i+2]\n",
        "\n",
        "          if slic[0]<target and target<slic[1]:\n",
        "            return i+1\n",
        "\n",
        "solution = Solution()\n",
        "solution.searchInsert([1,3,5,6], 2)"
      ],
      "metadata": {
        "colab": {
          "base_uri": "https://localhost:8080/"
        },
        "id": "YmXkOIvDRnQ-",
        "outputId": "01a77732-503e-43d1-a57a-3082f797f8bf"
      },
      "execution_count": null,
      "outputs": [
        {
          "output_type": "execute_result",
          "data": {
            "text/plain": [
              "1"
            ]
          },
          "metadata": {},
          "execution_count": 6
        }
      ]
    },
    {
      "cell_type": "code",
      "source": [
        "class Solution:\n",
        "    def permute(self, nums: List[int]) -> List[List[int]]:\n",
        "      er = []\n",
        "      for i in range(len(nums)):\n",
        "        print(nums[i],'ddd')\n",
        "        for k in range(len(nums)):\n",
        "          print(k)\n",
        "          er.append(nums[k:k+1])\n",
        "      print(er)\n",
        "solution = Solution()\n",
        "solution.permute([1,2,3])"
      ],
      "metadata": {
        "colab": {
          "base_uri": "https://localhost:8080/"
        },
        "id": "X5r_v2AXWE7K",
        "outputId": "bce82dbd-47f4-4c64-b951-a509f544232f"
      },
      "execution_count": null,
      "outputs": [
        {
          "output_type": "stream",
          "name": "stdout",
          "text": [
            "1 ddd\n",
            "0\n",
            "1\n",
            "2\n",
            "2 ddd\n",
            "0\n",
            "1\n",
            "2\n",
            "3 ddd\n",
            "0\n",
            "1\n",
            "2\n",
            "[[1], [2], [3], [1], [2], [3], [1], [2], [3]]\n"
          ]
        }
      ]
    },
    {
      "cell_type": "code",
      "source": [
        "from typing import List\n",
        "\n",
        "def permute(nums: List[int]) -> List[List[int]]:\n",
        "    def backtrack(path):\n",
        "\n",
        "        if len(path) == len(nums):\n",
        "            result.append(path.copy())\n",
        "            return\n",
        "        for num in nums:\n",
        "            if num not in path:\n",
        "                path.append(num)\n",
        "                backtrack(path)\n",
        "                path.pop()\n",
        "\n",
        "    result = []\n",
        "    backtrack([])\n",
        "    return result\n",
        "\n",
        "# Пример использования:\n",
        "nums = [1, 2, 3]\n",
        "print(permute(nums))  # Output: [[1, 2, 3], [1, 3, 2], [2, 1, 3], [2, 3, 1], [3, 1, 2], [3, 2, 1]]"
      ],
      "metadata": {
        "id": "1YgtMhEzfhTH",
        "colab": {
          "base_uri": "https://localhost:8080/"
        },
        "outputId": "600297ca-a443-4122-9fa1-95441661f342"
      },
      "execution_count": null,
      "outputs": [
        {
          "output_type": "stream",
          "name": "stdout",
          "text": [
            "[[1, 2, 3], [1, 3, 2], [2, 1, 3], [2, 3, 1], [3, 1, 2], [3, 2, 1]]\n"
          ]
        }
      ]
    },
    {
      "cell_type": "code",
      "source": [
        "from typing import List\n",
        "\n",
        "def permute(nums: List[int]) -> List[List[int]]:\n",
        "    if not nums:\n",
        "        return []\n",
        "\n",
        "    result = [[]]\n",
        "\n",
        "    for num in nums:\n",
        "        new_result = []\n",
        "        for perm in result:\n",
        "            for i in range(len(perm) + 1):\n",
        "                print(perm[:i] + [num] + perm[i:])\n",
        "                new_result.append(perm[:i] + [num] + perm[i:])\n",
        "        result = new_result\n",
        "\n",
        "    return result\n",
        "\n",
        "# Пример использования:\n",
        "nums = [1, 2, 3]\n",
        "print(permute(nums))  # Output: [[1, 2, 3], [1, 3, 2], [2, 1, 3], [2, 3, 1], [3, 1, 2], [3, 2, 1]]"
      ],
      "metadata": {
        "colab": {
          "base_uri": "https://localhost:8080/"
        },
        "id": "kdF_dYbgDYtV",
        "outputId": "8e024a87-97e4-4ce2-c3d9-73c3472d11e1"
      },
      "execution_count": null,
      "outputs": [
        {
          "output_type": "stream",
          "name": "stdout",
          "text": [
            "[1]\n",
            "[2, 1]\n",
            "[1, 2]\n",
            "[3, 2, 1]\n",
            "[2, 3, 1]\n",
            "[2, 1, 3]\n",
            "[3, 1, 2]\n",
            "[1, 3, 2]\n",
            "[1, 2, 3]\n",
            "[[3, 2, 1], [2, 3, 1], [2, 1, 3], [3, 1, 2], [1, 3, 2], [1, 2, 3]]\n"
          ]
        }
      ]
    },
    {
      "cell_type": "code",
      "source": [
        "class Solution:\n",
        "    def merge(self, nums1: List[int], m: int, nums2: List[int], n: int) -> None:\n",
        "        \"\"\"\n",
        "        Do not return anything, modify nums1 in-place instead.\n",
        "        \"\"\"\n",
        "        nums1.extend(nums2)\n",
        "\n",
        "        res_sort =  sorted([i for i in nums1 if i !=0])\n",
        "        nums1 = []\n",
        "        nums1 = res_sort\n",
        "\n",
        "\n",
        "solution = Solution()\n",
        "solution.merge([1,2,3,0,0,0], 3, [2,5,6],3 )"
      ],
      "metadata": {
        "id": "N-e0dkboDbXA"
      },
      "execution_count": null,
      "outputs": []
    },
    {
      "cell_type": "code",
      "source": [
        "class Solution:\n",
        "    def strStr(self, haystack: str, needle: str) -> int:\n",
        "      indices = [index for index, char in enumerate(haystack) if char == needle[0]]\n",
        "      print(indices)\n",
        "\n",
        "      for i in range(len(haystack)):\n",
        "        if needle in haystack[i:i+len(needle)]:\n",
        "          # if needle[0]== haystack[i:i+len(needle)][0]:\n",
        "          # print(haystack[i:i+len(needle)])\n",
        "          print('d')\n",
        "\n",
        "\n",
        "solution = Solution()\n",
        "solution.strStr(haystack = \"sadbutsad\", needle = \"sad\")\n"
      ],
      "metadata": {
        "colab": {
          "base_uri": "https://localhost:8080/"
        },
        "id": "cPdk0LEeKLty",
        "outputId": "c0e3fafb-13be-407c-a2ad-a3994b7f6cfa"
      },
      "execution_count": null,
      "outputs": [
        {
          "output_type": "stream",
          "name": "stdout",
          "text": [
            "[0, 6]\n",
            "d\n",
            "d\n"
          ]
        }
      ]
    },
    {
      "cell_type": "code",
      "source": [
        "class Solution:\n",
        "    def strStr(self, haystack: str, needle: str) -> int:\n",
        "      if needle in haystack:\n",
        "\n",
        "        indices = [index for index, char in enumerate(haystack) if char == needle[0]]\n",
        "        return indices[0]\n",
        "      else:\n",
        "         return -1\n",
        "\n",
        "\n",
        "\n",
        "\n",
        "solution = Solution()\n",
        "solution.strStr(haystack = \"sadbutsad\", needle = \"sad\")\n"
      ],
      "metadata": {
        "id": "ZAQHZRN6OmWb",
        "colab": {
          "base_uri": "https://localhost:8080/"
        },
        "outputId": "fd2776bf-f7de-4597-c007-9a351785637e"
      },
      "execution_count": null,
      "outputs": [
        {
          "output_type": "execute_result",
          "data": {
            "text/plain": [
              "0"
            ]
          },
          "metadata": {},
          "execution_count": 12
        }
      ]
    },
    {
      "cell_type": "code",
      "source": [
        "class Solution:\n",
        "    def strStr(self, haystack: str, needle: str) -> int:\n",
        "\n",
        "        if len(haystack) < len(needle):\n",
        "            return -1\n",
        "\n",
        "        for i in range(len(haystack)):\n",
        "            if haystack[i:i+len(needle)] == needle:\n",
        "                return i\n",
        "\n",
        "        # return -1\n",
        "solution = Solution()\n",
        "solution.strStr(haystack = \"sadbutsad\", needle = \"sad\")"
      ],
      "metadata": {
        "colab": {
          "base_uri": "https://localhost:8080/"
        },
        "id": "Z-oASXvjPTj1",
        "outputId": "6df4691c-a478-4c98-8148-177d4c2452b9"
      },
      "execution_count": null,
      "outputs": [
        {
          "output_type": "execute_result",
          "data": {
            "text/plain": [
              "0"
            ]
          },
          "metadata": {},
          "execution_count": 13
        }
      ]
    },
    {
      "cell_type": "code",
      "source": [
        "class Solution:\n",
        "    def isPalindrome(self, s: str) -> bool:\n",
        "      return True if ('').join([i.lower() for i in s if i.isalpha()]) == ('').join([i.lower() for i in s if i.isalpha()][::-1]) else False\n",
        "\n",
        "\n",
        "\n",
        "solution = Solution()\n",
        "solution.isPalindrome(\"race a car\")"
      ],
      "metadata": {
        "colab": {
          "base_uri": "https://localhost:8080/"
        },
        "id": "rFgg6SZ0V8n5",
        "outputId": "54dc23f4-571e-44d4-d9fd-903b71feecd6"
      },
      "execution_count": null,
      "outputs": [
        {
          "output_type": "execute_result",
          "data": {
            "text/plain": [
              "False"
            ]
          },
          "metadata": {},
          "execution_count": 14
        }
      ]
    },
    {
      "cell_type": "code",
      "source": [
        "class Solution:\n",
        "    def isPalindrome(self, s: str) -> bool:\n",
        "       refact = ('').join([i.lower() for i in s if i.isalpha()])\n",
        "       print(len(refact))\n",
        "       lengh = len(refact)//2\n",
        "       print(lengh)\n",
        "       for i in range(lengh):\n",
        "          if refact[i] != refact[-i-1]:\n",
        "            return False\n",
        "       return True\n",
        "\n",
        "\n",
        "solution = Solution()\n",
        "solution.isPalindrome(\"A man, a plan, a canal: Panama\")"
      ],
      "metadata": {
        "colab": {
          "base_uri": "https://localhost:8080/"
        },
        "id": "aWBb778-XlkI",
        "outputId": "42b3c796-6163-4b21-8a96-6b72d637a7ec"
      },
      "execution_count": null,
      "outputs": [
        {
          "output_type": "stream",
          "name": "stdout",
          "text": [
            "21\n",
            "10\n"
          ]
        },
        {
          "output_type": "execute_result",
          "data": {
            "text/plain": [
              "True"
            ]
          },
          "metadata": {},
          "execution_count": 15
        }
      ]
    },
    {
      "cell_type": "code",
      "source": [
        "class Solution:\n",
        "    def isSubsequence(self, s: str, t: str) -> bool:\n",
        "      count = 0\n",
        "      for i in s:\n",
        "\n",
        "        if i in t:\n",
        "          count+=1\n",
        "\n",
        "      return True if len(s)== count else False\n",
        "\n",
        "solution = Solution()\n",
        "solution.isSubsequence(\"abc\",\"ahbgdc\")"
      ],
      "metadata": {
        "colab": {
          "base_uri": "https://localhost:8080/"
        },
        "id": "h9pd7E_RY3yP",
        "outputId": "9bb1f874-fced-4aad-cb57-135d1519e9ca"
      },
      "execution_count": null,
      "outputs": [
        {
          "output_type": "execute_result",
          "data": {
            "text/plain": [
              "True"
            ]
          },
          "metadata": {},
          "execution_count": 16
        }
      ]
    },
    {
      "cell_type": "code",
      "source": [
        "class Solution:\n",
        "    def isSubsequence(self, s: str, t: str) -> bool:\n",
        "            if not s:\n",
        "                return True\n",
        "            j=0\n",
        "            for i in range(len(t)):\n",
        "                if j<len(s) and t[i]==s[j]:\n",
        "                    j+=1\n",
        "                if j == len(s):\n",
        "                    return True\n",
        "\n",
        "            return False\n",
        "solution = Solution()\n",
        "solution.isSubsequence(\"abc\",\"ahbgdc\")"
      ],
      "metadata": {
        "colab": {
          "base_uri": "https://localhost:8080/"
        },
        "id": "uONXgaK2rZ2F",
        "outputId": "374b067a-65d3-4718-aad7-5aacee78ffe8"
      },
      "execution_count": null,
      "outputs": [
        {
          "output_type": "execute_result",
          "data": {
            "text/plain": [
              "True"
            ]
          },
          "metadata": {},
          "execution_count": 17
        }
      ]
    },
    {
      "cell_type": "code",
      "source": [
        "from typing import List\n",
        "\n",
        "class Solution:\n",
        "    def twoSum(self, numbers: List[int], target: int) -> List[int]:\n",
        "\n",
        "      for i in range(len(numbers)):\n",
        "        for k in range(i+1,len(numbers)):\n",
        "          s = sum([numbers[i],numbers[k]])\n",
        "          print(s)\n",
        "          if s ==target:\n",
        "              return [i+1,k+1]\n",
        "\n",
        "solution = Solution()\n",
        "solution.twoSum([1,2,3,4,4,9,56,90], 8 )"
      ],
      "metadata": {
        "colab": {
          "base_uri": "https://localhost:8080/"
        },
        "id": "n4B9dJ_Ktn9w",
        "outputId": "a07f9e04-1e37-429c-9728-b2bc8a501b51"
      },
      "execution_count": null,
      "outputs": [
        {
          "output_type": "stream",
          "name": "stdout",
          "text": [
            "3\n",
            "4\n",
            "5\n",
            "5\n",
            "10\n",
            "57\n",
            "91\n",
            "5\n",
            "6\n",
            "6\n",
            "11\n",
            "58\n",
            "92\n",
            "7\n",
            "7\n",
            "12\n",
            "59\n",
            "93\n",
            "8\n"
          ]
        },
        {
          "output_type": "execute_result",
          "data": {
            "text/plain": [
              "[4, 5]"
            ]
          },
          "metadata": {},
          "execution_count": 18
        }
      ]
    },
    {
      "cell_type": "code",
      "source": [
        "class Solution:\n",
        "    def twoSum(self, numbers: List[int], target: int) -> List[int]:\n",
        "        left = 0\n",
        "        right = len(numbers) - 1\n",
        "\n",
        "        while left < right:\n",
        "            print('v')\n",
        "            total = numbers[left] + numbers[right]\n",
        "\n",
        "            if total == target:\n",
        "                return [left + 1, right + 1]\n",
        "            elif total > target:\n",
        "                right -= 1\n",
        "            else:\n",
        "                left += 1\n",
        "solution = Solution()\n",
        "solution.twoSum([1,2,3,4,4,9,56,90], 8 )"
      ],
      "metadata": {
        "id": "34mP2lCHuHcc",
        "colab": {
          "base_uri": "https://localhost:8080/"
        },
        "outputId": "83969e80-74d2-41e6-b1a8-78401ac55de3"
      },
      "execution_count": null,
      "outputs": [
        {
          "output_type": "stream",
          "name": "stdout",
          "text": [
            "v\n",
            "v\n",
            "v\n",
            "v\n",
            "v\n",
            "v\n",
            "v\n"
          ]
        },
        {
          "output_type": "execute_result",
          "data": {
            "text/plain": [
              "[4, 5]"
            ]
          },
          "metadata": {},
          "execution_count": 19
        }
      ]
    },
    {
      "cell_type": "code",
      "source": [
        "class Solution:\n",
        "    def maxArea(self, height: List[int]) -> int:\n",
        "      max_total = 0\n",
        "      for i in range(1,len(height)+1):\n",
        "          for k in range(i+1, len(height)+1):\n",
        "              if height[i]<height[k-1]:\n",
        "                total = i*height[k-1]\n",
        "\n",
        "                if total > max_total:\n",
        "                  max_total=total\n",
        "      return max_total\n",
        "\n",
        "solution = Solution()\n",
        "solution.maxArea([1,8,6,2,5,4,8,3,7] )"
      ],
      "metadata": {
        "colab": {
          "base_uri": "https://localhost:8080/"
        },
        "id": "R_7NTVCQ86d0",
        "outputId": "49769f71-a44c-4d56-d4a1-554e25812899"
      },
      "execution_count": null,
      "outputs": [
        {
          "output_type": "execute_result",
          "data": {
            "text/plain": [
              "49"
            ]
          },
          "metadata": {},
          "execution_count": 20
        }
      ]
    },
    {
      "cell_type": "code",
      "source": [
        "class Solution:\n",
        "    def maxArea(self, height: List[int]) -> int:\n",
        "      max_total = 0\n",
        "      for i in range(1,len(height)+1):\n",
        "          for k in range(i+1, len(height)+1):\n",
        "              if height[i]<height[k-1]:\n",
        "                total = i*height[k-1]\n",
        "                if total > max_total:\n",
        "                  max_total=total\n",
        "\n",
        "\n",
        "      return max_total\n",
        "solution = Solution()\n",
        "solution.maxArea([1,8,6,2,5,4,8,3,7])"
      ],
      "metadata": {
        "colab": {
          "base_uri": "https://localhost:8080/"
        },
        "id": "-RfaKYRqPN91",
        "outputId": "31198228-fc75-43ce-e681-2301f4f498f4"
      },
      "execution_count": null,
      "outputs": [
        {
          "output_type": "execute_result",
          "data": {
            "text/plain": [
              "49"
            ]
          },
          "metadata": {},
          "execution_count": 21
        }
      ]
    },
    {
      "cell_type": "code",
      "source": [
        "class Solution:\n",
        "    def maxArea(self, height: List[int]) -> int:\n",
        "        left = 0\n",
        "        right = len(height) - 1\n",
        "        maxArea = 0\n",
        "\n",
        "        while left < right:\n",
        "            currentArea = min(height[left], height[right]) * (right - left)\n",
        "            maxArea = max(maxArea, currentArea)\n",
        "\n",
        "            if height[left] < height[right]:\n",
        "                left += 1\n",
        "            else:\n",
        "                right -= 1\n",
        "\n",
        "        return maxArea\n",
        "solution = Solution()\n",
        "solution.maxArea([1,8,6,2,5,4,8,3,7])"
      ],
      "metadata": {
        "colab": {
          "base_uri": "https://localhost:8080/"
        },
        "id": "bLbDqPtlPPyb",
        "outputId": "4e4bb57a-c206-458e-bd2d-91cf54d3299b"
      },
      "execution_count": null,
      "outputs": [
        {
          "output_type": "execute_result",
          "data": {
            "text/plain": [
              "49"
            ]
          },
          "metadata": {},
          "execution_count": 22
        }
      ]
    },
    {
      "cell_type": "code",
      "source": [
        "from typing import List\n",
        "class Solution:\n",
        "    def maxArea(self, height: List[int]) -> int:\n",
        "        left = 0\n",
        "        right = len(height)-1\n",
        "\n",
        "        area = 0\n",
        "\n",
        "        while left < right:\n",
        "          total = min(height[left],height[right])* (right-left)\n",
        "          if area< total:\n",
        "            area = total\n",
        "          if height[left]<height[right]:\n",
        "            left +=1\n",
        "          else:\n",
        "            right -=1\n",
        "        print(area)\n",
        "solution = Solution()\n",
        "solution.maxArea([1,8,6,2,5,4,8,3,7])"
      ],
      "metadata": {
        "colab": {
          "base_uri": "https://localhost:8080/"
        },
        "id": "dE8J1eEQbHsc",
        "outputId": "869fd89a-0d48-41a6-8268-97fed538c74d"
      },
      "execution_count": null,
      "outputs": [
        {
          "output_type": "stream",
          "name": "stdout",
          "text": [
            "49\n"
          ]
        }
      ]
    },
    {
      "cell_type": "code",
      "source": [
        "class Solution:\n",
        "    def threeSum(self, nums: List[int]) -> List[List[int]]:\n",
        "      sort_val =[]\n",
        "      for i in range(len(nums)):\n",
        "        for k in range(i+1,len(nums)):\n",
        "          for q in range(k+1,len(nums)):\n",
        "            total = sum([nums[i],nums[k],nums[q]])\n",
        "            if total == 0:\n",
        "              if sorted([nums[i],nums[k],nums[q]]) not in sort_val:\n",
        "                sort_val.append(sorted([nums[i],nums[k],nums[q]]))\n",
        "      print(sort_val)\n",
        "\n",
        "\n",
        "solution = Solution()\n",
        "solution.threeSum([-1,0,1,2,-1,-4])\n"
      ],
      "metadata": {
        "colab": {
          "base_uri": "https://localhost:8080/"
        },
        "id": "6QSkVhjJbEMJ",
        "outputId": "e2e45d9c-6b1d-4ce2-f3d2-e6972762894f"
      },
      "execution_count": null,
      "outputs": [
        {
          "output_type": "stream",
          "name": "stdout",
          "text": [
            "[[-1, 0, 1], [-1, -1, 2]]\n"
          ]
        }
      ]
    },
    {
      "cell_type": "code",
      "source": [
        "class Solution:\n",
        "    def threeSum(self, nums: List[int]) -> List[List[int]]:\n",
        "        n,ans = len(nums),set()\n",
        "        nums.sort()\n",
        "        for i in range(n):\n",
        "            j,k = i+1,n-1\n",
        "            while j<=k:\n",
        "                s = nums[i] + nums[j] + nums[k]\n",
        "\n",
        "                if i != j and i != k and j != k and  s== 0:\n",
        "                    ans.add((nums[i],nums[j],nums[k]))\n",
        "                    j+=1\n",
        "                    k-=1\n",
        "                elif s>0:\n",
        "                    k-=1\n",
        "                else:\n",
        "                    j+=1\n",
        "        return ans\n",
        "\n",
        "solution = Solution()\n",
        "solution.threeSum([-1,0,1,2,-1,-4])\n"
      ],
      "metadata": {
        "id": "9maNWbuAI38e",
        "colab": {
          "base_uri": "https://localhost:8080/"
        },
        "outputId": "60a93f37-c592-465d-942e-ebe6622b5e5a"
      },
      "execution_count": null,
      "outputs": [
        {
          "output_type": "execute_result",
          "data": {
            "text/plain": [
              "{(-1, -1, 2), (-1, 0, 1)}"
            ]
          },
          "metadata": {},
          "execution_count": 25
        }
      ]
    },
    {
      "cell_type": "code",
      "source": [
        "class Solution:\n",
        "    def threeSum(self, target: int, nums: List[int]) -> int:\n",
        "      min_total = []\n",
        "      only = all([i==nums[0] for i in nums])\n",
        "\n",
        "      for i in range(len(nums)):\n",
        "        for j in range(i+1,len(nums)+2):\n",
        "          total =sum(nums[i:j])\n",
        "\n",
        "\n",
        "          if total == target and nums[i:j] not in min_total :\n",
        "            min_total.append(len(nums[i:j]))\n",
        "          if only:\n",
        "            return target\n",
        "\n",
        "\n",
        "      return (min_total)\n",
        "\n",
        "\n",
        "\n",
        "\n",
        "\n",
        "\n",
        "\n",
        "\n",
        "solution = Solution()\n",
        "solution.threeSum(11,[1,2,3,4,5])\n"
      ],
      "metadata": {
        "colab": {
          "base_uri": "https://localhost:8080/"
        },
        "id": "BvUw6GL1UdY_",
        "outputId": "f00f7cf9-c739-44e8-f79b-ecc8a3478fbf"
      },
      "execution_count": null,
      "outputs": [
        {
          "output_type": "execute_result",
          "data": {
            "text/plain": [
              "[]"
            ]
          },
          "metadata": {},
          "execution_count": 26
        }
      ]
    },
    {
      "cell_type": "code",
      "source": [
        "from re import L\n",
        "class Solution:\n",
        "    def lengthOfLongestSubstring(self, s: str) -> int:\n",
        "      lst_s = list(s)\n",
        "\n",
        "      qw = 0\n",
        "      only = all([i==lst_s[0] for i in lst_s])\n",
        "      for i in range(0,len(lst_s)):\n",
        "\n",
        "\n",
        "        for j in range(i+1,len(lst_s)+1):\n",
        "\n",
        "\n",
        "          if lst_s[i]!=lst_s[j-1] and len(lst_s[i:j]) == len(set(lst_s[i:j])):\n",
        "\n",
        "\n",
        "              if qw<len(lst_s[i:j]):\n",
        "\n",
        "                qw = len(lst_s[i:j])\n",
        "          if only:\n",
        "            return 1\n",
        "\n",
        "      return qw\n",
        "\n",
        "\n",
        "\n",
        "\n",
        "\n",
        "\n",
        "solution = Solution()\n",
        "solution.lengthOfLongestSubstring('pwwkew')\n"
      ],
      "metadata": {
        "id": "ZwKvtIRUW8ec",
        "colab": {
          "base_uri": "https://localhost:8080/"
        },
        "outputId": "d507f8e3-ca0c-467a-d536-61c066b75de3"
      },
      "execution_count": null,
      "outputs": [
        {
          "output_type": "execute_result",
          "data": {
            "text/plain": [
              "3"
            ]
          },
          "metadata": {},
          "execution_count": 27
        }
      ]
    },
    {
      "cell_type": "code",
      "source": [
        "from typing import List\n",
        "class Solution:\n",
        "    def spiralOrder(self, matrix: List[List[int]]) -> List[int]:\n",
        "      new_matrix = [[0 for _ in range(3)] for _ in range(3)]\n",
        "\n",
        "\n",
        "      row_index = 0\n",
        "      col_index = 0\n",
        "\n",
        "      # Цикл для строк\n",
        "      while row_index < len(matrix):\n",
        "          # Цикл для столбцов\n",
        "          while col_index < len(matrix[row_index]):\n",
        "              # Вывод элемента\n",
        "\n",
        "\n",
        "              print(matrix[row_index][col_index])\n",
        "              # Увеличение индекса столбца\n",
        "              # col_index += 1\n",
        "              if row_index ==0 and col_index ==3:\n",
        "                row_index+=1\n",
        "              else:\n",
        "                col_index+=1\n",
        "\n",
        "          # # Увеличение индекса строки и сброс индекса столбца\n",
        "          # row_index += 1\n",
        "          # col_index = 0\n",
        "\n",
        "\n",
        "\n",
        "solution = Solution()\n",
        "solution.spiralOrder([[1,2,3],[4,5,6],[7,8,9]])"
      ],
      "metadata": {
        "colab": {
          "base_uri": "https://localhost:8080/",
          "height": 349
        },
        "id": "NjrMPWjmbVUD",
        "outputId": "2445922e-353a-4537-fbc3-ebc615563b9c"
      },
      "execution_count": null,
      "outputs": [
        {
          "output_type": "stream",
          "name": "stdout",
          "text": [
            "1\n",
            "2\n",
            "3\n"
          ]
        },
        {
          "output_type": "error",
          "ename": "KeyboardInterrupt",
          "evalue": "",
          "traceback": [
            "\u001b[0;31m---------------------------------------------------------------------------\u001b[0m",
            "\u001b[0;31mKeyboardInterrupt\u001b[0m                         Traceback (most recent call last)",
            "\u001b[0;32m<ipython-input-28-492c9dd8ade3>\u001b[0m in \u001b[0;36m<cell line: 32>\u001b[0;34m()\u001b[0m\n\u001b[1;32m     30\u001b[0m \u001b[0;34m\u001b[0m\u001b[0m\n\u001b[1;32m     31\u001b[0m \u001b[0msolution\u001b[0m \u001b[0;34m=\u001b[0m \u001b[0mSolution\u001b[0m\u001b[0;34m(\u001b[0m\u001b[0;34m)\u001b[0m\u001b[0;34m\u001b[0m\u001b[0;34m\u001b[0m\u001b[0m\n\u001b[0;32m---> 32\u001b[0;31m \u001b[0msolution\u001b[0m\u001b[0;34m.\u001b[0m\u001b[0mspiralOrder\u001b[0m\u001b[0;34m(\u001b[0m\u001b[0;34m[\u001b[0m\u001b[0;34m[\u001b[0m\u001b[0;36m1\u001b[0m\u001b[0;34m,\u001b[0m\u001b[0;36m2\u001b[0m\u001b[0;34m,\u001b[0m\u001b[0;36m3\u001b[0m\u001b[0;34m]\u001b[0m\u001b[0;34m,\u001b[0m\u001b[0;34m[\u001b[0m\u001b[0;36m4\u001b[0m\u001b[0;34m,\u001b[0m\u001b[0;36m5\u001b[0m\u001b[0;34m,\u001b[0m\u001b[0;36m6\u001b[0m\u001b[0;34m]\u001b[0m\u001b[0;34m,\u001b[0m\u001b[0;34m[\u001b[0m\u001b[0;36m7\u001b[0m\u001b[0;34m,\u001b[0m\u001b[0;36m8\u001b[0m\u001b[0;34m,\u001b[0m\u001b[0;36m9\u001b[0m\u001b[0;34m]\u001b[0m\u001b[0;34m]\u001b[0m\u001b[0;34m)\u001b[0m\u001b[0;34m\u001b[0m\u001b[0;34m\u001b[0m\u001b[0m\n\u001b[0m",
            "\u001b[0;32m<ipython-input-28-492c9dd8ade3>\u001b[0m in \u001b[0;36mspiralOrder\u001b[0;34m(self, matrix)\u001b[0m\n\u001b[1;32m      9\u001b[0m \u001b[0;34m\u001b[0m\u001b[0m\n\u001b[1;32m     10\u001b[0m       \u001b[0;31m# Цикл для строк\u001b[0m\u001b[0;34m\u001b[0m\u001b[0;34m\u001b[0m\u001b[0m\n\u001b[0;32m---> 11\u001b[0;31m       \u001b[0;32mwhile\u001b[0m \u001b[0mrow_index\u001b[0m \u001b[0;34m<\u001b[0m \u001b[0mlen\u001b[0m\u001b[0;34m(\u001b[0m\u001b[0mmatrix\u001b[0m\u001b[0;34m)\u001b[0m\u001b[0;34m:\u001b[0m\u001b[0;34m\u001b[0m\u001b[0;34m\u001b[0m\u001b[0m\n\u001b[0m\u001b[1;32m     12\u001b[0m           \u001b[0;31m# Цикл для столбцов\u001b[0m\u001b[0;34m\u001b[0m\u001b[0;34m\u001b[0m\u001b[0m\n\u001b[1;32m     13\u001b[0m           \u001b[0;32mwhile\u001b[0m \u001b[0mcol_index\u001b[0m \u001b[0;34m<\u001b[0m \u001b[0mlen\u001b[0m\u001b[0;34m(\u001b[0m\u001b[0mmatrix\u001b[0m\u001b[0;34m[\u001b[0m\u001b[0mrow_index\u001b[0m\u001b[0;34m]\u001b[0m\u001b[0;34m)\u001b[0m\u001b[0;34m:\u001b[0m\u001b[0;34m\u001b[0m\u001b[0;34m\u001b[0m\u001b[0m\n",
            "\u001b[0;31mKeyboardInterrupt\u001b[0m: "
          ]
        }
      ]
    },
    {
      "cell_type": "code",
      "source": [
        "def spiralOrder(matrix):\n",
        "    if not matrix:\n",
        "        return []\n",
        "\n",
        "    result = []\n",
        "    top, bottom = 0, len(matrix) - 1\n",
        "    left, right = 0, len(matrix[0]) - 1\n",
        "    print(top,bottom,left,right)\n",
        "\n",
        "    while top <= bottom and left <= right:\n",
        "        # Идем справа налево по верхней строке\n",
        "        for i in range(left, right + 1):\n",
        "\n",
        "            result.append(matrix[top][i])\n",
        "        print('q1')\n",
        "        top += 1\n",
        "\n",
        "        # Идем сверху вниз по правому столбцу\n",
        "        for i in range(top, bottom + 1):\n",
        "\n",
        "            result.append(matrix[i][right])\n",
        "        print('q2')\n",
        "        right -= 1\n",
        "\n",
        "        if top <= bottom:\n",
        "            # Идем слева направо по нижней строке\n",
        "            for i in range(right, left - 1, -1):\n",
        "                result.append(matrix[bottom][i])\n",
        "            print('q3')\n",
        "            bottom -= 1\n",
        "\n",
        "        if left <= right:\n",
        "            # Идем снизу вверх по левому столбцу\n",
        "            for i in range(bottom, top - 1, -1):\n",
        "                result.append(matrix[i][left])\n",
        "            print('q4')\n",
        "            left += 1\n",
        "\n",
        "    return result\n",
        "matrix = [[1,2,3,4],\n",
        "          [5,6,7,8],\n",
        "         [9,10,11,12]]\n",
        "\n",
        "print(spiralOrder(matrix))"
      ],
      "metadata": {
        "id": "QNopk6Rqb8tO"
      },
      "execution_count": null,
      "outputs": []
    },
    {
      "cell_type": "code",
      "source": [
        "def spiralmatrix(lst):\n",
        "\n",
        "  top,bottom = 0, len(lst)-1\n",
        "  left, right = 0, len(lst[0])-1\n",
        "  result = []\n",
        "\n",
        "  while top <= bottom and left <= right:\n",
        "    for i in range(left, right+1):\n",
        "      result.append(lst[top][i])\n",
        "    top+=1\n",
        "\n",
        "    for i in range(top, bottom+1):\n",
        "      result.append(lst[i][right])\n",
        "    right-=1\n",
        "\n",
        "    if top<= bottom:\n",
        "      for i in range(right,left-1,-1):\n",
        "        result.append(lst[bottom][i])\n",
        "      bottom-=1\n",
        "\n",
        "    if left <= right:\n",
        "      for i in range(bottom,top-1,-1):\n",
        "        result.append(lst[i][left])\n",
        "      left+=1\n",
        "\n",
        "  print(result)\n",
        "\n",
        "\n",
        "matrix = [[1,2,3],\n",
        "          [4,5,6],\n",
        "          [7,8,9]]\n",
        "spiralmatrix(matrix)"
      ],
      "metadata": {
        "id": "nyEwM1eO6lO_"
      },
      "execution_count": null,
      "outputs": []
    },
    {
      "cell_type": "code",
      "source": [
        "def main_diag(lst):\n",
        "    k = 0\n",
        "    for i in range(3*3):\n",
        "      if i%3==0:\n",
        "        k+=1\n",
        "\n",
        "        print(lst[k-1][3-k])\n",
        "\n",
        "\n",
        "\n",
        "\n",
        "matrix = [[2,3,5],\n",
        "          [6,2,7],\n",
        "          [1,4,2]]\n",
        "main_diag(matrix)"
      ],
      "metadata": {
        "id": "2roZ_gRw9jfx"
      },
      "execution_count": null,
      "outputs": []
    },
    {
      "cell_type": "code",
      "source": [
        "def main_diag(lst):\n",
        "    k = 0\n",
        "    for i in range(len(lst)):\n",
        "      for k in range(len(lst[0])):\n",
        "          if i + k == len(lst) - 1:\n",
        "                print(lst[i][k])\n",
        "\n",
        "\n",
        "\n",
        "\n",
        "\n",
        "\n",
        "matrix = [[2,3,5],\n",
        "          [6,2,7],\n",
        "          [1,4,2]]\n",
        "main_diag(matrix)"
      ],
      "metadata": {
        "id": "Fr8_azLHIjF6"
      },
      "execution_count": null,
      "outputs": []
    },
    {
      "cell_type": "code",
      "source": [
        "def main_diag(lst):\n",
        "    k = 0\n",
        "    for i in range(len(lst)):\n",
        "      for k in range(len(lst[0])):\n",
        "          if i<2-k:\n",
        "                print(lst[i][k])\n",
        "\n",
        "\n",
        "\n",
        "\n",
        "\n",
        "\n",
        "matrix = [[2,3,5],\n",
        "          [6,2,7],\n",
        "          [1,4,2]]\n",
        "main_diag(matrix)"
      ],
      "metadata": {
        "id": "OVyOvq99OC1F"
      },
      "execution_count": null,
      "outputs": []
    },
    {
      "cell_type": "code",
      "source": [
        "from typing import List\n",
        "\n",
        "class Solution:\n",
        "    def setZeroes(self, matrix: List[List[int]]) -> None:\n",
        "      # new_mat = [[1 for k in range(len(matrix))] for i in range(len(matrix))]\n",
        "      # for  i in matrix:\n",
        "      #   print(i)\n",
        "\n",
        "      ii,kk = 0, 0\n",
        "      for i in range(len(matrix)):\n",
        "        for k in range(len(matrix[0])):\n",
        "          if matrix[i][k] == 0:\n",
        "            ii+=i\n",
        "            kk+=k\n",
        "      for i in range(len(matrix)):\n",
        "        for k in range(len(matrix[0])):\n",
        "          matrix[i][kk]=0\n",
        "          matrix[ii][k]=0\n",
        "\n",
        "\n",
        "      for i in matrix:\n",
        "        print(i)\n",
        "\n",
        "\n",
        "\n",
        "solution = Solution()\n",
        "solution.setZeroes([[0,1,2,0],[3,4,5,2],[1,3,1,5]])"
      ],
      "metadata": {
        "id": "lcHYM_AUXoXV"
      },
      "execution_count": null,
      "outputs": []
    },
    {
      "cell_type": "code",
      "source": [
        "from typing import List\n",
        "\n",
        "class Solution:\n",
        "    def setZeroes(self, matrix: List[List[int]]) -> None:\n",
        "      # new_mat = [[1 for k in range(len(matrix))] for i in range(len(matrix))]\n",
        "      # for  i in matrix:\n",
        "      #   print(i)\n",
        "\n",
        "      ii,kk = 0, 0\n",
        "      for i in range(len(matrix)):\n",
        "        for k in range(len(matrix[0])):\n",
        "          if matrix[i][k] == 0:\n",
        "            ii+=i\n",
        "            kk+=k\n",
        "      for i in range(len(matrix)):\n",
        "        for k in range(len(matrix[0])):\n",
        "          matrix[i][kk]=0\n",
        "          matrix[ii][k]=0\n",
        "\n",
        "\n",
        "      for i in matrix:\n",
        "        print(i)\n",
        "\n",
        "\n",
        "\n",
        "solution = Solution()\n",
        "solution.setZeroes([[1,1,1],[1,0,1],[1,1,1]])\n"
      ],
      "metadata": {
        "id": "-XiWkM56dNGA"
      },
      "execution_count": null,
      "outputs": []
    },
    {
      "cell_type": "code",
      "source": [
        "[1,0,1].index(0)"
      ],
      "metadata": {
        "id": "opkRNl-nlmb0"
      },
      "execution_count": null,
      "outputs": []
    },
    {
      "cell_type": "code",
      "source": [
        "v =[[1,1,1],[1,0,1],[1,1,1]]\n",
        "for i in range(len(v)):\n",
        "  if v[i].index(1)== 0:\n",
        "    print(i)"
      ],
      "metadata": {
        "id": "YjdCfl7ol9AP"
      },
      "execution_count": null,
      "outputs": []
    },
    {
      "cell_type": "code",
      "source": [
        "class Solution:\n",
        "    def setZeroes(self, matrix: List[List[int]]) -> None:\n",
        "        \"\"\"\n",
        "        Do not return anything, modify matrix in-place instead.\n",
        "        \"\"\"\n",
        "        k = []\n",
        "        for i in range (len(matrix)):\n",
        "            for j in range (len(matrix[0])):\n",
        "                if matrix[i][j] == 0:\n",
        "                    k.append((i,j))\n",
        "\n",
        "        for i,j in k:\n",
        "            print(i,j)\n",
        "            matrix[i] = [0]*len(matrix[i])\n",
        "            for i in range(len(matrix)):\n",
        "                matrix[i][j] = 0\n",
        "\n",
        "\n",
        "\n",
        "solution = Solution()\n",
        "solution.setZeroes([[1,1,1],[1,0,1],[1,1,1]])\n"
      ],
      "metadata": {
        "id": "9sNZb9ZemQtz"
      },
      "execution_count": null,
      "outputs": []
    },
    {
      "cell_type": "code",
      "source": [
        "class Solution:\n",
        "    def rotate(self, matrix: List[List[int]]) -> None:\n",
        "        \"\"\"\n",
        "        Do not return anything, modify matrix in-place instead.\n",
        "        \"\"\"\n",
        "        '''00=02\n",
        "        01=12\n",
        "        02=22'''\n",
        "        for i in range(len(matrix)-1,-1,-1):\n",
        "          for k in range(len(matrix[0])):\n",
        "            print(matrix[i][k])\n",
        "solution = Solution()\n",
        "solution.rotate([[1,2,3],[4,5,6],[7,8,9]])"
      ],
      "metadata": {
        "id": "xOvPy4VaozGe"
      },
      "execution_count": null,
      "outputs": []
    },
    {
      "cell_type": "code",
      "source": [
        "class Solution:\n",
        "    def rotate(self, matrix: List[List[int]]) -> None:\n",
        "        \"\"\"\n",
        "        Do not return anything, modify matrix in-place instead.\n",
        "        \"\"\"\n",
        "        '''00=02\n",
        "        01=12\n",
        "        02=22'''\n",
        "        for i in range(len(matrix)-1,-1,-1):\n",
        "          for k in range(len(matrix[0])):\n",
        "            print(matrix[i-1])\n",
        "solution = Solution()\n",
        "solution.rotate([[1,2,3],[4,5,6],[7,8,9]])"
      ],
      "metadata": {
        "id": "yDCo4KCOtKey"
      },
      "execution_count": null,
      "outputs": []
    },
    {
      "cell_type": "code",
      "source": [
        "//# Оцениваем производительность модели\n",
        "from sklearn.metrics import accuracy_score, precision_score, recall_score, f1_score, roc_auc_score, confusion_matrix,matthews_corrcoef\n",
        "\n",
        "y_test = [1,1,1,1,0,0,0]\n",
        "y_pred=  [1,1,1,0,0,0,0]\n",
        "\n",
        "\n",
        "\n",
        "# Оцениваем производительность модели\n",
        "accuracy = accuracy_score(y_test, y_pred)\n",
        "precision = precision_score(y_test, y_pred)\n",
        "recall = recall_score(y_test, y_pred)\n",
        "f1 = f1_score(y_test, y_pred)\n",
        "roc_auc = roc_auc_score(y_test, y_pred)\n",
        "conf_matrix = confusion_matrix(y_test, y_pred)\n",
        "\n",
        "# Выводим результаты\n",
        "print(f'Accuracy: {accuracy:.4f}')\n",
        "print(f'Precision: {precision:.4f}')\n",
        "print(f'Recall: {recall:.4f}')\n",
        "print(f'F1 Score: {f1:.4f}')\n",
        "print(f'ROC AUC: {roc_auc:.4f}')\n",
        "print('Confusion Matrix:')\n",
        "print(conf_matrix)\n",
        "\n",
        "mcc = matthews_corrcoef(y_test, y_pred)\n",
        "print(f\"MCC: {mcc}\")"
      ],
      "metadata": {
        "id": "mPoHxIYrucWu"
      },
      "execution_count": null,
      "outputs": []
    },
    {
      "cell_type": "code",
      "source": [
        "from sklearn.tree import DecisionTreeClassifier\n",
        "from sklearn.model_selection import train_test_split\n",
        "\n",
        "# Пример данных (признаки и метки)\n",
        "X = [[38.0, 100], [37.2, 85], [37.8, 110], [36.5, 80], [37.6, 105]]\n",
        "y = [1, 0, 1, 0, 1]\n",
        "\n",
        "# Разделение на обучающую и тестовую выборки\n",
        "X_train, X_test, y_train, y_test = train_test_split(X, y, test_size=0.2, random_state=42)\n",
        "\n",
        "# Обучение дерева решений\n",
        "model = DecisionTreeClassifier(random_state=42)\n",
        "model.fit(X_train, y_train)\n",
        "\n",
        "# Предсказание классов\n",
        "y_pred = model.predict(X_test)\n",
        "print(\"Предсказанные классы:\", y_pred)\n",
        "\n",
        "# Предсказание вероятностей\n",
        "y_pred_proba = model.predict_proba(X_test)\n",
        "print(\"Предсказанные вероятности:\", y_pred_proba)\n"
      ],
      "metadata": {
        "id": "zNhKJQD0ZZNl"
      },
      "execution_count": null,
      "outputs": []
    },
    {
      "cell_type": "code",
      "source": [
        "class Solution(object):\n",
        "    def addTwoNumbers(self, l1, l2):\n",
        "        \"\"\"\n",
        "        :type l1: Optional[ListNode]\n",
        "        :type l2: Optional[ListNode]\n",
        "        :rtype: Optional[ListNode]\n",
        "        \"\"\"\n",
        "        max_l,min_l=0,0\n",
        "        if len(l1)>len(l2):\n",
        "          max_l=l1\n",
        "          min_l = l2\n",
        "        else:\n",
        "          max_l=l2\n",
        "          min_l = l1\n",
        "\n",
        "        count_l =len(max_l)-len(min_l)\n",
        "        nul_l = [0]*count_l+min_l\n",
        "        print(max_l)\n",
        "        print(nul_l)\n",
        "\n",
        "\n",
        "        res = []\n",
        "        hop = 0\n",
        "        for i in range(len(max_l)-1,-1,-1):\n",
        "\n",
        "          if max_l[i]+nul_l[i]+hop<10 and hop==0:\n",
        "            res.append(max_l[i]+nul_l[i]+hop)\n",
        "            hop=0\n",
        "          else:\n",
        "             res.append(int(str(max_l[i]+nul_l[i])[-1])+hop)\n",
        "            #  res.index(i+1)=\n",
        "             hop+=int(str(max_l[i]+nul_l[i])[0])\n",
        "\n",
        "        print(res[::-1])\n",
        "\n",
        "\n",
        "\n",
        "\n",
        "\n",
        "\n",
        "\n",
        "\n",
        "\n",
        "res= Solution()\n",
        "res.addTwoNumbers([2,4,3,3,3],[5,6,8])"
      ],
      "metadata": {
        "id": "GUcpgf9Mtv9B"
      },
      "execution_count": null,
      "outputs": []
    },
    {
      "cell_type": "code",
      "source": [
        "(8+7)//5\n"
      ],
      "metadata": {
        "id": "uL9oxRM82EOS"
      },
      "execution_count": null,
      "outputs": []
    },
    {
      "cell_type": "code",
      "source": [
        "int(str(12)[-1])"
      ],
      "metadata": {
        "id": "Lm6BSpK38xmj"
      },
      "execution_count": null,
      "outputs": []
    },
    {
      "cell_type": "code",
      "source": [
        "class Solution(object):\n",
        "    def isPalindrome(self, x):\n",
        "        \"\"\"\n",
        "        :type x: int\n",
        "        :rtype: bool\n",
        "        \"\"\"\n",
        "        str_x= str(x)\n",
        "        reseved_x = str_x[::-1]\n",
        "        if str_x == reseved_x:\n",
        "          return True\n",
        "        return False\n",
        "\n",
        "res= Solution()\n",
        "res.isPalindrome(121)\n"
      ],
      "metadata": {
        "colab": {
          "base_uri": "https://localhost:8080/"
        },
        "id": "0hKX1Wxw9hVc",
        "outputId": "141567a0-5a49-4d53-b007-0b5ada1c1b7d"
      },
      "execution_count": null,
      "outputs": [
        {
          "output_type": "execute_result",
          "data": {
            "text/plain": [
              "True"
            ]
          },
          "metadata": {},
          "execution_count": 37
        }
      ]
    },
    {
      "cell_type": "code",
      "source": [
        "s = \"hello\"\n",
        "print(s.replace(\"h\", \"H\"))  # Новая строка: \"Hello\"\n",
        "# s = s.upper()  # Новая строка: \"HELLO\"\n"
      ],
      "metadata": {
        "colab": {
          "base_uri": "https://localhost:8080/"
        },
        "id": "IegxuZKnuNTJ",
        "outputId": "45277cfe-fba1-4d22-9b70-f79c19c0e268"
      },
      "execution_count": null,
      "outputs": [
        {
          "output_type": "stream",
          "name": "stdout",
          "text": [
            "Hello\n"
          ]
        }
      ]
    },
    {
      "cell_type": "code",
      "source": [
        "s = \"Hello\"\n",
        "reversed_s = ''.join(reversed(s))\n",
        "print(reversed_s)  # \"olleH\"\n"
      ],
      "metadata": {
        "colab": {
          "base_uri": "https://localhost:8080/"
        },
        "id": "4hjcl5mUvkU9",
        "outputId": "ad3df12e-18cf-4167-a49c-b2b8182a5da7"
      },
      "execution_count": null,
      "outputs": [
        {
          "output_type": "stream",
          "name": "stdout",
          "text": [
            "olleH\n"
          ]
        }
      ]
    },
    {
      "cell_type": "code",
      "source": [
        "reversed(s)"
      ],
      "metadata": {
        "colab": {
          "base_uri": "https://localhost:8080/"
        },
        "id": "1msYjA0NxaYQ",
        "outputId": "69eebf51-ceea-4685-c9aa-9eae32790d2f"
      },
      "execution_count": null,
      "outputs": [
        {
          "output_type": "execute_result",
          "data": {
            "text/plain": [
              "<reversed at 0x794818410d30>"
            ]
          },
          "metadata": {},
          "execution_count": 48
        }
      ]
    },
    {
      "cell_type": "code",
      "source": [
        "st = {1, 2, 3, 4}\n",
        "for item in st:\n",
        "    print(item)\n"
      ],
      "metadata": {
        "colab": {
          "base_uri": "https://localhost:8080/"
        },
        "id": "KYMMEexZxckf",
        "outputId": "4b928a20-7c73-4163-a449-acb80d7ac382"
      },
      "execution_count": null,
      "outputs": [
        {
          "output_type": "stream",
          "name": "stdout",
          "text": [
            "1\n",
            "2\n",
            "3\n",
            "4\n"
          ]
        }
      ]
    },
    {
      "cell_type": "code",
      "source": [
        "res = ''\n",
        "for i in '1234'[::-1]:\n",
        "  res+=i\n",
        "print(res)\n"
      ],
      "metadata": {
        "colab": {
          "base_uri": "https://localhost:8080/"
        },
        "id": "sVHfd3CMx5my",
        "outputId": "7a4ab38b-87e8-4a40-ae78-fbcb2ce4a5f5"
      },
      "execution_count": null,
      "outputs": [
        {
          "output_type": "stream",
          "name": "stdout",
          "text": [
            "4321\n"
          ]
        }
      ]
    },
    {
      "cell_type": "code",
      "source": [
        "import sys\n",
        "\n",
        "res = ''\n",
        "print(sys.getsizeof(res),'1')  # Память для пустой строки\n",
        "\n",
        "for i in '1234'[::-1]:\n",
        "    res += i\n",
        "    print(sys.getsizeof(res),'2')  # Память для каждой промежуточной строки\n",
        "\n",
        "print(res,'3')  # Итоговый результат\n",
        "\n"
      ],
      "metadata": {
        "colab": {
          "base_uri": "https://localhost:8080/"
        },
        "id": "at5rFZokzMti",
        "outputId": "31aa3f97-0faa-4411-a929-aad8f208586f"
      },
      "execution_count": null,
      "outputs": [
        {
          "output_type": "stream",
          "name": "stdout",
          "text": [
            "49 1\n",
            "50 2\n",
            "51 2\n",
            "52 2\n",
            "53 2\n",
            "4321 3\n"
          ]
        }
      ]
    },
    {
      "cell_type": "code",
      "source": [],
      "metadata": {
        "id": "-MirpR4LAgQj"
      },
      "execution_count": null,
      "outputs": []
    },
    {
      "cell_type": "code",
      "source": [
        "class Solution(object):\n",
        "    def romanToInt(self,s: str) -> int:\n",
        "    # Словарь для соответствий римских чисел и их значений\n",
        "        roman_to_int = {\n",
        "            'I': 1, 'V': 5, 'X': 10, 'L': 50, 'C': 100, 'D': 500, 'M': 1000\n",
        "        }\n",
        "\n",
        "        result = 0  # Переменная для хранения итогового числа\n",
        "\n",
        "        for i in range(len(s)):\n",
        "            # Если текущее число меньше следующего, вычитаем его (например, IV, IX)\n",
        "            if i + 1 < len(s) and roman_to_int[s[i]] < roman_to_int[s[i + 1]]:\n",
        "                result -= roman_to_int[s[i]]\n",
        "            else:\n",
        "                result += roman_to_int[s[i]]\n",
        "\n",
        "        return result\n",
        "\n",
        "\n",
        "res= Solution()\n",
        "res.romanToInt('MCMXCIV')"
      ],
      "metadata": {
        "colab": {
          "base_uri": "https://localhost:8080/"
        },
        "id": "M8TWrovq3EpJ",
        "outputId": "bd26da46-9907-4935-f4ed-f0cec37fd601"
      },
      "execution_count": null,
      "outputs": [
        {
          "output_type": "execute_result",
          "data": {
            "text/plain": [
              "1994"
            ]
          },
          "metadata": {},
          "execution_count": 1
        }
      ]
    },
    {
      "cell_type": "code",
      "source": [
        "class Solution(object):\n",
        "    def longestPalindrome(self, s):\n",
        "        \"\"\"\n",
        "        :type s: str\n",
        "        :rtype: str\n",
        "        \"\"\"\n",
        "        # if len(s)==1:\n",
        "        #   return s\n",
        "        for i in range(len(s)):\n",
        "          for j in range(i+1,len(s)+1):\n",
        "\n",
        "            if s[i:j] ==s[i:j][::-1] and len(s[i:j])>1:\n",
        "              return s[i:j]\n",
        "        return s\n",
        "\n",
        "\n",
        "\n",
        "res= Solution()\n",
        "res.longestPalindrome('basss')"
      ],
      "metadata": {
        "colab": {
          "base_uri": "https://localhost:8080/",
          "height": 35
        },
        "id": "AF2sY5Kb6zS6",
        "outputId": "cf81120a-6930-4f36-be56-2090a738ad2e"
      },
      "execution_count": null,
      "outputs": [
        {
          "output_type": "execute_result",
          "data": {
            "text/plain": [
              "'asssa'"
            ],
            "application/vnd.google.colaboratory.intrinsic+json": {
              "type": "string"
            }
          },
          "metadata": {},
          "execution_count": 34
        }
      ]
    },
    {
      "cell_type": "code",
      "source": [
        "class Solution(object):\n",
        "    def reverse(self, x):\n",
        "        \"\"\"\n",
        "        :type x: int\n",
        "        :rtype: int\n",
        "        \"\"\"\n",
        "        if len(str(x))>8:\n",
        "          return 0\n",
        "        str_rev = str(x)\n",
        "        if not str_rev[0].isdigit():\n",
        "          return int(str_rev[0]+str_rev[::-1][:-1])\n",
        "\n",
        "        return int(str_rev[::-1])\n",
        "\n",
        "\n",
        "\n",
        "res= Solution()\n",
        "res.reverse(1534236469)"
      ],
      "metadata": {
        "colab": {
          "base_uri": "https://localhost:8080/"
        },
        "id": "ukj4ZxEJHWjK",
        "outputId": "5f297b7a-a8eb-40b2-d440-8a5e8cf05760"
      },
      "execution_count": null,
      "outputs": [
        {
          "output_type": "execute_result",
          "data": {
            "text/plain": [
              "0"
            ]
          },
          "metadata": {},
          "execution_count": 87
        }
      ]
    },
    {
      "cell_type": "code",
      "source": [
        "'-'.isalpha()"
      ],
      "metadata": {
        "colab": {
          "base_uri": "https://localhost:8080/"
        },
        "id": "lm7q5sVXQsye",
        "outputId": "b6572580-71e7-4425-c92d-9ff5eb325b61"
      },
      "execution_count": null,
      "outputs": [
        {
          "output_type": "execute_result",
          "data": {
            "text/plain": [
              "False"
            ]
          },
          "metadata": {},
          "execution_count": 72
        }
      ]
    },
    {
      "cell_type": "code",
      "source": [
        "x = 1234\n",
        "res = 0\n",
        "while x>0:\n",
        "  res = (res*10)+(x%10)\n",
        "  x//=10\n",
        "print(res)\n"
      ],
      "metadata": {
        "colab": {
          "base_uri": "https://localhost:8080/"
        },
        "id": "o8cMdoijRBvF",
        "outputId": "e534fc18-c96c-486d-98d2-d1f381cb5a88"
      },
      "execution_count": null,
      "outputs": [
        {
          "output_type": "stream",
          "name": "stdout",
          "text": [
            "4321\n"
          ]
        }
      ]
    },
    {
      "cell_type": "code",
      "source": [
        "class Solution(object):\n",
        "    def longestCommonPrefix(self, strs):\n",
        "        \"\"\"\n",
        "        :type strs: List[str]\n",
        "        :rtype: str\n",
        "        \"\"\"\n",
        "        # print(strs[0][0], strs[1][0], strs[2][0])\n",
        "        for i in range(len(strs)):\n",
        "          for j in range(min(len(i) for i in strs)):\n",
        "            print(strs[j][i])\n",
        "res= Solution()\n",
        "res.longestCommonPrefix([\"flower\",\"flow\",\"flight\"])"
      ],
      "metadata": {
        "colab": {
          "base_uri": "https://localhost:8080/",
          "height": 349
        },
        "id": "67qgV9XHZW8h",
        "outputId": "42169a33-0f09-4129-b9f4-beb116d3f743"
      },
      "execution_count": null,
      "outputs": [
        {
          "output_type": "stream",
          "name": "stdout",
          "text": [
            "f\n",
            "f\n",
            "f\n"
          ]
        },
        {
          "output_type": "error",
          "ename": "IndexError",
          "evalue": "list index out of range",
          "traceback": [
            "\u001b[0;31m---------------------------------------------------------------------------\u001b[0m",
            "\u001b[0;31mIndexError\u001b[0m                                Traceback (most recent call last)",
            "\u001b[0;32m<ipython-input-27-004c9e86ab7d>\u001b[0m in \u001b[0;36m<cell line: 12>\u001b[0;34m()\u001b[0m\n\u001b[1;32m     10\u001b[0m             \u001b[0mprint\u001b[0m\u001b[0;34m(\u001b[0m\u001b[0mstrs\u001b[0m\u001b[0;34m[\u001b[0m\u001b[0mj\u001b[0m\u001b[0;34m]\u001b[0m\u001b[0;34m[\u001b[0m\u001b[0mi\u001b[0m\u001b[0;34m]\u001b[0m\u001b[0;34m)\u001b[0m\u001b[0;34m\u001b[0m\u001b[0;34m\u001b[0m\u001b[0m\n\u001b[1;32m     11\u001b[0m \u001b[0mres\u001b[0m\u001b[0;34m=\u001b[0m \u001b[0mSolution\u001b[0m\u001b[0;34m(\u001b[0m\u001b[0;34m)\u001b[0m\u001b[0;34m\u001b[0m\u001b[0;34m\u001b[0m\u001b[0m\n\u001b[0;32m---> 12\u001b[0;31m \u001b[0mres\u001b[0m\u001b[0;34m.\u001b[0m\u001b[0mlongestCommonPrefix\u001b[0m\u001b[0;34m(\u001b[0m\u001b[0;34m[\u001b[0m\u001b[0;34m\"flower\"\u001b[0m\u001b[0;34m,\u001b[0m\u001b[0;34m\"flow\"\u001b[0m\u001b[0;34m,\u001b[0m\u001b[0;34m\"flight\"\u001b[0m\u001b[0;34m]\u001b[0m\u001b[0;34m)\u001b[0m\u001b[0;34m\u001b[0m\u001b[0;34m\u001b[0m\u001b[0m\n\u001b[0m",
            "\u001b[0;32m<ipython-input-27-004c9e86ab7d>\u001b[0m in \u001b[0;36mlongestCommonPrefix\u001b[0;34m(self, strs)\u001b[0m\n\u001b[1;32m      8\u001b[0m         \u001b[0;32mfor\u001b[0m \u001b[0mi\u001b[0m \u001b[0;32min\u001b[0m \u001b[0mrange\u001b[0m\u001b[0;34m(\u001b[0m\u001b[0mlen\u001b[0m\u001b[0;34m(\u001b[0m\u001b[0mstrs\u001b[0m\u001b[0;34m)\u001b[0m\u001b[0;34m)\u001b[0m\u001b[0;34m:\u001b[0m\u001b[0;34m\u001b[0m\u001b[0;34m\u001b[0m\u001b[0m\n\u001b[1;32m      9\u001b[0m           \u001b[0;32mfor\u001b[0m \u001b[0mj\u001b[0m \u001b[0;32min\u001b[0m \u001b[0mrange\u001b[0m\u001b[0;34m(\u001b[0m\u001b[0mmin\u001b[0m\u001b[0;34m(\u001b[0m\u001b[0mlen\u001b[0m\u001b[0;34m(\u001b[0m\u001b[0mi\u001b[0m\u001b[0;34m)\u001b[0m \u001b[0;32mfor\u001b[0m \u001b[0mi\u001b[0m \u001b[0;32min\u001b[0m \u001b[0mstrs\u001b[0m\u001b[0;34m)\u001b[0m\u001b[0;34m)\u001b[0m\u001b[0;34m:\u001b[0m\u001b[0;34m\u001b[0m\u001b[0;34m\u001b[0m\u001b[0m\n\u001b[0;32m---> 10\u001b[0;31m             \u001b[0mprint\u001b[0m\u001b[0;34m(\u001b[0m\u001b[0mstrs\u001b[0m\u001b[0;34m[\u001b[0m\u001b[0mj\u001b[0m\u001b[0;34m]\u001b[0m\u001b[0;34m[\u001b[0m\u001b[0mi\u001b[0m\u001b[0;34m]\u001b[0m\u001b[0;34m)\u001b[0m\u001b[0;34m\u001b[0m\u001b[0;34m\u001b[0m\u001b[0m\n\u001b[0m\u001b[1;32m     11\u001b[0m \u001b[0mres\u001b[0m\u001b[0;34m=\u001b[0m \u001b[0mSolution\u001b[0m\u001b[0;34m(\u001b[0m\u001b[0;34m)\u001b[0m\u001b[0;34m\u001b[0m\u001b[0;34m\u001b[0m\u001b[0m\n\u001b[1;32m     12\u001b[0m \u001b[0mres\u001b[0m\u001b[0;34m.\u001b[0m\u001b[0mlongestCommonPrefix\u001b[0m\u001b[0;34m(\u001b[0m\u001b[0;34m[\u001b[0m\u001b[0;34m\"flower\"\u001b[0m\u001b[0;34m,\u001b[0m\u001b[0;34m\"flow\"\u001b[0m\u001b[0;34m,\u001b[0m\u001b[0;34m\"flight\"\u001b[0m\u001b[0;34m]\u001b[0m\u001b[0;34m)\u001b[0m\u001b[0;34m\u001b[0m\u001b[0;34m\u001b[0m\u001b[0m\n",
            "\u001b[0;31mIndexError\u001b[0m: list index out of range"
          ]
        }
      ]
    },
    {
      "cell_type": "code",
      "source": [
        "c = [\"flower\"]\n",
        "\n",
        "for i in range(len(c[0])):\n",
        "  print(c[0][0:i+1])\n"
      ],
      "metadata": {
        "colab": {
          "base_uri": "https://localhost:8080/"
        },
        "id": "SyTVUjlnbQC6",
        "outputId": "4a3b4c7c-601d-489e-b923-a8d6b16d4df0"
      },
      "execution_count": null,
      "outputs": [
        {
          "output_type": "stream",
          "name": "stdout",
          "text": [
            "f\n",
            "fl\n",
            "flo\n",
            "flow\n",
            "flowe\n",
            "flower\n"
          ]
        }
      ]
    },
    {
      "cell_type": "code",
      "source": [
        "class Solution(object):\n",
        "    def longestCommonPrefix(self, strs):\n",
        "        \"\"\"\n",
        "        :type strs: List[str]\n",
        "        :rtype: str\n",
        "        \"\"\"\n",
        "        # print(strs[0][0], strs[1][0], strs[2][0])\n",
        "        for i in range(len(strs[0])):\n",
        "          for j in range(i+1,len(strs[0])+1):\n",
        "            # print(strs[0][i:j])\n",
        "\n",
        "\n",
        "res= Solution()\n",
        "res.longestCommonPrefix([\"flower\",\"flow\",\"flight\"])"
      ],
      "metadata": {
        "colab": {
          "base_uri": "https://localhost:8080/"
        },
        "id": "hZhfBJhLcCK8",
        "outputId": "83b6c4eb-4e81-4038-e3a9-5baaab21548b"
      },
      "execution_count": null,
      "outputs": [
        {
          "output_type": "stream",
          "name": "stdout",
          "text": [
            "f\n",
            "fl\n",
            "flo\n",
            "flow\n",
            "flowe\n",
            "flower\n",
            "l\n",
            "lo\n",
            "low\n",
            "lowe\n",
            "lower\n",
            "o\n",
            "ow\n",
            "owe\n",
            "ower\n",
            "w\n",
            "we\n",
            "wer\n",
            "e\n",
            "er\n",
            "r\n"
          ]
        }
      ]
    },
    {
      "cell_type": "code",
      "source": [
        "class Solution:\n",
        "    def longestCommonPrefix(self, strs):\n",
        "        # Если список строк пустой, вернуть пустую строку\n",
        "        if not strs:\n",
        "            return \"\"\n",
        "\n",
        "        # Берем первую строку как исходный общий префикс\n",
        "        prefix = strs[0]\n",
        "\n",
        "        # Сравниваем текущий общий префикс с каждой строкой\n",
        "        for string in strs[1:]:\n",
        "            # Пока текущий префикс не совпадает с началом строки, уменьшаем его\n",
        "            while not string.startswith(prefix):\n",
        "                prefix = prefix[:-1]  # Убираем последний символ из префикса\n",
        "                if not prefix:  # Если префикс пуст, возвращаем \"\"\n",
        "                    return \"\"\n",
        "\n",
        "        return prefix\n",
        "res= Solution()\n",
        "res.longestCommonPrefix([\"flower\",\"flow\",\"flight\"])\n"
      ],
      "metadata": {
        "colab": {
          "base_uri": "https://localhost:8080/",
          "height": 35
        },
        "id": "7VtYPGUaei4c",
        "outputId": "39940c6d-476d-42f0-8322-ff52954c5d5e"
      },
      "execution_count": null,
      "outputs": [
        {
          "output_type": "execute_result",
          "data": {
            "text/plain": [
              "'fl'"
            ],
            "application/vnd.google.colaboratory.intrinsic+json": {
              "type": "string"
            }
          },
          "metadata": {},
          "execution_count": 1
        }
      ]
    },
    {
      "cell_type": "code",
      "source": [
        " strs = [\"flower\",\"flow\",\"flight\"]\n",
        " shortest = min(strs, key=len)\n",
        "shortest"
      ],
      "metadata": {
        "colab": {
          "base_uri": "https://localhost:8080/",
          "height": 35
        },
        "id": "aEMJCWwwhuxP",
        "outputId": "3f274649-cb0f-4e91-84a2-c86c7b90ab92"
      },
      "execution_count": null,
      "outputs": [
        {
          "output_type": "execute_result",
          "data": {
            "text/plain": [
              "'flight'"
            ],
            "application/vnd.google.colaboratory.intrinsic+json": {
              "type": "string"
            }
          },
          "metadata": {},
          "execution_count": 3
        }
      ]
    },
    {
      "cell_type": "code",
      "source": [
        "def longest_common_prefix(strs):\n",
        "    if not strs:\n",
        "        return \"\"\n",
        "\n",
        "    # Найти минимальную строку по длине, так как общий префикс не может быть длиннее её\n",
        "    shortest = min(strs, key=len)\n",
        "\n",
        "    for i, char in enumerate(shortest):\n",
        "        for string in strs:\n",
        "          print(string)\n",
        "          if string[i] != char:\n",
        "              return shortest[:i]\n",
        "\n",
        "    return shortest\n",
        "\n",
        "\n",
        "# Примеры использования:\n",
        "# Пример 1:\n",
        "strs1 = [\"flower\", \"flow\", \"flight\"]\n",
        "print(longest_common_prefix(strs1))  # Output: \"fl\"\n",
        "\n",
        "# # Пример 2:\n",
        "# strs2 = [\"dog\", \"racecar\", \"car\"]\n",
        "# print(longest_common_prefix(strs2))  # Output: \"\"\n"
      ],
      "metadata": {
        "colab": {
          "base_uri": "https://localhost:8080/"
        },
        "id": "TTUfLfO84SFA",
        "outputId": "d10073ac-f76a-4ea8-e10c-77faf060db16"
      },
      "execution_count": null,
      "outputs": [
        {
          "output_type": "stream",
          "name": "stdout",
          "text": [
            "flower\n",
            "flow\n",
            "flight\n",
            "flower\n",
            "flow\n",
            "flight\n",
            "flower\n",
            "flow\n",
            "flight\n",
            "fl\n"
          ]
        }
      ]
    },
    {
      "cell_type": "code",
      "source": [
        "class Solution(object):\n",
        "    def threeSumClosest(self, nums, target):\n",
        "        \"\"\"\n",
        "        :type nums: List[int]\n",
        "        :type target: int\n",
        "        :rtype: int\n",
        "        \"\"\"\n",
        "\n",
        "        c = 1\n",
        "        for i in range(len(nums)):\n",
        "          for j in range(i+1,len(nums)):\n",
        "            for k in range(j+1,len(nums)):\n",
        "              if nums[i]+nums[j]+nums[k]==target:\n",
        "                return nums[i]+nums[j]+nums[k]\n",
        "              elif nums[i]+nums[j]+nums[k]==target+c:\n",
        "                c+=1\n",
        "                return nums[i]+nums[j]+nums[k]\n",
        "              elif len(set(nums))==1:\n",
        "                return list(set(nums))[0]\n",
        "\n",
        "\n",
        "\n",
        "\n",
        "res= Solution()\n",
        "res.threeSumClosest([-1,2,1,-4],1)\n",
        "# res.threeSumClosest([0,0,0],1)\n"
      ],
      "metadata": {
        "colab": {
          "base_uri": "https://localhost:8080/"
        },
        "id": "yTwRGDhE5zUD",
        "outputId": "1504fb3e-5c92-4b7c-8b63-2cc1c46127b0"
      },
      "execution_count": null,
      "outputs": [
        {
          "output_type": "execute_result",
          "data": {
            "text/plain": [
              "2"
            ]
          },
          "metadata": {},
          "execution_count": 73
        }
      ]
    },
    {
      "cell_type": "code",
      "source": [
        "my_set = {1,2}\n",
        "if len(my_set) == 1:\n",
        "    result = int(next(iter(my_set)))  # Преобразуем элемент в int\n",
        "    print(result)  # 1\n"
      ],
      "metadata": {
        "id": "JnCAlbhgjruR"
      },
      "execution_count": null,
      "outputs": []
    },
    {
      "cell_type": "code",
      "source": [
        "int(next(iter(my_set)))"
      ],
      "metadata": {
        "colab": {
          "base_uri": "https://localhost:8080/"
        },
        "id": "DwNIS6ZukgZG",
        "outputId": "b2c1637d-34b4-4ba3-8e12-f470694f3791"
      },
      "execution_count": null,
      "outputs": [
        {
          "output_type": "execute_result",
          "data": {
            "text/plain": [
              "1"
            ]
          },
          "metadata": {},
          "execution_count": 88
        }
      ]
    },
    {
      "cell_type": "code",
      "source": [
        "s,r = my_set\n",
        "s"
      ],
      "metadata": {
        "colab": {
          "base_uri": "https://localhost:8080/"
        },
        "id": "tJ-1RgdClXLX",
        "outputId": "2b4da164-e7bf-4934-9fc9-510c99b5cffd"
      },
      "execution_count": null,
      "outputs": [
        {
          "output_type": "execute_result",
          "data": {
            "text/plain": [
              "1"
            ]
          },
          "metadata": {},
          "execution_count": 90
        }
      ]
    },
    {
      "cell_type": "code",
      "source": [
        "class Solution(object):\n",
        "    def removeDuplicates(self, nums):\n",
        "        \"\"\"\n",
        "        :type nums: List[int]\n",
        "        :rtype: int\n",
        "        \"\"\"\n",
        "\n",
        "        count=0\n",
        "        for i in nums:\n",
        "          if i in nums:\n",
        "            nums.remove(i)\n",
        "            count+=1\n",
        "        return count\n",
        "\n",
        "res= Solution()\n",
        "res.removeDuplicates([1,1,2])"
      ],
      "metadata": {
        "colab": {
          "base_uri": "https://localhost:8080/"
        },
        "id": "BiR6CTzSlyqQ",
        "outputId": "b832abdc-25ce-4b35-9627-65410870bb23"
      },
      "execution_count": null,
      "outputs": [
        {
          "output_type": "execute_result",
          "data": {
            "text/plain": [
              "2"
            ]
          },
          "metadata": {},
          "execution_count": 1
        }
      ]
    },
    {
      "cell_type": "code",
      "source": [
        "class Solution(object):\n",
        "    def removeElement(self, nums, val):\n",
        "        \"\"\"\n",
        "        :type nums: List[int]\n",
        "        :type val: int\n",
        "        :rtype: int\n",
        "        \"\"\"\n",
        "        count = 0\n",
        "        for i in nums:\n",
        "          if val in nums:\n",
        "            nums.remove(val)\n",
        "\n",
        "        if nums[0] == val:\n",
        "            return None\n",
        "\n",
        "        else:\n",
        "            return len(nums)\n",
        "\n",
        "\n",
        "\n",
        "\n",
        "res= Solution()\n",
        "res.removeElement([3,3,3],3)\n"
      ],
      "metadata": {
        "colab": {
          "base_uri": "https://localhost:8080/"
        },
        "id": "MdLq1ImDraOO",
        "outputId": "7fff24ac-eda5-4c7b-cfbd-55e52324b923"
      },
      "execution_count": null,
      "outputs": [
        {
          "output_type": "stream",
          "name": "stdout",
          "text": [
            "[3]\n"
          ]
        }
      ]
    },
    {
      "cell_type": "code",
      "source": [
        "def remove_element(nums, val):\n",
        "    # Указатель на позицию для вставки элемента\n",
        "    index = 0\n",
        "\n",
        "    # Проходим по всем элементам массива\n",
        "    for num in nums:\n",
        "        # Если элемент не равен `val`, вставляем его на текущую позицию\n",
        "        if num != val:\n",
        "            nums[index] = num\n",
        "            index += 1\n",
        "\n",
        "    # Возвращаем количество элементов, не равных `val`\n",
        "    return index\n",
        "\n",
        "remove_element([3,3,3],3)"
      ],
      "metadata": {
        "colab": {
          "base_uri": "https://localhost:8080/"
        },
        "id": "JOe9zOGVTWMr",
        "outputId": "458a3b3d-5af6-45ec-d08a-cd24ccde1f5a"
      },
      "execution_count": null,
      "outputs": [
        {
          "output_type": "execute_result",
          "data": {
            "text/plain": [
              "0"
            ]
          },
          "metadata": {},
          "execution_count": 24
        }
      ]
    },
    {
      "cell_type": "code",
      "source": [
        "class Solution(object):\n",
        "    def majorityElement(self, nums):\n",
        "        \"\"\"\n",
        "        :type nums: List[int]\n",
        "        :rtype: int\n",
        "        \"\"\"\n",
        "\n",
        "        for i in nums:\n",
        "          if (nums.count(i)/len(nums))>=0.5:\n",
        "            return int(i)\n",
        "res= Solution()\n",
        "res.majorityElement([3,2,3])"
      ],
      "metadata": {
        "colab": {
          "base_uri": "https://localhost:8080/"
        },
        "id": "R2aNmfgRXdUq",
        "outputId": "2578aa1f-2d29-4506-8f4f-ce3cbc7bd056"
      },
      "execution_count": null,
      "outputs": [
        {
          "output_type": "execute_result",
          "data": {
            "text/plain": [
              "3"
            ]
          },
          "metadata": {},
          "execution_count": 1
        }
      ]
    },
    {
      "cell_type": "code",
      "source": [
        "class Solution(object):\n",
        "    def rotate(self, nums, k):\n",
        "        \"\"\"\n",
        "        :type nums: List[int]\n",
        "        :type k: int\n",
        "        :rtype: None Do not return anything, modify nums in-place instead.\n",
        "\n",
        "        \"\"\"\n",
        "\n",
        "\n",
        "        indx = 0\n",
        "        for i in nums[::-1]:\n",
        "          nums[indx]=i\n",
        "          indx+=1\n",
        "\n",
        "        print(nums)\n",
        "\n",
        "\n",
        "res= Solution()\n",
        "res.rotate([1,2,3,4,5,6,7],3)"
      ],
      "metadata": {
        "colab": {
          "base_uri": "https://localhost:8080/"
        },
        "id": "fBP6t357Yh9a",
        "outputId": "a08cfeb5-a765-46fd-cf45-53801a9a9d72"
      },
      "execution_count": null,
      "outputs": [
        {
          "output_type": "stream",
          "name": "stdout",
          "text": [
            "[7, 6, 5, 4, 3, 2, 1]\n"
          ]
        }
      ]
    },
    {
      "cell_type": "code",
      "source": [
        "class Solution(object):\n",
        "    def rotate(self, nums, k):\n",
        "        \"\"\"\n",
        "        :type nums: List[int]\n",
        "        :type k: int\n",
        "        :rtype: None Do not return anything, modify nums in-place instead.\n",
        "\n",
        "        \"\"\"\n",
        "\n",
        "\n",
        "        indx = 0\n",
        "\n",
        "        while k>0:\n",
        "          for i in range(len(nums)):\n",
        "\n",
        "            if len(nums)-1==i:\n",
        "\n",
        "              nums.insert(indx,nums[i])\n",
        "              nums.pop(i+1)\n",
        "\n",
        "          k-=1\n",
        "\n",
        "        return nums\n",
        "\n",
        "\n",
        "res= Solution()\n",
        "res.rotate([1,2,3,4,5,6,7],3)"
      ],
      "metadata": {
        "colab": {
          "base_uri": "https://localhost:8080/"
        },
        "id": "PYgyQ04mc6U0",
        "outputId": "895e0417-b00f-4d5d-e3c4-c21b95fedfcf"
      },
      "execution_count": null,
      "outputs": [
        {
          "output_type": "execute_result",
          "data": {
            "text/plain": [
              "[5, 6, 7, 1, 2, 3, 4]"
            ]
          },
          "metadata": {},
          "execution_count": 1
        }
      ]
    },
    {
      "cell_type": "code",
      "source": [
        "g = [1,3,3]\n",
        "g.pop(2)\n",
        "g"
      ],
      "metadata": {
        "colab": {
          "base_uri": "https://localhost:8080/"
        },
        "id": "jfCwI4PLdr6w",
        "outputId": "a3e1c69a-4242-46a4-e851-b1864a2c3b5d"
      },
      "execution_count": null,
      "outputs": [
        {
          "output_type": "execute_result",
          "data": {
            "text/plain": [
              "[1, 3]"
            ]
          },
          "metadata": {},
          "execution_count": 28
        }
      ]
    },
    {
      "cell_type": "code",
      "source": [
        "class Solution(object):\n",
        "    def lengthOfLastWord(self, s):\n",
        "        \"\"\"\n",
        "        :type s: str\n",
        "        :rtype: int\n",
        "        \"\"\"\n",
        "\n",
        "        s=s.split(' ')\n",
        "\n",
        "        lst =[]\n",
        "        for i in s:\n",
        "          if i != '':\n",
        "            lst.append(i)\n",
        "\n",
        "\n",
        "        return len(lst[-1])\n",
        "\n",
        "\n",
        "res= Solution()\n",
        "res.lengthOfLastWord(\"   fly me   to   the moon  \")\n"
      ],
      "metadata": {
        "colab": {
          "base_uri": "https://localhost:8080/"
        },
        "id": "lrOIChDYhjjh",
        "outputId": "f376b72b-19dd-43f2-fbf5-aa036f1c1765"
      },
      "execution_count": null,
      "outputs": [
        {
          "output_type": "stream",
          "name": "stdout",
          "text": [
            "['', '', '', 'fly', 'me', '', '', 'to', '', '', 'the', 'moon', '', '']\n"
          ]
        },
        {
          "output_type": "execute_result",
          "data": {
            "text/plain": [
              "4"
            ]
          },
          "metadata": {},
          "execution_count": 24
        }
      ]
    },
    {
      "cell_type": "code",
      "source": [
        "\"   fly me   to   the moon  \".strip()"
      ],
      "metadata": {
        "colab": {
          "base_uri": "https://localhost:8080/",
          "height": 35
        },
        "id": "B_liZmUymZch",
        "outputId": "3e30485e-d6a0-460f-e7a1-2a564d741680"
      },
      "execution_count": null,
      "outputs": [
        {
          "output_type": "execute_result",
          "data": {
            "text/plain": [
              "'fly me   to   the moon'"
            ],
            "application/vnd.google.colaboratory.intrinsic+json": {
              "type": "string"
            }
          },
          "metadata": {},
          "execution_count": 26
        }
      ]
    },
    {
      "cell_type": "code",
      "source": [
        "class Solution(object):\n",
        "    def reverseWords(self, s):\n",
        "        \"\"\"\n",
        "        :type s: str\n",
        "        :rtype: str\n",
        "        \"\"\"\n",
        "\n",
        "        s = s.split()\n",
        "        lst = []\n",
        "        for i in s[::-1]:\n",
        "          lst.append(i)\n",
        "        return ' '.join(lst)\n",
        "\n",
        "\n",
        "\n",
        "res= Solution()\n",
        "res.reverseWords(\"a good   example\")"
      ],
      "metadata": {
        "colab": {
          "base_uri": "https://localhost:8080/",
          "height": 35
        },
        "id": "x7GPIxGfo5us",
        "outputId": "91bd53c9-8ed7-426f-cb88-ab00c06614da"
      },
      "execution_count": null,
      "outputs": [
        {
          "output_type": "execute_result",
          "data": {
            "text/plain": [
              "'example good a'"
            ],
            "application/vnd.google.colaboratory.intrinsic+json": {
              "type": "string"
            }
          },
          "metadata": {},
          "execution_count": 38
        }
      ]
    },
    {
      "cell_type": "code",
      "source": [
        "\n",
        "class Solution(object):\n",
        "    def reverseWords(self, s):\n",
        "        \"\"\"\n",
        "        :type s: str\n",
        "        :rtype: str\n",
        "        \"\"\"\n",
        "        s = s.split()\n",
        "        print(s)\n",
        "        st = \" \".join(s[::-1])\n",
        "        return st\n",
        "\n",
        "res= Solution()\n",
        "res.reverseWords(\"  a good   example  \")"
      ],
      "metadata": {
        "colab": {
          "base_uri": "https://localhost:8080/",
          "height": 53
        },
        "id": "5P1RHKl1rpJG",
        "outputId": "52fa7f4b-9a19-4869-f2bb-a0803665a09a"
      },
      "execution_count": null,
      "outputs": [
        {
          "output_type": "stream",
          "name": "stdout",
          "text": [
            "['a', 'good', 'example']\n"
          ]
        },
        {
          "output_type": "execute_result",
          "data": {
            "text/plain": [
              "'example good a'"
            ],
            "application/vnd.google.colaboratory.intrinsic+json": {
              "type": "string"
            }
          },
          "metadata": {},
          "execution_count": 40
        }
      ]
    },
    {
      "cell_type": "code",
      "source": [
        "class Solution(object):\n",
        "    def isPalindrome(self, s):\n",
        "        \"\"\"\n",
        "        :type s: str\n",
        "        :rtype: bool\n",
        "        \"\"\"\n",
        "\n",
        "        lst = []\n",
        "        for i in s.lower():\n",
        "          if i.isalpha() or i.isdigit():\n",
        "            lst.append(i)\n",
        "\n",
        "        s = ''.join(lst)\n",
        "\n",
        "        return True if s == s[::-1] else False\n",
        "\n",
        "\n",
        "res= Solution()\n",
        "# res.isPalindrome(\"A man, a plan, a canal: Panama\")\n",
        "# res.isPalindrome(\"a.\")\n",
        "res.isPalindrome(\"0p\")"
      ],
      "metadata": {
        "colab": {
          "base_uri": "https://localhost:8080/"
        },
        "id": "iCQZ7YnStZvi",
        "outputId": "576abe6b-de93-43fc-cd26-9eadd611ff44"
      },
      "execution_count": null,
      "outputs": [
        {
          "output_type": "execute_result",
          "data": {
            "text/plain": [
              "False"
            ]
          },
          "metadata": {},
          "execution_count": 69
        }
      ]
    },
    {
      "cell_type": "code",
      "source": [
        "class Solution:\n",
        "    def groupAnagrams(self, strs):\n",
        "        \"\"\"\n",
        "        :type strs: List[str]\n",
        "        :rtype: List[List[str]]\n",
        "        \"\"\"\n",
        "        # Обычный словарь для группировки анаграмм\n",
        "        anagrams = {}\n",
        "\n",
        "        for word in strs:\n",
        "            # Ключ — отсортированная версия слова\n",
        "            sorted_word = ''.join(sorted(word))\n",
        "            print(word,sorted_word,'ff')\n",
        "            if sorted_word not in anagrams:\n",
        "                anagrams[sorted_word] = []  # Если ключа нет, создаём новый список\n",
        "            anagrams[sorted_word].append(word)  # Добавляем слово в соответствующую группу\n",
        "\n",
        "        # Возвращаем список списков анаграмм\n",
        "        print(anagrams)\n",
        "        return list(anagrams.values())\n",
        "res= Solution()\n",
        "res.groupAnagrams([\"eat\",\"tea\",\"tan\",\"ate\",\"nat\",\"bat\"])\n",
        "\n"
      ],
      "metadata": {
        "colab": {
          "base_uri": "https://localhost:8080/"
        },
        "id": "ff5XzMRswrna",
        "outputId": "a7544840-4020-42f3-e675-0e7a1bd03612"
      },
      "execution_count": null,
      "outputs": [
        {
          "output_type": "stream",
          "name": "stdout",
          "text": [
            "eat aet ff\n",
            "tea aet ff\n",
            "tan ant ff\n",
            "ate aet ff\n",
            "nat ant ff\n",
            "bat abt ff\n",
            "{'aet': ['eat', 'tea', 'ate'], 'ant': ['tan', 'nat'], 'abt': ['bat']}\n"
          ]
        },
        {
          "output_type": "execute_result",
          "data": {
            "text/plain": [
              "[['eat', 'tea', 'ate'], ['tan', 'nat'], ['bat']]"
            ]
          },
          "metadata": {},
          "execution_count": 1
        }
      ]
    },
    {
      "cell_type": "code",
      "source": [
        "class Solution(object):\n",
        "    def canConstruct(self, ransomNote, magazine):\n",
        "        \"\"\"\n",
        "        :type ransomNote: str\n",
        "        :type magazine: str\n",
        "        :rtype: bool\n",
        "        \"\"\"\n",
        "        for i in ransomNote:\n",
        "          if i not in magazine:\n",
        "              return False\n",
        "          else:\n",
        "              continue\n",
        "        return True\n",
        "\n",
        "\n",
        "        # return True if ''.join(sorted(ransomNote)) in ''.join(sorted(magazine)) else False\n",
        "\n",
        "res= Solution()\n",
        "res.canConstruct(ransomNote = \"aa\", magazine = \"ab\")\n"
      ],
      "metadata": {
        "colab": {
          "base_uri": "https://localhost:8080/"
        },
        "id": "8ZEpLMV80IrN",
        "outputId": "82b08297-9dc2-4205-9f0a-049995aa50ca"
      },
      "execution_count": null,
      "outputs": [
        {
          "output_type": "execute_result",
          "data": {
            "text/plain": [
              "True"
            ]
          },
          "metadata": {},
          "execution_count": 24
        }
      ]
    },
    {
      "cell_type": "code",
      "source": [
        "class Solution(object):\n",
        "    def twoSum(self, nums, target):\n",
        "        \"\"\"\n",
        "        :type nums: List[int]\n",
        "        :type target: int\n",
        "        :rtype: List[int]\n",
        "\n",
        "        \"\"\"\n",
        "        print(nums, target)\n",
        "        for i in range(len(nums)):\n",
        "          for j in range(i+1,len(nums)):\n",
        "            if nums[i]+nums[j]==target:\n",
        "              return [i,j]\n",
        "res= Solution()\n",
        "res.twoSum(nums = [2,7,11,15], target = 9)\n"
      ],
      "metadata": {
        "colab": {
          "base_uri": "https://localhost:8080/"
        },
        "id": "n1-3pytl46hG",
        "outputId": "87f016f5-c2ca-4634-901d-cb0eef086d52"
      },
      "execution_count": null,
      "outputs": [
        {
          "output_type": "stream",
          "name": "stdout",
          "text": [
            "[2, 7, 11, 15] 9\n"
          ]
        },
        {
          "output_type": "execute_result",
          "data": {
            "text/plain": [
              "[0, 1]"
            ]
          },
          "metadata": {},
          "execution_count": 26
        }
      ]
    },
    {
      "cell_type": "code",
      "source": [
        "class Solution(object):\n",
        "    def twoSum(self, nums, target):\n",
        "        \"\"\"\n",
        "        :type nums: List[int]\n",
        "        :type target: int\n",
        "        :rtype: List[int]\n",
        "\n",
        "        \"\"\"\n",
        "\n",
        "\n",
        "         # Создаём массив пар (число, индекс) и сортируем его по числу\n",
        "        sort_nums=sorted(nums)\n",
        "\n",
        "        left, right = 0, len(sort_nums) - 1\n",
        "\n",
        "\n",
        "        # Ищем два числа\n",
        "        while left < right:\n",
        "            current_sum = sort_nums[left] + sort_nums[right]\n",
        "\n",
        "            if current_sum == target:\n",
        "                # Возвращаем исходные индексы\n",
        "                return [nums.index(sort_nums[left]),nums.index(sort_nums[right])]\n",
        "\n",
        "            elif current_sum < target:\n",
        "                left += 1\n",
        "            else:\n",
        "                right -= 1\n",
        "\n",
        "\n",
        "\n",
        "\n",
        "\n",
        "\n",
        "\n",
        "res= Solution()\n",
        "res.twoSum(nums = [3,3], target = 6)\n"
      ],
      "metadata": {
        "colab": {
          "base_uri": "https://localhost:8080/"
        },
        "id": "Em9rquuB-TWA",
        "outputId": "3c0bdf13-22d9-4f69-a43a-fcdac6efab14"
      },
      "execution_count": null,
      "outputs": [
        {
          "output_type": "execute_result",
          "data": {
            "text/plain": [
              "[0, 0]"
            ]
          },
          "metadata": {},
          "execution_count": 1
        }
      ]
    },
    {
      "cell_type": "code",
      "source": [
        "class Solution(object):\n",
        "    def isHappy(self, n):\n",
        "        \"\"\"\n",
        "        :type n: int\n",
        "        :rtype: bool\n",
        "        # \"\"\"\n",
        "\n",
        "        res = n\n",
        "\n",
        "        count = 0\n",
        "        while count<100:\n",
        "\n",
        "          lst= list(str(res))\n",
        "          sum_n = [int(i)*int(i) for i in lst]\n",
        "          res = sum(sum_n)\n",
        "\n",
        "          if res ==1:\n",
        "\n",
        "            return True\n",
        "          count+=1\n",
        "        return False\n",
        "\n",
        "\n",
        "\n",
        "\n",
        "\n",
        "\n",
        "\n",
        "\n",
        "\n",
        "\n",
        "res= Solution()\n",
        "res.isHappy(n = 19)\n"
      ],
      "metadata": {
        "colab": {
          "base_uri": "https://localhost:8080/"
        },
        "id": "Ep0W9wtKEx4u",
        "outputId": "42d608d6-bf86-41d9-b965-3b1eb6451fb4"
      },
      "execution_count": null,
      "outputs": [
        {
          "output_type": "execute_result",
          "data": {
            "text/plain": [
              "True"
            ]
          },
          "metadata": {},
          "execution_count": 46
        }
      ]
    },
    {
      "cell_type": "code",
      "source": [
        "class Solution(object):\n",
        "    def summaryRanges(self, nums):\n",
        "        \"\"\"\n",
        "        :type nums: List[int]\n",
        "        :rtype: List[str]\n",
        "        \"\"\"\n",
        "        for i in range(len(nums)-1):\n",
        "          if (nums[i+1])-nums[i]==1 and i<len(nums):\n",
        "            # print(i,'i')\n",
        "            print(nums[i+1],'i')\n",
        "          else:\n",
        "            # print(i,'f')\n",
        "            print(nums[i+1],'f')\n",
        "\n",
        "res= Solution()\n",
        "res.summaryRanges([0,1,2,4,5,7])\n"
      ],
      "metadata": {
        "colab": {
          "base_uri": "https://localhost:8080/"
        },
        "id": "1v5nBU_WMpQD",
        "outputId": "c80918d7-d991-4c7e-f0d0-d7edf2278e89"
      },
      "execution_count": null,
      "outputs": [
        {
          "output_type": "stream",
          "name": "stdout",
          "text": [
            "1 i\n",
            "2 i\n",
            "4 f\n",
            "5 i\n",
            "7 f\n"
          ]
        }
      ]
    },
    {
      "cell_type": "code",
      "source": [
        "class Solution(object):\n",
        "    def summaryRanges(self, nums):\n",
        "        \"\"\"\n",
        "        :type nums: List[int]\n",
        "        :rtype: List[str]\n",
        "        \"\"\"\n",
        "        res=[]\n",
        "        new_lst = list(range(nums[0],nums[-1]+1))\n",
        "\n",
        "        for i in new_lst:\n",
        "          v = []\n",
        "          if i in nums:\n",
        "\n",
        "            v.append(i)\n",
        "          else:\n",
        "            v.append([])\n",
        "          res.append(v)\n",
        "        print(res)\n",
        "\n",
        "res= Solution()\n",
        "res.summaryRanges([0,1,2,4,5,7])\n"
      ],
      "metadata": {
        "colab": {
          "base_uri": "https://localhost:8080/"
        },
        "id": "NSyL7MPzNMOU",
        "outputId": "b029d4af-d58e-4971-b2a1-403057e1e3b2"
      },
      "execution_count": null,
      "outputs": [
        {
          "output_type": "stream",
          "name": "stdout",
          "text": [
            "[[7]]\n"
          ]
        }
      ]
    },
    {
      "cell_type": "code",
      "source": [
        "class Solution(object):\n",
        "    def merge(self, intervals):\n",
        "        \"\"\"\n",
        "        :type intervals: List[List[int]]\n",
        "        :rtype: List[List[int]]\n",
        "        \"\"\"\n",
        "         # Шаг 1: Сортируем интервалы по начальному значению\n",
        "\n",
        "        # Шаг 1: Сортируем интервалы по начальному значению\n",
        "        intervals.sort(key=lambda x: x[0])\n",
        "\n",
        "        merged = []  # Здесь будем хранить результат\n",
        "\n",
        "        for interval in intervals:\n",
        "            # Если результат пустой или текущий интервал не пересекается с предыдущим\n",
        "            if not merged or merged[-1][1] < interval[0]:\n",
        "                merged.append(interval)\n",
        "            else:\n",
        "                # Если пересекается, объединяем\n",
        "                merged[-1][1] = max(merged[-1][1], interval[1])\n",
        "\n",
        "        return merged\n",
        "res= Solution()\n",
        "res.merge([[1,3],[2,6],[8,10],[15,18]])"
      ],
      "metadata": {
        "id": "KQm-itIvZCxB",
        "colab": {
          "base_uri": "https://localhost:8080/"
        },
        "outputId": "b8543f69-f7b5-4183-9b2a-1cc86ac0bb79"
      },
      "execution_count": null,
      "outputs": [
        {
          "output_type": "execute_result",
          "data": {
            "text/plain": [
              "[[1, 6], [8, 10], [15, 18]]"
            ]
          },
          "metadata": {},
          "execution_count": 10
        }
      ]
    },
    {
      "cell_type": "code",
      "source": [
        "import numpy as np\n",
        "class Solution(object):\n",
        "\n",
        "    def findMinArrowShots(self, points):\n",
        "        \"\"\"\n",
        "        :type points: List[List[int]]\n",
        "        :rtype: int\n",
        "        \"\"\"\n",
        "        points.sort(key=lambda x: x[0])\n",
        "        print(points)\n",
        "        prev  = points[0]\n",
        "\n",
        "        count = 0\n",
        "        for i in points[:]:\n",
        "          print(np.median(i))\n",
        "\n",
        "\n",
        "\n",
        "\n",
        "\n",
        "res= Solution()\n",
        "res.findMinArrowShots(points = [[10,16],[2,8],[1,6],[7,12]])"
      ],
      "metadata": {
        "colab": {
          "base_uri": "https://localhost:8080/"
        },
        "id": "rNs-TYwWVrGJ",
        "outputId": "85f3bedc-5e74-4040-acdf-5c8599077e31"
      },
      "execution_count": null,
      "outputs": [
        {
          "output_type": "stream",
          "name": "stdout",
          "text": [
            "[[1, 6], [2, 8], [7, 12], [10, 16]]\n",
            "3.5\n",
            "5.0\n",
            "9.5\n",
            "13.0\n"
          ]
        }
      ]
    },
    {
      "cell_type": "code",
      "source": [
        "class Solution(object):\n",
        "    def isValid(self, s):\n",
        "        \"\"\"\n",
        "        :type s: str\n",
        "        :rtype: bool\n",
        "        \"\"\"\n",
        "        const = '() [] {}'.split()\n",
        "        print(const)\n",
        "        open_c= 0\n",
        "        close_c = 0\n",
        "        for i in range(len(s)):\n",
        "          for j in range(i+1,len(s)):\n",
        "            print(s[i])\n",
        "            if s[i]==s[j]:\n",
        "              open_c+=1\n",
        "            else:\n",
        "              close_c+=1\n",
        "\n",
        "        print(open_c, close_c)\n",
        "        return True if open_c == close_c else False\n",
        "\n",
        "\n",
        "\n",
        "\n",
        "res= Solution()\n",
        "# res.isValid(\"(]\")\n",
        "res.isValid(\"()[]{}\")"
      ],
      "metadata": {
        "colab": {
          "base_uri": "https://localhost:8080/"
        },
        "id": "g_4An-T_jW51",
        "outputId": "284853d0-3aa0-4cd0-e30c-3ee5d0e53b28"
      },
      "execution_count": null,
      "outputs": [
        {
          "output_type": "stream",
          "name": "stdout",
          "text": [
            "['()', '[]', '{}']\n",
            "(\n",
            "(\n",
            "(\n",
            "(\n",
            "(\n",
            ")\n",
            ")\n",
            ")\n",
            ")\n",
            "[\n",
            "[\n",
            "[\n",
            "]\n",
            "]\n",
            "{\n",
            "0 15\n"
          ]
        },
        {
          "output_type": "execute_result",
          "data": {
            "text/plain": [
              "False"
            ]
          },
          "metadata": {},
          "execution_count": 47
        }
      ]
    },
    {
      "cell_type": "code",
      "source": [
        "class Solution(object):\n",
        "    def isValid(self, s):\n",
        "        \"\"\"\n",
        "        :type s: str\n",
        "        :rtype: bool\n",
        "        \"\"\"\n",
        "        const = '()[]{}'\n",
        "\n",
        "        dict_c = {const[i]:0 if i %2==0 else 1 for i in range(len(const))}\n",
        "        print(dict_c)\n",
        "        opn = 0\n",
        "        # cls= 0\n",
        "        for i in s:\n",
        "          if dict_c[i]==0:\n",
        "            opn+=1\n",
        "          else:\n",
        "            opn-=1\n",
        "        print(opn)\n",
        "\n",
        "\n",
        "\n",
        "\n",
        "\n",
        "\n",
        "res= Solution()\n",
        "res.isValid(\"(]\")\n",
        "# res.isValid(\"()[]{}\")"
      ],
      "metadata": {
        "colab": {
          "base_uri": "https://localhost:8080/"
        },
        "id": "bZ3hLo7Du5GK",
        "outputId": "92fda6a6-0626-48fc-adb7-e8306dca21c2"
      },
      "execution_count": null,
      "outputs": [
        {
          "output_type": "stream",
          "name": "stdout",
          "text": [
            "{'(': 0, ')': 1, '[': 0, ']': 1, '{': 0, '}': 1}\n",
            "0\n"
          ]
        }
      ]
    },
    {
      "cell_type": "code",
      "source": [
        "dict_c ={0:['(','[','{'], 1:[')',']','}']}"
      ],
      "metadata": {
        "id": "sxWVRFBy0V2R"
      },
      "execution_count": null,
      "outputs": []
    },
    {
      "cell_type": "code",
      "source": [
        "def compute():\n",
        "    total = 0\n",
        "    for i in range(10):\n",
        "        total += i\n",
        "    return total\n",
        "\n",
        "compute()"
      ],
      "metadata": {
        "colab": {
          "base_uri": "https://localhost:8080/"
        },
        "id": "DmcwUArFYlWl",
        "outputId": "64478fcd-b506-413a-b917-f2471ec59920"
      },
      "execution_count": null,
      "outputs": [
        {
          "output_type": "execute_result",
          "data": {
            "text/plain": [
              "45"
            ]
          },
          "metadata": {},
          "execution_count": 2
        }
      ]
    },
    {
      "cell_type": "code",
      "source": [
        "import dis\n",
        "\n",
        "def compute():\n",
        "    total = 0\n",
        "    for i in range(10):\n",
        "        total += i\n",
        "    return total\n",
        "\n",
        "dis.dis(compute)\n"
      ],
      "metadata": {
        "colab": {
          "base_uri": "https://localhost:8080/"
        },
        "id": "VCstM0HIYt7c",
        "outputId": "98f6dafe-45b6-4b3e-a04c-864f575ab8b6"
      },
      "execution_count": null,
      "outputs": [
        {
          "output_type": "stream",
          "name": "stdout",
          "text": [
            "  4           0 LOAD_CONST               1 (0)\n",
            "              2 STORE_FAST               0 (total)\n",
            "\n",
            "  5           4 LOAD_GLOBAL              0 (range)\n",
            "              6 LOAD_CONST               2 (10)\n",
            "              8 CALL_FUNCTION            1\n",
            "             10 GET_ITER\n",
            "        >>   12 FOR_ITER                 6 (to 26)\n",
            "             14 STORE_FAST               1 (i)\n",
            "\n",
            "  6          16 LOAD_FAST                0 (total)\n",
            "             18 LOAD_FAST                1 (i)\n",
            "             20 INPLACE_ADD\n",
            "             22 STORE_FAST               0 (total)\n",
            "             24 JUMP_ABSOLUTE            6 (to 12)\n",
            "\n",
            "  7     >>   26 LOAD_FAST                0 (total)\n",
            "             28 RETURN_VALUE\n"
          ]
        }
      ]
    },
    {
      "cell_type": "code",
      "source": [
        "import dis\n",
        "\n",
        "def compute():\n",
        "  print('ggg')\n",
        "\n",
        "dis.dis(compute)\n"
      ],
      "metadata": {
        "colab": {
          "base_uri": "https://localhost:8080/"
        },
        "id": "KIUa57TCYx16",
        "outputId": "c6690b6e-5615-4bcc-dc0a-a3f4773aa182"
      },
      "execution_count": null,
      "outputs": [
        {
          "output_type": "stream",
          "name": "stdout",
          "text": [
            "  4           0 LOAD_GLOBAL              0 (print)\n",
            "              2 LOAD_CONST               1 ('ggg')\n",
            "              4 CALL_FUNCTION            1\n",
            "              6 POP_TOP\n",
            "              8 LOAD_CONST               0 (None)\n",
            "             10 RETURN_VALUE\n"
          ]
        }
      ]
    },
    {
      "cell_type": "code",
      "source": [
        "from multiprocessing import Process\n",
        "\n",
        "def task():\n",
        "    for _ in range(10**10):\n",
        "        pass\n",
        "    print('f')\n",
        "processes = [Process(target=task) for _ in range(8)]\n",
        "\n",
        "for process in processes:\n",
        "    process.start()\n",
        "\n",
        "for process in processes:\n",
        "    process.join()\n"
      ],
      "metadata": {
        "colab": {
          "base_uri": "https://localhost:8080/"
        },
        "id": "TRDs52bcY7Yx",
        "outputId": "adee4107-38dc-496f-85af-f251d7eb8e56"
      },
      "execution_count": null,
      "outputs": [
        {
          "output_type": "stream",
          "name": "stdout",
          "text": [
            "f\n",
            "f\n",
            "f\n",
            "f\n",
            "f\n",
            "f\n",
            "f\n",
            "f\n"
          ]
        }
      ]
    },
    {
      "cell_type": "code",
      "source": [
        "import threading\n",
        "import time\n",
        "\n",
        "def task(name):\n",
        "    for i in range(5):\n",
        "        print(f\"Task {name}, iteration {i},{os.getpid()}\")\n",
        "        time.sleep(1)\n",
        "\n",
        "thread1 = threading.Thread(target=task, args=(\"A\",))\n",
        "thread2 = threading.Thread(target=task, args=(\"B\",))\n",
        "\n",
        "thread1.start()\n",
        "thread2.start()\n",
        "\n",
        "thread1.join()\n",
        "thread2.join()\n"
      ],
      "metadata": {
        "colab": {
          "base_uri": "https://localhost:8080/"
        },
        "id": "NoqnJdW-jFdA",
        "outputId": "9f259825-5645-4b04-8cf1-6e66a8a822cb"
      },
      "execution_count": null,
      "outputs": [
        {
          "output_type": "stream",
          "name": "stdout",
          "text": [
            "Task A, iteration 0,545Task B, iteration 0,545\n",
            "\n",
            "Task B, iteration 1,545\n",
            "Task A, iteration 1,545\n",
            "Task B, iteration 2,545\n",
            "Task A, iteration 2,545\n",
            "Task B, iteration 3,545\n",
            "Task A, iteration 3,545\n",
            "Task B, iteration 4,545\n",
            "Task A, iteration 4,545\n"
          ]
        }
      ]
    },
    {
      "cell_type": "code",
      "source": [
        "from multiprocessing import Process\n",
        "import os\n",
        "\n",
        "def task(name):\n",
        "    print(f\"Task {name} running in process {os.getpid()}\")\n",
        "\n",
        "if __name__ == \"__main__\":\n",
        "    process1 = Process(target=task, args=(\"A\",))\n",
        "    process2 = Process(target=task, args=(\"B\",))\n",
        "\n",
        "    process1.start()\n",
        "    process2.start()\n",
        "\n",
        "    process1.join()\n",
        "    process2.join()\n"
      ],
      "metadata": {
        "colab": {
          "base_uri": "https://localhost:8080/"
        },
        "id": "NREjoH13jY-X",
        "outputId": "c14e8a0e-47de-4e66-ecd8-cd6232c5386b"
      },
      "execution_count": null,
      "outputs": [
        {
          "output_type": "stream",
          "name": "stdout",
          "text": [
            "Task A running in process 24016\n",
            "Task B running in process 24019\n"
          ]
        }
      ]
    },
    {
      "cell_type": "code",
      "source": [
        "import asyncio\n",
        "\n",
        "async def task(name):\n",
        "    for i in range(3):\n",
        "        print(f\"Task {name}, iteration {i}\")\n",
        "        await asyncio.sleep(1)\n",
        "\n",
        "async def main():\n",
        "    await asyncio.gather(\n",
        "        task(\"A\"),\n",
        "        task(\"B\")\n",
        "    )\n",
        "\n",
        "asyncio.run(main())\n"
      ],
      "metadata": {
        "colab": {
          "base_uri": "https://localhost:8080/",
          "height": 297
        },
        "id": "MCw_ltt8u6y2",
        "outputId": "fe7bb20a-dbfa-4a90-8522-4efc85bd3c4b"
      },
      "execution_count": null,
      "outputs": [
        {
          "output_type": "error",
          "ename": "RuntimeError",
          "evalue": "asyncio.run() cannot be called from a running event loop",
          "traceback": [
            "\u001b[0;31m---------------------------------------------------------------------------\u001b[0m",
            "\u001b[0;31mRuntimeError\u001b[0m                              Traceback (most recent call last)",
            "\u001b[0;32m<ipython-input-1-45e9ab62c988>\u001b[0m in \u001b[0;36m<cell line: 14>\u001b[0;34m()\u001b[0m\n\u001b[1;32m     12\u001b[0m     )\n\u001b[1;32m     13\u001b[0m \u001b[0;34m\u001b[0m\u001b[0m\n\u001b[0;32m---> 14\u001b[0;31m \u001b[0masyncio\u001b[0m\u001b[0;34m.\u001b[0m\u001b[0mrun\u001b[0m\u001b[0;34m(\u001b[0m\u001b[0mmain\u001b[0m\u001b[0;34m(\u001b[0m\u001b[0;34m)\u001b[0m\u001b[0;34m)\u001b[0m\u001b[0;34m\u001b[0m\u001b[0;34m\u001b[0m\u001b[0m\n\u001b[0m",
            "\u001b[0;32m/usr/lib/python3.10/asyncio/runners.py\u001b[0m in \u001b[0;36mrun\u001b[0;34m(main, debug)\u001b[0m\n\u001b[1;32m     31\u001b[0m     \"\"\"\n\u001b[1;32m     32\u001b[0m     \u001b[0;32mif\u001b[0m \u001b[0mevents\u001b[0m\u001b[0;34m.\u001b[0m\u001b[0m_get_running_loop\u001b[0m\u001b[0;34m(\u001b[0m\u001b[0;34m)\u001b[0m \u001b[0;32mis\u001b[0m \u001b[0;32mnot\u001b[0m \u001b[0;32mNone\u001b[0m\u001b[0;34m:\u001b[0m\u001b[0;34m\u001b[0m\u001b[0;34m\u001b[0m\u001b[0m\n\u001b[0;32m---> 33\u001b[0;31m         raise RuntimeError(\n\u001b[0m\u001b[1;32m     34\u001b[0m             \"asyncio.run() cannot be called from a running event loop\")\n\u001b[1;32m     35\u001b[0m \u001b[0;34m\u001b[0m\u001b[0m\n",
            "\u001b[0;31mRuntimeError\u001b[0m: asyncio.run() cannot be called from a running event loop"
          ]
        }
      ]
    },
    {
      "cell_type": "code",
      "source": [
        "class Solution(object):\n",
        "    def mergeTwoLists(self, list1, list2):\n",
        "        \"\"\"\n",
        "        :type list1: Optional[ListNode]\n",
        "        :type list2: Optional[ListNode]\n",
        "        :rtype: Optional[ListNode]\n",
        "        \"\"\"\n",
        "\n",
        "        list_all = list1+list2\n",
        "        list_all.sort()\n",
        "        return list_all\n",
        "res= Solution()\n",
        "\n",
        "res.mergeTwoLists(list1 = [1,2,4], list2 = [1,3,4])"
      ],
      "metadata": {
        "id": "qx7TT_o1viRQ",
        "colab": {
          "base_uri": "https://localhost:8080/"
        },
        "outputId": "8b25d004-28fa-4c10-8b68-ddf83b55aa75"
      },
      "execution_count": null,
      "outputs": [
        {
          "output_type": "execute_result",
          "data": {
            "text/plain": [
              "[1, 1, 2, 3, 4, 4]"
            ]
          },
          "metadata": {},
          "execution_count": 11
        }
      ]
    },
    {
      "cell_type": "code",
      "source": [
        "# Определение структуры узла бинарного дерева\n",
        "class TreeNode(object):\n",
        "    def __init__(self, val=0, left=None, right=None):\n",
        "        self.val = val\n",
        "        self.left = left\n",
        "        self.right = right\n",
        "\n",
        "# Решение задачи\n",
        "class Solution(object):\n",
        "    def maxDepth(self, root):\n",
        "        \"\"\"\n",
        "        :type root: Optional[TreeNode]\n",
        "        :rtype: int\n",
        "        \"\"\"\n",
        "        # Базовый случай: если узел пустой, глубина равна 0\n",
        "        if not root:\n",
        "            return 0\n",
        "\n",
        "        # Рекурсивно вычисляем глубину левого и правого поддеревьев\n",
        "        left_depth = self.maxDepth(root.left)\n",
        "        right_depth = self.maxDepth(root.right)\n",
        "\n",
        "        # Максимальная глубина текущего узла\n",
        "        return 1 + max(left_depth, right_depth)\n",
        "\n",
        "# Пример использования\n",
        "def build_tree_from_list(values):\n",
        "    \"\"\"\n",
        "    Вспомогательная функция для построения бинарного дерева из списка.\n",
        "    None указывает на отсутствие узла.\n",
        "    \"\"\"\n",
        "    if not values:\n",
        "        return None\n",
        "\n",
        "    nodes = [TreeNode(val) if val is not None else None for val in values]\n",
        "    for i in range(len(values)):\n",
        "        if nodes[i] is not None:\n",
        "            left_index = 2 * i + 1\n",
        "            right_index = 2 * i + 2\n",
        "            if left_index < len(values):\n",
        "                nodes[i].left = nodes[left_index]\n",
        "            if right_index < len(values):\n",
        "                nodes[i].right = nodes[right_index]\n",
        "    return nodes[0]\n",
        "\n",
        "# Пример 1\n",
        "root = build_tree_from_list([3, 9, 20, None, None, 15, 7])\n",
        "solution = Solution()\n",
        "print(solution.maxDepth(root))  # Вывод: 3\n",
        "\n",
        "# Пример 2\n",
        "root = build_tree_from_list([1, None, 2])\n",
        "print(solution.maxDepth(root))  # Вывод: 2\n"
      ],
      "metadata": {
        "colab": {
          "base_uri": "https://localhost:8080/",
          "height": 332
        },
        "id": "8LYO3WQHKeTU",
        "outputId": "1c223405-d97f-42fb-bcf2-379874a23231"
      },
      "execution_count": null,
      "outputs": [
        {
          "output_type": "error",
          "ename": "AttributeError",
          "evalue": "'list' object has no attribute 'left'",
          "traceback": [
            "\u001b[0;31m---------------------------------------------------------------------------\u001b[0m",
            "\u001b[0;31mAttributeError\u001b[0m                            Traceback (most recent call last)",
            "\u001b[0;32m<ipython-input-22-54ac0817e8d4>\u001b[0m in \u001b[0;36m<cell line: 49>\u001b[0;34m()\u001b[0m\n\u001b[1;32m     47\u001b[0m \u001b[0;31m# root = build_tree_from_list([3, 9, 20, None, None, 15, 7])\u001b[0m\u001b[0;34m\u001b[0m\u001b[0;34m\u001b[0m\u001b[0m\n\u001b[1;32m     48\u001b[0m \u001b[0msolution\u001b[0m \u001b[0;34m=\u001b[0m \u001b[0mSolution\u001b[0m\u001b[0;34m(\u001b[0m\u001b[0;34m)\u001b[0m\u001b[0;34m\u001b[0m\u001b[0;34m\u001b[0m\u001b[0m\n\u001b[0;32m---> 49\u001b[0;31m \u001b[0mprint\u001b[0m\u001b[0;34m(\u001b[0m\u001b[0msolution\u001b[0m\u001b[0;34m.\u001b[0m\u001b[0mmaxDepth\u001b[0m\u001b[0;34m(\u001b[0m\u001b[0;34m[\u001b[0m\u001b[0;36m3\u001b[0m\u001b[0;34m,\u001b[0m \u001b[0;36m9\u001b[0m\u001b[0;34m,\u001b[0m \u001b[0;36m20\u001b[0m\u001b[0;34m,\u001b[0m \u001b[0;32mNone\u001b[0m\u001b[0;34m,\u001b[0m \u001b[0;32mNone\u001b[0m\u001b[0;34m,\u001b[0m \u001b[0;36m15\u001b[0m\u001b[0;34m,\u001b[0m \u001b[0;36m7\u001b[0m\u001b[0;34m]\u001b[0m\u001b[0;34m)\u001b[0m\u001b[0;34m)\u001b[0m  \u001b[0;31m# Вывод: 3\u001b[0m\u001b[0;34m\u001b[0m\u001b[0;34m\u001b[0m\u001b[0m\n\u001b[0m\u001b[1;32m     50\u001b[0m \u001b[0;34m\u001b[0m\u001b[0m\n\u001b[1;32m     51\u001b[0m \u001b[0;31m# Пример 2\u001b[0m\u001b[0;34m\u001b[0m\u001b[0;34m\u001b[0m\u001b[0m\n",
            "\u001b[0;32m<ipython-input-22-54ac0817e8d4>\u001b[0m in \u001b[0;36mmaxDepth\u001b[0;34m(self, root)\u001b[0m\n\u001b[1;32m     18\u001b[0m \u001b[0;34m\u001b[0m\u001b[0m\n\u001b[1;32m     19\u001b[0m         \u001b[0;31m# Рекурсивно вычисляем глубину левого и правого поддеревьев\u001b[0m\u001b[0;34m\u001b[0m\u001b[0;34m\u001b[0m\u001b[0m\n\u001b[0;32m---> 20\u001b[0;31m         \u001b[0mleft_depth\u001b[0m \u001b[0;34m=\u001b[0m \u001b[0mself\u001b[0m\u001b[0;34m.\u001b[0m\u001b[0mmaxDepth\u001b[0m\u001b[0;34m(\u001b[0m\u001b[0mroot\u001b[0m\u001b[0;34m.\u001b[0m\u001b[0mleft\u001b[0m\u001b[0;34m)\u001b[0m\u001b[0;34m\u001b[0m\u001b[0;34m\u001b[0m\u001b[0m\n\u001b[0m\u001b[1;32m     21\u001b[0m         \u001b[0mright_depth\u001b[0m \u001b[0;34m=\u001b[0m \u001b[0mself\u001b[0m\u001b[0;34m.\u001b[0m\u001b[0mmaxDepth\u001b[0m\u001b[0;34m(\u001b[0m\u001b[0mroot\u001b[0m\u001b[0;34m.\u001b[0m\u001b[0mright\u001b[0m\u001b[0;34m)\u001b[0m\u001b[0;34m\u001b[0m\u001b[0;34m\u001b[0m\u001b[0m\n\u001b[1;32m     22\u001b[0m \u001b[0;34m\u001b[0m\u001b[0m\n",
            "\u001b[0;31mAttributeError\u001b[0m: 'list' object has no attribute 'left'"
          ]
        }
      ]
    },
    {
      "cell_type": "code",
      "source": [],
      "metadata": {
        "colab": {
          "base_uri": "https://localhost:8080/",
          "height": 141
        },
        "id": "Rv9OBnQxRhwK",
        "outputId": "f95f4b29-570d-452f-f3b1-982749d583d4"
      },
      "execution_count": null,
      "outputs": [
        {
          "output_type": "error",
          "ename": "AttributeError",
          "evalue": "'NoneType' object has no attribute '__dict__'",
          "traceback": [
            "\u001b[0;31m---------------------------------------------------------------------------\u001b[0m",
            "\u001b[0;31mAttributeError\u001b[0m                            Traceback (most recent call last)",
            "\u001b[0;32m<ipython-input-21-c29fa95339b2>\u001b[0m in \u001b[0;36m<cell line: 1>\u001b[0;34m()\u001b[0m\n\u001b[0;32m----> 1\u001b[0;31m \u001b[0mroot\u001b[0m\u001b[0;34m.\u001b[0m\u001b[0mright\u001b[0m\u001b[0;34m.\u001b[0m\u001b[0mright\u001b[0m\u001b[0;34m.\u001b[0m\u001b[0m__dict__\u001b[0m\u001b[0;34m\u001b[0m\u001b[0;34m\u001b[0m\u001b[0m\n\u001b[0m",
            "\u001b[0;31mAttributeError\u001b[0m: 'NoneType' object has no attribute '__dict__'"
          ]
        }
      ]
    },
    {
      "cell_type": "code",
      "source": [
        "class TreeNode:\n",
        "    def __init__(self, val=0, left=None, right=None):\n",
        "        self.val = val\n",
        "        self.left = left\n",
        "        self.right = right\n",
        "\n",
        "def build_tree_from_list(values):\n",
        "    \"\"\"\n",
        "    Функция для создания бинарного дерева из списка.\n",
        "    None указывает на отсутствие узла.\n",
        "    \"\"\"\n",
        "    if not values:\n",
        "        return None\n",
        "\n",
        "    # Создаем массив узлов\n",
        "    nodes = [TreeNode(val) if val is not None else None for val in values]\n",
        "\n",
        "    # Соединяем узлы по правилам бинарного дерева\n",
        "    for i in range(len(values)):\n",
        "        if nodes[i] is not None:  # Если узел существует\n",
        "            left_index = 2 * i + 1\n",
        "            right_index = 2 * i + 2\n",
        "\n",
        "            if left_index < len(values):  # Левый потомок\n",
        "                nodes[i].left = nodes[left_index]\n",
        "            if right_index < len(values):  # Правый потомок\n",
        "                nodes[i].right = nodes[right_index]\n",
        "\n",
        "    return nodes[0]  # Возвращаем корень дерева\n",
        "\n",
        "def print_tree(root):\n",
        "    \"\"\"\n",
        "    Функция для обхода дерева в ширину и вывода его структуры в виде списка.\n",
        "    \"\"\"\n",
        "    if not root:\n",
        "        return []\n",
        "    result = []\n",
        "    queue = [root]\n",
        "    while queue:\n",
        "        node = queue.pop(0)\n",
        "        if node:\n",
        "            result.append(node.val)\n",
        "            queue.append(node.left)\n",
        "            queue.append(node.right)\n",
        "        else:\n",
        "            result.append(None)\n",
        "    return result\n",
        "\n",
        "# Пример использования\n",
        "values = [3, 9, 20, None, None, 15, 7]\n",
        "root = build_tree_from_list(values)\n",
        "\n",
        "# Вывод дерева в виде списка\n",
        "print(print_tree(root))  # Вывод: [3, 9, 20, None, None, 15, 7]\n"
      ],
      "metadata": {
        "colab": {
          "base_uri": "https://localhost:8080/"
        },
        "id": "XNbdI7qYRkmX",
        "outputId": "867e56c2-a065-4dd0-df98-42ccc393c7f6"
      },
      "execution_count": null,
      "outputs": [
        {
          "output_type": "stream",
          "name": "stdout",
          "text": [
            "[3, 9, 20, None, None, 15, 7, None, None, None, None]\n"
          ]
        }
      ]
    },
    {
      "cell_type": "code",
      "source": [
        "# Definition for a binary tree node.\n",
        "class TreeNode(object):\n",
        "    def __init__(self, val=0, left=None, right=None):\n",
        "        self.val = val\n",
        "        self.left = left\n",
        "        self.right = right\n",
        "\n",
        "    def __repr__(self):\n",
        "        return f\"TreeNode{{val: {self.val}, left: {repr(self.left)}, right: {repr(self.right)}}}\"\n",
        "\n",
        "def list_to_tree(lst):\n",
        "    if not lst:\n",
        "        return None\n",
        "\n",
        "    def helper(index):\n",
        "        if index >= len(lst) or lst[index] is None:\n",
        "            return None\n",
        "        node = TreeNode(lst[index])\n",
        "        node.left = helper(2 * index + 1)\n",
        "        node.right = helper(2 * index + 2)\n",
        "        return node\n",
        "\n",
        "    return helper(0)\n",
        "\n",
        "class Solution(object):\n",
        "    def isSameTree(self, p, q):\n",
        "        \"\"\"\n",
        "        :type p: Optional[TreeNode]\n",
        "        :type q: Optional[TreeNode]\n",
        "        :rtype: bool\n",
        "        \"\"\"\n",
        "        print(f\"q: {q}\")\n",
        "        print(f\"p: {p}\")\n",
        "\n",
        "# Пример использования\n",
        "solution = Solution()\n",
        "\n",
        "p_tree = list_to_tree([1, 2, 3])\n",
        "q_tree = list_to_tree([1, 2, 3])\n",
        "\n",
        "print(solution.isSameTree(p_tree, q_tree))\n"
      ],
      "metadata": {
        "id": "w6xwmtnhS9dT",
        "colab": {
          "base_uri": "https://localhost:8080/"
        },
        "outputId": "0e16d602-55f5-4fe5-a9b2-b053a60ee348"
      },
      "execution_count": null,
      "outputs": [
        {
          "output_type": "stream",
          "name": "stdout",
          "text": [
            "q: TreeNode{val: 1, left: TreeNode{val: 2, left: None, right: None}, right: TreeNode{val: 3, left: None, right: None}}\n",
            "p: TreeNode{val: 1, left: TreeNode{val: 2, left: None, right: None}, right: TreeNode{val: 3, left: None, right: None}}\n",
            "None\n"
          ]
        }
      ]
    },
    {
      "cell_type": "code",
      "source": [
        "# Definition for a binary tree node.\n",
        "class TreeNode(object):\n",
        "    def __init__(self, val=0, left=None, right=None):\n",
        "        self.val = val\n",
        "        self.left = left\n",
        "        self.right = right\n",
        "\n",
        "    def __repr__(self):\n",
        "        return f\"TreeNode{{val: {self.val}, left: {repr(self.left)}, right: {repr(self.right)}}}\"\n",
        "\n",
        "# Создаем симметричное дерево из списка\n",
        "def create_symmetric_tree(lst):\n",
        "    if not lst:\n",
        "        return None\n",
        "    root = TreeNode(lst[0])  # Корень дерева\n",
        "    root.left = TreeNode(lst[1]) if len(lst) > 1 else None  # Левый потомок\n",
        "    root.right = TreeNode(lst[2]) if len(lst) > 2 else None  # Правый потомок\n",
        "    return root\n",
        "\n",
        "# Пример\n",
        "lst = [3, 1, 2,5]\n",
        "tree = create_symmetric_tree(lst)\n",
        "print(tree)\n"
      ],
      "metadata": {
        "colab": {
          "base_uri": "https://localhost:8080/"
        },
        "id": "3ZsHI4ZHR0Xw",
        "outputId": "39699c08-8353-4deb-b2f3-b8e176aebaba"
      },
      "execution_count": null,
      "outputs": [
        {
          "output_type": "stream",
          "name": "stdout",
          "text": [
            "TreeNode{val: 3, left: TreeNode{val: 1, left: None, right: None}, right: TreeNode{val: 2, left: None, right: None}}\n"
          ]
        }
      ]
    },
    {
      "cell_type": "code",
      "source": [
        "class NwTree():\n",
        "    def __init__(self,val=0,left=None, right=None):\n",
        "      self.val = val\n",
        "      self.left=left\n",
        "      self.right=right\n",
        "def creat_tr(lst):\n",
        "  if not lst:\n",
        "    return None\n",
        "  root = NwTree(lst[0])\n",
        "  root.left = NwTree(lst[1])\n",
        "  root.right = NwTree(lst[2])\n",
        "  return root\n",
        "\n",
        "res = creat_tr([3,1,2])\n",
        "res.right.val"
      ],
      "metadata": {
        "colab": {
          "base_uri": "https://localhost:8080/"
        },
        "id": "PrWJkqCGVKNo",
        "outputId": "ebebb90b-5459-45d8-ad02-494715c60339"
      },
      "execution_count": null,
      "outputs": [
        {
          "output_type": "execute_result",
          "data": {
            "text/plain": [
              "2"
            ]
          },
          "metadata": {},
          "execution_count": 15
        }
      ]
    },
    {
      "cell_type": "code",
      "source": [
        "class NwTree():\n",
        "    def __init__(self,val=0,left=None, right=None):\n",
        "      self.val = val\n",
        "      self.left=left\n",
        "      self.right=right\n",
        "def creat_tr(lst):\n",
        "  if not lst:\n",
        "    return None\n",
        "  root = NwTree(lst[0])\n",
        "  root.left = NwTree(lst[1])\n",
        "  root.right = NwTree(lst[2])\n",
        "  return root\n",
        "\n",
        "res = creat_tr([3,1,2])\n",
        "res.right.val"
      ],
      "metadata": {
        "id": "642c7iYuXiSo"
      },
      "execution_count": null,
      "outputs": []
    },
    {
      "cell_type": "code",
      "source": [
        "class TreeNode(object):\n",
        "    def __init__(self, val=0, left=None, right=None):\n",
        "        self.val = val\n",
        "        self.left = left\n",
        "        self.right = right\n",
        "\n",
        "    def __repr__(self):\n",
        "        return f\"TreeNode{{val: {self.val}, left: {repr(self.left)}, right: {repr(self.right)}}}\"\n",
        "\n",
        "# Создаем симметричное дерево из списка рекурсивно\n",
        "def create_symmetric_tree(lst):\n",
        "    def helper(index):\n",
        "\n",
        "        if index >= len(lst) or lst[index] is None:\n",
        "            return None\n",
        "        # Создаем текущий узел\n",
        "        node = TreeNode(lst[index])\n",
        "        # Рекурсивно создаем левое и правое поддеревья\n",
        "        node.left = helper(2 * index + 1)\n",
        "        node.right = helper(2 * index + 2)\n",
        "        return node\n",
        "\n",
        "    return helper(0)\n",
        "\n",
        "# Пример\n",
        "lst = [3, 1, 2, 4, 5, 6, 7]\n",
        "tree = create_symmetric_tree(lst)\n",
        "print(tree)\n"
      ],
      "metadata": {
        "colab": {
          "base_uri": "https://localhost:8080/"
        },
        "id": "k7XoP6_RZ5g8",
        "outputId": "52f66927-4edd-44f7-cc4d-635f5b64c619"
      },
      "execution_count": null,
      "outputs": [
        {
          "output_type": "stream",
          "name": "stdout",
          "text": [
            "0\n",
            "1\n",
            "3\n",
            "7\n",
            "8\n",
            "4\n",
            "9\n",
            "10\n",
            "2\n",
            "5\n",
            "11\n",
            "12\n",
            "6\n",
            "13\n",
            "14\n",
            "TreeNode{val: 3, left: TreeNode{val: 1, left: TreeNode{val: 4, left: None, right: None}, right: TreeNode{val: 5, left: None, right: None}}, right: TreeNode{val: 2, left: TreeNode{val: 6, left: None, right: None}, right: TreeNode{val: 7, left: None, right: None}}}\n"
          ]
        }
      ]
    },
    {
      "cell_type": "code",
      "source": [
        "class Solution(object):\n",
        "    def numIslands(self, grid):\n",
        "        \"\"\"\n",
        "        :type grid: List[List[str]]\n",
        "        :rtype: int\n",
        "        \"\"\"\n",
        "        if not grid:\n",
        "          return 0\n",
        "\n",
        "          def dfs(i, j):\n",
        "              # Проверяем, не вышли ли за границы и является ли клетка землей\n",
        "              if i < 0 or i >= len(grid) or j < 0 or j >= len(grid[0]) or grid[i][j] == '0':\n",
        "                  return\n",
        "              # Помечаем текущую клетку как посещенную\n",
        "              grid[i][j] = '0'\n",
        "              # Рекурсивно обрабатываем соседей\n",
        "              dfs(i+1, j)  # Вниз\n",
        "              dfs(i-1, j)  # Вверх\n",
        "              dfs(i, j+1)  # Вправо\n",
        "              dfs(i, j-1)  # Влево\n",
        "\n",
        "          island_count = 0\n",
        "          for i in range(len(grid)):\n",
        "              for j in range(len(grid[0])):\n",
        "                  if grid[i][j] == '1':  # Если клетка земля\n",
        "                      island_count += 1   # Новый остров\n",
        "                      dfs(i, j)  # Запуск DFS для текущего острова\n",
        "          return island_count\n",
        "\n",
        "\n",
        "grid = [\n",
        "  [\"1\",\"1\",\"1\",\"1\",\"0\"],\n",
        "  [\"1\",\"1\",\"0\",\"1\",\"0\"],\n",
        "  [\"1\",\"1\",\"0\",\"0\",\"0\"],\n",
        "  [\"0\",\"0\",\"0\",\"0\",\"0\"]\n",
        "]\n",
        "res = Solution()\n",
        "print(res.numIslands(grid))"
      ],
      "metadata": {
        "id": "sv-DW681Z5vy",
        "colab": {
          "base_uri": "https://localhost:8080/"
        },
        "outputId": "e6f559b3-5485-41e0-fcf2-5f1f279e45df"
      },
      "execution_count": null,
      "outputs": [
        {
          "output_type": "stream",
          "name": "stdout",
          "text": [
            "None\n"
          ]
        }
      ]
    },
    {
      "cell_type": "code",
      "source": [
        "class Solution(object):\n",
        "    def searchInsert(self, nums, target):\n",
        "        \"\"\"\n",
        "        :type nums: List[int]\n",
        "        :type target: int\n",
        "        :rtype: int\n",
        "        \"\"\"\n",
        "\n",
        "\n",
        "\n",
        "        left, right = 0, len(nums) - 1\n",
        "\n",
        "        while left <= right:\n",
        "            mid = (left + right) // 2\n",
        "\n",
        "            if nums[mid] == target:\n",
        "                return mid\n",
        "            elif nums[mid] < target:\n",
        "                left = mid + 1\n",
        "            else:\n",
        "                right = mid - 1\n",
        "\n",
        "        return left\n",
        "\n",
        "\n",
        "\n",
        "\n",
        "\n",
        "\n",
        "\n",
        "\n",
        "res = Solution()\n",
        "res.searchInsert(nums = [1,3,5,6], target = 2)"
      ],
      "metadata": {
        "colab": {
          "base_uri": "https://localhost:8080/"
        },
        "id": "LcHT3u8KXzto",
        "outputId": "04dadb7f-6d30-4405-ab7a-c86d51445ab7"
      },
      "execution_count": null,
      "outputs": [
        {
          "output_type": "execute_result",
          "data": {
            "text/plain": [
              "1"
            ]
          },
          "metadata": {},
          "execution_count": 30
        }
      ]
    },
    {
      "cell_type": "code",
      "source": [
        "class Solution(object):\n",
        "    def searchMatrix(self, matrix, target):\n",
        "        \"\"\"\n",
        "        :type matrix: List[List[int]]\n",
        "        :type target: int\n",
        "        :rtype: bool\n",
        "        \"\"\"\n",
        "        for i in range(len(matrix)):\n",
        "          for j in range(len(matrix[0])):\n",
        "\n",
        "            if matrix[i][j]==target:\n",
        "\n",
        "              return True\n",
        "        return False\n",
        "\n",
        "\n",
        "res = Solution()\n",
        "res.searchMatrix(matrix = [[1,3,5,7],[10,11,16,20],[23,30,34,60]], target = 355)"
      ],
      "metadata": {
        "colab": {
          "base_uri": "https://localhost:8080/"
        },
        "id": "FRdKO9z0fcwG",
        "outputId": "199984fa-fa4b-45a9-ea66-fc978c7b196f"
      },
      "execution_count": null,
      "outputs": [
        {
          "output_type": "execute_result",
          "data": {
            "text/plain": [
              "False"
            ]
          },
          "metadata": {},
          "execution_count": 39
        }
      ]
    },
    {
      "cell_type": "code",
      "source": [
        "class Solution(object):\n",
        "    def findPeakElement(self, nums):\n",
        "        \"\"\"\n",
        "        :type nums: List[int]\n",
        "        :rtype: int\n",
        "        \"\"\"\n",
        "\n",
        "        num = 0\n",
        "        for i in range(len(nums)):\n",
        "          if  nums[i]>num:\n",
        "            num=i\n",
        "\n",
        "\n",
        "        return num\n",
        "\n",
        "res = Solution()\n",
        "res.findPeakElement(nums = [1,2,1,3,5,6,4])\n"
      ],
      "metadata": {
        "colab": {
          "base_uri": "https://localhost:8080/"
        },
        "id": "_h2rF4Bnx3Ji",
        "outputId": "84731d6d-28fb-4a5d-dca2-038450aea947"
      },
      "execution_count": null,
      "outputs": [
        {
          "output_type": "execute_result",
          "data": {
            "text/plain": [
              "5"
            ]
          },
          "metadata": {},
          "execution_count": 61
        }
      ]
    },
    {
      "cell_type": "code",
      "source": [
        "class Solution(object):\n",
        "    def findPeakElement(self, nums):\n",
        "        \"\"\"\n",
        "        :type nums: List[int]\n",
        "        :rtype: int\n",
        "        \"\"\"\n",
        "        left,right = 0, len(nums)-1\n",
        "        max = 0\n",
        "        while left<=right:\n",
        "          mid =(left+right)//2\n",
        "          # if nums[mid] == max:\n",
        "          #   return max\n",
        "          if nums[left]<nums[mid]:\n",
        "            max=nums[mid]\n",
        "\n",
        "            left = mid+1\n",
        "            print(left)\n",
        "          else:\n",
        "\n",
        "            right = mid-1\n",
        "\n",
        "        return nums.index(max)\n",
        "\n",
        "\n",
        "\n",
        "res = Solution()\n",
        "res.findPeakElement(nums = [1,2,1,3,5,6,4])"
      ],
      "metadata": {
        "colab": {
          "base_uri": "https://localhost:8080/"
        },
        "id": "Pp6tXY6g1zJM",
        "outputId": "f8967700-2db8-49db-f9b6-a71c9547f270"
      },
      "execution_count": null,
      "outputs": [
        {
          "output_type": "stream",
          "name": "stdout",
          "text": [
            "4\n",
            "6\n"
          ]
        },
        {
          "output_type": "execute_result",
          "data": {
            "text/plain": [
              "5"
            ]
          },
          "metadata": {},
          "execution_count": 79
        }
      ]
    },
    {
      "cell_type": "code",
      "source": [
        "class Solution(object):\n",
        "    def searchRange(self, nums, target):\n",
        "        \"\"\"\n",
        "        :type nums: List[int]\n",
        "        :type target: int\n",
        "        :rtype: List[int]\n",
        "        \"\"\"\n",
        "        left,right = 0, len(nums)-1\n",
        "        lst =[]\n",
        "        while left<=right:\n",
        "\n",
        "          mid = (left+right)//2\n",
        "\n",
        "\n",
        "          if target == nums[mid]:\n",
        "            lst.append(mid)\n",
        "\n",
        "          if nums[left]<target:\n",
        "            left=mid+1\n",
        "          else:\n",
        "            right=mid-1\n",
        "        if not lst:\n",
        "          return [-1,-1]\n",
        "        else:\n",
        "          return lst[::-1]\n",
        "\n",
        "\n",
        "\n",
        "res = Solution()\n",
        "res.searchRange(nums = [5,7,7,8,8,10], target = 8)"
      ],
      "metadata": {
        "colab": {
          "base_uri": "https://localhost:8080/"
        },
        "id": "cb3l6Ubl6qwM",
        "outputId": "0513295f-f015-4d9b-ff38-361376a7c3cb"
      },
      "execution_count": null,
      "outputs": [
        {
          "output_type": "execute_result",
          "data": {
            "text/plain": [
              "[3, 4]"
            ]
          },
          "metadata": {},
          "execution_count": 11
        }
      ]
    },
    {
      "cell_type": "code",
      "source": [
        "import heapq\n",
        "class Solution(object):\n",
        "    def findKthLargest(self, nums, k):\n",
        "        \"\"\"\n",
        "        :type nums: List[int]\n",
        "        :type k: int\n",
        "        :rtype: int\n",
        "        \"\"\"\n",
        "        min_heap = nums[:k]\n",
        "        print(min_heap)\n",
        "        heapq.heapify(min_heap)\n",
        "        print(heapq)\n",
        "\n",
        "        # Iterate through the remaining elements\n",
        "        for num in nums[k:]:\n",
        "            if num > min_heap[0]:\n",
        "                heapq.heappushpop(min_heap, num)\n",
        "\n",
        "        # The root of the heap is the kth largest element\n",
        "        return min_heap[0]\n",
        "\n",
        "res = Solution()\n",
        "res.findKthLargest(nums = [3,2,1,5,6,4], k = 2)\n"
      ],
      "metadata": {
        "colab": {
          "base_uri": "https://localhost:8080/"
        },
        "id": "dk1QWScz6F42",
        "outputId": "fdb23c6f-0393-4c4c-c2cd-f58241a6ed74"
      },
      "execution_count": null,
      "outputs": [
        {
          "output_type": "stream",
          "name": "stdout",
          "text": [
            "[3, 2]\n",
            "<module 'heapq' from '/usr/lib/python3.11/heapq.py'>\n"
          ]
        },
        {
          "output_type": "execute_result",
          "data": {
            "text/plain": [
              "5"
            ]
          },
          "metadata": {},
          "execution_count": 16
        }
      ]
    },
    {
      "cell_type": "code",
      "source": [
        "class Solution(object):\n",
        "    def plusOne(self, digits):\n",
        "        \"\"\"\n",
        "        :type digits: List[int]\n",
        "        :rtype: List[int]\n",
        "        \"\"\"\n",
        "        s = ''\n",
        "        for i in digits:\n",
        "          s+=str(i)\n",
        "        s =int(s)+1\n",
        "        s = [int(i) for i in list(str(s))]\n",
        "\n",
        "\n",
        "        return s\n",
        "\n",
        "\n",
        "res = Solution()\n",
        "res.plusOne([1,2,3])"
      ],
      "metadata": {
        "colab": {
          "base_uri": "https://localhost:8080/"
        },
        "id": "Hh9I0gkRAi1I",
        "outputId": "df63b402-9733-4bfd-d167-6c64ebdae594"
      },
      "execution_count": null,
      "outputs": [
        {
          "output_type": "execute_result",
          "data": {
            "text/plain": [
              "[1, 2, 4]"
            ]
          },
          "metadata": {},
          "execution_count": 42
        }
      ]
    },
    {
      "cell_type": "code",
      "source": [
        "class Solution(object):\n",
        "    def plusOne(self, digits):\n",
        "        s = ''.join(map(str, digits))\n",
        "        print(s)\n",
        "        n = int(s)\n",
        "        n = n+1\n",
        "\n",
        "        new = list(map(int, str(n)))\n",
        "        return new\n",
        "res = Solution()\n",
        "res.plusOne([1,2,3])"
      ],
      "metadata": {
        "colab": {
          "base_uri": "https://localhost:8080/"
        },
        "id": "NGpH6oEaDR7-",
        "outputId": "af362301-7cd5-49a0-f464-c8fa86dc51ea"
      },
      "execution_count": null,
      "outputs": [
        {
          "output_type": "stream",
          "name": "stdout",
          "text": [
            "123\n"
          ]
        },
        {
          "output_type": "execute_result",
          "data": {
            "text/plain": [
              "[1, 2, 4]"
            ]
          },
          "metadata": {},
          "execution_count": 36
        }
      ]
    },
    {
      "cell_type": "code",
      "source": [
        "class Solution(object):\n",
        "    def mySqrt(self, x):\n",
        "        \"\"\"\n",
        "        :type x: int\n",
        "        :rtype: int\n",
        "        \"\"\"\n",
        "        for i in range(1,x+1):\n",
        "          if x == i*i:\n",
        "            return i\n",
        "          if x == i*i:\n",
        "\n",
        "\n",
        "res = Solution()\n",
        "res.mySqrt(4)\n"
      ],
      "metadata": {
        "colab": {
          "base_uri": "https://localhost:8080/"
        },
        "id": "TdWejs9RGvfT",
        "outputId": "cd53793f-17e7-4c85-89be-58499fcd831e"
      },
      "execution_count": null,
      "outputs": [
        {
          "output_type": "execute_result",
          "data": {
            "text/plain": [
              "2"
            ]
          },
          "metadata": {},
          "execution_count": 50
        }
      ]
    },
    {
      "cell_type": "code",
      "source": [
        "class Solution:\n",
        "    def mySqrt(self, x: int) -> int:\n",
        "        left = 0\n",
        "        right = x\n",
        "        while left <= right:\n",
        "            mid = (left + right) // 2\n",
        "            if mid * mid < x:\n",
        "                left = mid + 1\n",
        "            elif mid * mid > x:\n",
        "                right = mid -1\n",
        "            else:\n",
        "                return mid\n",
        "\n",
        "        return right\n",
        "res = Solution()\n",
        "res.mySqrt(8)"
      ],
      "metadata": {
        "colab": {
          "base_uri": "https://localhost:8080/"
        },
        "id": "2d5bm6dQJ9b_",
        "outputId": "6ed554e8-532c-4ba5-d446-b7bbc0b95071"
      },
      "execution_count": null,
      "outputs": [
        {
          "output_type": "execute_result",
          "data": {
            "text/plain": [
              "2"
            ]
          },
          "metadata": {},
          "execution_count": 1
        }
      ]
    },
    {
      "cell_type": "code",
      "source": [
        "class Solution(object):\n",
        "    def trailingZeroes(self, n):\n",
        "        \"\"\"\n",
        "        :type n: int\n",
        "        :rtype: int\n",
        "        \"\"\"\n",
        "        def res(n):\n",
        "          if not n:\n",
        "            return 1\n",
        "          else:\n",
        "            num =  n* res(n-1)\n",
        "            return num\n",
        "        print(list(map(int,str(res(n)))))\n",
        "        if list(map(int,str(res(n))))[-1]!=0:\n",
        "          return 0\n",
        "        else:\n",
        "          return list(map(int,str(res(n))))[-1]\n",
        "\n",
        "\n",
        "\n",
        "res = Solution()\n",
        "res.trailingZeroes(n = 10)"
      ],
      "metadata": {
        "colab": {
          "base_uri": "https://localhost:8080/"
        },
        "id": "Forej5V8KAC1",
        "outputId": "9b4665db-a73b-46e9-b0d2-98bd30785d4f"
      },
      "execution_count": null,
      "outputs": [
        {
          "output_type": "stream",
          "name": "stdout",
          "text": [
            "[3, 6, 2, 8, 8, 0, 0]\n"
          ]
        },
        {
          "output_type": "execute_result",
          "data": {
            "text/plain": [
              "0"
            ]
          },
          "metadata": {},
          "execution_count": 49
        }
      ]
    },
    {
      "cell_type": "code",
      "source": [
        "class Solution(object):\n",
        "    def trailingZeroes(self, n):\n",
        "        \"\"\"\n",
        "        :type n: int\n",
        "        :rtype: list\n",
        "        \"\"\"\n",
        "        factors = []\n",
        "\n",
        "        def factorial(num):\n",
        "            if num == 1 or num == 0:\n",
        "                return 1\n",
        "            else:\n",
        "                return num * factorial(num - 1)\n",
        "\n",
        "        fact = factorial(n)  # Вычисляем факториал\n",
        "        print(fact)\n",
        "        for i in range(1, fact + 1):\n",
        "            if fact % i == 0:\n",
        "                factors.append(i)  # Добавляем множитель в список\n",
        "\n",
        "        return factors\n",
        "\n",
        "# Пример использования\n",
        "solution = Solution()\n",
        "result = solution.trailingZeroes(5)\n",
        "print(result)"
      ],
      "metadata": {
        "colab": {
          "base_uri": "https://localhost:8080/"
        },
        "id": "A_u3qd2bDCNB",
        "outputId": "181ceb21-7fc6-46b7-c990-3fff6a5a33a4"
      },
      "execution_count": null,
      "outputs": [
        {
          "output_type": "stream",
          "name": "stdout",
          "text": [
            "120\n",
            "[1, 2, 3, 4, 5, 6, 8, 10, 12, 15, 20, 24, 30, 40, 60, 120]\n"
          ]
        }
      ]
    },
    {
      "cell_type": "code",
      "source": [
        "list(map(int,str(100))).count(0)"
      ],
      "metadata": {
        "colab": {
          "base_uri": "https://localhost:8080/"
        },
        "id": "VVh4wYhuFAsr",
        "outputId": "37f7d25c-418b-4789-e61c-7cbb737a80d2"
      },
      "execution_count": null,
      "outputs": [
        {
          "output_type": "execute_result",
          "data": {
            "text/plain": [
              "2"
            ]
          },
          "metadata": {},
          "execution_count": 39
        }
      ]
    },
    {
      "cell_type": "code",
      "source": [
        "class Solution(object):\n",
        "    def myPow(self, x, n):\n",
        "        \"\"\"\n",
        "        :type x: float\n",
        "        :type n: int\n",
        "        :rtype: float\n",
        "        \"\"\"\n",
        "        v =1\n",
        "\n",
        "        for _ in range(n):\n",
        "          if n>0:\n",
        "            v*=x\n",
        "          else:\n",
        "\n",
        "\n",
        "        return v\n",
        "\n",
        "\n",
        "\n",
        "solution = Solution()\n",
        "solution.myPow(x = 2, n = -2)"
      ],
      "metadata": {
        "id": "6h5MY2v8G6yb"
      },
      "execution_count": null,
      "outputs": []
    },
    {
      "cell_type": "code",
      "source": [
        "2**(-2)"
      ],
      "metadata": {
        "colab": {
          "base_uri": "https://localhost:8080/"
        },
        "id": "hG4qrQjmKreO",
        "outputId": "f2d65d45-cb8e-4cea-d893-df9672304452"
      },
      "execution_count": null,
      "outputs": [
        {
          "output_type": "execute_result",
          "data": {
            "text/plain": [
              "0.25"
            ]
          },
          "metadata": {},
          "execution_count": 56
        }
      ]
    },
    {
      "cell_type": "code",
      "source": [
        "class Solution:\n",
        "  def serach(self,num):\n",
        "    print(num)\n",
        "    result = []\n",
        "    p1 = 0\n",
        "    p2 = len(num)-1\n",
        "    while p1<=p2:\n",
        "      print(result)\n",
        "      if abs(num[p1])>abs(num[p2]):\n",
        "        result.append((num[p1])**2)\n",
        "        p1+=1\n",
        "      else:\n",
        "        result.append((num[p2])**2)\n",
        "        p2-=1\n",
        "    return list(reversed(result))\n",
        "\n",
        "\n",
        "res = Solution()\n",
        "res.serach([-4,-1,0,3,10])"
      ],
      "metadata": {
        "id": "dzHZmCnJLree",
        "colab": {
          "base_uri": "https://localhost:8080/"
        },
        "outputId": "6a4d44eb-b746-493e-f726-c8c27f289319"
      },
      "execution_count": 20,
      "outputs": [
        {
          "output_type": "stream",
          "name": "stdout",
          "text": [
            "[-4, -1, 0, 3, 10]\n",
            "[]\n",
            "[100]\n",
            "[100, 16]\n",
            "[100, 16, 9]\n",
            "[100, 16, 9, 1]\n"
          ]
        },
        {
          "output_type": "execute_result",
          "data": {
            "text/plain": [
              "[0, 1, 9, 16, 100]"
            ]
          },
          "metadata": {},
          "execution_count": 20
        }
      ]
    },
    {
      "cell_type": "code",
      "source": [
        "class Solution(object):\n",
        "    def moveZeroes(self, nums):\n",
        "        \"\"\"\n",
        "        :type nums: List[int]\n",
        "        :rtype: None Do not return anything, modify nums in-place instead.\n",
        "        \"\"\"\n",
        "        p1 = 0\n",
        "        p2 = 0\n",
        "\n",
        "        while p2<=len(nums)-1:\n",
        "\n",
        "          if nums[p1] == 0:\n",
        "            nums[p1],nums[p2] = nums[p2],nums[p1]\n",
        "\n",
        "            p2+=1\n",
        "          else:\n",
        "            p1+=1\n",
        "\n",
        "        return nums\n",
        "\n",
        "res = Solution()\n",
        "res.moveZeroes([0,1,0,3,12])"
      ],
      "metadata": {
        "colab": {
          "base_uri": "https://localhost:8080/"
        },
        "id": "8po8lEjCgNVl",
        "outputId": "fc3b6a46-6c93-4868-f4c4-e9ff8aecca78"
      },
      "execution_count": 44,
      "outputs": [
        {
          "output_type": "execute_result",
          "data": {
            "text/plain": [
              "[1, 3, 12, 0, 0]"
            ]
          },
          "metadata": {},
          "execution_count": 44
        }
      ]
    },
    {
      "cell_type": "code",
      "source": [
        "class Solution(object):\n",
        "    def isPalindrome(self, head):\n",
        "        \"\"\"\n",
        "        :type head: Optional[ListNode]\n",
        "        :rtype: bool\n",
        "        \"\"\"\n",
        "\n",
        "        p1,p2 = 0,len(head)-1\n",
        "        while p1 <=p2:\n",
        "          if head[p1]==head[p2]:\n",
        "            p1+=1\n",
        "            p2-=1\n",
        "            continue\n",
        "          else:\n",
        "            return False\n",
        "        return True\n",
        "res = Solution()\n",
        "res.isPalindrome([1,2,2,1])"
      ],
      "metadata": {
        "colab": {
          "base_uri": "https://localhost:8080/"
        },
        "id": "gSQ3K1_FrmSN",
        "outputId": "83aac780-6cbf-4678-9ec1-5113aa9405f0"
      },
      "execution_count": 53,
      "outputs": [
        {
          "output_type": "execute_result",
          "data": {
            "text/plain": [
              "True"
            ]
          },
          "metadata": {},
          "execution_count": 53
        }
      ]
    },
    {
      "cell_type": "code",
      "source": [
        "class Solution(object):\n",
        "    def reverseString(self, s):\n",
        "        \"\"\"\n",
        "        :type s: List[str]\n",
        "        :rtype: None Do not return anything, modify s in-place instead.\n",
        "        \"\"\"\n",
        "        p1,p2 = 0,len(s)-1\n",
        "        while p1 <=p2:\n",
        "          s[p1],s[p2]= s[p2],s[p1]\n",
        "          p1+=1\n",
        "          p2-=1\n",
        "        return s\n",
        "res = Solution()\n",
        "res.reverseString([\"h\",\"e\",\"l\",\"l\",\"o\"])\n",
        ""
      ],
      "metadata": {
        "id": "QnGF1Snn8RiL",
        "outputId": "a677cbb0-c1d0-4cad-82fb-39346825a94f",
        "colab": {
          "base_uri": "https://localhost:8080/"
        }
      },
      "execution_count": 55,
      "outputs": [
        {
          "output_type": "execute_result",
          "data": {
            "text/plain": [
              "['o', 'l', 'l', 'e', 'h']"
            ]
          },
          "metadata": {},
          "execution_count": 55
        }
      ]
    },
    {
      "cell_type": "code",
      "source": [
        "class Solution(object):\n",
        "    def intersection(self, nums1, nums2):\n",
        "        \"\"\"\n",
        "        :type nums1: List[int]\n",
        "        :type nums2: List[int]\n",
        "        :rtype: List[int]\n",
        "        \"\"\"\n",
        "        res = set()\n",
        "        p1,p2 = len(nums1)-1,len(nums2)-1\n",
        "        while  p2>0:\n",
        "\n",
        "          if nums1[p1]!=nums2[p2]:\n",
        "\n",
        "            p1-=1\n",
        "          if p1<0:\n",
        "            p2-=1\n",
        "          else:\n",
        "            p2-=1\n",
        "            res.add(nums1[p1])\n",
        "        return list(res)\n",
        "\n",
        "res = Solution()\n",
        "res.intersection([4,9,5], [9,4,9,8,4])\n",
        ""
      ],
      "metadata": {
        "id": "Aly4oNVc9aXK",
        "outputId": "e0ad9933-4f68-47d0-d914-fe94f3568004",
        "colab": {
          "base_uri": "https://localhost:8080/"
        }
      },
      "execution_count": 80,
      "outputs": [
        {
          "output_type": "stream",
          "name": "stdout",
          "text": [
            "set() 2\n",
            "{9} 1\n",
            "{9, 4} 0\n",
            "{9, 4} -1\n"
          ]
        },
        {
          "output_type": "execute_result",
          "data": {
            "text/plain": [
              "[9, 4]"
            ]
          },
          "metadata": {},
          "execution_count": 80
        }
      ]
    },
    {
      "cell_type": "code",
      "source": [
        "class Solution(object):\n",
        "    def intersection(self, nums1, nums2):\n",
        "        \"\"\"\n",
        "        :type nums1: List[int]\n",
        "        :type nums2: List[int]\n",
        "        :rtype: List[int]\n",
        "        \"\"\"\n",
        "        res = []\n",
        "        p1,p2 = 0,0\n",
        "        while  p2<len(nums2) and  p1<len(nums1):\n",
        "\n",
        "\n",
        "          if nums1[p1]==nums2[p2]:\n",
        "            res.append(nums1[p1])\n",
        "            p1+=1\n",
        "            p2+=1\n",
        "          elif nums1[p1]<nums2[p2]:\n",
        "            p2+=1\n",
        "          else:\n",
        "            p1+=1\n",
        "\n",
        "        return res\n",
        "\n",
        "res = Solution()\n",
        "res.intersection([4,9,5], [9,4,9,8,4])\n",
        ""
      ],
      "metadata": {
        "id": "jxYRhF5iEakh",
        "outputId": "92248024-c458-4f99-85a8-88ef9b153fe3",
        "colab": {
          "base_uri": "https://localhost:8080/"
        }
      },
      "execution_count": 91,
      "outputs": [
        {
          "output_type": "stream",
          "name": "stdout",
          "text": [
            "0 0\n",
            "0 1\n",
            "1 2\n",
            "2 3\n",
            "2 4\n"
          ]
        },
        {
          "output_type": "execute_result",
          "data": {
            "text/plain": [
              "[4, 9]"
            ]
          },
          "metadata": {},
          "execution_count": 91
        }
      ]
    },
    {
      "cell_type": "code",
      "source": [],
      "metadata": {
        "id": "h_Ii4LYcMAnJ"
      },
      "execution_count": null,
      "outputs": []
    }
  ]
}