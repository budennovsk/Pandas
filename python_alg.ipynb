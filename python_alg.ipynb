{
  "nbformat": 4,
  "nbformat_minor": 0,
  "metadata": {
    "colab": {
      "provenance": [],
      "authorship_tag": "ABX9TyPy519kWvX1/Vsz79VvV0Af",
      "include_colab_link": true
    },
    "kernelspec": {
      "name": "python3",
      "display_name": "Python 3"
    },
    "language_info": {
      "name": "python"
    }
  },
  "cells": [
    {
      "cell_type": "markdown",
      "metadata": {
        "id": "view-in-github",
        "colab_type": "text"
      },
      "source": [
        "<a href=\"https://colab.research.google.com/github/budennovsk/Pandas/blob/master/python_alg.ipynb\" target=\"_parent\"><img src=\"https://colab.research.google.com/assets/colab-badge.svg\" alt=\"Open In Colab\"/></a>"
      ]
    },
    {
      "cell_type": "code",
      "execution_count": 1,
      "metadata": {
        "colab": {
          "base_uri": "https://localhost:8080/"
        },
        "id": "Kxxih6c6tzeg",
        "outputId": "a9fbed43-1557-491b-e50d-2f0307f89637"
      },
      "outputs": [
        {
          "output_type": "stream",
          "name": "stdout",
          "text": [
            "оло око\n",
            "око оло\n",
            "Нет\n"
          ]
        }
      ],
      "source": [
        "def polinom(s):\n",
        "    s_new = s.replace('-','').replace('!','')\n",
        "    print(s_new)\n",
        "    s_lst = list(s_new)\n",
        "    replace_str = ('').join(s_lst[::-1])\n",
        "    print(replace_str)\n",
        "    if replace_str == s_new:\n",
        "        print('Полиндром')\n",
        "    else:\n",
        "        print('Нет')\n",
        "\n",
        "\n",
        "# polinom('В лесу родилась - елочка!')\n",
        "# polinom('оло поп')\n",
        "polinom('оло око')"
      ]
    },
    {
      "cell_type": "code",
      "source": [
        "def polinom(s):\n",
        "    s_new = s.replace('-','').replace('!','')\n",
        "\n",
        "\n",
        "    lst_a = []\n",
        "    for i in s_new.split():\n",
        "\n",
        "        lst_a.append(('').join(list(i)[::-1]))\n",
        "\n",
        "\n",
        "    if (' ').join(lst_a) == s_new:\n",
        "        print('Полиндром')\n",
        "    else:\n",
        "        print('Нет')\n",
        "\n",
        "\n",
        "# polinom('В лесу родилась - елочка!')\n",
        "polinom('оло поп')\n",
        "# polinom('земля род')"
      ],
      "metadata": {
        "colab": {
          "base_uri": "https://localhost:8080/"
        },
        "id": "z0QMqKnivwDf",
        "outputId": "2f4edac2-5d2a-48a0-a085-4cb2b17d9719"
      },
      "execution_count": 2,
      "outputs": [
        {
          "output_type": "stream",
          "name": "stdout",
          "text": [
            "Полиндром\n"
          ]
        }
      ]
    },
    {
      "cell_type": "code",
      "source": [
        "print([i for i in ['qwert','1234'] if i.isalpha()])"
      ],
      "metadata": {
        "colab": {
          "base_uri": "https://localhost:8080/"
        },
        "id": "YlNcH0A0DOrB",
        "outputId": "82d792c7-1f19-45e8-8763-7082de6f2ec2"
      },
      "execution_count": 3,
      "outputs": [
        {
          "output_type": "stream",
          "name": "stdout",
          "text": [
            "['qwert']\n"
          ]
        }
      ]
    },
    {
      "cell_type": "code",
      "source": [
        "print([i for i in ['qwert','1234'] if i.isdigit()])"
      ],
      "metadata": {
        "colab": {
          "base_uri": "https://localhost:8080/"
        },
        "id": "HW2kqRh_DWKo",
        "outputId": "c2a94baa-9e13-4ef8-a4fa-828e5a5f3666"
      },
      "execution_count": 4,
      "outputs": [
        {
          "output_type": "stream",
          "name": "stdout",
          "text": [
            "['1234']\n"
          ]
        }
      ]
    },
    {
      "cell_type": "code",
      "source": [
        "from typing import List\n",
        "\n",
        "class Solution:\n",
        "    def letterCombinations(self, digits: str) -> List[str]:\n",
        "        if not digits:\n",
        "            return []\n",
        "\n",
        "        phone_map = {\n",
        "            '2': 'abc',\n",
        "            '3': 'def',\n",
        "            '4': 'ghi',\n",
        "            '5': 'jkl',\n",
        "            '6': 'mno',\n",
        "            '7': 'pqrs',\n",
        "            '8': 'tuv',\n",
        "            '9': 'wxyz'\n",
        "        }\n",
        "\n",
        "        def backtrack(index, path):\n",
        "            if index == len(digits):\n",
        "                combinations.append(''.join(path))\n",
        "                return\n",
        "\n",
        "            possible_letters = phone_map[digits[index]]\n",
        "            print(possible_letters)\n",
        "            for letter in possible_letters:\n",
        "                path.append(letter)\n",
        "                backtrack(index + 1, path)\n",
        "                path.pop()\n",
        "\n",
        "        combinations = []\n",
        "        backtrack(0, [])\n",
        "        return combinations\n",
        "\n",
        "# Example usage:\n",
        "solution = Solution()\n",
        "print(solution.letterCombinations(\"23\"))  # Output: [\"ad\",\"ae\",\"af\",\"bd\",\"be\",\"bf\",\"cd\",\"ce\",\"cf\"]"
      ],
      "metadata": {
        "colab": {
          "base_uri": "https://localhost:8080/"
        },
        "id": "rMcGsWozDtKG",
        "outputId": "770d33d5-8196-45e5-c8be-a817d4d454d4"
      },
      "execution_count": 5,
      "outputs": [
        {
          "output_type": "stream",
          "name": "stdout",
          "text": [
            "abc\n",
            "def\n",
            "def\n",
            "def\n",
            "['ad', 'ae', 'af', 'bd', 'be', 'bf', 'cd', 'ce', 'cf']\n"
          ]
        }
      ]
    },
    {
      "cell_type": "code",
      "source": [
        "class Solution:\n",
        "    def searchInsert(self, nums: List[int], target: int) -> int:\n",
        "\n",
        "      if nums[-1]<target:\n",
        "          return len(nums)\n",
        "      if target in nums:\n",
        "          return nums.index(target)\n",
        "      else:\n",
        "        for i in range(len(nums)):\n",
        "          slic = nums[i:i+2]\n",
        "\n",
        "          if slic[0]<target and target<slic[1]:\n",
        "            return i+1\n",
        "\n",
        "solution = Solution()\n",
        "solution.searchInsert([1,3,5,6], 2)"
      ],
      "metadata": {
        "colab": {
          "base_uri": "https://localhost:8080/"
        },
        "id": "YmXkOIvDRnQ-",
        "outputId": "01a77732-503e-43d1-a57a-3082f797f8bf"
      },
      "execution_count": 6,
      "outputs": [
        {
          "output_type": "execute_result",
          "data": {
            "text/plain": [
              "1"
            ]
          },
          "metadata": {},
          "execution_count": 6
        }
      ]
    },
    {
      "cell_type": "code",
      "source": [
        "class Solution:\n",
        "    def permute(self, nums: List[int]) -> List[List[int]]:\n",
        "      er = []\n",
        "      for i in range(len(nums)):\n",
        "        print(nums[i],'ddd')\n",
        "        for k in range(len(nums)):\n",
        "          print(k)\n",
        "          er.append(nums[k:k+1])\n",
        "      print(er)\n",
        "solution = Solution()\n",
        "solution.permute([1,2,3])"
      ],
      "metadata": {
        "colab": {
          "base_uri": "https://localhost:8080/"
        },
        "id": "X5r_v2AXWE7K",
        "outputId": "bce82dbd-47f4-4c64-b951-a509f544232f"
      },
      "execution_count": 7,
      "outputs": [
        {
          "output_type": "stream",
          "name": "stdout",
          "text": [
            "1 ddd\n",
            "0\n",
            "1\n",
            "2\n",
            "2 ddd\n",
            "0\n",
            "1\n",
            "2\n",
            "3 ddd\n",
            "0\n",
            "1\n",
            "2\n",
            "[[1], [2], [3], [1], [2], [3], [1], [2], [3]]\n"
          ]
        }
      ]
    },
    {
      "cell_type": "code",
      "source": [
        "from typing import List\n",
        "\n",
        "def permute(nums: List[int]) -> List[List[int]]:\n",
        "    def backtrack(path):\n",
        "\n",
        "        if len(path) == len(nums):\n",
        "            result.append(path.copy())\n",
        "            return\n",
        "        for num in nums:\n",
        "            if num not in path:\n",
        "                path.append(num)\n",
        "                backtrack(path)\n",
        "                path.pop()\n",
        "\n",
        "    result = []\n",
        "    backtrack([])\n",
        "    return result\n",
        "\n",
        "# Пример использования:\n",
        "nums = [1, 2, 3]\n",
        "print(permute(nums))  # Output: [[1, 2, 3], [1, 3, 2], [2, 1, 3], [2, 3, 1], [3, 1, 2], [3, 2, 1]]"
      ],
      "metadata": {
        "id": "1YgtMhEzfhTH",
        "colab": {
          "base_uri": "https://localhost:8080/"
        },
        "outputId": "600297ca-a443-4122-9fa1-95441661f342"
      },
      "execution_count": 8,
      "outputs": [
        {
          "output_type": "stream",
          "name": "stdout",
          "text": [
            "[[1, 2, 3], [1, 3, 2], [2, 1, 3], [2, 3, 1], [3, 1, 2], [3, 2, 1]]\n"
          ]
        }
      ]
    },
    {
      "cell_type": "code",
      "source": [
        "from typing import List\n",
        "\n",
        "def permute(nums: List[int]) -> List[List[int]]:\n",
        "    if not nums:\n",
        "        return []\n",
        "\n",
        "    result = [[]]\n",
        "\n",
        "    for num in nums:\n",
        "        new_result = []\n",
        "        for perm in result:\n",
        "            for i in range(len(perm) + 1):\n",
        "                print(perm[:i] + [num] + perm[i:])\n",
        "                new_result.append(perm[:i] + [num] + perm[i:])\n",
        "        result = new_result\n",
        "\n",
        "    return result\n",
        "\n",
        "# Пример использования:\n",
        "nums = [1, 2, 3]\n",
        "print(permute(nums))  # Output: [[1, 2, 3], [1, 3, 2], [2, 1, 3], [2, 3, 1], [3, 1, 2], [3, 2, 1]]"
      ],
      "metadata": {
        "colab": {
          "base_uri": "https://localhost:8080/"
        },
        "id": "kdF_dYbgDYtV",
        "outputId": "8e024a87-97e4-4ce2-c3d9-73c3472d11e1"
      },
      "execution_count": 9,
      "outputs": [
        {
          "output_type": "stream",
          "name": "stdout",
          "text": [
            "[1]\n",
            "[2, 1]\n",
            "[1, 2]\n",
            "[3, 2, 1]\n",
            "[2, 3, 1]\n",
            "[2, 1, 3]\n",
            "[3, 1, 2]\n",
            "[1, 3, 2]\n",
            "[1, 2, 3]\n",
            "[[3, 2, 1], [2, 3, 1], [2, 1, 3], [3, 1, 2], [1, 3, 2], [1, 2, 3]]\n"
          ]
        }
      ]
    },
    {
      "cell_type": "code",
      "source": [
        "class Solution:\n",
        "    def merge(self, nums1: List[int], m: int, nums2: List[int], n: int) -> None:\n",
        "        \"\"\"\n",
        "        Do not return anything, modify nums1 in-place instead.\n",
        "        \"\"\"\n",
        "        nums1.extend(nums2)\n",
        "\n",
        "        res_sort =  sorted([i for i in nums1 if i !=0])\n",
        "        nums1 = []\n",
        "        nums1 = res_sort\n",
        "\n",
        "\n",
        "solution = Solution()\n",
        "solution.merge([1,2,3,0,0,0], 3, [2,5,6],3 )"
      ],
      "metadata": {
        "id": "N-e0dkboDbXA"
      },
      "execution_count": 10,
      "outputs": []
    },
    {
      "cell_type": "code",
      "source": [
        "class Solution:\n",
        "    def strStr(self, haystack: str, needle: str) -> int:\n",
        "      indices = [index for index, char in enumerate(haystack) if char == needle[0]]\n",
        "      print(indices)\n",
        "\n",
        "      for i in range(len(haystack)):\n",
        "        if needle in haystack[i:i+len(needle)]:\n",
        "          # if needle[0]== haystack[i:i+len(needle)][0]:\n",
        "          # print(haystack[i:i+len(needle)])\n",
        "          print('d')\n",
        "\n",
        "\n",
        "solution = Solution()\n",
        "solution.strStr(haystack = \"sadbutsad\", needle = \"sad\")\n"
      ],
      "metadata": {
        "colab": {
          "base_uri": "https://localhost:8080/"
        },
        "id": "cPdk0LEeKLty",
        "outputId": "c0e3fafb-13be-407c-a2ad-a3994b7f6cfa"
      },
      "execution_count": 11,
      "outputs": [
        {
          "output_type": "stream",
          "name": "stdout",
          "text": [
            "[0, 6]\n",
            "d\n",
            "d\n"
          ]
        }
      ]
    },
    {
      "cell_type": "code",
      "source": [
        "class Solution:\n",
        "    def strStr(self, haystack: str, needle: str) -> int:\n",
        "      if needle in haystack:\n",
        "\n",
        "        indices = [index for index, char in enumerate(haystack) if char == needle[0]]\n",
        "        return indices[0]\n",
        "      else:\n",
        "         return -1\n",
        "\n",
        "\n",
        "\n",
        "\n",
        "solution = Solution()\n",
        "solution.strStr(haystack = \"sadbutsad\", needle = \"sad\")\n"
      ],
      "metadata": {
        "id": "ZAQHZRN6OmWb",
        "colab": {
          "base_uri": "https://localhost:8080/"
        },
        "outputId": "fd2776bf-f7de-4597-c007-9a351785637e"
      },
      "execution_count": 12,
      "outputs": [
        {
          "output_type": "execute_result",
          "data": {
            "text/plain": [
              "0"
            ]
          },
          "metadata": {},
          "execution_count": 12
        }
      ]
    },
    {
      "cell_type": "code",
      "source": [
        "class Solution:\n",
        "    def strStr(self, haystack: str, needle: str) -> int:\n",
        "\n",
        "        if len(haystack) < len(needle):\n",
        "            return -1\n",
        "\n",
        "        for i in range(len(haystack)):\n",
        "            if haystack[i:i+len(needle)] == needle:\n",
        "                return i\n",
        "\n",
        "        # return -1\n",
        "solution = Solution()\n",
        "solution.strStr(haystack = \"sadbutsad\", needle = \"sad\")"
      ],
      "metadata": {
        "colab": {
          "base_uri": "https://localhost:8080/"
        },
        "id": "Z-oASXvjPTj1",
        "outputId": "6df4691c-a478-4c98-8148-177d4c2452b9"
      },
      "execution_count": 13,
      "outputs": [
        {
          "output_type": "execute_result",
          "data": {
            "text/plain": [
              "0"
            ]
          },
          "metadata": {},
          "execution_count": 13
        }
      ]
    },
    {
      "cell_type": "code",
      "source": [
        "class Solution:\n",
        "    def isPalindrome(self, s: str) -> bool:\n",
        "      return True if ('').join([i.lower() for i in s if i.isalpha()]) == ('').join([i.lower() for i in s if i.isalpha()][::-1]) else False\n",
        "\n",
        "\n",
        "\n",
        "solution = Solution()\n",
        "solution.isPalindrome(\"race a car\")"
      ],
      "metadata": {
        "colab": {
          "base_uri": "https://localhost:8080/"
        },
        "id": "rFgg6SZ0V8n5",
        "outputId": "54dc23f4-571e-44d4-d9fd-903b71feecd6"
      },
      "execution_count": 14,
      "outputs": [
        {
          "output_type": "execute_result",
          "data": {
            "text/plain": [
              "False"
            ]
          },
          "metadata": {},
          "execution_count": 14
        }
      ]
    },
    {
      "cell_type": "code",
      "source": [
        "class Solution:\n",
        "    def isPalindrome(self, s: str) -> bool:\n",
        "       refact = ('').join([i.lower() for i in s if i.isalpha()])\n",
        "       print(len(refact))\n",
        "       lengh = len(refact)//2\n",
        "       print(lengh)\n",
        "       for i in range(lengh):\n",
        "          if refact[i] != refact[-i-1]:\n",
        "            return False\n",
        "       return True\n",
        "\n",
        "\n",
        "solution = Solution()\n",
        "solution.isPalindrome(\"A man, a plan, a canal: Panama\")"
      ],
      "metadata": {
        "colab": {
          "base_uri": "https://localhost:8080/"
        },
        "id": "aWBb778-XlkI",
        "outputId": "42b3c796-6163-4b21-8a96-6b72d637a7ec"
      },
      "execution_count": 15,
      "outputs": [
        {
          "output_type": "stream",
          "name": "stdout",
          "text": [
            "21\n",
            "10\n"
          ]
        },
        {
          "output_type": "execute_result",
          "data": {
            "text/plain": [
              "True"
            ]
          },
          "metadata": {},
          "execution_count": 15
        }
      ]
    },
    {
      "cell_type": "code",
      "source": [
        "class Solution:\n",
        "    def isSubsequence(self, s: str, t: str) -> bool:\n",
        "      count = 0\n",
        "      for i in s:\n",
        "\n",
        "        if i in t:\n",
        "          count+=1\n",
        "\n",
        "      return True if len(s)== count else False\n",
        "\n",
        "solution = Solution()\n",
        "solution.isSubsequence(\"abc\",\"ahbgdc\")"
      ],
      "metadata": {
        "colab": {
          "base_uri": "https://localhost:8080/"
        },
        "id": "h9pd7E_RY3yP",
        "outputId": "9bb1f874-fced-4aad-cb57-135d1519e9ca"
      },
      "execution_count": 16,
      "outputs": [
        {
          "output_type": "execute_result",
          "data": {
            "text/plain": [
              "True"
            ]
          },
          "metadata": {},
          "execution_count": 16
        }
      ]
    },
    {
      "cell_type": "code",
      "source": [
        "class Solution:\n",
        "    def isSubsequence(self, s: str, t: str) -> bool:\n",
        "            if not s:\n",
        "                return True\n",
        "            j=0\n",
        "            for i in range(len(t)):\n",
        "                if j<len(s) and t[i]==s[j]:\n",
        "                    j+=1\n",
        "                if j == len(s):\n",
        "                    return True\n",
        "\n",
        "            return False\n",
        "solution = Solution()\n",
        "solution.isSubsequence(\"abc\",\"ahbgdc\")"
      ],
      "metadata": {
        "colab": {
          "base_uri": "https://localhost:8080/"
        },
        "id": "uONXgaK2rZ2F",
        "outputId": "374b067a-65d3-4718-aad7-5aacee78ffe8"
      },
      "execution_count": 17,
      "outputs": [
        {
          "output_type": "execute_result",
          "data": {
            "text/plain": [
              "True"
            ]
          },
          "metadata": {},
          "execution_count": 17
        }
      ]
    },
    {
      "cell_type": "code",
      "source": [
        "from typing import List\n",
        "\n",
        "class Solution:\n",
        "    def twoSum(self, numbers: List[int], target: int) -> List[int]:\n",
        "\n",
        "      for i in range(len(numbers)):\n",
        "        for k in range(i+1,len(numbers)):\n",
        "          s = sum([numbers[i],numbers[k]])\n",
        "          print(s)\n",
        "          if s ==target:\n",
        "              return [i+1,k+1]\n",
        "\n",
        "solution = Solution()\n",
        "solution.twoSum([1,2,3,4,4,9,56,90], 8 )"
      ],
      "metadata": {
        "colab": {
          "base_uri": "https://localhost:8080/"
        },
        "id": "n4B9dJ_Ktn9w",
        "outputId": "a07f9e04-1e37-429c-9728-b2bc8a501b51"
      },
      "execution_count": 18,
      "outputs": [
        {
          "output_type": "stream",
          "name": "stdout",
          "text": [
            "3\n",
            "4\n",
            "5\n",
            "5\n",
            "10\n",
            "57\n",
            "91\n",
            "5\n",
            "6\n",
            "6\n",
            "11\n",
            "58\n",
            "92\n",
            "7\n",
            "7\n",
            "12\n",
            "59\n",
            "93\n",
            "8\n"
          ]
        },
        {
          "output_type": "execute_result",
          "data": {
            "text/plain": [
              "[4, 5]"
            ]
          },
          "metadata": {},
          "execution_count": 18
        }
      ]
    },
    {
      "cell_type": "code",
      "source": [
        "class Solution:\n",
        "    def twoSum(self, numbers: List[int], target: int) -> List[int]:\n",
        "        left = 0\n",
        "        right = len(numbers) - 1\n",
        "\n",
        "        while left < right:\n",
        "            print('v')\n",
        "            total = numbers[left] + numbers[right]\n",
        "\n",
        "            if total == target:\n",
        "                return [left + 1, right + 1]\n",
        "            elif total > target:\n",
        "                right -= 1\n",
        "            else:\n",
        "                left += 1\n",
        "solution = Solution()\n",
        "solution.twoSum([1,2,3,4,4,9,56,90], 8 )"
      ],
      "metadata": {
        "id": "34mP2lCHuHcc",
        "colab": {
          "base_uri": "https://localhost:8080/"
        },
        "outputId": "83969e80-74d2-41e6-b1a8-78401ac55de3"
      },
      "execution_count": 19,
      "outputs": [
        {
          "output_type": "stream",
          "name": "stdout",
          "text": [
            "v\n",
            "v\n",
            "v\n",
            "v\n",
            "v\n",
            "v\n",
            "v\n"
          ]
        },
        {
          "output_type": "execute_result",
          "data": {
            "text/plain": [
              "[4, 5]"
            ]
          },
          "metadata": {},
          "execution_count": 19
        }
      ]
    },
    {
      "cell_type": "code",
      "source": [
        "class Solution:\n",
        "    def maxArea(self, height: List[int]) -> int:\n",
        "      max_total = 0\n",
        "      for i in range(1,len(height)+1):\n",
        "          for k in range(i+1, len(height)+1):\n",
        "              if height[i]<height[k-1]:\n",
        "                total = i*height[k-1]\n",
        "\n",
        "                if total > max_total:\n",
        "                  max_total=total\n",
        "      return max_total\n",
        "\n",
        "solution = Solution()\n",
        "solution.maxArea([1,8,6,2,5,4,8,3,7] )"
      ],
      "metadata": {
        "colab": {
          "base_uri": "https://localhost:8080/"
        },
        "id": "R_7NTVCQ86d0",
        "outputId": "49769f71-a44c-4d56-d4a1-554e25812899"
      },
      "execution_count": 20,
      "outputs": [
        {
          "output_type": "execute_result",
          "data": {
            "text/plain": [
              "49"
            ]
          },
          "metadata": {},
          "execution_count": 20
        }
      ]
    },
    {
      "cell_type": "code",
      "source": [
        "class Solution:\n",
        "    def maxArea(self, height: List[int]) -> int:\n",
        "      max_total = 0\n",
        "      for i in range(1,len(height)+1):\n",
        "          for k in range(i+1, len(height)+1):\n",
        "              if height[i]<height[k-1]:\n",
        "                total = i*height[k-1]\n",
        "                if total > max_total:\n",
        "                  max_total=total\n",
        "\n",
        "\n",
        "      return max_total\n",
        "solution = Solution()\n",
        "solution.maxArea([1,8,6,2,5,4,8,3,7])"
      ],
      "metadata": {
        "colab": {
          "base_uri": "https://localhost:8080/"
        },
        "id": "-RfaKYRqPN91",
        "outputId": "31198228-fc75-43ce-e681-2301f4f498f4"
      },
      "execution_count": 21,
      "outputs": [
        {
          "output_type": "execute_result",
          "data": {
            "text/plain": [
              "49"
            ]
          },
          "metadata": {},
          "execution_count": 21
        }
      ]
    },
    {
      "cell_type": "code",
      "source": [
        "class Solution:\n",
        "    def maxArea(self, height: List[int]) -> int:\n",
        "        left = 0\n",
        "        right = len(height) - 1\n",
        "        maxArea = 0\n",
        "\n",
        "        while left < right:\n",
        "            currentArea = min(height[left], height[right]) * (right - left)\n",
        "            maxArea = max(maxArea, currentArea)\n",
        "\n",
        "            if height[left] < height[right]:\n",
        "                left += 1\n",
        "            else:\n",
        "                right -= 1\n",
        "\n",
        "        return maxArea\n",
        "solution = Solution()\n",
        "solution.maxArea([1,8,6,2,5,4,8,3,7])"
      ],
      "metadata": {
        "colab": {
          "base_uri": "https://localhost:8080/"
        },
        "id": "bLbDqPtlPPyb",
        "outputId": "4e4bb57a-c206-458e-bd2d-91cf54d3299b"
      },
      "execution_count": 22,
      "outputs": [
        {
          "output_type": "execute_result",
          "data": {
            "text/plain": [
              "49"
            ]
          },
          "metadata": {},
          "execution_count": 22
        }
      ]
    },
    {
      "cell_type": "code",
      "source": [
        "from typing import List\n",
        "class Solution:\n",
        "    def maxArea(self, height: List[int]) -> int:\n",
        "        left = 0\n",
        "        right = len(height)-1\n",
        "\n",
        "        area = 0\n",
        "\n",
        "        while left < right:\n",
        "          total = min(height[left],height[right])* (right-left)\n",
        "          if area< total:\n",
        "            area = total\n",
        "          if height[left]<height[right]:\n",
        "            left +=1\n",
        "          else:\n",
        "            right -=1\n",
        "        print(area)\n",
        "solution = Solution()\n",
        "solution.maxArea([1,8,6,2,5,4,8,3,7])"
      ],
      "metadata": {
        "colab": {
          "base_uri": "https://localhost:8080/"
        },
        "id": "dE8J1eEQbHsc",
        "outputId": "869fd89a-0d48-41a6-8268-97fed538c74d"
      },
      "execution_count": 23,
      "outputs": [
        {
          "output_type": "stream",
          "name": "stdout",
          "text": [
            "49\n"
          ]
        }
      ]
    },
    {
      "cell_type": "code",
      "source": [
        "class Solution:\n",
        "    def threeSum(self, nums: List[int]) -> List[List[int]]:\n",
        "      sort_val =[]\n",
        "      for i in range(len(nums)):\n",
        "        for k in range(i+1,len(nums)):\n",
        "          for q in range(k+1,len(nums)):\n",
        "            total = sum([nums[i],nums[k],nums[q]])\n",
        "            if total == 0:\n",
        "              if sorted([nums[i],nums[k],nums[q]]) not in sort_val:\n",
        "                sort_val.append(sorted([nums[i],nums[k],nums[q]]))\n",
        "      print(sort_val)\n",
        "\n",
        "\n",
        "solution = Solution()\n",
        "solution.threeSum([-1,0,1,2,-1,-4])\n"
      ],
      "metadata": {
        "colab": {
          "base_uri": "https://localhost:8080/"
        },
        "id": "6QSkVhjJbEMJ",
        "outputId": "e2e45d9c-6b1d-4ce2-f3d2-e6972762894f"
      },
      "execution_count": 24,
      "outputs": [
        {
          "output_type": "stream",
          "name": "stdout",
          "text": [
            "[[-1, 0, 1], [-1, -1, 2]]\n"
          ]
        }
      ]
    },
    {
      "cell_type": "code",
      "source": [
        "class Solution:\n",
        "    def threeSum(self, nums: List[int]) -> List[List[int]]:\n",
        "        n,ans = len(nums),set()\n",
        "        nums.sort()\n",
        "        for i in range(n):\n",
        "            j,k = i+1,n-1\n",
        "            while j<=k:\n",
        "                s = nums[i] + nums[j] + nums[k]\n",
        "\n",
        "                if i != j and i != k and j != k and  s== 0:\n",
        "                    ans.add((nums[i],nums[j],nums[k]))\n",
        "                    j+=1\n",
        "                    k-=1\n",
        "                elif s>0:\n",
        "                    k-=1\n",
        "                else:\n",
        "                    j+=1\n",
        "        return ans\n",
        "\n",
        "solution = Solution()\n",
        "solution.threeSum([-1,0,1,2,-1,-4])\n"
      ],
      "metadata": {
        "id": "9maNWbuAI38e",
        "colab": {
          "base_uri": "https://localhost:8080/"
        },
        "outputId": "60a93f37-c592-465d-942e-ebe6622b5e5a"
      },
      "execution_count": 25,
      "outputs": [
        {
          "output_type": "execute_result",
          "data": {
            "text/plain": [
              "{(-1, -1, 2), (-1, 0, 1)}"
            ]
          },
          "metadata": {},
          "execution_count": 25
        }
      ]
    },
    {
      "cell_type": "code",
      "source": [
        "class Solution:\n",
        "    def threeSum(self, target: int, nums: List[int]) -> int:\n",
        "      min_total = []\n",
        "      only = all([i==nums[0] for i in nums])\n",
        "\n",
        "      for i in range(len(nums)):\n",
        "        for j in range(i+1,len(nums)+2):\n",
        "          total =sum(nums[i:j])\n",
        "\n",
        "\n",
        "          if total == target and nums[i:j] not in min_total :\n",
        "            min_total.append(len(nums[i:j]))\n",
        "          if only:\n",
        "            return target\n",
        "\n",
        "\n",
        "      return (min_total)\n",
        "\n",
        "\n",
        "\n",
        "\n",
        "\n",
        "\n",
        "\n",
        "\n",
        "solution = Solution()\n",
        "solution.threeSum(11,[1,2,3,4,5])\n"
      ],
      "metadata": {
        "colab": {
          "base_uri": "https://localhost:8080/"
        },
        "id": "BvUw6GL1UdY_",
        "outputId": "f00f7cf9-c739-44e8-f79b-ecc8a3478fbf"
      },
      "execution_count": 26,
      "outputs": [
        {
          "output_type": "execute_result",
          "data": {
            "text/plain": [
              "[]"
            ]
          },
          "metadata": {},
          "execution_count": 26
        }
      ]
    },
    {
      "cell_type": "code",
      "source": [
        "from re import L\n",
        "class Solution:\n",
        "    def lengthOfLongestSubstring(self, s: str) -> int:\n",
        "      lst_s = list(s)\n",
        "\n",
        "      qw = 0\n",
        "      only = all([i==lst_s[0] for i in lst_s])\n",
        "      for i in range(0,len(lst_s)):\n",
        "\n",
        "\n",
        "        for j in range(i+1,len(lst_s)+1):\n",
        "\n",
        "\n",
        "          if lst_s[i]!=lst_s[j-1] and len(lst_s[i:j]) == len(set(lst_s[i:j])):\n",
        "\n",
        "\n",
        "              if qw<len(lst_s[i:j]):\n",
        "\n",
        "                qw = len(lst_s[i:j])\n",
        "          if only:\n",
        "            return 1\n",
        "\n",
        "      return qw\n",
        "\n",
        "\n",
        "\n",
        "\n",
        "\n",
        "\n",
        "solution = Solution()\n",
        "solution.lengthOfLongestSubstring('pwwkew')\n"
      ],
      "metadata": {
        "id": "ZwKvtIRUW8ec",
        "colab": {
          "base_uri": "https://localhost:8080/"
        },
        "outputId": "d507f8e3-ca0c-467a-d536-61c066b75de3"
      },
      "execution_count": 27,
      "outputs": [
        {
          "output_type": "execute_result",
          "data": {
            "text/plain": [
              "3"
            ]
          },
          "metadata": {},
          "execution_count": 27
        }
      ]
    },
    {
      "cell_type": "code",
      "source": [
        "from typing import List\n",
        "class Solution:\n",
        "    def spiralOrder(self, matrix: List[List[int]]) -> List[int]:\n",
        "      new_matrix = [[0 for _ in range(3)] for _ in range(3)]\n",
        "\n",
        "\n",
        "      row_index = 0\n",
        "      col_index = 0\n",
        "\n",
        "      # Цикл для строк\n",
        "      while row_index < len(matrix):\n",
        "          # Цикл для столбцов\n",
        "          while col_index < len(matrix[row_index]):\n",
        "              # Вывод элемента\n",
        "\n",
        "\n",
        "              print(matrix[row_index][col_index])\n",
        "              # Увеличение индекса столбца\n",
        "              # col_index += 1\n",
        "              if row_index ==0 and col_index ==3:\n",
        "                row_index+=1\n",
        "              else:\n",
        "                col_index+=1\n",
        "\n",
        "          # # Увеличение индекса строки и сброс индекса столбца\n",
        "          # row_index += 1\n",
        "          # col_index = 0\n",
        "\n",
        "\n",
        "\n",
        "solution = Solution()\n",
        "solution.spiralOrder([[1,2,3],[4,5,6],[7,8,9]])"
      ],
      "metadata": {
        "colab": {
          "base_uri": "https://localhost:8080/",
          "height": 349
        },
        "id": "NjrMPWjmbVUD",
        "outputId": "2445922e-353a-4537-fbc3-ebc615563b9c"
      },
      "execution_count": 28,
      "outputs": [
        {
          "output_type": "stream",
          "name": "stdout",
          "text": [
            "1\n",
            "2\n",
            "3\n"
          ]
        },
        {
          "output_type": "error",
          "ename": "KeyboardInterrupt",
          "evalue": "",
          "traceback": [
            "\u001b[0;31m---------------------------------------------------------------------------\u001b[0m",
            "\u001b[0;31mKeyboardInterrupt\u001b[0m                         Traceback (most recent call last)",
            "\u001b[0;32m<ipython-input-28-492c9dd8ade3>\u001b[0m in \u001b[0;36m<cell line: 32>\u001b[0;34m()\u001b[0m\n\u001b[1;32m     30\u001b[0m \u001b[0;34m\u001b[0m\u001b[0m\n\u001b[1;32m     31\u001b[0m \u001b[0msolution\u001b[0m \u001b[0;34m=\u001b[0m \u001b[0mSolution\u001b[0m\u001b[0;34m(\u001b[0m\u001b[0;34m)\u001b[0m\u001b[0;34m\u001b[0m\u001b[0;34m\u001b[0m\u001b[0m\n\u001b[0;32m---> 32\u001b[0;31m \u001b[0msolution\u001b[0m\u001b[0;34m.\u001b[0m\u001b[0mspiralOrder\u001b[0m\u001b[0;34m(\u001b[0m\u001b[0;34m[\u001b[0m\u001b[0;34m[\u001b[0m\u001b[0;36m1\u001b[0m\u001b[0;34m,\u001b[0m\u001b[0;36m2\u001b[0m\u001b[0;34m,\u001b[0m\u001b[0;36m3\u001b[0m\u001b[0;34m]\u001b[0m\u001b[0;34m,\u001b[0m\u001b[0;34m[\u001b[0m\u001b[0;36m4\u001b[0m\u001b[0;34m,\u001b[0m\u001b[0;36m5\u001b[0m\u001b[0;34m,\u001b[0m\u001b[0;36m6\u001b[0m\u001b[0;34m]\u001b[0m\u001b[0;34m,\u001b[0m\u001b[0;34m[\u001b[0m\u001b[0;36m7\u001b[0m\u001b[0;34m,\u001b[0m\u001b[0;36m8\u001b[0m\u001b[0;34m,\u001b[0m\u001b[0;36m9\u001b[0m\u001b[0;34m]\u001b[0m\u001b[0;34m]\u001b[0m\u001b[0;34m)\u001b[0m\u001b[0;34m\u001b[0m\u001b[0;34m\u001b[0m\u001b[0m\n\u001b[0m",
            "\u001b[0;32m<ipython-input-28-492c9dd8ade3>\u001b[0m in \u001b[0;36mspiralOrder\u001b[0;34m(self, matrix)\u001b[0m\n\u001b[1;32m      9\u001b[0m \u001b[0;34m\u001b[0m\u001b[0m\n\u001b[1;32m     10\u001b[0m       \u001b[0;31m# Цикл для строк\u001b[0m\u001b[0;34m\u001b[0m\u001b[0;34m\u001b[0m\u001b[0m\n\u001b[0;32m---> 11\u001b[0;31m       \u001b[0;32mwhile\u001b[0m \u001b[0mrow_index\u001b[0m \u001b[0;34m<\u001b[0m \u001b[0mlen\u001b[0m\u001b[0;34m(\u001b[0m\u001b[0mmatrix\u001b[0m\u001b[0;34m)\u001b[0m\u001b[0;34m:\u001b[0m\u001b[0;34m\u001b[0m\u001b[0;34m\u001b[0m\u001b[0m\n\u001b[0m\u001b[1;32m     12\u001b[0m           \u001b[0;31m# Цикл для столбцов\u001b[0m\u001b[0;34m\u001b[0m\u001b[0;34m\u001b[0m\u001b[0m\n\u001b[1;32m     13\u001b[0m           \u001b[0;32mwhile\u001b[0m \u001b[0mcol_index\u001b[0m \u001b[0;34m<\u001b[0m \u001b[0mlen\u001b[0m\u001b[0;34m(\u001b[0m\u001b[0mmatrix\u001b[0m\u001b[0;34m[\u001b[0m\u001b[0mrow_index\u001b[0m\u001b[0;34m]\u001b[0m\u001b[0;34m)\u001b[0m\u001b[0;34m:\u001b[0m\u001b[0;34m\u001b[0m\u001b[0;34m\u001b[0m\u001b[0m\n",
            "\u001b[0;31mKeyboardInterrupt\u001b[0m: "
          ]
        }
      ]
    },
    {
      "cell_type": "code",
      "source": [
        "def spiralOrder(matrix):\n",
        "    if not matrix:\n",
        "        return []\n",
        "\n",
        "    result = []\n",
        "    top, bottom = 0, len(matrix) - 1\n",
        "    left, right = 0, len(matrix[0]) - 1\n",
        "    print(top,bottom,left,right)\n",
        "\n",
        "    while top <= bottom and left <= right:\n",
        "        # Идем справа налево по верхней строке\n",
        "        for i in range(left, right + 1):\n",
        "\n",
        "            result.append(matrix[top][i])\n",
        "        print('q1')\n",
        "        top += 1\n",
        "\n",
        "        # Идем сверху вниз по правому столбцу\n",
        "        for i in range(top, bottom + 1):\n",
        "\n",
        "            result.append(matrix[i][right])\n",
        "        print('q2')\n",
        "        right -= 1\n",
        "\n",
        "        if top <= bottom:\n",
        "            # Идем слева направо по нижней строке\n",
        "            for i in range(right, left - 1, -1):\n",
        "                result.append(matrix[bottom][i])\n",
        "            print('q3')\n",
        "            bottom -= 1\n",
        "\n",
        "        if left <= right:\n",
        "            # Идем снизу вверх по левому столбцу\n",
        "            for i in range(bottom, top - 1, -1):\n",
        "                result.append(matrix[i][left])\n",
        "            print('q4')\n",
        "            left += 1\n",
        "\n",
        "    return result\n",
        "matrix = [[1,2,3,4],\n",
        "          [5,6,7,8],\n",
        "         [9,10,11,12]]\n",
        "\n",
        "print(spiralOrder(matrix))"
      ],
      "metadata": {
        "id": "QNopk6Rqb8tO"
      },
      "execution_count": null,
      "outputs": []
    },
    {
      "cell_type": "code",
      "source": [
        "def spiralmatrix(lst):\n",
        "\n",
        "  top,bottom = 0, len(lst)-1\n",
        "  left, right = 0, len(lst[0])-1\n",
        "  result = []\n",
        "\n",
        "  while top <= bottom and left <= right:\n",
        "    for i in range(left, right+1):\n",
        "      result.append(lst[top][i])\n",
        "    top+=1\n",
        "\n",
        "    for i in range(top, bottom+1):\n",
        "      result.append(lst[i][right])\n",
        "    right-=1\n",
        "\n",
        "    if top<= bottom:\n",
        "      for i in range(right,left-1,-1):\n",
        "        result.append(lst[bottom][i])\n",
        "      bottom-=1\n",
        "\n",
        "    if left <= right:\n",
        "      for i in range(bottom,top-1,-1):\n",
        "        result.append(lst[i][left])\n",
        "      left+=1\n",
        "\n",
        "  print(result)\n",
        "\n",
        "\n",
        "matrix = [[1,2,3],\n",
        "          [4,5,6],\n",
        "          [7,8,9]]\n",
        "spiralmatrix(matrix)"
      ],
      "metadata": {
        "id": "nyEwM1eO6lO_"
      },
      "execution_count": null,
      "outputs": []
    },
    {
      "cell_type": "code",
      "source": [
        "def main_diag(lst):\n",
        "    k = 0\n",
        "    for i in range(3*3):\n",
        "      if i%3==0:\n",
        "        k+=1\n",
        "\n",
        "        print(lst[k-1][3-k])\n",
        "\n",
        "\n",
        "\n",
        "\n",
        "matrix = [[2,3,5],\n",
        "          [6,2,7],\n",
        "          [1,4,2]]\n",
        "main_diag(matrix)"
      ],
      "metadata": {
        "id": "2roZ_gRw9jfx"
      },
      "execution_count": null,
      "outputs": []
    },
    {
      "cell_type": "code",
      "source": [
        "def main_diag(lst):\n",
        "    k = 0\n",
        "    for i in range(len(lst)):\n",
        "      for k in range(len(lst[0])):\n",
        "          if i + k == len(lst) - 1:\n",
        "                print(lst[i][k])\n",
        "\n",
        "\n",
        "\n",
        "\n",
        "\n",
        "\n",
        "matrix = [[2,3,5],\n",
        "          [6,2,7],\n",
        "          [1,4,2]]\n",
        "main_diag(matrix)"
      ],
      "metadata": {
        "id": "Fr8_azLHIjF6"
      },
      "execution_count": null,
      "outputs": []
    },
    {
      "cell_type": "code",
      "source": [
        "def main_diag(lst):\n",
        "    k = 0\n",
        "    for i in range(len(lst)):\n",
        "      for k in range(len(lst[0])):\n",
        "          if i<2-k:\n",
        "                print(lst[i][k])\n",
        "\n",
        "\n",
        "\n",
        "\n",
        "\n",
        "\n",
        "matrix = [[2,3,5],\n",
        "          [6,2,7],\n",
        "          [1,4,2]]\n",
        "main_diag(matrix)"
      ],
      "metadata": {
        "id": "OVyOvq99OC1F"
      },
      "execution_count": null,
      "outputs": []
    },
    {
      "cell_type": "code",
      "source": [
        "from typing import List\n",
        "\n",
        "class Solution:\n",
        "    def setZeroes(self, matrix: List[List[int]]) -> None:\n",
        "      # new_mat = [[1 for k in range(len(matrix))] for i in range(len(matrix))]\n",
        "      # for  i in matrix:\n",
        "      #   print(i)\n",
        "\n",
        "      ii,kk = 0, 0\n",
        "      for i in range(len(matrix)):\n",
        "        for k in range(len(matrix[0])):\n",
        "          if matrix[i][k] == 0:\n",
        "            ii+=i\n",
        "            kk+=k\n",
        "      for i in range(len(matrix)):\n",
        "        for k in range(len(matrix[0])):\n",
        "          matrix[i][kk]=0\n",
        "          matrix[ii][k]=0\n",
        "\n",
        "\n",
        "      for i in matrix:\n",
        "        print(i)\n",
        "\n",
        "\n",
        "\n",
        "solution = Solution()\n",
        "solution.setZeroes([[0,1,2,0],[3,4,5,2],[1,3,1,5]])"
      ],
      "metadata": {
        "id": "lcHYM_AUXoXV"
      },
      "execution_count": null,
      "outputs": []
    },
    {
      "cell_type": "code",
      "source": [
        "from typing import List\n",
        "\n",
        "class Solution:\n",
        "    def setZeroes(self, matrix: List[List[int]]) -> None:\n",
        "      # new_mat = [[1 for k in range(len(matrix))] for i in range(len(matrix))]\n",
        "      # for  i in matrix:\n",
        "      #   print(i)\n",
        "\n",
        "      ii,kk = 0, 0\n",
        "      for i in range(len(matrix)):\n",
        "        for k in range(len(matrix[0])):\n",
        "          if matrix[i][k] == 0:\n",
        "            ii+=i\n",
        "            kk+=k\n",
        "      for i in range(len(matrix)):\n",
        "        for k in range(len(matrix[0])):\n",
        "          matrix[i][kk]=0\n",
        "          matrix[ii][k]=0\n",
        "\n",
        "\n",
        "      for i in matrix:\n",
        "        print(i)\n",
        "\n",
        "\n",
        "\n",
        "solution = Solution()\n",
        "solution.setZeroes([[1,1,1],[1,0,1],[1,1,1]])\n"
      ],
      "metadata": {
        "id": "-XiWkM56dNGA"
      },
      "execution_count": null,
      "outputs": []
    },
    {
      "cell_type": "code",
      "source": [
        "[1,0,1].index(0)"
      ],
      "metadata": {
        "id": "opkRNl-nlmb0"
      },
      "execution_count": null,
      "outputs": []
    },
    {
      "cell_type": "code",
      "source": [
        "v =[[1,1,1],[1,0,1],[1,1,1]]\n",
        "for i in range(len(v)):\n",
        "  if v[i].index(1)== 0:\n",
        "    print(i)"
      ],
      "metadata": {
        "id": "YjdCfl7ol9AP"
      },
      "execution_count": null,
      "outputs": []
    },
    {
      "cell_type": "code",
      "source": [
        "class Solution:\n",
        "    def setZeroes(self, matrix: List[List[int]]) -> None:\n",
        "        \"\"\"\n",
        "        Do not return anything, modify matrix in-place instead.\n",
        "        \"\"\"\n",
        "        k = []\n",
        "        for i in range (len(matrix)):\n",
        "            for j in range (len(matrix[0])):\n",
        "                if matrix[i][j] == 0:\n",
        "                    k.append((i,j))\n",
        "\n",
        "        for i,j in k:\n",
        "            print(i,j)\n",
        "            matrix[i] = [0]*len(matrix[i])\n",
        "            for i in range(len(matrix)):\n",
        "                matrix[i][j] = 0\n",
        "\n",
        "\n",
        "\n",
        "solution = Solution()\n",
        "solution.setZeroes([[1,1,1],[1,0,1],[1,1,1]])\n"
      ],
      "metadata": {
        "id": "9sNZb9ZemQtz"
      },
      "execution_count": null,
      "outputs": []
    },
    {
      "cell_type": "code",
      "source": [
        "class Solution:\n",
        "    def rotate(self, matrix: List[List[int]]) -> None:\n",
        "        \"\"\"\n",
        "        Do not return anything, modify matrix in-place instead.\n",
        "        \"\"\"\n",
        "        '''00=02\n",
        "        01=12\n",
        "        02=22'''\n",
        "        for i in range(len(matrix)-1,-1,-1):\n",
        "          for k in range(len(matrix[0])):\n",
        "            print(matrix[i][k])\n",
        "solution = Solution()\n",
        "solution.rotate([[1,2,3],[4,5,6],[7,8,9]])"
      ],
      "metadata": {
        "id": "xOvPy4VaozGe"
      },
      "execution_count": null,
      "outputs": []
    },
    {
      "cell_type": "code",
      "source": [
        "class Solution:\n",
        "    def rotate(self, matrix: List[List[int]]) -> None:\n",
        "        \"\"\"\n",
        "        Do not return anything, modify matrix in-place instead.\n",
        "        \"\"\"\n",
        "        '''00=02\n",
        "        01=12\n",
        "        02=22'''\n",
        "        for i in range(len(matrix)-1,-1,-1):\n",
        "          for k in range(len(matrix[0])):\n",
        "            print(matrix[i-1])\n",
        "solution = Solution()\n",
        "solution.rotate([[1,2,3],[4,5,6],[7,8,9]])"
      ],
      "metadata": {
        "id": "yDCo4KCOtKey"
      },
      "execution_count": null,
      "outputs": []
    },
    {
      "cell_type": "code",
      "source": [
        "//# Оцениваем производительность модели\n",
        "from sklearn.metrics import accuracy_score, precision_score, recall_score, f1_score, roc_auc_score, confusion_matrix,matthews_corrcoef\n",
        "\n",
        "y_test = [1,1,1,1,0,0,0]\n",
        "y_pred=  [1,1,1,0,0,0,0]\n",
        "\n",
        "\n",
        "\n",
        "# Оцениваем производительность модели\n",
        "accuracy = accuracy_score(y_test, y_pred)\n",
        "precision = precision_score(y_test, y_pred)\n",
        "recall = recall_score(y_test, y_pred)\n",
        "f1 = f1_score(y_test, y_pred)\n",
        "roc_auc = roc_auc_score(y_test, y_pred)\n",
        "conf_matrix = confusion_matrix(y_test, y_pred)\n",
        "\n",
        "# Выводим результаты\n",
        "print(f'Accuracy: {accuracy:.4f}')\n",
        "print(f'Precision: {precision:.4f}')\n",
        "print(f'Recall: {recall:.4f}')\n",
        "print(f'F1 Score: {f1:.4f}')\n",
        "print(f'ROC AUC: {roc_auc:.4f}')\n",
        "print('Confusion Matrix:')\n",
        "print(conf_matrix)\n",
        "\n",
        "mcc = matthews_corrcoef(y_test, y_pred)\n",
        "print(f\"MCC: {mcc}\")"
      ],
      "metadata": {
        "id": "mPoHxIYrucWu"
      },
      "execution_count": null,
      "outputs": []
    },
    {
      "cell_type": "code",
      "source": [
        "from sklearn.tree import DecisionTreeClassifier\n",
        "from sklearn.model_selection import train_test_split\n",
        "\n",
        "# Пример данных (признаки и метки)\n",
        "X = [[38.0, 100], [37.2, 85], [37.8, 110], [36.5, 80], [37.6, 105]]\n",
        "y = [1, 0, 1, 0, 1]\n",
        "\n",
        "# Разделение на обучающую и тестовую выборки\n",
        "X_train, X_test, y_train, y_test = train_test_split(X, y, test_size=0.2, random_state=42)\n",
        "\n",
        "# Обучение дерева решений\n",
        "model = DecisionTreeClassifier(random_state=42)\n",
        "model.fit(X_train, y_train)\n",
        "\n",
        "# Предсказание классов\n",
        "y_pred = model.predict(X_test)\n",
        "print(\"Предсказанные классы:\", y_pred)\n",
        "\n",
        "# Предсказание вероятностей\n",
        "y_pred_proba = model.predict_proba(X_test)\n",
        "print(\"Предсказанные вероятности:\", y_pred_proba)\n"
      ],
      "metadata": {
        "id": "zNhKJQD0ZZNl"
      },
      "execution_count": null,
      "outputs": []
    },
    {
      "cell_type": "code",
      "source": [
        "class Solution(object):\n",
        "    def addTwoNumbers(self, l1, l2):\n",
        "        \"\"\"\n",
        "        :type l1: Optional[ListNode]\n",
        "        :type l2: Optional[ListNode]\n",
        "        :rtype: Optional[ListNode]\n",
        "        \"\"\"\n",
        "        max_l,min_l=0,0\n",
        "        if len(l1)>len(l2):\n",
        "          max_l=l1\n",
        "          min_l = l2\n",
        "        else:\n",
        "          max_l=l2\n",
        "          min_l = l1\n",
        "\n",
        "        count_l =len(max_l)-len(min_l)\n",
        "        nul_l = [0]*count_l+min_l\n",
        "        print(max_l)\n",
        "        print(nul_l)\n",
        "\n",
        "\n",
        "        res = []\n",
        "        hop = 0\n",
        "        for i in range(len(max_l)-1,-1,-1):\n",
        "\n",
        "          if max_l[i]+nul_l[i]+hop<10 and hop==0:\n",
        "            res.append(max_l[i]+nul_l[i]+hop)\n",
        "            hop=0\n",
        "          else:\n",
        "             res.append(int(str(max_l[i]+nul_l[i])[-1])+hop)\n",
        "            #  res.index(i+1)=\n",
        "             hop+=int(str(max_l[i]+nul_l[i])[0])\n",
        "\n",
        "        print(res[::-1])\n",
        "\n",
        "\n",
        "\n",
        "\n",
        "\n",
        "\n",
        "\n",
        "\n",
        "\n",
        "res= Solution()\n",
        "res.addTwoNumbers([2,4,3,3,3],[5,6,8])"
      ],
      "metadata": {
        "id": "GUcpgf9Mtv9B"
      },
      "execution_count": null,
      "outputs": []
    },
    {
      "cell_type": "code",
      "source": [
        "(8+7)//5\n"
      ],
      "metadata": {
        "id": "uL9oxRM82EOS"
      },
      "execution_count": null,
      "outputs": []
    },
    {
      "cell_type": "code",
      "source": [
        "int(str(12)[-1])"
      ],
      "metadata": {
        "id": "Lm6BSpK38xmj"
      },
      "execution_count": null,
      "outputs": []
    },
    {
      "cell_type": "code",
      "source": [
        "class Solution(object):\n",
        "    def isPalindrome(self, x):\n",
        "        \"\"\"\n",
        "        :type x: int\n",
        "        :rtype: bool\n",
        "        \"\"\"\n",
        "        str_x= str(x)\n",
        "        reseved_x = str_x[::-1]\n",
        "        if str_x == reseved_x:\n",
        "          return True\n",
        "        return False\n",
        "\n",
        "res= Solution()\n",
        "res.isPalindrome(121)\n",
        ""
      ],
      "metadata": {
        "colab": {
          "base_uri": "https://localhost:8080/"
        },
        "id": "0hKX1Wxw9hVc",
        "outputId": "141567a0-5a49-4d53-b007-0b5ada1c1b7d"
      },
      "execution_count": 37,
      "outputs": [
        {
          "output_type": "execute_result",
          "data": {
            "text/plain": [
              "True"
            ]
          },
          "metadata": {},
          "execution_count": 37
        }
      ]
    },
    {
      "cell_type": "code",
      "source": [
        "s = \"hello\"\n",
        "print(s.replace(\"h\", \"H\"))  # Новая строка: \"Hello\"\n",
        "# s = s.upper()  # Новая строка: \"HELLO\"\n"
      ],
      "metadata": {
        "colab": {
          "base_uri": "https://localhost:8080/"
        },
        "id": "IegxuZKnuNTJ",
        "outputId": "45277cfe-fba1-4d22-9b70-f79c19c0e268"
      },
      "execution_count": 41,
      "outputs": [
        {
          "output_type": "stream",
          "name": "stdout",
          "text": [
            "Hello\n"
          ]
        }
      ]
    },
    {
      "cell_type": "code",
      "source": [
        "s = \"Hello\"\n",
        "reversed_s = ''.join(reversed(s))\n",
        "print(reversed_s)  # \"olleH\"\n"
      ],
      "metadata": {
        "colab": {
          "base_uri": "https://localhost:8080/"
        },
        "id": "4hjcl5mUvkU9",
        "outputId": "ad3df12e-18cf-4167-a49c-b2b8182a5da7"
      },
      "execution_count": 42,
      "outputs": [
        {
          "output_type": "stream",
          "name": "stdout",
          "text": [
            "olleH\n"
          ]
        }
      ]
    },
    {
      "cell_type": "code",
      "source": [
        "reversed(s)"
      ],
      "metadata": {
        "colab": {
          "base_uri": "https://localhost:8080/"
        },
        "id": "1msYjA0NxaYQ",
        "outputId": "69eebf51-ceea-4685-c9aa-9eae32790d2f"
      },
      "execution_count": 48,
      "outputs": [
        {
          "output_type": "execute_result",
          "data": {
            "text/plain": [
              "<reversed at 0x794818410d30>"
            ]
          },
          "metadata": {},
          "execution_count": 48
        }
      ]
    },
    {
      "cell_type": "code",
      "source": [
        "st = {1, 2, 3, 4}\n",
        "for item in st:\n",
        "    print(item)\n"
      ],
      "metadata": {
        "colab": {
          "base_uri": "https://localhost:8080/"
        },
        "id": "KYMMEexZxckf",
        "outputId": "4b928a20-7c73-4163-a449-acb80d7ac382"
      },
      "execution_count": 50,
      "outputs": [
        {
          "output_type": "stream",
          "name": "stdout",
          "text": [
            "1\n",
            "2\n",
            "3\n",
            "4\n"
          ]
        }
      ]
    },
    {
      "cell_type": "code",
      "source": [
        "res = ''\n",
        "for i in '1234'[::-1]:\n",
        "  res+=i\n",
        "print(res)\n"
      ],
      "metadata": {
        "colab": {
          "base_uri": "https://localhost:8080/"
        },
        "id": "sVHfd3CMx5my",
        "outputId": "7a4ab38b-87e8-4a40-ae78-fbcb2ce4a5f5"
      },
      "execution_count": 57,
      "outputs": [
        {
          "output_type": "stream",
          "name": "stdout",
          "text": [
            "4321\n"
          ]
        }
      ]
    },
    {
      "cell_type": "code",
      "source": [
        "import sys\n",
        "\n",
        "res = ''\n",
        "print(sys.getsizeof(res),'1')  # Память для пустой строки\n",
        "\n",
        "for i in '1234'[::-1]:\n",
        "    res += i\n",
        "    print(sys.getsizeof(res),'2')  # Память для каждой промежуточной строки\n",
        "\n",
        "print(res,'3')  # Итоговый результат\n",
        "\n"
      ],
      "metadata": {
        "colab": {
          "base_uri": "https://localhost:8080/"
        },
        "id": "at5rFZokzMti",
        "outputId": "31aa3f97-0faa-4411-a929-aad8f208586f"
      },
      "execution_count": 59,
      "outputs": [
        {
          "output_type": "stream",
          "name": "stdout",
          "text": [
            "49 1\n",
            "50 2\n",
            "51 2\n",
            "52 2\n",
            "53 2\n",
            "4321 3\n"
          ]
        }
      ]
    },
    {
      "cell_type": "code",
      "source": [],
      "metadata": {
        "id": "-MirpR4LAgQj"
      },
      "execution_count": null,
      "outputs": []
    },
    {
      "cell_type": "code",
      "source": [
        "class Solution(object):\n",
        "    def romanToInt(self,s: str) -> int:\n",
        "    # Словарь для соответствий римских чисел и их значений\n",
        "        roman_to_int = {\n",
        "            'I': 1, 'V': 5, 'X': 10, 'L': 50, 'C': 100, 'D': 500, 'M': 1000\n",
        "        }\n",
        "\n",
        "        result = 0  # Переменная для хранения итогового числа\n",
        "\n",
        "        for i in range(len(s)):\n",
        "            # Если текущее число меньше следующего, вычитаем его (например, IV, IX)\n",
        "            if i + 1 < len(s) and roman_to_int[s[i]] < roman_to_int[s[i + 1]]:\n",
        "                result -= roman_to_int[s[i]]\n",
        "            else:\n",
        "                result += roman_to_int[s[i]]\n",
        "\n",
        "        return result\n",
        "\n",
        "\n",
        "res= Solution()\n",
        "res.romanToInt('MCMXCIV')"
      ],
      "metadata": {
        "colab": {
          "base_uri": "https://localhost:8080/"
        },
        "id": "M8TWrovq3EpJ",
        "outputId": "81cfe7c1-96f9-4e20-c72c-dcfe66854b46"
      },
      "execution_count": 68,
      "outputs": [
        {
          "output_type": "execute_result",
          "data": {
            "text/plain": [
              "1994"
            ]
          },
          "metadata": {},
          "execution_count": 68
        }
      ]
    },
    {
      "cell_type": "code",
      "source": [],
      "metadata": {
        "id": "AF2sY5Kb6zS6"
      },
      "execution_count": null,
      "outputs": []
    }
  ]
}