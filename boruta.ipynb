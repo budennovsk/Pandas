{
  "nbformat": 4,
  "nbformat_minor": 0,
  "metadata": {
    "colab": {
      "private_outputs": true,
      "provenance": [],
      "authorship_tag": "ABX9TyMchXHFEjR8bQk7SOiglmH8"
    },
    "kernelspec": {
      "name": "python3",
      "display_name": "Python 3"
    },
    "language_info": {
      "name": "python"
    }
  },
  "cells": [
    {
      "cell_type": "code",
      "source": [
        "!pip install Boruta"
      ],
      "metadata": {
        "id": "_6yr8SjYpXj0"
      },
      "execution_count": null,
      "outputs": []
    },
    {
      "cell_type": "code",
      "execution_count": null,
      "metadata": {
        "id": "-GptJNhapE-F"
      },
      "outputs": [],
      "source": [
        "import pandas as pd\n",
        "from boruta import BorutaPy\n",
        "from sklearn.ensemble import RandomForestClassifier\n",
        "from sklearn.datasets import load_iris\n",
        "\n",
        "# Загрузка данных (пример с Iris dataset)\n",
        "data = load_iris()\n",
        "X = pd.DataFrame(data.data, columns=data.feature_names)\n",
        "y = pd.Series(data.target)\n",
        "\n",
        "# Инициализация модели RandomForest\n",
        "rf = RandomForestClassifier(n_jobs=-1, max_depth=5, random_state=42)\n",
        "\n",
        "# Инициализация Boruta\n",
        "boruta = BorutaPy(rf, n_estimators='auto', random_state=42)\n",
        "\n",
        "# Применение Boruta\n",
        "boruta.fit(X.values, y.values)\n",
        "\n",
        "# Отображение выбранных признаков\n",
        "print(\"Признаки, выбранные Boruta:\", X.columns[boruta.support_])\n",
        "# check selected features - first 5 features are selected\n",
        "\n",
        "\n",
        "# check ranking of features\n",
        "print(boruta.ranking_)\n",
        "print(rf.feature_importances_)\n",
        "\n",
        "\n",
        "\n",
        "\n",
        "\n",
        "# Вывод выбранных признаков\n",
        "selected_features = X.columns[boruta.support_]\n",
        "print(\"Выбранные признаки:\", selected_features)\n",
        "\n",
        "# Вывод всех признаков с их рангами\n",
        "feature_ranking = pd.DataFrame({\n",
        "    'Feature': X.columns,\n",
        "    'Ranking': boruta.ranking_\n",
        "}).sort_values(by='Ranking')\n",
        "\n",
        "print(\"\\nПризнаки с рангами:\")\n",
        "print(feature_ranking)"
      ]
    },
    {
      "cell_type": "code",
      "source": [
        "# Обучение случайного леса\n",
        "rf.fit(X, y)\n",
        "\n",
        "# Важность признаков с помощью RandomForest\n",
        "rf_feature_importance = pd.DataFrame({\n",
        "    'Feature': X.columns,\n",
        "    'Importance': rf.feature_importances_\n",
        "}).sort_values(by='Importance', ascending=False)\n",
        "\n",
        "print(\"\\nВажность признаков по RandomForest:\")\n",
        "print(rf_feature_importance)\n",
        "\n",
        "# Сравнение: сколько признаков выбраны обеими методами\n",
        "common_features = list(set(selected_features) & set(rf_feature_importance['Feature'].head(len(selected_features))))\n",
        "print(\"\\nОбщие признаки между Boruta и RandomForest:\", common_features)"
      ],
      "metadata": {
        "id": "ow5dcOAapbiE"
      },
      "execution_count": null,
      "outputs": []
    },
    {
      "cell_type": "code",
      "source": [
        "X.columns"
      ],
      "metadata": {
        "id": "zBaIU7iW2FIz"
      },
      "execution_count": null,
      "outputs": []
    },
    {
      "cell_type": "code",
      "source": [],
      "metadata": {
        "id": "Y_QKa1nY2Kc3"
      },
      "execution_count": null,
      "outputs": []
    }
  ]
}