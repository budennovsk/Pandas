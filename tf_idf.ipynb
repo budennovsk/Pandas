{
  "nbformat": 4,
  "nbformat_minor": 0,
  "metadata": {
    "colab": {
      "provenance": [],
      "authorship_tag": "ABX9TyPKyTrNS4BW9B8bRje0Yd6u",
      "include_colab_link": true
    },
    "kernelspec": {
      "name": "python3",
      "display_name": "Python 3"
    },
    "language_info": {
      "name": "python"
    }
  },
  "cells": [
    {
      "cell_type": "markdown",
      "metadata": {
        "id": "view-in-github",
        "colab_type": "text"
      },
      "source": [
        "<a href=\"https://colab.research.google.com/github/budennovsk/Pandas/blob/master/tf_idf.ipynb\" target=\"_parent\"><img src=\"https://colab.research.google.com/assets/colab-badge.svg\" alt=\"Open In Colab\"/></a>"
      ]
    },
    {
      "cell_type": "code",
      "execution_count": 12,
      "metadata": {
        "colab": {
          "base_uri": "https://localhost:8080/"
        },
        "id": "YMRmDKCdfZbq",
        "outputId": "f941c10a-7401-4108-af47-8a1cd8ad0e9a"
      },
      "outputs": [
        {
          "output_type": "stream",
          "name": "stdout",
          "text": [
            "0    1\n",
            "1    2\n",
            "Name: movie_id, dtype: int64\n",
            "0    action movie\n",
            "1     comedy film\n",
            "Name: description, dtype: object\n",
            "  (0, 5)\t0.6279137616509933\n",
            "  (0, 0)\t0.7782829228046183\n",
            "  (1, 3)\t0.6279137616509933\n",
            "  (1, 1)\t0.7782829228046183\n",
            "[[0.         0.60572431 1.        ]\n",
            " [0.         0.60572431 1.        ]]\n",
            "Рекомендованные фильмы для пользователя 1: [1 4 3 2 5]\n"
          ]
        }
      ],
      "source": [
        "import pandas as pd\n",
        "from sklearn.feature_extraction.text import TfidfVectorizer\n",
        "from sklearn.neighbors import NearestNeighbors\n",
        "\n",
        "# Пример данных\n",
        "data = {\n",
        "    'movie_id': [1, 2, 3, 4, 5],\n",
        "    'description': ['action movie', 'comedy film', 'drama story', 'horror movie', 'romantic film'],\n",
        "    'genre': ['action', 'comedy', 'drama', 'horror', 'romance']\n",
        "}\n",
        "\n",
        "user_preferences = {\n",
        "    'user_id': [1, 1, 2, 2, 3],\n",
        "    'movie_id': [1, 2, 3, 4, 5],\n",
        "    'rating': [5, 4, 3, 2, 5]\n",
        "}\n",
        "\n",
        "# Создание DataFrame\n",
        "movies_df = pd.DataFrame(data)\n",
        "user_preferences_df = pd.DataFrame(user_preferences)\n",
        "\n",
        "# Преобразование текстовых описаний в векторы признаков\n",
        "vectorizer = TfidfVectorizer()\n",
        "X = vectorizer.fit_transform(movies_df['description'])\n",
        "\n",
        "# Обучение модели KNN\n",
        "knn_model = NearestNeighbors(n_neighbors=3, metric='cosine')\n",
        "knn_model.fit(X)\n",
        "\n",
        "# Рекомендация фильмов для пользователя\n",
        "user_id = 1\n",
        "user_movies = user_preferences_df[user_preferences_df['user_id'] == user_id]['movie_id']\n",
        "print(user_movies)\n",
        "user_movies_descriptions = movies_df[movies_df['movie_id'].isin(user_movies)]['description']\n",
        "print(user_movies_descriptions)\n",
        "user_movies_vectors = vectorizer.transform(user_movies_descriptions)\n",
        "print(user_movies_vectors)\n",
        "distances, indices = knn_model.kneighbors(user_movies_vectors)\n",
        "recommended_movies = movies_df.iloc[indices.flatten()]['movie_id'].unique()\n",
        "\n",
        "\n",
        "print(f\"Рекомендованные фильмы для пользователя {user_id}: {recommended_movies}\")"
      ]
    },
    {
      "cell_type": "code",
      "source": [
        "# Рекомендация фильмов для пользователя\n",
        "user_id = 3\n",
        "user_movies = user_preferences_df[user_preferences_df['user_id'] == user_id]['movie_id']\n",
        "user_movies_descriptions = movies_df[movies_df['movie_id'].isin(user_movies)]['description']\n",
        "user_movies_vectors = vectorizer.transform(user_movies_descriptions)\n",
        "\n",
        "distances, indices = knn_model.kneighbors(user_movies_vectors)\n",
        "recommended_movies = movies_df.iloc[indices.flatten()]['movie_id'].unique()\n",
        "\n",
        "print(f\"Рекомендованные фильмы для пользователя {user_id}: {recommended_movies}\")"
      ],
      "metadata": {
        "colab": {
          "base_uri": "https://localhost:8080/"
        },
        "id": "OpcWfWfphNry",
        "outputId": "04214c58-f9f2-4e53-b834-398d7019823b"
      },
      "execution_count": 8,
      "outputs": [
        {
          "output_type": "stream",
          "name": "stdout",
          "text": [
            "Рекомендованные фильмы для пользователя 3: [5 2 3]\n"
          ]
        }
      ]
    },
    {
      "cell_type": "code",
      "source": [
        "for i in X:\n",
        "    print(i)"
      ],
      "metadata": {
        "colab": {
          "base_uri": "https://localhost:8080/"
        },
        "id": "KNPilP_jfhvc",
        "outputId": "26180d53-5190-4231-b892-601cecb36253"
      },
      "execution_count": 4,
      "outputs": [
        {
          "output_type": "stream",
          "name": "stdout",
          "text": [
            "  (0, 5)\t0.6279137616509933\n",
            "  (0, 0)\t0.7782829228046183\n",
            "  (0, 3)\t0.6279137616509933\n",
            "  (0, 1)\t0.7782829228046183\n",
            "  (0, 7)\t0.7071067811865475\n",
            "  (0, 2)\t0.7071067811865475\n",
            "  (0, 4)\t0.7782829228046183\n",
            "  (0, 5)\t0.6279137616509933\n",
            "  (0, 6)\t0.7782829228046183\n",
            "  (0, 3)\t0.6279137616509933\n"
          ]
        }
      ]
    },
    {
      "cell_type": "code",
      "source": [
        "movies_df['description']"
      ],
      "metadata": {
        "colab": {
          "base_uri": "https://localhost:8080/",
          "height": 241
        },
        "id": "-5M65AusgIsj",
        "outputId": "8ddd4a42-89b1-44fc-c1ca-c0b2b7ea744a"
      },
      "execution_count": 5,
      "outputs": [
        {
          "output_type": "execute_result",
          "data": {
            "text/plain": [
              "0     action movie\n",
              "1      comedy film\n",
              "2      drama story\n",
              "3     horror movie\n",
              "4    romantic film\n",
              "Name: description, dtype: object"
            ],
            "text/html": [
              "<div>\n",
              "<style scoped>\n",
              "    .dataframe tbody tr th:only-of-type {\n",
              "        vertical-align: middle;\n",
              "    }\n",
              "\n",
              "    .dataframe tbody tr th {\n",
              "        vertical-align: top;\n",
              "    }\n",
              "\n",
              "    .dataframe thead th {\n",
              "        text-align: right;\n",
              "    }\n",
              "</style>\n",
              "<table border=\"1\" class=\"dataframe\">\n",
              "  <thead>\n",
              "    <tr style=\"text-align: right;\">\n",
              "      <th></th>\n",
              "      <th>description</th>\n",
              "    </tr>\n",
              "  </thead>\n",
              "  <tbody>\n",
              "    <tr>\n",
              "      <th>0</th>\n",
              "      <td>action movie</td>\n",
              "    </tr>\n",
              "    <tr>\n",
              "      <th>1</th>\n",
              "      <td>comedy film</td>\n",
              "    </tr>\n",
              "    <tr>\n",
              "      <th>2</th>\n",
              "      <td>drama story</td>\n",
              "    </tr>\n",
              "    <tr>\n",
              "      <th>3</th>\n",
              "      <td>horror movie</td>\n",
              "    </tr>\n",
              "    <tr>\n",
              "      <th>4</th>\n",
              "      <td>romantic film</td>\n",
              "    </tr>\n",
              "  </tbody>\n",
              "</table>\n",
              "</div><br><label><b>dtype:</b> object</label>"
            ]
          },
          "metadata": {},
          "execution_count": 5
        }
      ]
    },
    {
      "cell_type": "code",
      "source": [
        "import pandas as pd\n",
        "from sklearn.feature_extraction.text import TfidfVectorizer\n",
        "from sklearn.svm import SVR\n",
        "from sklearn.model_selection import train_test_split\n",
        "from sklearn.metrics import mean_squared_error\n",
        "\n",
        "# Пример данных\n",
        "data = {\n",
        "    'movie_id': [1, 2, 3, 4, 5],\n",
        "    'description': ['action movie', 'comedy film', 'drama story', 'horror movie', 'romantic film'],\n",
        "    'genre': ['action', 'comedy', 'drama', 'horror', 'romance']\n",
        "}\n",
        "\n",
        "user_preferences = {\n",
        "    'user_id': [1, 1, 2, 2, 3],\n",
        "    'movie_id': [1, 2, 3, 4, 5],\n",
        "    'rating': [5, 4, 3, 2, 5]\n",
        "}\n",
        "\n",
        "# Создание DataFrame\n",
        "movies_df = pd.DataFrame(data)\n",
        "user_preferences_df = pd.DataFrame(user_preferences)\n",
        "\n",
        "# Преобразование текстовых описаний в векторы признаков\n",
        "vectorizer = TfidfVectorizer()\n",
        "X = vectorizer.fit_transform(movies_df['description'])\n",
        "\n",
        "# Подготовка данных для обучения\n",
        "y = user_preferences_df.set_index('movie_id')['rating'].to_dict()\n",
        "y_train = [y[movie_id] for movie_id in movies_df['movie_id']]\n",
        "\n",
        "# Разделение данных на обучающую и тестовую выборки\n",
        "X_train, X_test, y_train, y_test = train_test_split(X, y_train, test_size=0.2, random_state=42)\n",
        "\n",
        "# Обучение модели SVM\n",
        "svm_model = SVR(kernel='linear')\n",
        "svm_model.fit(X_train, y_train)\n",
        "\n",
        "# Предсказание оценок\n",
        "y_pred = svm_model.predict(X_test)\n",
        "\n",
        "# Оценка модели\n",
        "mse = mean_squared_error(y_test, y_pred)\n",
        "print(f\"Mean Squared Error: {mse}\")\n",
        "\n",
        "# Рекомендация фильмов для пользователя\n",
        "user_id = 1\n",
        "user_movies = user_preferences_df[user_preferences_df['user_id'] == user_id]['movie_id']\n",
        "user_movies_descriptions = movies_df[movies_df['movie_id'].isin(user_movies)]['description']\n",
        "user_movies_vectors = vectorizer.transform(user_movies_descriptions)\n",
        "\n",
        "predicted_ratings = svm_model.predict(user_movies_vectors)\n",
        "recommended_movies = movies_df.iloc[predicted_ratings.argsort()[-3:]]['movie_id'].values\n",
        "\n",
        "print(f\"Рекомендованные фильмы для пользователя {user_id}: {recommended_movies}\")"
      ],
      "metadata": {
        "colab": {
          "base_uri": "https://localhost:8080/"
        },
        "id": "VKqaRd84gpyD",
        "outputId": "5bc5b5e4-a480-4bcc-a2f6-236c949836e3"
      },
      "execution_count": 19,
      "outputs": [
        {
          "output_type": "stream",
          "name": "stdout",
          "text": [
            "Mean Squared Error: 0.12591719029984247\n",
            "Рекомендованные фильмы для пользователя 1: [2 1]\n"
          ]
        }
      ]
    },
    {
      "cell_type": "code",
      "source": [
        "!pip install catboost"
      ],
      "metadata": {
        "colab": {
          "base_uri": "https://localhost:8080/"
        },
        "id": "jApCGdarmPjd",
        "outputId": "b79ebea5-289f-4ecc-f6f0-a50bc97bfee5"
      },
      "execution_count": 17,
      "outputs": [
        {
          "output_type": "stream",
          "name": "stdout",
          "text": [
            "Collecting catboost\n",
            "  Downloading catboost-1.2.5-cp310-cp310-manylinux2014_x86_64.whl.metadata (1.2 kB)\n",
            "Requirement already satisfied: graphviz in /usr/local/lib/python3.10/dist-packages (from catboost) (0.20.3)\n",
            "Requirement already satisfied: matplotlib in /usr/local/lib/python3.10/dist-packages (from catboost) (3.7.1)\n",
            "Requirement already satisfied: numpy>=1.16.0 in /usr/local/lib/python3.10/dist-packages (from catboost) (1.26.4)\n",
            "Requirement already satisfied: pandas>=0.24 in /usr/local/lib/python3.10/dist-packages (from catboost) (2.1.4)\n",
            "Requirement already satisfied: scipy in /usr/local/lib/python3.10/dist-packages (from catboost) (1.13.1)\n",
            "Requirement already satisfied: plotly in /usr/local/lib/python3.10/dist-packages (from catboost) (5.15.0)\n",
            "Requirement already satisfied: six in /usr/local/lib/python3.10/dist-packages (from catboost) (1.16.0)\n",
            "Requirement already satisfied: python-dateutil>=2.8.2 in /usr/local/lib/python3.10/dist-packages (from pandas>=0.24->catboost) (2.8.2)\n",
            "Requirement already satisfied: pytz>=2020.1 in /usr/local/lib/python3.10/dist-packages (from pandas>=0.24->catboost) (2024.1)\n",
            "Requirement already satisfied: tzdata>=2022.1 in /usr/local/lib/python3.10/dist-packages (from pandas>=0.24->catboost) (2024.1)\n",
            "Requirement already satisfied: contourpy>=1.0.1 in /usr/local/lib/python3.10/dist-packages (from matplotlib->catboost) (1.2.1)\n",
            "Requirement already satisfied: cycler>=0.10 in /usr/local/lib/python3.10/dist-packages (from matplotlib->catboost) (0.12.1)\n",
            "Requirement already satisfied: fonttools>=4.22.0 in /usr/local/lib/python3.10/dist-packages (from matplotlib->catboost) (4.53.1)\n",
            "Requirement already satisfied: kiwisolver>=1.0.1 in /usr/local/lib/python3.10/dist-packages (from matplotlib->catboost) (1.4.5)\n",
            "Requirement already satisfied: packaging>=20.0 in /usr/local/lib/python3.10/dist-packages (from matplotlib->catboost) (24.1)\n",
            "Requirement already satisfied: pillow>=6.2.0 in /usr/local/lib/python3.10/dist-packages (from matplotlib->catboost) (9.4.0)\n",
            "Requirement already satisfied: pyparsing>=2.3.1 in /usr/local/lib/python3.10/dist-packages (from matplotlib->catboost) (3.1.2)\n",
            "Requirement already satisfied: tenacity>=6.2.0 in /usr/local/lib/python3.10/dist-packages (from plotly->catboost) (9.0.0)\n",
            "Downloading catboost-1.2.5-cp310-cp310-manylinux2014_x86_64.whl (98.2 MB)\n",
            "\u001b[2K   \u001b[90m━━━━━━━━━━━━━━━━━━━━━━━━━━━━━━━━━━━━━━━━\u001b[0m \u001b[32m98.2/98.2 MB\u001b[0m \u001b[31m6.7 MB/s\u001b[0m eta \u001b[36m0:00:00\u001b[0m\n",
            "\u001b[?25hInstalling collected packages: catboost\n",
            "Successfully installed catboost-1.2.5\n"
          ]
        }
      ]
    },
    {
      "cell_type": "code",
      "source": [
        "import pandas as pd\n",
        "from sklearn.feature_extraction.text import TfidfVectorizer\n",
        "from catboost import CatBoostRegressor\n",
        "from sklearn.model_selection import train_test_split\n",
        "from sklearn.metrics import mean_squared_error\n",
        "\n",
        "# Пример данных\n",
        "data = {\n",
        "    'movie_id': [1, 2, 3, 4, 5],\n",
        "    'description': ['action movie', 'comedy film', 'drama story', 'horror movie', 'comedy movie'],\n",
        "    'genre': ['action', 'comedy', 'drama', 'horror', 'comedy']\n",
        "}\n",
        "\n",
        "user_preferences = {\n",
        "    'user_id': [1, 1, 2, 2, 3],\n",
        "    'movie_id': [1, 2, 3, 4, 5],\n",
        "    'rating': [5, 4, 3, 2, 5]\n",
        "}\n",
        "\n",
        "# Создание DataFrame\n",
        "movies_df = pd.DataFrame(data)\n",
        "user_preferences_df = pd.DataFrame(user_preferences)\n",
        "\n",
        "# Преобразование текстовых описаний в векторы признаков\n",
        "vectorizer = TfidfVectorizer(stop_words='english')\n",
        "X = vectorizer.fit_transform(movies_df['description'])\n",
        "\n",
        "# Подготовка данных для обучения\n",
        "y = user_preferences_df.set_index('movie_id')['rating'].to_dict()\n",
        "y_train = [y[movie_id] for movie_id in movies_df['movie_id']]\n",
        "\n",
        "# Разделение данных на обучающую и тестовую выборки\n",
        "X_train, X_test, y_train, y_test = train_test_split(X, y_train, test_size=0.2, random_state=42)\n",
        "print(y_train, X_train,'ff')\n",
        "# Обучение модели CatBoost\n",
        "catboost_model = CatBoostRegressor(iterations=100, depth=5, learning_rate=0.1, loss_function='RMSE')\n",
        "catboost_model.fit(X_train, y_train)\n",
        "\n",
        "# Предсказание оценок\n",
        "y_pred = catboost_model.predict(X_test)\n",
        "\n",
        "# Оценка модели\n",
        "mse = mean_squared_error(y_test, y_pred)\n",
        "print(f\"Mean Squared Error: {mse}\")\n",
        "\n",
        "# Рекомендация фильмов для пользователя\n",
        "user_id = 1\n",
        "user_movies = user_preferences_df[user_preferences_df['user_id'] == user_id]['movie_id']\n",
        "user_movies_descriptions = movies_df[movies_df['movie_id'].isin(user_movies)]['description']\n",
        "user_movies_vectors = vectorizer.transform(user_movies_descriptions)\n",
        "\n",
        "predicted_ratings = catboost_model.predict(user_movies_vectors)\n",
        "recommended_movies = movies_df.iloc[predicted_ratings.argsort()[-3:]]['movie_id'].values\n",
        "\n",
        "print(f\"Рекомендованные фильмы для пользователя {user_id}: {recommended_movies}\")"
      ],
      "metadata": {
        "colab": {
          "base_uri": "https://localhost:8080/"
        },
        "id": "aDzgplTDleSj",
        "outputId": "63f50698-cd1e-4dd6-9c47-fd4528bcd6c6"
      },
      "execution_count": 26,
      "outputs": [
        {
          "output_type": "stream",
          "name": "stdout",
          "text": [
            "[5, 3, 5, 2]   (0, 1)\t0.7694470729725092\n",
            "  (0, 5)\t0.6387105775654869\n",
            "  (1, 6)\t0.7071067811865475\n",
            "  (1, 2)\t0.7071067811865475\n",
            "  (2, 5)\t0.5564505207186616\n",
            "  (2, 0)\t0.830880748357988\n",
            "  (3, 4)\t0.830880748357988\n",
            "  (3, 5)\t0.5564505207186616 ff\n",
            "0:\tlearn: 1.2575786\ttotal: 231us\tremaining: 22.9ms\n",
            "1:\tlearn: 1.2261391\ttotal: 2.96ms\tremaining: 145ms\n",
            "2:\tlearn: 1.1954856\ttotal: 5.4ms\tremaining: 175ms\n",
            "3:\tlearn: 1.1655985\ttotal: 5.64ms\tremaining: 135ms\n",
            "4:\tlearn: 1.1544093\ttotal: 5.99ms\tremaining: 114ms\n",
            "5:\tlearn: 1.1255491\ttotal: 6.24ms\tremaining: 97.8ms\n",
            "6:\tlearn: 1.0896738\ttotal: 6.6ms\tremaining: 87.7ms\n",
            "7:\tlearn: 1.0624320\ttotal: 6.81ms\tremaining: 78.3ms\n",
            "8:\tlearn: 1.0286915\ttotal: 7.05ms\tremaining: 71.3ms\n",
            "9:\tlearn: 0.9961412\ttotal: 7.31ms\tremaining: 65.8ms\n",
            "10:\tlearn: 0.9712377\ttotal: 7.66ms\tremaining: 62ms\n",
            "11:\tlearn: 0.9469568\ttotal: 8.15ms\tremaining: 59.7ms\n",
            "12:\tlearn: 0.9232829\ttotal: 8.5ms\tremaining: 56.9ms\n",
            "13:\tlearn: 0.8941742\ttotal: 8.76ms\tremaining: 53.8ms\n",
            "14:\tlearn: 0.8718199\ttotal: 9.1ms\tremaining: 51.6ms\n",
            "15:\tlearn: 0.8444336\ttotal: 9.2ms\tremaining: 48.3ms\n",
            "16:\tlearn: 0.8180041\ttotal: 9.46ms\tremaining: 46.2ms\n",
            "17:\tlearn: 0.7975540\ttotal: 9.81ms\tremaining: 44.7ms\n",
            "18:\tlearn: 0.7726823\ttotal: 10ms\tremaining: 42.7ms\n",
            "19:\tlearn: 0.7533652\ttotal: 10.3ms\tremaining: 41.2ms\n",
            "20:\tlearn: 0.7345311\ttotal: 10.7ms\tremaining: 40.2ms\n",
            "21:\tlearn: 0.7161678\ttotal: 10.9ms\tremaining: 38.6ms\n",
            "22:\tlearn: 0.6982636\ttotal: 11.2ms\tremaining: 37.3ms\n",
            "23:\tlearn: 0.6808070\ttotal: 11.5ms\tremaining: 36.5ms\n",
            "24:\tlearn: 0.6637869\ttotal: 11.7ms\tremaining: 35.2ms\n",
            "25:\tlearn: 0.6471922\ttotal: 12ms\tremaining: 34.3ms\n",
            "26:\tlearn: 0.6270827\ttotal: 12.4ms\tremaining: 33.6ms\n",
            "27:\tlearn: 0.6114056\ttotal: 12.7ms\tremaining: 32.7ms\n",
            "28:\tlearn: 0.5924768\ttotal: 13ms\tremaining: 31.9ms\n",
            "29:\tlearn: 0.5776649\ttotal: 13.3ms\tremaining: 30.9ms\n",
            "30:\tlearn: 0.5598452\ttotal: 13.5ms\tremaining: 30.1ms\n",
            "31:\tlearn: 0.5458491\ttotal: 14ms\tremaining: 29.7ms\n",
            "32:\tlearn: 0.5290715\ttotal: 14.3ms\tremaining: 29ms\n",
            "33:\tlearn: 0.5158447\ttotal: 14.7ms\tremaining: 28.4ms\n",
            "34:\tlearn: 0.5000462\ttotal: 14.8ms\tremaining: 27.6ms\n",
            "35:\tlearn: 0.4875451\ttotal: 15.1ms\tremaining: 26.8ms\n",
            "36:\tlearn: 0.4753564\ttotal: 15.4ms\tremaining: 26.3ms\n",
            "37:\tlearn: 0.4608500\ttotal: 15.7ms\tremaining: 25.6ms\n",
            "38:\tlearn: 0.4493287\ttotal: 16.1ms\tremaining: 25.2ms\n",
            "39:\tlearn: 0.4380955\ttotal: 16.5ms\tremaining: 24.8ms\n",
            "40:\tlearn: 0.4247738\ttotal: 16.7ms\tremaining: 24.1ms\n",
            "41:\tlearn: 0.4119029\ttotal: 17ms\tremaining: 23.4ms\n",
            "42:\tlearn: 0.4016053\ttotal: 17.3ms\tremaining: 22.9ms\n",
            "43:\tlearn: 0.3915652\ttotal: 17.7ms\tremaining: 22.5ms\n",
            "44:\tlearn: 0.3817760\ttotal: 18ms\tremaining: 22ms\n",
            "45:\tlearn: 0.3722316\ttotal: 18.4ms\tremaining: 21.6ms\n",
            "46:\tlearn: 0.3629259\ttotal: 18.7ms\tremaining: 21.1ms\n",
            "47:\tlearn: 0.3538527\ttotal: 19.1ms\tremaining: 20.7ms\n",
            "48:\tlearn: 0.3450064\ttotal: 19.4ms\tremaining: 20.2ms\n",
            "49:\tlearn: 0.3363812\ttotal: 19.8ms\tremaining: 19.8ms\n",
            "50:\tlearn: 0.3279717\ttotal: 20ms\tremaining: 19.3ms\n",
            "51:\tlearn: 0.3197724\ttotal: 20.3ms\tremaining: 18.7ms\n",
            "52:\tlearn: 0.3117781\ttotal: 20.6ms\tremaining: 18.3ms\n",
            "53:\tlearn: 0.3039836\ttotal: 20.9ms\tremaining: 17.8ms\n",
            "54:\tlearn: 0.2963841\ttotal: 21.2ms\tremaining: 17.3ms\n",
            "55:\tlearn: 0.2889745\ttotal: 21.5ms\tremaining: 16.9ms\n",
            "56:\tlearn: 0.2817501\ttotal: 21.6ms\tremaining: 16.3ms\n",
            "57:\tlearn: 0.2747063\ttotal: 21.7ms\tremaining: 15.7ms\n",
            "58:\tlearn: 0.2678387\ttotal: 21.8ms\tremaining: 15.1ms\n",
            "59:\tlearn: 0.2611427\ttotal: 22.8ms\tremaining: 15.2ms\n",
            "60:\tlearn: 0.2546141\ttotal: 23ms\tremaining: 14.7ms\n",
            "61:\tlearn: 0.2482488\ttotal: 23.1ms\tremaining: 14.2ms\n",
            "62:\tlearn: 0.2420426\ttotal: 23.3ms\tremaining: 13.7ms\n",
            "63:\tlearn: 0.2359915\ttotal: 23.4ms\tremaining: 13.2ms\n",
            "64:\tlearn: 0.2300917\ttotal: 23.6ms\tremaining: 12.7ms\n",
            "65:\tlearn: 0.2243394\ttotal: 23.7ms\tremaining: 12.2ms\n",
            "66:\tlearn: 0.2187309\ttotal: 23.9ms\tremaining: 11.7ms\n",
            "67:\tlearn: 0.2132627\ttotal: 24ms\tremaining: 11.3ms\n",
            "68:\tlearn: 0.2079311\ttotal: 24.1ms\tremaining: 10.8ms\n",
            "69:\tlearn: 0.2027328\ttotal: 24.2ms\tremaining: 10.4ms\n",
            "70:\tlearn: 0.1976645\ttotal: 24.3ms\tremaining: 9.94ms\n",
            "71:\tlearn: 0.1927229\ttotal: 24.4ms\tremaining: 9.51ms\n",
            "72:\tlearn: 0.1879048\ttotal: 24.6ms\tremaining: 9.08ms\n",
            "73:\tlearn: 0.1832072\ttotal: 24.7ms\tremaining: 8.67ms\n",
            "74:\tlearn: 0.1786270\ttotal: 24.8ms\tremaining: 8.26ms\n",
            "75:\tlearn: 0.1741613\ttotal: 24.9ms\tremaining: 7.86ms\n",
            "76:\tlearn: 0.1698073\ttotal: 25ms\tremaining: 7.47ms\n",
            "77:\tlearn: 0.1655621\ttotal: 25.1ms\tremaining: 7.09ms\n",
            "78:\tlearn: 0.1614231\ttotal: 25.3ms\tremaining: 6.71ms\n",
            "79:\tlearn: 0.1573875\ttotal: 25.4ms\tremaining: 6.34ms\n",
            "80:\tlearn: 0.1534528\ttotal: 25.5ms\tremaining: 5.98ms\n",
            "81:\tlearn: 0.1496165\ttotal: 25.6ms\tremaining: 5.62ms\n",
            "82:\tlearn: 0.1458761\ttotal: 25.7ms\tremaining: 5.26ms\n",
            "83:\tlearn: 0.1422292\ttotal: 25.8ms\tremaining: 4.92ms\n",
            "84:\tlearn: 0.1386734\ttotal: 25.9ms\tremaining: 4.58ms\n",
            "85:\tlearn: 0.1352066\ttotal: 26ms\tremaining: 4.24ms\n",
            "86:\tlearn: 0.1318264\ttotal: 26.2ms\tremaining: 3.91ms\n",
            "87:\tlearn: 0.1285308\ttotal: 26.3ms\tremaining: 3.59ms\n",
            "88:\tlearn: 0.1253175\ttotal: 26.4ms\tremaining: 3.27ms\n",
            "89:\tlearn: 0.1221846\ttotal: 26.5ms\tremaining: 2.95ms\n",
            "90:\tlearn: 0.1191300\ttotal: 26.6ms\tremaining: 2.63ms\n",
            "91:\tlearn: 0.1161517\ttotal: 26.8ms\tremaining: 2.33ms\n",
            "92:\tlearn: 0.1132479\ttotal: 26.9ms\tremaining: 2.02ms\n",
            "93:\tlearn: 0.1104167\ttotal: 27ms\tremaining: 1.72ms\n",
            "94:\tlearn: 0.1076563\ttotal: 27.1ms\tremaining: 1.43ms\n",
            "95:\tlearn: 0.1049649\ttotal: 27.2ms\tremaining: 1.13ms\n",
            "96:\tlearn: 0.1023408\ttotal: 27.3ms\tremaining: 844us\n",
            "97:\tlearn: 0.0997823\ttotal: 27.4ms\tremaining: 559us\n",
            "98:\tlearn: 0.0972877\ttotal: 27.5ms\tremaining: 278us\n",
            "99:\tlearn: 0.0948555\ttotal: 27.7ms\tremaining: 0us\n",
            "Mean Squared Error: 0.0014897735947286823\n",
            "Рекомендованные фильмы для пользователя 1: [2 1]\n"
          ]
        }
      ]
    },
    {
      "cell_type": "code",
      "source": [
        "# Импортируем необходимые библиотеки\n",
        "from gensim.models import Word2Vec\n",
        "from sklearn.decomposition import PCA\n",
        "import matplotlib.pyplot as plt\n",
        "\n",
        "# Пример расширенного набора предложений\n",
        "sentences = [\n",
        "    [\"the\", \"cat\", \"sits\", \"on\", \"the\", \"mat\"],\n",
        "    [\"the\", \"dog\", \"lies\", \"on\", \"the\", \"rug\"],\n",
        "    [\"the\", \"bird\", \"flies\", \"over\", \"the\", \"field\"],\n",
        "    [\"a\", \"man\", \"and\", \"a\", \"woman\", \"are\", \"walking\", \"in\", \"the\", \"park\"],\n",
        "    [\"the\", \"child\", \"plays\", \"with\", \"a\", \"toy\", \"car\"],\n",
        "    [\"king\", \"is\", \"a\", \"man\"],\n",
        "    [\"queen\", \"is\", \"a\", \"woman\"],\n",
        "    [\"man\", \"is\", \"strong\"],\n",
        "    [\"woman\", \"is\", \"kind\"]\n",
        "]\n",
        "\n",
        "# Обучаем модель Word2Vec\n",
        "model = Word2Vec(sentences, vector_size=100, window=5, min_count=1, workers=4)\n",
        "\n",
        "# Получаем векторные представления слов\n",
        "word_vector = model.wv['cat']\n",
        "print(\"Vector for 'cat':\\n\", word_vector)\n",
        "\n",
        "# Пример нахождения аналогий: король - мужчина + женщина = ?\n",
        "result = model.wv.most_similar(positive=['woman', 'king'], negative=['man'])\n",
        "print(\"\\nResult of analogy 'king' - 'man' + 'woman':\", result[0][0])\n",
        "\n",
        "# Визуализация векторных представлений слов\n",
        "words = list(model.wv.index_to_key)\n",
        "vectors = model.wv[words]\n",
        "\n",
        "# Уменьшаем размерность до 2D с помощью PCA\n",
        "pca = PCA(n_components=2)\n",
        "result = pca.fit_transform(vectors)\n",
        "\n",
        "# Рисуем слова на 2D графике\n",
        "plt.scatter(result[:, 0], result[:, 1])\n",
        "for i, word in enumerate(words):\n",
        "    plt.annotate(word, xy=(result[i, 0], result[i, 1]))\n",
        "\n",
        "plt.show()"
      ],
      "metadata": {
        "colab": {
          "base_uri": "https://localhost:8080/",
          "height": 916
        },
        "id": "EoA-3VTcmONL",
        "outputId": "85d1e231-1467-47cc-a68f-4632d4d24de1"
      },
      "execution_count": 30,
      "outputs": [
        {
          "output_type": "stream",
          "name": "stdout",
          "text": [
            "Vector for 'cat':\n",
            " [ 8.13227147e-03 -4.45733406e-03 -1.06835726e-03  1.00636482e-03\n",
            " -1.91113955e-04  1.14817743e-03  6.11386076e-03 -2.02715401e-05\n",
            " -3.24596534e-03 -1.51072862e-03  5.89729892e-03  1.51410222e-03\n",
            " -7.24261976e-04  9.33324732e-03 -4.92128357e-03 -8.38409644e-04\n",
            "  9.17541143e-03  6.74942741e-03  1.50285603e-03 -8.88256077e-03\n",
            "  1.14874600e-03 -2.28825561e-03  9.36823711e-03  1.20992784e-03\n",
            "  1.49006362e-03  2.40640994e-03 -1.83600665e-03 -4.99963388e-03\n",
            "  2.32429506e-04 -2.01418041e-03  6.60093315e-03  8.94012302e-03\n",
            " -6.74754381e-04  2.97701475e-03 -6.10765442e-03  1.69932481e-03\n",
            " -6.92623248e-03 -8.69402662e-03 -5.90020278e-03 -8.95647518e-03\n",
            "  7.27759488e-03 -5.77203138e-03  8.27635173e-03 -7.24354526e-03\n",
            "  3.42167495e-03  9.67499893e-03 -7.78544787e-03 -9.94505733e-03\n",
            " -4.32914635e-03 -2.68313056e-03 -2.71289347e-04 -8.83155130e-03\n",
            " -8.61755759e-03  2.80021061e-03 -8.20640661e-03 -9.06933658e-03\n",
            " -2.34046578e-03 -8.63180775e-03 -7.05664977e-03 -8.40115082e-03\n",
            " -3.01328895e-04 -4.56429832e-03  6.62717456e-03  1.52716041e-03\n",
            " -3.34147573e-03  6.10897178e-03 -6.01328490e-03 -4.65616956e-03\n",
            " -7.20750913e-03 -4.33658017e-03 -1.80932996e-03  6.48964290e-03\n",
            " -2.77039292e-03  4.91896737e-03  6.90444233e-03 -7.46370573e-03\n",
            "  4.56485013e-03  6.12697843e-03 -2.95447465e-03  6.62502181e-03\n",
            "  6.12587947e-03 -6.44348515e-03 -6.76455162e-03  2.53895880e-03\n",
            " -1.62381888e-03 -6.06512791e-03  9.49920900e-03 -5.13014663e-03\n",
            " -6.55409694e-03 -1.19885204e-04 -2.70142802e-03  4.44400299e-04\n",
            " -3.53745813e-03 -4.19330609e-04 -7.08615757e-04  8.22820642e-04\n",
            "  8.19481723e-03 -5.73670724e-03 -1.65952800e-03  5.57160750e-03]\n",
            "\n",
            "Result of analogy 'king' - 'man' + 'woman': kind\n"
          ]
        },
        {
          "output_type": "display_data",
          "data": {
            "text/plain": [
              "<Figure size 640x480 with 1 Axes>"
            ],
            "image/png": "[encoded data removed]"
          },
          "metadata": {}
        }
      ]
    },
    {
      "cell_type": "code",
      "source": [],
      "metadata": {
        "id": "IXuWH49Xwwfd"
      },
      "execution_count": null,
      "outputs": []
    }
  ]
}