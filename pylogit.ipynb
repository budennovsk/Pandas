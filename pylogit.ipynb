{
  "nbformat": 4,
  "nbformat_minor": 0,
  "metadata": {
    "colab": {
      "provenance": [],
      "authorship_tag": "ABX9TyN5v7r3xJ2wdD1buemiJ3E0",
      "include_colab_link": true
    },
    "kernelspec": {
      "name": "python3",
      "display_name": "Python 3"
    },
    "language_info": {
      "name": "python"
    }
  },
  "cells": [
    {
      "cell_type": "markdown",
      "metadata": {
        "id": "view-in-github",
        "colab_type": "text"
      },
      "source": [
        "<a href=\"https://colab.research.google.com/github/budennovsk/Pandas/blob/master/pylogit.ipynb\" target=\"_parent\"><img src=\"https://colab.research.google.com/assets/colab-badge.svg\" alt=\"Open In Colab\"/></a>"
      ]
    },
    {
      "cell_type": "code",
      "source": [
        "import collections.abc\n",
        "#hyper needs the four following aliases to be done manually.\n",
        "collections.Iterable = collections.abc.Iterable\n",
        "collections.Mapping = collections.abc.Mapping\n",
        "collections.MutableSet = collections.abc.MutableSet\n",
        "collections.MutableMapping = collections.abc.MutableMapping"
      ],
      "metadata": {
        "id": "cn2U_4Pmj55F"
      },
      "execution_count": 7,
      "outputs": []
    },
    {
      "cell_type": "code",
      "source": [
        "!pip install pylogit\n"
      ],
      "metadata": {
        "colab": {
          "base_uri": "https://localhost:8080/"
        },
        "id": "caB-N43ni4fc",
        "outputId": "27c01cfb-51f2-4778-bd60-7d1cac899c40"
      },
      "execution_count": 8,
      "outputs": [
        {
          "output_type": "stream",
          "name": "stdout",
          "text": [
            "Requirement already satisfied: pylogit in /usr/local/lib/python3.10/dist-packages (1.0.1)\n",
            "Requirement already satisfied: pandas>=0.16.2 in /usr/local/lib/python3.10/dist-packages (from pylogit) (2.1.4)\n",
            "Requirement already satisfied: numpy>=1.10.2 in /usr/local/lib/python3.10/dist-packages (from pylogit) (1.26.4)\n",
            "Requirement already satisfied: scipy>=0.16.1 in /usr/local/lib/python3.10/dist-packages (from pylogit) (1.13.1)\n",
            "Requirement already satisfied: future>=0.16 in /usr/local/lib/python3.10/dist-packages (from pylogit) (1.0.0)\n",
            "Requirement already satisfied: statsmodels>=0.6.1 in /usr/local/lib/python3.10/dist-packages (from pylogit) (0.14.3)\n",
            "Requirement already satisfied: tqdm>=4.15.0 in /usr/local/lib/python3.10/dist-packages (from pylogit) (4.66.5)\n",
            "Requirement already satisfied: python-dateutil>=2.8.2 in /usr/local/lib/python3.10/dist-packages (from pandas>=0.16.2->pylogit) (2.8.2)\n",
            "Requirement already satisfied: pytz>=2020.1 in /usr/local/lib/python3.10/dist-packages (from pandas>=0.16.2->pylogit) (2024.2)\n",
            "Requirement already satisfied: tzdata>=2022.1 in /usr/local/lib/python3.10/dist-packages (from pandas>=0.16.2->pylogit) (2024.1)\n",
            "Requirement already satisfied: patsy>=0.5.6 in /usr/local/lib/python3.10/dist-packages (from statsmodels>=0.6.1->pylogit) (0.5.6)\n",
            "Requirement already satisfied: packaging>=21.3 in /usr/local/lib/python3.10/dist-packages (from statsmodels>=0.6.1->pylogit) (24.1)\n",
            "Requirement already satisfied: six in /usr/local/lib/python3.10/dist-packages (from patsy>=0.5.6->statsmodels>=0.6.1->pylogit) (1.16.0)\n"
          ]
        }
      ]
    },
    {
      "cell_type": "code",
      "source": [
        "import pandas as pd\n",
        "import pylogit as pl\n",
        "import numpy as np\n",
        "from collections import OrderedDict\n",
        "\n",
        "# Шаг 1: Подготовка данных\n",
        "data = pd.DataFrame({\n",
        "    'person_id': [1, 1, 1,\n",
        "                  2, 2, 2,\n",
        "                  3, 3, 3],\n",
        "    'alternative_id': [1, 2, 3]*3,\n",
        "    'choice': [1, 0, 0,\n",
        "               0, 1, 0,\n",
        "               0, 0, 1],\n",
        "    'cost': [10, 2, 5,\n",
        "             8, 1, 4,\n",
        "             9, 3, 6],\n",
        "    'time': [30, 40, 25,\n",
        "             35, 45, 20,\n",
        "             32, 38, 28]\n",
        "})\n",
        "\n",
        "# Добавим названия альтернатив\n",
        "alternatives = {1: 'Автомобиль', 2: 'Велосипед', 3: 'Общественный транспорт'}\n",
        "data['alternative'] = data['alternative_id'].map(alternatives)\n",
        "\n",
        "# Шаг 2: Определение спецификации модели\n",
        "specification = OrderedDict()\n",
        "specification['cost'] = [1, 2, 3]  # Отдельные коэффициенты для каждой альтернативы\n",
        "specification['time'] = [1, 2, 3]\n",
        "\n",
        "# Обновляем names, чтобы он соответствовал specification\n",
        "names = OrderedDict()\n",
        "names['cost'] = ['Стоимость_Автомобиль', 'Стоимость_Велосипед', 'Стоимость_Общественный_транспорт']\n",
        "names['time'] = ['Время_Автомобиль', 'Время_Велосипед', 'Время_Общественный_транспорт']\n",
        "\n",
        "# Шаг 3: Создание и оценка модели\n",
        "model = pl.create_choice_model(\n",
        "    data=data,\n",
        "    alt_id_col='alternative_id',\n",
        "    obs_id_col='person_id',\n",
        "    choice_col='choice',\n",
        "    specification=specification,\n",
        "    names=names,\n",
        "    model_type='MNL'\n",
        ")\n",
        "\n",
        "# Используем model.get_num_params() для определения количества параметров\n",
        "model.fit_mle(np.zeros(6))\n",
        "\n",
        "# Шаг 4: Вывод результатов\n",
        "model.get_statsmodels_summary()"
      ],
      "metadata": {
        "colab": {
          "base_uri": "https://localhost:8080/",
          "height": 462
        },
        "id": "UvEDPo7ek3iO",
        "outputId": "75ac03b5-a0b5-4c37-9c93-5232fa8093bb"
      },
      "execution_count": 26,
      "outputs": [
        {
          "output_type": "stream",
          "name": "stdout",
          "text": [
            "Log-likelihood at zero: -3.2958\n",
            "Initial Log-likelihood: -3.2958\n",
            "Estimation Time for Point Estimation: 0.02 seconds.\n",
            "Final log-likelihood: -0.0000\n"
          ]
        },
        {
          "output_type": "stream",
          "name": "stderr",
          "text": [
            "/usr/local/lib/python3.10/dist-packages/pylogit/estimation.py:678: RuntimeWarning: Method BFGS does not use Hessian information (hess).\n",
            "  results = minimize(estimator.calc_neg_log_likelihood_and_neg_gradient,\n"
          ]
        },
        {
          "output_type": "execute_result",
          "data": {
            "text/plain": [
              "<class 'statsmodels.iolib.summary.Summary'>\n",
              "\"\"\"\n",
              "                     Multinomial Logit Model Regression Results                    \n",
              "===================================================================================\n",
              "Dep. Variable:                      choice   No. Observations:                    3\n",
              "Model:             Multinomial Logit Model   Df Residuals:                       -3\n",
              "Method:                                MLE   Df Model:                            6\n",
              "Date:                     Thu, 19 Sep 2024   Pseudo R-squ.:                   1.000\n",
              "Time:                             10:16:01   Pseudo R-bar-squ.:              -0.820\n",
              "AIC:                                12.000   Log-Likelihood:                 -0.000\n",
              "BIC:                                 6.592   LL-Null:                        -3.296\n",
              "====================================================================================================\n",
              "                                       coef    std err          z      P>|z|      [0.025      0.975]\n",
              "----------------------------------------------------------------------------------------------------\n",
              "Стоимость_Автомобиль                14.5583   3.41e+04      0.000      1.000   -6.68e+04    6.68e+04\n",
              "Стоимость_Велосипед                  1.7554   5.25e+04   3.34e-05      1.000   -1.03e+05    1.03e+05\n",
              "Стоимость_Общественный_транспорт     3.4167   1.82e+05   1.88e-05      1.000   -3.56e+05    3.56e+05\n",
              "Время_Автомобиль                    -1.3820   6842.555     -0.000      1.000   -1.34e+04    1.34e+04\n",
              "Время_Велосипед                      1.9726   5143.716      0.000      1.000   -1.01e+04    1.01e+04\n",
              "Время_Общественный_транспорт         2.8950    4.9e+04   5.91e-05      1.000   -9.61e+04    9.61e+04\n",
              "====================================================================================================\n",
              "\"\"\""
            ],
            "text/html": [
              "<table class=\"simpletable\">\n",
              "<caption>Multinomial Logit Model Regression Results</caption>\n",
              "<tr>\n",
              "  <th>Dep. Variable:</th>         <td>choice</td>          <th>  No. Observations:  </th>    <td>3</td>  \n",
              "</tr>\n",
              "<tr>\n",
              "  <th>Model:</th>         <td>Multinomial Logit Model</td> <th>  Df Residuals:      </th>   <td>-3</td>  \n",
              "</tr>\n",
              "<tr>\n",
              "  <th>Method:</th>                  <td>MLE</td>           <th>  Df Model:          </th>    <td>6</td>  \n",
              "</tr>\n",
              "<tr>\n",
              "  <th>Date:</th>             <td>Thu, 19 Sep 2024</td>     <th>  Pseudo R-squ.:     </th>  <td>1.000</td>\n",
              "</tr>\n",
              "<tr>\n",
              "  <th>Time:</th>                 <td>10:16:01</td>         <th>  Pseudo R-bar-squ.: </th> <td>-0.820</td>\n",
              "</tr>\n",
              "<tr>\n",
              "  <th>AIC:</th>                   <td>12.000</td>          <th>  Log-Likelihood:    </th> <td>-0.000</td>\n",
              "</tr>\n",
              "<tr>\n",
              "  <th>BIC:</th>                    <td>6.592</td>          <th>  LL-Null:           </th> <td>-3.296</td>\n",
              "</tr>\n",
              "</table>\n",
              "<table class=\"simpletable\">\n",
              "<tr>\n",
              "                  <td></td>                    <th>coef</th>     <th>std err</th>      <th>z</th>      <th>P>|z|</th>  <th>[0.025</th>    <th>0.975]</th>  \n",
              "</tr>\n",
              "<tr>\n",
              "  <th>Стоимость_Автомобиль</th>             <td>   14.5583</td> <td> 3.41e+04</td> <td>    0.000</td> <td> 1.000</td> <td>-6.68e+04</td> <td> 6.68e+04</td>\n",
              "</tr>\n",
              "<tr>\n",
              "  <th>Стоимость_Велосипед</th>              <td>    1.7554</td> <td> 5.25e+04</td> <td> 3.34e-05</td> <td> 1.000</td> <td>-1.03e+05</td> <td> 1.03e+05</td>\n",
              "</tr>\n",
              "<tr>\n",
              "  <th>Стоимость_Общественный_транспорт</th> <td>    3.4167</td> <td> 1.82e+05</td> <td> 1.88e-05</td> <td> 1.000</td> <td>-3.56e+05</td> <td> 3.56e+05</td>\n",
              "</tr>\n",
              "<tr>\n",
              "  <th>Время_Автомобиль</th>                 <td>   -1.3820</td> <td> 6842.555</td> <td>   -0.000</td> <td> 1.000</td> <td>-1.34e+04</td> <td> 1.34e+04</td>\n",
              "</tr>\n",
              "<tr>\n",
              "  <th>Время_Велосипед</th>                  <td>    1.9726</td> <td> 5143.716</td> <td>    0.000</td> <td> 1.000</td> <td>-1.01e+04</td> <td> 1.01e+04</td>\n",
              "</tr>\n",
              "<tr>\n",
              "  <th>Время_Общественный_транспорт</th>     <td>    2.8950</td> <td>  4.9e+04</td> <td> 5.91e-05</td> <td> 1.000</td> <td>-9.61e+04</td> <td> 9.61e+04</td>\n",
              "</tr>\n",
              "</table>"
            ],
            "text/latex": "\\begin{center}\n\\begin{tabular}{lclc}\n\\toprule\n\\textbf{Dep. Variable:}                     &          choice         & \\textbf{  No. Observations:  } &     3       \\\\\n\\textbf{Model:}                             & Multinomial Logit Model & \\textbf{  Df Residuals:      } &     -3      \\\\\n\\textbf{Method:}                            &           MLE           & \\textbf{  Df Model:          } &     6       \\\\\n\\textbf{Date:}                              &     Thu, 19 Sep 2024    & \\textbf{  Pseudo R-squ.:     } &   1.000     \\\\\n\\textbf{Time:}                              &         10:16:01        & \\textbf{  Pseudo R-bar-squ.: } &   -0.820    \\\\\n\\textbf{AIC:}                               &          12.000         & \\textbf{  Log-Likelihood:    } &   -0.000    \\\\\n\\textbf{BIC:}                               &          6.592          & \\textbf{  LL-Null:           } &   -3.296    \\\\\n\\bottomrule\n\\end{tabular}\n\\begin{tabular}{lcccccc}\n                                            & \\textbf{coef} & \\textbf{std err} & \\textbf{z} & \\textbf{P$> |$z$|$} & \\textbf{[0.025} & \\textbf{0.975]}  \\\\\n\\midrule\n\\textbf{Стоимость\\_Автомобиль}              &      14.5583  &     3.41e+04     &     0.000  &         1.000        &    -6.68e+04    &     6.68e+04     \\\\\n\\textbf{Стоимость\\_Велосипед}               &       1.7554  &     5.25e+04     &  3.34e-05  &         1.000        &    -1.03e+05    &     1.03e+05     \\\\\n\\textbf{Стоимость\\_Общественный\\_транспорт} &       3.4167  &     1.82e+05     &  1.88e-05  &         1.000        &    -3.56e+05    &     3.56e+05     \\\\\n\\textbf{Время\\_Автомобиль}                  &      -1.3820  &     6842.555     &    -0.000  &         1.000        &    -1.34e+04    &     1.34e+04     \\\\\n\\textbf{Время\\_Велосипед}                   &       1.9726  &     5143.716     &     0.000  &         1.000        &    -1.01e+04    &     1.01e+04     \\\\\n\\textbf{Время\\_Общественный\\_транспорт}     &       2.8950  &      4.9e+04     &  5.91e-05  &         1.000        &    -9.61e+04    &     9.61e+04     \\\\\n\\bottomrule\n\\end{tabular}\n%\\caption{Multinomial Logit Model Regression Results}\n\\end{center}"
          },
          "metadata": {},
          "execution_count": 26
        }
      ]
    },
    {
      "cell_type": "code",
      "source": [
        "specification"
      ],
      "metadata": {
        "colab": {
          "base_uri": "https://localhost:8080/"
        },
        "id": "YQvIdaokk31K",
        "outputId": "043bd3ff-eaa3-4966-9b3e-1ef78859ad59"
      },
      "execution_count": 27,
      "outputs": [
        {
          "output_type": "execute_result",
          "data": {
            "text/plain": [
              "OrderedDict([('cost', [1, 2, 3]), ('time', [1, 2, 3])])"
            ]
          },
          "metadata": {},
          "execution_count": 27
        }
      ]
    },
    {
      "cell_type": "code",
      "source": [
        "names"
      ],
      "metadata": {
        "colab": {
          "base_uri": "https://localhost:8080/"
        },
        "id": "ua4tw09m7D7r",
        "outputId": "52fb7e0c-3bb8-4c57-db2d-2628ee91c41b"
      },
      "execution_count": 28,
      "outputs": [
        {
          "output_type": "execute_result",
          "data": {
            "text/plain": [
              "OrderedDict([('cost',\n",
              "              ['Стоимость_Автомобиль',\n",
              "               'Стоимость_Велосипед',\n",
              "               'Стоимость_Общественный_транспорт']),\n",
              "             ('time',\n",
              "              ['Время_Автомобиль',\n",
              "               'Время_Велосипед',\n",
              "               'Время_Общественный_транспорт'])])"
            ]
          },
          "metadata": {},
          "execution_count": 28
        }
      ]
    },
    {
      "cell_type": "code",
      "source": [],
      "metadata": {
        "id": "qqMIIVii7JWT"
      },
      "execution_count": null,
      "outputs": []
    }
  ]
}