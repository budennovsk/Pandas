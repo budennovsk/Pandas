{
  "nbformat": 4,
  "nbformat_minor": 0,
  "metadata": {
    "colab": {
      "provenance": [],
      "authorship_tag": "ABX9TyPAjoOh2A5lHqMZuEf0iMVr",
      "include_colab_link": true
    },
    "kernelspec": {
      "name": "python3",
      "display_name": "Python 3"
    },
    "language_info": {
      "name": "python"
    }
  },
  "cells": [
    {
      "cell_type": "markdown",
      "metadata": {
        "id": "view-in-github",
        "colab_type": "text"
      },
      "source": [
        "<a href=\"https://colab.research.google.com/github/budennovsk/Pandas/blob/master/regression.ipynb\" target=\"_parent\"><img src=\"https://colab.research.google.com/assets/colab-badge.svg\" alt=\"Open In Colab\"/></a>"
      ]
    },
    {
      "cell_type": "code",
      "source": [
        "import numpy as np\n",
        "import pandas as pd\n",
        "from scipy.optimize import curve_fit\n",
        "\n",
        "# Ваша функция, которую будем подгонять\n",
        "def model(X, Q, a):\n",
        "    Цена, Дистр = X\n",
        "    return np.exp(Цена * Q) * a * Дистр\n",
        "\n",
        "# Данные\n",
        "data = {\n",
        "    'Цена': [555.1275024875212,563.5121273151073,560.3736274992839,562.6197391460528,563.5582276125425,562.1582378046487,554.8967423946194,565.7121404120832,572.1274990652037,581.8351869449383,601.0044376731425,614.9274965455355],\n",
        "    'СС': [179.77, 185.22, 183.18, 184.64, 185.25, 184.34, 179.62, 186.65, 190.82, 197.13, 209.59, 218.64],\n",
        "    'Дистр': [0.9999999995214874,0.9999999994868709,0.9999999995082555,0.9999999994970667,0.9999999995073376,0.9999999994813484,0.999999999534876,0.9999999994765731,0.9999999994600289,0.999999999418635,0.9999999994264289,0.9999999992020011],\n",
        "    'Обьем': [18639.927758369595,17527.82352928097,17936.112007717467,17642.959643747115,17521.896111724418,17702.79903067726,18671.5126868092,17247.17662571538,16454.190537216833,15323.026961195754,13312.661524498648,12019.91357404251]\n",
        "}\n",
        "\n",
        "df = pd.DataFrame(data)\n",
        "\n",
        "# Входные данные для curve_fit\n",
        "X = np.array([df['Цена'], df['Дистр']])\n",
        "y = np.array(df['Обьем'])\n",
        "\n",
        "# Начальные предположения для Q и a\n",
        "initial_guess = [0.01, 1]\n",
        "\n",
        "# Подгонка модели к данным\n",
        "popt, pcov = curve_fit(model, X, y, p0=initial_guess)\n",
        "\n",
        "# Оптимальные значения Q и a\n",
        "Q_opt, a_opt = popt\n",
        "\n",
        "print(\"Оптимальное значение Q:\", Q_opt)\n",
        "print(\"Оптимальное значение a:\", a_opt)\n"
      ],
      "metadata": {
        "colab": {
          "base_uri": "https://localhost:8080/"
        },
        "id": "bbPdK_C8nKQb",
        "outputId": "57fed727-c592-4f04-fe4a-a1e09a9ba4a9"
      },
      "execution_count": 10,
      "outputs": [
        {
          "output_type": "stream",
          "name": "stdout",
          "text": [
            "Оптимальное значение Q: -0.007336809999999991\n",
            "Оптимальное значение a: 1094629.1899999948\n"
          ]
        }
      ]
    },
    {
      "cell_type": "code",
      "source": [],
      "metadata": {
        "id": "_g4qJHjxlrJV"
      },
      "execution_count": null,
      "outputs": []
    }
  ]
}