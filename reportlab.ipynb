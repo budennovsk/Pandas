{
  "nbformat": 4,
  "nbformat_minor": 0,
  "metadata": {
    "colab": {
      "provenance": [],
      "mount_file_id": "1QHe67cVN9tIIwAbx331bPb8JaueM1r2V",
      "authorship_tag": "ABX9TyPBsalpP1vId5cRifgmhrIl",
      "include_colab_link": true
    },
    "kernelspec": {
      "name": "python3",
      "display_name": "Python 3"
    },
    "language_info": {
      "name": "python"
    }
  },
  "cells": [
    {
      "cell_type": "markdown",
      "metadata": {
        "id": "view-in-github",
        "colab_type": "text"
      },
      "source": [
        "<a href=\"https://colab.research.google.com/github/budennovsk/Pandas/blob/master/reportlab.ipynb\" target=\"_parent\"><img src=\"https://colab.research.google.com/assets/colab-badge.svg\" alt=\"Open In Colab\"/></a>"
      ]
    },
    {
      "cell_type": "code",
      "execution_count": 3,
      "metadata": {
        "colab": {
          "base_uri": "https://localhost:8080/"
        },
        "id": "Kpv-fFgdIdZD",
        "outputId": "d6dd560c-dd3c-4437-e865-c8821266bf93"
      },
      "outputs": [
        {
          "output_type": "stream",
          "name": "stdout",
          "text": [
            "Collecting reportlab\n",
            "  Downloading reportlab-4.2.2-py3-none-any.whl (1.9 MB)\n",
            "\u001b[2K     \u001b[90m━━━━━━━━━━━━━━━━━━━━━━━━━━━━━━━━━━━━━━━━\u001b[0m \u001b[32m1.9/1.9 MB\u001b[0m \u001b[31m9.6 MB/s\u001b[0m eta \u001b[36m0:00:00\u001b[0m\n",
            "\u001b[?25hRequirement already satisfied: pillow>=9.0.0 in /usr/local/lib/python3.10/dist-packages (from reportlab) (9.4.0)\n",
            "Requirement already satisfied: chardet in /usr/local/lib/python3.10/dist-packages (from reportlab) (5.2.0)\n",
            "Installing collected packages: reportlab\n",
            "Successfully installed reportlab-4.2.2\n"
          ]
        }
      ],
      "source": [
        "!pip install reportlab\n"
      ]
    },
    {
      "cell_type": "code",
      "source": [
        "from reportlab.lib import colors\n",
        "from reportlab.lib.pagesizes import letter\n",
        "from reportlab.platypus import SimpleDocTemplate, Table, TableStyle\n",
        "\n",
        "# Создаем PDF-документ\n",
        "pdf_file = \"table_example.pdf\"\n",
        "doc = SimpleDocTemplate(pdf_file, pagesize=letter)\n",
        "\n",
        "# Данные для таблицы\n",
        "data = [\n",
        "    [\"Column 1\", \"Column 2\", \"Column 3\"],  # Заголовки столбцов\n",
        "    [\"Data 1\", \"Data 2\", \"Data 3\"],\n",
        "    [\"Data 4\", \"Data 5\", \"Data 6\"],\n",
        "    [\"Data 7\", \"Data 8\", \"Data 9\"]\n",
        "]\n",
        "\n",
        "# Создаем таблицу\n",
        "table = Table(data)\n",
        "\n",
        "# Добавляем стиль таблицы\n",
        "style = TableStyle([\n",
        "    ('BACKGROUND', (0, 0), (-1, 0), colors.grey),  # Фон заголовков\n",
        "    ('TEXTCOLOR', (0, 0), (-1, 0), colors.whitesmoke),  # Цвет текста заголовков\n",
        "    ('ALIGN', (0, 0), (-1, -1), 'CENTER'),  # Выравнивание текста по центру\n",
        "    ('FONTNAME', (0, 0), (-1, 0), 'Helvetica-Bold'),  # Шрифт заголовков\n",
        "    ('BOTTOMPADDING', (0, 0), (-1, 0), 12),  # Отступ снизу заголовков\n",
        "    ('BACKGROUND', (0, 1), (-1, -1), colors.beige),  # Фон данных\n",
        "    ('GRID', (0, 0), (-1, -1), 1, colors.black)  # Сетка таблицы\n",
        "])\n",
        "table.setStyle(style)\n",
        "\n",
        "# Собираем документ\n",
        "elements = []\n",
        "elements.append(table)\n",
        "\n",
        "# Сохраняем документ\n",
        "doc.build(elements)\n",
        "\n",
        "print(f\"PDF-файл с таблицей сохранен как {pdf_file}\")"
      ],
      "metadata": {
        "colab": {
          "base_uri": "https://localhost:8080/"
        },
        "id": "dHOM0hn8Ijt2",
        "outputId": "37e18f8b-b2bb-431b-fec6-f275d54fc1af"
      },
      "execution_count": 2,
      "outputs": [
        {
          "output_type": "stream",
          "name": "stdout",
          "text": [
            "PDF-файл с таблицей сохранен как table_example.pdf\n"
          ]
        }
      ]
    },
    {
      "cell_type": "code",
      "source": [
        "import pandas as pd\n",
        "from reportlab.lib import colors\n",
        "from reportlab.lib.pagesizes import letter\n",
        "from reportlab.platypus import SimpleDocTemplate, Table, TableStyle, Image\n",
        "\n",
        "# Пример DataFrame\n",
        "data = {\n",
        "    'Column 1': ['Data 1', 'Data 4', 'Data 7'],\n",
        "    'Column 2': ['Data 2', 'Data 5', 'Data 8'],\n",
        "    'Column 3': ['Data 3', 'Data 6', 'Data 9']\n",
        "}\n",
        "df = pd.DataFrame(data)\n",
        "\n",
        "# Создаем PDF-документ\n",
        "img_path = '/content/студак.jpg'\n",
        "pdf_file = \"table_from_df.pdf\"\n",
        "\n",
        "doc = SimpleDocTemplate(pdf_file, pagesize=letter)\n",
        "img = Image(img_path, width=100, height=100)\n",
        "# Преобразуем DataFrame в список списков\n",
        "data_table = [df.columns.tolist()] + df.values.tolist()\n",
        "\n",
        "# Создаем таблицу\n",
        "table = Table(data_table + [[img]])\n",
        "\n",
        "# Добавляем стиль таблицы\n",
        "style = TableStyle([\n",
        "    ('BACKGROUND', (0, 0), (-1, 0), colors.grey),  # Фон заголовков\n",
        "    ('TEXTCOLOR', (0, 0), (-1, 0), colors.whitesmoke),  # Цвет текста заголовков\n",
        "    ('ALIGN', (0, 0), (-1, -1), 'CENTER'),  # Выравнивание текста по центру\n",
        "    ('FONTNAME', (0, 0), (-1, 0), 'Helvetica-Bold'),  # Шрифт заголовков\n",
        "    ('BOTTOMPADDING', (0, 0), (-1, 0), 12),  # Отступ снизу заголовков\n",
        "    ('BACKGROUND', (0, 1), (-1, -1), colors.beige),  # Фон данных\n",
        "    ('GRID', (0, 0), (-1, -1), 1, colors.black)  # Сетка таблицы\n",
        "])\n",
        "table.setStyle(style)\n",
        "\n",
        "# Собираем документ\n",
        "elements = []\n",
        "elements.append(table)\n",
        "\n",
        "# Сохраняем документ\n",
        "doc.build(elements)\n",
        "\n",
        "print(f\"PDF-файл с таблицей из DataFrame сохранен как {pdf_file}\")"
      ],
      "metadata": {
        "colab": {
          "base_uri": "https://localhost:8080/"
        },
        "id": "1aC0tGF6Ivnf",
        "outputId": "cfaa89eb-f9aa-49e2-c7c1-9838d1654078"
      },
      "execution_count": 8,
      "outputs": [
        {
          "output_type": "stream",
          "name": "stdout",
          "text": [
            "PDF-файл с таблицей из DataFrame сохранен как table_from_df.pdf\n"
          ]
        }
      ]
    },
    {
      "cell_type": "code",
      "source": [
        "from reportlab.lib import colors\n",
        "from reportlab.lib.pagesizes import letter\n",
        "from reportlab.platypus import SimpleDocTemplate, Table, TableStyle\n",
        "from reportlab.lib.units import inch\n",
        "\n",
        "# Пример данных\n",
        "data = [\n",
        "    ['Header 1', 'Header 2', 'Header 3'],\n",
        "    ['Lorem ipsum dolor sit amet, consectetur adipiscing elit, sed do eiusmod tempor incididunt ut labore et dolore magna aliqua. Tristique senectus et netus et. Vulputate enim nulla aliquet porttitor lacus. Urna et pharetra pharetra massa massa ultricies. Feugiat in ante metus dictum at. Cum sociis natoque penatibus et magnis. Eu lobortis elementum nibh tellus molestie nunc non blandit. Justo nec ultrices dui sapien eget mi proin sed. Urna et pharetra pharetra massa massa ultricies. At lectus urna duis convallis convallis. Odio ut sem nulla pharetra diam sit amet. Viverra aliquet eget sit amet tellus. Velit ut tortor pretium viverra suspendisse potenti nullam ac tortor. Massa vitae tortor condimentum lacinia quis vel eros. Sit amet massa vitae tortor condimentum. Euismod elementum nisi quis eleifend quam adipiscing vitae proin sagittis. Justo donec enim diam vulputate ut pharetra sit amet aliquam. Consectetur adipiscing elit pellentesque habitant morbi tristique senectus et. Sem nulla pharetra diam sit amet nisl suscipit adipiscing bibendum.', 'Another long textff', 'Shortff'],\n",
        "    ['More text', 'Even more text', 'Short text']\n",
        "]\n",
        "\n",
        "# Создаем PDF-документ\n",
        "pdf_file = \"table_example.pdf\"\n",
        "doc = SimpleDocTemplate(pdf_file, pagesize=letter)\n",
        "\n",
        "# Определяем ширину колонок\n",
        "col_widths = [2.5 * inch, 2.5 * inch, 2.5 * inch]\n",
        "\n",
        "# Определяем высоту строк\n",
        "row_heights = [2 * inch, 2 * inch, 2 * inch]\n",
        "\n",
        "# Создаем таблицу\n",
        "table = Table(data, repeatRows=1,rowHeights=row_heights) #colWidths=col_widths,rowHeights=row_heights\n",
        "\n",
        "# Добавляем стиль таблицы\n",
        "style = TableStyle([\n",
        "    ('BACKGROUND', (0, 0), (-1, 0), colors.grey),  # Фон заголовков\n",
        "    ('TEXTCOLOR', (0, 0), (-1, 0), colors.whitesmoke),  # Цвет текста заголовков\n",
        "    ('ALIGN', (0, 0), (-1, -1), 'CENTER'),  # Выравнивание текста по центру\n",
        "    ('FONTNAME', (0, 0), (-1, 0), 'Helvetica-Bold'),  # Шрифт заголовков\n",
        "    ('BOTTOMPADDING', (0, 0), (-1, 0), 12),  # Отступ снизу заголовков\n",
        "    ('BACKGROUND', (0, 1), (-1, -1), colors.beige),  # Фон данных\n",
        "    ('GRID', (0, 0), (-1, -1), 1, colors.black),  # Сетка таблицы\n",
        "    ('WORDWRAP', (0, 0), (-1, -1), True),  # Автоперенос текста\n",
        "    ('VALIGN',(0,-1),(-1,-1),'MIDDLE')\n",
        "])\n",
        "table.setStyle(style)\n",
        "\n",
        "# Собираем документ\n",
        "elements = []\n",
        "elements.append(table)\n",
        "\n",
        "# Сохраняем документ\n",
        "doc.build(elements)\n",
        "\n",
        "print(f\"PDF-файл с таблицей сохранен как {pdf_file}\")"
      ],
      "metadata": {
        "colab": {
          "base_uri": "https://localhost:8080/"
        },
        "id": "1Id_CB5wvAoj",
        "outputId": "b8622bd7-d4f9-42de-f11b-917f6ca0c1d7"
      },
      "execution_count": 13,
      "outputs": [
        {
          "output_type": "stream",
          "name": "stdout",
          "text": [
            "PDF-файл с таблицей сохранен как table_example.pdf\n"
          ]
        }
      ]
    },
    {
      "cell_type": "code",
      "source": [
        "from reportlab.lib import colors\n",
        "from reportlab.lib.pagesizes import letter\n",
        "from reportlab.platypus import SimpleDocTemplate, Table, TableStyle, Paragraph\n",
        "from reportlab.lib.styles import getSampleStyleSheet\n",
        "from reportlab.lib.units import inch\n",
        "\n",
        "# Пример данных\n",
        "data = [\n",
        "    ['Header 1', 'Header 2', 'Header 3'],\n",
        "    ['Lorem ipsum dolor sit amet, consectetur adipiscing elit, sed do eiusmod tempor incididunt ut labore et dolore magna aliqua. Tristique senectus et netus et. Vulputate enim nulla aliquet porttitor lacus. Urna et pharetra pharetra massa massa ultricies. Feugiat in ante metus dictum at. Cum sociis natoque penatibus et magnis. Eu lobortis elementum nibh tellus molestie nunc non blandit. Justo nec ultrices dui sapien eget mi proin sed. Urna et pharetra pharetra massa massa ultricies. At lectus urna duis convallis convallis. Odio ut sem nulla pharetra diam sit amet. Viverra aliquet eget sit amet tellus. Velit ut tortor pretium viverra suspendisse potenti nullam ac tortor. Massa vitae tortor condimentum lacinia quis vel eros. Sit amet massa vitae tortor condimentum. Euismod elementum nisi quis eleifend quam adipiscing vitae proin sagittis. Justo donec enim diam vulputate ut pharetra sit amet aliquam. Consectetur adipiscing elit pellentesque habitant morbi tristique senectus et. Sem nulla pharetra diam sit amet nisl suscipit adipiscing bibendum.', 'Another long text', 'Short'],\n",
        "    ['More text', 'Even more text', 'Short text']\n",
        "]\n",
        "\n",
        "# Создаем PDF-документ\n",
        "pdf_file = \"table_example.pdf\"\n",
        "doc = SimpleDocTemplate(pdf_file, pagesize=letter)\n",
        "\n",
        "# Получаем стандартные стили\n",
        "styles = getSampleStyleSheet()\n",
        "styleN = styles['Normal']\n",
        "\n",
        "# Преобразуем текстовые данные в Paragraph объекты\n",
        "data = [[Paragraph(cell, styleN) for cell in row] for row in data]\n",
        "\n",
        "# Определяем ширину колонок\n",
        "col_widths = [2.5 * inch, 2.5 * inch, 2.5 * inch]\n",
        "\n",
        "# Определяем высоту строк\n",
        "row_heights = [2 * inch, 2 * inch, 2 * inch]\n",
        "\n",
        "# Создаем таблицу\n",
        "table = Table(data, colWidths=col_widths, repeatRows=1)\n",
        "\n",
        "# Добавляем стиль таблицы\n",
        "style = TableStyle([\n",
        "    ('BACKGROUND', (0, 0), (-1, 0), colors.grey),  # Фон заголовков\n",
        "    ('TEXTCOLOR', (0, 0), (-1, 0), colors.whitesmoke),  # Цвет текста заголовков\n",
        "    ('ALIGN', (0, 0), (-1, -1), 'CENTER'),  # Выравнивание текста по центру\n",
        "    ('FONTNAME', (0, 0), (-1, 0), 'Helvetica-Bold'),  # Шрифт заголовков\n",
        "    ('BOTTOMPADDING', (0, 0), (-1, 0), 12),  # Отступ снизу заголовков\n",
        "    ('BACKGROUND', (0, 1), (-1, -1), colors.beige),  # Фон данных\n",
        "    ('GRID', (0, 0), (-1, -1), 1, colors.black),  # Сетка таблицы\n",
        "    ('VALIGN', (0, 0), (-1, -1), 'MIDDLE')  # Выравнивание по вертикали\n",
        "])\n",
        "table.setStyle(style)\n",
        "\n",
        "# Собираем документ\n",
        "elements = []\n",
        "elements.append(table)\n",
        "\n",
        "# Сохраняем документ\n",
        "doc.build(elements)\n",
        "\n",
        "print(f\"PDF-файл с таблицей сохранен как {pdf_file}\")\n"
      ],
      "metadata": {
        "colab": {
          "base_uri": "https://localhost:8080/"
        },
        "id": "MYcVsgFLwYKj",
        "outputId": "5a407815-1b2b-4208-fadf-9607e357cf18"
      },
      "execution_count": 15,
      "outputs": [
        {
          "output_type": "stream",
          "name": "stdout",
          "text": [
            "PDF-файл с таблицей сохранен как table_example.pdf\n"
          ]
        }
      ]
    },
    {
      "cell_type": "code",
      "source": [],
      "metadata": {
        "id": "opIkmSG12c-J"
      },
      "execution_count": null,
      "outputs": []
    }
  ]
}